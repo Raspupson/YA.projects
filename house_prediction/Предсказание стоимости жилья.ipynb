{
 "cells": [
  {
   "cell_type": "markdown",
   "id": "GEqQaHzsZ_bA",
   "metadata": {
    "id": "GEqQaHzsZ_bA"
   },
   "source": [
    "## Предсказание стоимости жилья\n",
    "\n",
    "В проекте вам нужно обучить модель линейной регрессии на данных о жилье в Калифорнии в 1990 году. На основе данных нужно предсказать медианную стоимость дома в жилом массиве. Обучите модель и сделайте предсказания на тестовой выборке. Для оценки качества модели используйте метрики RMSE, MAE и R2."
   ]
  },
  {
   "cell_type": "markdown",
   "id": "f6e6a5da",
   "metadata": {},
   "source": [
    "# Описание проекта\n",
    "\n",
    "В проекте вам нужно обучить модель линейной регрессии на данных о жилье в Калифорнии в 1990 году. \n",
    "С этим датасетом вы уже работали в четвёртой теме курса. \n",
    "В колонках датасета содержатся следующие данные:\n",
    "    \n",
    "longitude — широта;\n",
    "\n",
    "latitude — долгота;\n",
    "\n",
    "housing_median_age — медианный возраст жителей жилого массива;\n",
    "\n",
    "total_rooms — общее количество комнат в домах жилого массива;\n",
    "\n",
    "total_bedrooms — общее количество спален в домах жилого массива;\n",
    "\n",
    "population — количество человек, которые проживают в жилом массиве;\n",
    "\n",
    "households — количество домовладений в жилом массиве;\n",
    "\n",
    "median_income — медианный доход жителей жилого массива;\n",
    "\n",
    "median_house_value — медианная стоимость дома в жилом массиве;\n",
    "\n",
    "ocean_proximity — близость к океану.\n",
    "\n",
    "На основе данных нужно предсказать медианную стоимость дома в жилом массиве — median_house_value. Обучите модель и сделайте предсказания на тестовой выборке. Для оценки качества модели используйте метрики RMSE, MAE и R2."
   ]
  },
  {
   "cell_type": "markdown",
   "id": "68b3e514",
   "metadata": {},
   "source": [
    "# Импортируем необходимые библиотеки"
   ]
  },
  {
   "cell_type": "code",
   "execution_count": 1,
   "id": "c38b0a8f",
   "metadata": {},
   "outputs": [],
   "source": [
    "import pandas as pd\n",
    "import numpy as np\n",
    "\n",
    "import matplotlib.pyplot as plt\n",
    "import seaborn as sns\n",
    "\n",
    "\n",
    "import pyspark\n",
    "from pyspark.sql import SparkSession\n",
    "from pyspark.sql.types import *\n",
    "import pyspark.sql.functions as F\n",
    "\n",
    "from pyspark.ml import Pipeline\n",
    "\n",
    "\n",
    "from pyspark.ml.feature import  StringIndexer, OneHotEncoder, StandardScaler,VectorAssembler\n",
    "from pyspark.ml.regression import LinearRegression\n",
    "from pyspark.ml.evaluation import RegressionEvaluator\n",
    "RND= 1234\n",
    "\n",
    "pd.set_option('display.max_rows', 10)\n",
    "pd.set_option('display.max_columns', None)"
   ]
  },
  {
   "cell_type": "markdown",
   "id": "279952c3",
   "metadata": {},
   "source": [
    "# Инициализируем локальную Spark-сессию"
   ]
  },
  {
   "cell_type": "code",
   "execution_count": 2,
   "id": "31d86859",
   "metadata": {},
   "outputs": [],
   "source": [
    "spark = SparkSession.builder \\\n",
    "                    .master(\"local\")\\\n",
    "                    .appName(\"CA House\") \\\n",
    "                    .getOrCreate()"
   ]
  },
  {
   "cell_type": "markdown",
   "id": "53871372",
   "metadata": {
    "id": "53871372"
   },
   "source": [
    "# Подготовка данных"
   ]
  },
  {
   "cell_type": "code",
   "execution_count": 3,
   "id": "df92e3ec",
   "metadata": {
    "id": "df92e3ec",
    "scrolled": true
   },
   "outputs": [
    {
     "name": "stderr",
     "output_type": "stream",
     "text": [
      "                                                                                \r"
     ]
    },
    {
     "name": "stdout",
     "output_type": "stream",
     "text": [
      "root\n",
      " |-- longitude: double (nullable = true)\n",
      " |-- latitude: double (nullable = true)\n",
      " |-- housing_median_age: double (nullable = true)\n",
      " |-- total_rooms: double (nullable = true)\n",
      " |-- total_bedrooms: double (nullable = true)\n",
      " |-- population: double (nullable = true)\n",
      " |-- households: double (nullable = true)\n",
      " |-- median_income: double (nullable = true)\n",
      " |-- median_house_value: double (nullable = true)\n",
      " |-- ocean_proximity: string (nullable = true)\n",
      "\n",
      "+---------+--------+------------------+-----------+--------------+----------+----------+-------------+------------------+---------------+\n",
      "|longitude|latitude|housing_median_age|total_rooms|total_bedrooms|population|households|median_income|median_house_value|ocean_proximity|\n",
      "+---------+--------+------------------+-----------+--------------+----------+----------+-------------+------------------+---------------+\n",
      "|  -122.23|   37.88|              41.0|      880.0|         129.0|     322.0|     126.0|       8.3252|          452600.0|       NEAR BAY|\n",
      "|  -122.22|   37.86|              21.0|     7099.0|        1106.0|    2401.0|    1138.0|       8.3014|          358500.0|       NEAR BAY|\n",
      "|  -122.24|   37.85|              52.0|     1467.0|         190.0|     496.0|     177.0|       7.2574|          352100.0|       NEAR BAY|\n",
      "|  -122.25|   37.85|              52.0|     1274.0|         235.0|     558.0|     219.0|       5.6431|          341300.0|       NEAR BAY|\n",
      "|  -122.25|   37.85|              52.0|     1627.0|         280.0|     565.0|     259.0|       3.8462|          342200.0|       NEAR BAY|\n",
      "+---------+--------+------------------+-----------+--------------+----------+----------+-------------+------------------+---------------+\n",
      "only showing top 5 rows\n",
      "\n"
     ]
    }
   ],
   "source": [
    "df = spark.read.option('header', 'true').csv('/datasets/housing.csv', inferSchema = True) \n",
    "df.printSchema() \n",
    "df.show(5)\n"
   ]
  },
  {
   "cell_type": "code",
   "execution_count": 4,
   "id": "0452ec5a",
   "metadata": {
    "scrolled": true
   },
   "outputs": [
    {
     "name": "stderr",
     "output_type": "stream",
     "text": [
      "                                                                                \r"
     ]
    },
    {
     "data": {
      "text/html": [
       "<div>\n",
       "<style scoped>\n",
       "    .dataframe tbody tr th:only-of-type {\n",
       "        vertical-align: middle;\n",
       "    }\n",
       "\n",
       "    .dataframe tbody tr th {\n",
       "        vertical-align: top;\n",
       "    }\n",
       "\n",
       "    .dataframe thead th {\n",
       "        text-align: right;\n",
       "    }\n",
       "</style>\n",
       "<table border=\"1\" class=\"dataframe\">\n",
       "  <thead>\n",
       "    <tr style=\"text-align: right;\">\n",
       "      <th></th>\n",
       "      <th>longitude</th>\n",
       "      <th>latitude</th>\n",
       "      <th>housing_median_age</th>\n",
       "      <th>total_rooms</th>\n",
       "      <th>total_bedrooms</th>\n",
       "      <th>population</th>\n",
       "      <th>households</th>\n",
       "      <th>median_income</th>\n",
       "      <th>median_house_value</th>\n",
       "      <th>ocean_proximity</th>\n",
       "    </tr>\n",
       "    <tr>\n",
       "      <th>summary</th>\n",
       "      <th></th>\n",
       "      <th></th>\n",
       "      <th></th>\n",
       "      <th></th>\n",
       "      <th></th>\n",
       "      <th></th>\n",
       "      <th></th>\n",
       "      <th></th>\n",
       "      <th></th>\n",
       "      <th></th>\n",
       "    </tr>\n",
       "  </thead>\n",
       "  <tbody>\n",
       "    <tr>\n",
       "      <th>count</th>\n",
       "      <td>20640</td>\n",
       "      <td>20640</td>\n",
       "      <td>20640</td>\n",
       "      <td>20640</td>\n",
       "      <td>20433</td>\n",
       "      <td>20640</td>\n",
       "      <td>20640</td>\n",
       "      <td>20640</td>\n",
       "      <td>20640</td>\n",
       "      <td>20640</td>\n",
       "    </tr>\n",
       "    <tr>\n",
       "      <th>mean</th>\n",
       "      <td>-119.56970445736148</td>\n",
       "      <td>35.6318614341087</td>\n",
       "      <td>28.639486434108527</td>\n",
       "      <td>2635.7630813953488</td>\n",
       "      <td>537.8705525375618</td>\n",
       "      <td>1425.4767441860465</td>\n",
       "      <td>499.5396802325581</td>\n",
       "      <td>3.8706710029070246</td>\n",
       "      <td>206855.81690891474</td>\n",
       "      <td>None</td>\n",
       "    </tr>\n",
       "    <tr>\n",
       "      <th>stddev</th>\n",
       "      <td>2.003531723502584</td>\n",
       "      <td>2.135952397457101</td>\n",
       "      <td>12.58555761211163</td>\n",
       "      <td>2181.6152515827944</td>\n",
       "      <td>421.38507007403115</td>\n",
       "      <td>1132.46212176534</td>\n",
       "      <td>382.3297528316098</td>\n",
       "      <td>1.899821717945263</td>\n",
       "      <td>115395.61587441359</td>\n",
       "      <td>None</td>\n",
       "    </tr>\n",
       "    <tr>\n",
       "      <th>min</th>\n",
       "      <td>-124.35</td>\n",
       "      <td>32.54</td>\n",
       "      <td>1.0</td>\n",
       "      <td>2.0</td>\n",
       "      <td>1.0</td>\n",
       "      <td>3.0</td>\n",
       "      <td>1.0</td>\n",
       "      <td>0.4999</td>\n",
       "      <td>14999.0</td>\n",
       "      <td>&lt;1H OCEAN</td>\n",
       "    </tr>\n",
       "    <tr>\n",
       "      <th>max</th>\n",
       "      <td>-114.31</td>\n",
       "      <td>41.95</td>\n",
       "      <td>52.0</td>\n",
       "      <td>39320.0</td>\n",
       "      <td>6445.0</td>\n",
       "      <td>35682.0</td>\n",
       "      <td>6082.0</td>\n",
       "      <td>15.0001</td>\n",
       "      <td>500001.0</td>\n",
       "      <td>NEAR OCEAN</td>\n",
       "    </tr>\n",
       "  </tbody>\n",
       "</table>\n",
       "</div>"
      ],
      "text/plain": [
       "                   longitude           latitude  housing_median_age  \\\n",
       "summary                                                               \n",
       "count                  20640              20640               20640   \n",
       "mean     -119.56970445736148   35.6318614341087  28.639486434108527   \n",
       "stddev     2.003531723502584  2.135952397457101   12.58555761211163   \n",
       "min                  -124.35              32.54                 1.0   \n",
       "max                  -114.31              41.95                52.0   \n",
       "\n",
       "                total_rooms      total_bedrooms          population  \\\n",
       "summary                                                               \n",
       "count                 20640               20433               20640   \n",
       "mean     2635.7630813953488   537.8705525375618  1425.4767441860465   \n",
       "stddev   2181.6152515827944  421.38507007403115    1132.46212176534   \n",
       "min                     2.0                 1.0                 3.0   \n",
       "max                 39320.0              6445.0             35682.0   \n",
       "\n",
       "                households       median_income  median_house_value  \\\n",
       "summary                                                              \n",
       "count                20640               20640               20640   \n",
       "mean     499.5396802325581  3.8706710029070246  206855.81690891474   \n",
       "stddev   382.3297528316098   1.899821717945263  115395.61587441359   \n",
       "min                    1.0              0.4999             14999.0   \n",
       "max                 6082.0             15.0001            500001.0   \n",
       "\n",
       "        ocean_proximity  \n",
       "summary                  \n",
       "count             20640  \n",
       "mean               None  \n",
       "stddev             None  \n",
       "min           <1H OCEAN  \n",
       "max          NEAR OCEAN  "
      ]
     },
     "execution_count": 4,
     "metadata": {},
     "output_type": "execute_result"
    }
   ],
   "source": [
    "df.describe().toPandas().set_index('summary')"
   ]
  },
  {
   "cell_type": "markdown",
   "id": "6eb1fc8d",
   "metadata": {},
   "source": [
    "Из представленных данных, все столбцы являются числовыми, кроме столбца ocean_proximity, который имеет формат string    (категориональные значения).<span style=\"color:red\"> столбцы longitude and latitude являются кординатами и не будут влиять на нашу задачу, удалим их.</span>\n",
    "Также, из представленных данных видно, что в столбце housing_median_age и median_income очень небольшие значения"
   ]
  },
  {
   "cell_type": "markdown",
   "id": "58d4a8ef",
   "metadata": {},
   "source": [
    "Проверим пропуски в данных"
   ]
  },
  {
   "cell_type": "code",
   "execution_count": 5,
   "id": "442860ef",
   "metadata": {},
   "outputs": [
    {
     "name": "stdout",
     "output_type": "stream",
     "text": [
      "longitude 0\n",
      "latitude 0\n",
      "housing_median_age 0\n",
      "total_rooms 0\n",
      "total_bedrooms 207\n",
      "population 0\n",
      "households 0\n",
      "median_income 0\n",
      "median_house_value 0\n",
      "ocean_proximity 0\n"
     ]
    }
   ],
   "source": [
    "for column in df.columns:\n",
    "        is_null = F.isnull(F.col(column)) | F.isnan(F.col(column))\n",
    "        print(column, df.filter(is_null).count())"
   ]
  },
  {
   "cell_type": "markdown",
   "id": "86b502a7",
   "metadata": {},
   "source": [
    "Кол-во пропусков в столбце total_bedrooms=207 \n",
    "\n",
    " заменим пропуски медианным значением"
   ]
  },
  {
   "cell_type": "code",
   "execution_count": 6,
   "id": "c2084daf",
   "metadata": {},
   "outputs": [
    {
     "data": {
      "text/plain": [
       "435.0"
      ]
     },
     "execution_count": 6,
     "metadata": {},
     "output_type": "execute_result"
    }
   ],
   "source": [
    "bedrooms_median = df.select('total_bedrooms').toPandas().median()[0]\n",
    "\n",
    "bedrooms_median "
   ]
  },
  {
   "cell_type": "code",
   "execution_count": 7,
   "id": "dfe7c51f",
   "metadata": {},
   "outputs": [],
   "source": [
    "df = df.na.fill(bedrooms_median, subset=[\"total_bedrooms\"])"
   ]
  },
  {
   "cell_type": "code",
   "execution_count": 8,
   "id": "d05b45b7",
   "metadata": {
    "scrolled": true
   },
   "outputs": [
    {
     "name": "stdout",
     "output_type": "stream",
     "text": [
      "longitude 0\n",
      "latitude 0\n",
      "housing_median_age 0\n",
      "total_rooms 0\n",
      "total_bedrooms 0\n",
      "population 0\n",
      "households 0\n",
      "median_income 0\n",
      "median_house_value 0\n",
      "ocean_proximity 0\n"
     ]
    }
   ],
   "source": [
    "for column in df.columns:\n",
    "        is_null = F.isnull(F.col(column)) | F.isnan(F.col(column))\n",
    "        print(column, df.filter(is_null).count())"
   ]
  },
  {
   "cell_type": "code",
   "execution_count": 9,
   "id": "49309fdb",
   "metadata": {},
   "outputs": [
    {
     "name": "stderr",
     "output_type": "stream",
     "text": [
      "                                                                                \r"
     ]
    },
    {
     "data": {
      "text/html": [
       "<div>\n",
       "<style scoped>\n",
       "    .dataframe tbody tr th:only-of-type {\n",
       "        vertical-align: middle;\n",
       "    }\n",
       "\n",
       "    .dataframe tbody tr th {\n",
       "        vertical-align: top;\n",
       "    }\n",
       "\n",
       "    .dataframe thead th {\n",
       "        text-align: right;\n",
       "    }\n",
       "</style>\n",
       "<table border=\"1\" class=\"dataframe\">\n",
       "  <thead>\n",
       "    <tr style=\"text-align: right;\">\n",
       "      <th></th>\n",
       "      <th>summary</th>\n",
       "      <th>longitude</th>\n",
       "      <th>latitude</th>\n",
       "      <th>housing_median_age</th>\n",
       "      <th>total_rooms</th>\n",
       "      <th>total_bedrooms</th>\n",
       "      <th>population</th>\n",
       "      <th>households</th>\n",
       "      <th>median_income</th>\n",
       "      <th>median_house_value</th>\n",
       "      <th>ocean_proximity</th>\n",
       "    </tr>\n",
       "  </thead>\n",
       "  <tbody>\n",
       "    <tr>\n",
       "      <th>0</th>\n",
       "      <td>count</td>\n",
       "      <td>20640</td>\n",
       "      <td>20640</td>\n",
       "      <td>20640</td>\n",
       "      <td>20640</td>\n",
       "      <td>20640</td>\n",
       "      <td>20640</td>\n",
       "      <td>20640</td>\n",
       "      <td>20640</td>\n",
       "      <td>20640</td>\n",
       "      <td>20640</td>\n",
       "    </tr>\n",
       "    <tr>\n",
       "      <th>1</th>\n",
       "      <td>mean</td>\n",
       "      <td>-119.56970445736148</td>\n",
       "      <td>35.6318614341087</td>\n",
       "      <td>28.639486434108527</td>\n",
       "      <td>2635.7630813953488</td>\n",
       "      <td>536.8388565891473</td>\n",
       "      <td>1425.4767441860465</td>\n",
       "      <td>499.5396802325581</td>\n",
       "      <td>3.8706710029070246</td>\n",
       "      <td>206855.81690891474</td>\n",
       "      <td>None</td>\n",
       "    </tr>\n",
       "    <tr>\n",
       "      <th>2</th>\n",
       "      <td>stddev</td>\n",
       "      <td>2.003531723502584</td>\n",
       "      <td>2.135952397457101</td>\n",
       "      <td>12.58555761211163</td>\n",
       "      <td>2181.6152515827944</td>\n",
       "      <td>419.39187792168866</td>\n",
       "      <td>1132.46212176534</td>\n",
       "      <td>382.3297528316098</td>\n",
       "      <td>1.899821717945263</td>\n",
       "      <td>115395.61587441359</td>\n",
       "      <td>None</td>\n",
       "    </tr>\n",
       "    <tr>\n",
       "      <th>3</th>\n",
       "      <td>min</td>\n",
       "      <td>-124.35</td>\n",
       "      <td>32.54</td>\n",
       "      <td>1.0</td>\n",
       "      <td>2.0</td>\n",
       "      <td>1.0</td>\n",
       "      <td>3.0</td>\n",
       "      <td>1.0</td>\n",
       "      <td>0.4999</td>\n",
       "      <td>14999.0</td>\n",
       "      <td>&lt;1H OCEAN</td>\n",
       "    </tr>\n",
       "    <tr>\n",
       "      <th>4</th>\n",
       "      <td>max</td>\n",
       "      <td>-114.31</td>\n",
       "      <td>41.95</td>\n",
       "      <td>52.0</td>\n",
       "      <td>39320.0</td>\n",
       "      <td>6445.0</td>\n",
       "      <td>35682.0</td>\n",
       "      <td>6082.0</td>\n",
       "      <td>15.0001</td>\n",
       "      <td>500001.0</td>\n",
       "      <td>NEAR OCEAN</td>\n",
       "    </tr>\n",
       "  </tbody>\n",
       "</table>\n",
       "</div>"
      ],
      "text/plain": [
       "  summary            longitude           latitude  housing_median_age  \\\n",
       "0   count                20640              20640               20640   \n",
       "1    mean  -119.56970445736148   35.6318614341087  28.639486434108527   \n",
       "2  stddev    2.003531723502584  2.135952397457101   12.58555761211163   \n",
       "3     min              -124.35              32.54                 1.0   \n",
       "4     max              -114.31              41.95                52.0   \n",
       "\n",
       "          total_rooms      total_bedrooms          population  \\\n",
       "0               20640               20640               20640   \n",
       "1  2635.7630813953488   536.8388565891473  1425.4767441860465   \n",
       "2  2181.6152515827944  419.39187792168866    1132.46212176534   \n",
       "3                 2.0                 1.0                 3.0   \n",
       "4             39320.0              6445.0             35682.0   \n",
       "\n",
       "          households       median_income  median_house_value ocean_proximity  \n",
       "0              20640               20640               20640           20640  \n",
       "1  499.5396802325581  3.8706710029070246  206855.81690891474            None  \n",
       "2  382.3297528316098   1.899821717945263  115395.61587441359            None  \n",
       "3                1.0              0.4999             14999.0       <1H OCEAN  \n",
       "4             6082.0             15.0001            500001.0      NEAR OCEAN  "
      ]
     },
     "execution_count": 9,
     "metadata": {},
     "output_type": "execute_result"
    }
   ],
   "source": [
    "df.describe().toPandas()"
   ]
  },
  {
   "cell_type": "markdown",
   "id": "f57bc045",
   "metadata": {},
   "source": [
    "Заменили пропуски медианным значением. среднее значение изменилось не существено\n"
   ]
  },
  {
   "cell_type": "markdown",
   "id": "e7748861",
   "metadata": {},
   "source": [
    "Разделим данные на числовые и категориаональные признаки"
   ]
  },
  {
   "cell_type": "code",
   "execution_count": 10,
   "id": "54dc8479",
   "metadata": {},
   "outputs": [],
   "source": [
    "cat_cols = ['ocean_proximity']\n",
    "num_cols  = df.drop('ocean_proximity', 'median_house_value').columns\n",
    "\n",
    "target = \"median_house_value\""
   ]
  },
  {
   "cell_type": "markdown",
   "id": "8f2e5bb9",
   "metadata": {},
   "source": [
    "Разделим данные на тренировочную и тестовую выборку"
   ]
  },
  {
   "cell_type": "code",
   "execution_count": 11,
   "id": "dba7e954",
   "metadata": {},
   "outputs": [
    {
     "name": "stderr",
     "output_type": "stream",
     "text": [
      "                                                                                \r"
     ]
    },
    {
     "name": "stdout",
     "output_type": "stream",
     "text": [
      "16525 4115\n"
     ]
    }
   ],
   "source": [
    "df_train, df_test = df.randomSplit([.8,.2], seed=RND)\n",
    "print(df_train.count(), df_test.count())"
   ]
  },
  {
   "cell_type": "markdown",
   "id": "bfa25371",
   "metadata": {},
   "source": [
    "Преобразуем катеориональные признаки в числовые, используя метод StringIndexer.\n",
    "Далее применим метод OHE\n",
    "объеденим признаки методом VectorAssembler\n",
    "и соберем это все в один pipeline"
   ]
  },
  {
   "cell_type": "code",
   "execution_count": 12,
   "id": "e7f7c97a",
   "metadata": {},
   "outputs": [],
   "source": [
    "indexer= StringIndexer(inputCols=cat_cols, outputCols=[col + '_idx' for col in cat_cols])"
   ]
  },
  {
   "cell_type": "code",
   "execution_count": 13,
   "id": "d5c40bd5",
   "metadata": {},
   "outputs": [],
   "source": [
    "encoder = OneHotEncoder(inputCols=[col + '_idx' for col in cat_cols], outputCols=[col + '_ohe' for col in cat_cols])"
   ]
  },
  {
   "cell_type": "code",
   "execution_count": 14,
   "id": "54501816",
   "metadata": {},
   "outputs": [],
   "source": [
    "numerical_assembler = VectorAssembler(inputCols=num_cols, outputCol='numerical_features')"
   ]
  },
  {
   "cell_type": "code",
   "execution_count": 15,
   "id": "be2fd882",
   "metadata": {},
   "outputs": [],
   "source": [
    "standardScaler = StandardScaler(inputCol='numerical_features', outputCol=\"numerical_features_scaled\")"
   ]
  },
  {
   "cell_type": "code",
   "execution_count": 16,
   "id": "86a0fec8",
   "metadata": {},
   "outputs": [],
   "source": [
    "final_assembler = VectorAssembler(inputCols=['ocean_proximity_ohe', 'numerical_features_scaled'], \n",
    "                                  outputCol=\"features\")"
   ]
  },
  {
   "cell_type": "code",
   "execution_count": 17,
   "id": "f3754f3d",
   "metadata": {},
   "outputs": [],
   "source": [
    "pipeline = Pipeline(stages=[indexer, encoder, numerical_assembler,standardScaler,final_assembler])"
   ]
  },
  {
   "cell_type": "markdown",
   "id": "9f0a82f3",
   "metadata": {
    "id": "9f0a82f3"
   },
   "source": [
    "# Обучение моделей"
   ]
  },
  {
   "cell_type": "markdown",
   "id": "9cac85d3",
   "metadata": {
    "id": "bddb08c4"
   },
   "source": [
    "Построим две модели линейной регрессии: все данные и только числовые "
   ]
  },
  {
   "cell_type": "code",
   "execution_count": 18,
   "id": "697bd95b",
   "metadata": {},
   "outputs": [],
   "source": [
    "lr_1 = LinearRegression(labelCol=target, featuresCol='features',regParam=0.0)\n",
    "\n",
    "pipeline_1 = Pipeline(stages=[indexer, encoder, numerical_assembler,standardScaler,final_assembler,lr_1])\n",
    "\n",
    "\n",
    "\n"
   ]
  },
  {
   "cell_type": "code",
   "execution_count": 19,
   "id": "4d887161",
   "metadata": {
    "scrolled": true
   },
   "outputs": [
    {
     "name": "stderr",
     "output_type": "stream",
     "text": [
      "24/02/15 13:51:08 WARN Instrumentation: [32aa503f] regParam is zero, which might cause numerical instability and overfitting.\n",
      "24/02/15 13:51:08 WARN BLAS: Failed to load implementation from: com.github.fommil.netlib.NativeSystemBLAS\n",
      "24/02/15 13:51:08 WARN BLAS: Failed to load implementation from: com.github.fommil.netlib.NativeRefBLAS\n",
      "24/02/15 13:51:09 WARN LAPACK: Failed to load implementation from: com.github.fommil.netlib.NativeSystemLAPACK\n",
      "24/02/15 13:51:09 WARN LAPACK: Failed to load implementation from: com.github.fommil.netlib.NativeRefLAPACK\n",
      "                                                                                \r"
     ]
    }
   ],
   "source": [
    "predictions_1 = pipeline_1.fit(df_train).transform(df_test)"
   ]
  },
  {
   "cell_type": "code",
   "execution_count": 22,
   "id": "6fd3d405",
   "metadata": {},
   "outputs": [
    {
     "data": {
      "text/html": [
       "<div>\n",
       "<style scoped>\n",
       "    .dataframe tbody tr th:only-of-type {\n",
       "        vertical-align: middle;\n",
       "    }\n",
       "\n",
       "    .dataframe tbody tr th {\n",
       "        vertical-align: top;\n",
       "    }\n",
       "\n",
       "    .dataframe thead th {\n",
       "        text-align: right;\n",
       "    }\n",
       "</style>\n",
       "<table border=\"1\" class=\"dataframe\">\n",
       "  <thead>\n",
       "    <tr style=\"text-align: right;\">\n",
       "      <th></th>\n",
       "      <th>longitude</th>\n",
       "      <th>latitude</th>\n",
       "      <th>housing_median_age</th>\n",
       "      <th>total_rooms</th>\n",
       "      <th>total_bedrooms</th>\n",
       "      <th>population</th>\n",
       "      <th>households</th>\n",
       "      <th>median_income</th>\n",
       "      <th>median_house_value</th>\n",
       "      <th>ocean_proximity</th>\n",
       "      <th>ocean_proximity_idx</th>\n",
       "      <th>ocean_proximity_ohe</th>\n",
       "      <th>numerical_features</th>\n",
       "      <th>numerical_features_scaled</th>\n",
       "      <th>features</th>\n",
       "      <th>prediction</th>\n",
       "    </tr>\n",
       "  </thead>\n",
       "  <tbody>\n",
       "    <tr>\n",
       "      <th>0</th>\n",
       "      <td>-124.30</td>\n",
       "      <td>41.80</td>\n",
       "      <td>19.0</td>\n",
       "      <td>2672.0</td>\n",
       "      <td>552.0</td>\n",
       "      <td>1298.0</td>\n",
       "      <td>478.0</td>\n",
       "      <td>1.9797</td>\n",
       "      <td>85800.0</td>\n",
       "      <td>NEAR OCEAN</td>\n",
       "      <td>2.0</td>\n",
       "      <td>(0.0, 0.0, 1.0, 0.0)</td>\n",
       "      <td>[-124.3, 41.8, 19.0, 2672.0, 552.0, 1298.0, 47...</td>\n",
       "      <td>[-62.04383622990429, 19.61128612892717, 1.5073...</td>\n",
       "      <td>[0.0, 0.0, 1.0, 0.0, -62.04383622990429, 19.61...</td>\n",
       "      <td>116671.739892</td>\n",
       "    </tr>\n",
       "    <tr>\n",
       "      <th>1</th>\n",
       "      <td>-124.26</td>\n",
       "      <td>40.58</td>\n",
       "      <td>52.0</td>\n",
       "      <td>2217.0</td>\n",
       "      <td>394.0</td>\n",
       "      <td>907.0</td>\n",
       "      <td>369.0</td>\n",
       "      <td>2.3571</td>\n",
       "      <td>111400.0</td>\n",
       "      <td>NEAR OCEAN</td>\n",
       "      <td>2.0</td>\n",
       "      <td>(0.0, 0.0, 1.0, 0.0)</td>\n",
       "      <td>[-124.26, 40.58, 52.0, 2217.0, 394.0, 907.0, 3...</td>\n",
       "      <td>[-62.02387039362757, 19.03889930889628, 4.1253...</td>\n",
       "      <td>[0.0, 0.0, 1.0, 0.0, -62.02387039362757, 19.03...</td>\n",
       "      <td>191472.506751</td>\n",
       "    </tr>\n",
       "    <tr>\n",
       "      <th>2</th>\n",
       "      <td>-124.18</td>\n",
       "      <td>40.79</td>\n",
       "      <td>39.0</td>\n",
       "      <td>1836.0</td>\n",
       "      <td>352.0</td>\n",
       "      <td>883.0</td>\n",
       "      <td>337.0</td>\n",
       "      <td>1.7450</td>\n",
       "      <td>70500.0</td>\n",
       "      <td>NEAR OCEAN</td>\n",
       "      <td>2.0</td>\n",
       "      <td>(0.0, 0.0, 1.0, 0.0)</td>\n",
       "      <td>[-124.18, 40.79, 39.0, 1836.0, 352.0, 883.0, 3...</td>\n",
       "      <td>[-61.98393872107413, 19.137424909065533, 3.094...</td>\n",
       "      <td>[0.0, 0.0, 1.0, 0.0, -61.98393872107413, 19.13...</td>\n",
       "      <td>144580.640718</td>\n",
       "    </tr>\n",
       "    <tr>\n",
       "      <th>3</th>\n",
       "      <td>-124.17</td>\n",
       "      <td>40.74</td>\n",
       "      <td>17.0</td>\n",
       "      <td>2026.0</td>\n",
       "      <td>338.0</td>\n",
       "      <td>873.0</td>\n",
       "      <td>313.0</td>\n",
       "      <td>4.0357</td>\n",
       "      <td>128900.0</td>\n",
       "      <td>NEAR OCEAN</td>\n",
       "      <td>2.0</td>\n",
       "      <td>(0.0, 0.0, 1.0, 0.0)</td>\n",
       "      <td>[-124.17, 40.74, 17.0, 2026.0, 338.0, 873.0, 3...</td>\n",
       "      <td>[-61.97894726200495, 19.11396643283476, 1.3486...</td>\n",
       "      <td>[0.0, 0.0, 1.0, 0.0, -61.97894726200495, 19.11...</td>\n",
       "      <td>208330.742251</td>\n",
       "    </tr>\n",
       "    <tr>\n",
       "      <th>4</th>\n",
       "      <td>-124.17</td>\n",
       "      <td>40.75</td>\n",
       "      <td>13.0</td>\n",
       "      <td>2171.0</td>\n",
       "      <td>339.0</td>\n",
       "      <td>951.0</td>\n",
       "      <td>353.0</td>\n",
       "      <td>4.8516</td>\n",
       "      <td>116100.0</td>\n",
       "      <td>NEAR OCEAN</td>\n",
       "      <td>2.0</td>\n",
       "      <td>(0.0, 0.0, 1.0, 0.0)</td>\n",
       "      <td>[-124.17, 40.75, 13.0, 2171.0, 339.0, 951.0, 3...</td>\n",
       "      <td>[-61.97894726200495, 19.118658128080913, 1.031...</td>\n",
       "      <td>[0.0, 0.0, 1.0, 0.0, -61.97894726200495, 19.11...</td>\n",
       "      <td>235023.167524</td>\n",
       "    </tr>\n",
       "  </tbody>\n",
       "</table>\n",
       "</div>"
      ],
      "text/plain": [
       "   longitude  latitude  housing_median_age  total_rooms  total_bedrooms  \\\n",
       "0    -124.30     41.80                19.0       2672.0           552.0   \n",
       "1    -124.26     40.58                52.0       2217.0           394.0   \n",
       "2    -124.18     40.79                39.0       1836.0           352.0   \n",
       "3    -124.17     40.74                17.0       2026.0           338.0   \n",
       "4    -124.17     40.75                13.0       2171.0           339.0   \n",
       "\n",
       "   population  households  median_income  median_house_value ocean_proximity  \\\n",
       "0      1298.0       478.0         1.9797             85800.0      NEAR OCEAN   \n",
       "1       907.0       369.0         2.3571            111400.0      NEAR OCEAN   \n",
       "2       883.0       337.0         1.7450             70500.0      NEAR OCEAN   \n",
       "3       873.0       313.0         4.0357            128900.0      NEAR OCEAN   \n",
       "4       951.0       353.0         4.8516            116100.0      NEAR OCEAN   \n",
       "\n",
       "   ocean_proximity_idx   ocean_proximity_ohe  \\\n",
       "0                  2.0  (0.0, 0.0, 1.0, 0.0)   \n",
       "1                  2.0  (0.0, 0.0, 1.0, 0.0)   \n",
       "2                  2.0  (0.0, 0.0, 1.0, 0.0)   \n",
       "3                  2.0  (0.0, 0.0, 1.0, 0.0)   \n",
       "4                  2.0  (0.0, 0.0, 1.0, 0.0)   \n",
       "\n",
       "                                  numerical_features  \\\n",
       "0  [-124.3, 41.8, 19.0, 2672.0, 552.0, 1298.0, 47...   \n",
       "1  [-124.26, 40.58, 52.0, 2217.0, 394.0, 907.0, 3...   \n",
       "2  [-124.18, 40.79, 39.0, 1836.0, 352.0, 883.0, 3...   \n",
       "3  [-124.17, 40.74, 17.0, 2026.0, 338.0, 873.0, 3...   \n",
       "4  [-124.17, 40.75, 13.0, 2171.0, 339.0, 951.0, 3...   \n",
       "\n",
       "                           numerical_features_scaled  \\\n",
       "0  [-62.04383622990429, 19.61128612892717, 1.5073...   \n",
       "1  [-62.02387039362757, 19.03889930889628, 4.1253...   \n",
       "2  [-61.98393872107413, 19.137424909065533, 3.094...   \n",
       "3  [-61.97894726200495, 19.11396643283476, 1.3486...   \n",
       "4  [-61.97894726200495, 19.118658128080913, 1.031...   \n",
       "\n",
       "                                            features     prediction  \n",
       "0  [0.0, 0.0, 1.0, 0.0, -62.04383622990429, 19.61...  116671.739892  \n",
       "1  [0.0, 0.0, 1.0, 0.0, -62.02387039362757, 19.03...  191472.506751  \n",
       "2  [0.0, 0.0, 1.0, 0.0, -61.98393872107413, 19.13...  144580.640718  \n",
       "3  [0.0, 0.0, 1.0, 0.0, -61.97894726200495, 19.11...  208330.742251  \n",
       "4  [0.0, 0.0, 1.0, 0.0, -61.97894726200495, 19.11...  235023.167524  "
      ]
     },
     "execution_count": 22,
     "metadata": {},
     "output_type": "execute_result"
    }
   ],
   "source": [
    "predictions_1.toPandas().head(5)"
   ]
  },
  {
   "cell_type": "code",
   "execution_count": 20,
   "id": "a5d450a9",
   "metadata": {},
   "outputs": [],
   "source": [
    "lr_2 = LinearRegression(labelCol=target, featuresCol='numerical_features_scaled',regParam=0.0)\n",
    "\n",
    "pipeline_2 = Pipeline(stages=[numerical_assembler,standardScaler,lr_2])\n",
    "\n"
   ]
  },
  {
   "cell_type": "code",
   "execution_count": 21,
   "id": "ce31af70",
   "metadata": {
    "scrolled": true
   },
   "outputs": [
    {
     "name": "stderr",
     "output_type": "stream",
     "text": [
      "24/02/15 13:54:03 WARN Instrumentation: [1d93d5d7] regParam is zero, which might cause numerical instability and overfitting.\n"
     ]
    }
   ],
   "source": [
    "predictions_2 = pipeline_2.fit(df_train).transform(df_test)"
   ]
  },
  {
   "cell_type": "code",
   "execution_count": 23,
   "id": "3c09f4f3",
   "metadata": {},
   "outputs": [
    {
     "data": {
      "text/html": [
       "<div>\n",
       "<style scoped>\n",
       "    .dataframe tbody tr th:only-of-type {\n",
       "        vertical-align: middle;\n",
       "    }\n",
       "\n",
       "    .dataframe tbody tr th {\n",
       "        vertical-align: top;\n",
       "    }\n",
       "\n",
       "    .dataframe thead th {\n",
       "        text-align: right;\n",
       "    }\n",
       "</style>\n",
       "<table border=\"1\" class=\"dataframe\">\n",
       "  <thead>\n",
       "    <tr style=\"text-align: right;\">\n",
       "      <th></th>\n",
       "      <th>longitude</th>\n",
       "      <th>latitude</th>\n",
       "      <th>housing_median_age</th>\n",
       "      <th>total_rooms</th>\n",
       "      <th>total_bedrooms</th>\n",
       "      <th>population</th>\n",
       "      <th>households</th>\n",
       "      <th>median_income</th>\n",
       "      <th>median_house_value</th>\n",
       "      <th>ocean_proximity</th>\n",
       "      <th>numerical_features</th>\n",
       "      <th>numerical_features_scaled</th>\n",
       "      <th>prediction</th>\n",
       "    </tr>\n",
       "  </thead>\n",
       "  <tbody>\n",
       "    <tr>\n",
       "      <th>0</th>\n",
       "      <td>-124.30</td>\n",
       "      <td>41.80</td>\n",
       "      <td>19.0</td>\n",
       "      <td>2672.0</td>\n",
       "      <td>552.0</td>\n",
       "      <td>1298.0</td>\n",
       "      <td>478.0</td>\n",
       "      <td>1.9797</td>\n",
       "      <td>85800.0</td>\n",
       "      <td>NEAR OCEAN</td>\n",
       "      <td>[-124.3, 41.8, 19.0, 2672.0, 552.0, 1298.0, 47...</td>\n",
       "      <td>[-62.04383622990429, 19.61128612892717, 1.5073...</td>\n",
       "      <td>65465.098032</td>\n",
       "    </tr>\n",
       "    <tr>\n",
       "      <th>1</th>\n",
       "      <td>-124.26</td>\n",
       "      <td>40.58</td>\n",
       "      <td>52.0</td>\n",
       "      <td>2217.0</td>\n",
       "      <td>394.0</td>\n",
       "      <td>907.0</td>\n",
       "      <td>369.0</td>\n",
       "      <td>2.3571</td>\n",
       "      <td>111400.0</td>\n",
       "      <td>NEAR OCEAN</td>\n",
       "      <td>[-124.26, 40.58, 52.0, 2217.0, 394.0, 907.0, 3...</td>\n",
       "      <td>[-62.02387039362757, 19.03889930889628, 4.1253...</td>\n",
       "      <td>164077.395803</td>\n",
       "    </tr>\n",
       "    <tr>\n",
       "      <th>2</th>\n",
       "      <td>-124.18</td>\n",
       "      <td>40.79</td>\n",
       "      <td>39.0</td>\n",
       "      <td>1836.0</td>\n",
       "      <td>352.0</td>\n",
       "      <td>883.0</td>\n",
       "      <td>337.0</td>\n",
       "      <td>1.7450</td>\n",
       "      <td>70500.0</td>\n",
       "      <td>NEAR OCEAN</td>\n",
       "      <td>[-124.18, 40.79, 39.0, 1836.0, 352.0, 883.0, 3...</td>\n",
       "      <td>[-61.98393872107413, 19.137424909065533, 3.094...</td>\n",
       "      <td>110573.835686</td>\n",
       "    </tr>\n",
       "    <tr>\n",
       "      <th>3</th>\n",
       "      <td>-124.17</td>\n",
       "      <td>40.74</td>\n",
       "      <td>17.0</td>\n",
       "      <td>2026.0</td>\n",
       "      <td>338.0</td>\n",
       "      <td>873.0</td>\n",
       "      <td>313.0</td>\n",
       "      <td>4.0357</td>\n",
       "      <td>128900.0</td>\n",
       "      <td>NEAR OCEAN</td>\n",
       "      <td>[-124.17, 40.74, 17.0, 2026.0, 338.0, 873.0, 3...</td>\n",
       "      <td>[-61.97894726200495, 19.11396643283476, 1.3486...</td>\n",
       "      <td>174719.352247</td>\n",
       "    </tr>\n",
       "    <tr>\n",
       "      <th>4</th>\n",
       "      <td>-124.17</td>\n",
       "      <td>40.75</td>\n",
       "      <td>13.0</td>\n",
       "      <td>2171.0</td>\n",
       "      <td>339.0</td>\n",
       "      <td>951.0</td>\n",
       "      <td>353.0</td>\n",
       "      <td>4.8516</td>\n",
       "      <td>116100.0</td>\n",
       "      <td>NEAR OCEAN</td>\n",
       "      <td>[-124.17, 40.75, 13.0, 2171.0, 339.0, 951.0, 3...</td>\n",
       "      <td>[-61.97894726200495, 19.118658128080913, 1.031...</td>\n",
       "      <td>201406.288895</td>\n",
       "    </tr>\n",
       "  </tbody>\n",
       "</table>\n",
       "</div>"
      ],
      "text/plain": [
       "   longitude  latitude  housing_median_age  total_rooms  total_bedrooms  \\\n",
       "0    -124.30     41.80                19.0       2672.0           552.0   \n",
       "1    -124.26     40.58                52.0       2217.0           394.0   \n",
       "2    -124.18     40.79                39.0       1836.0           352.0   \n",
       "3    -124.17     40.74                17.0       2026.0           338.0   \n",
       "4    -124.17     40.75                13.0       2171.0           339.0   \n",
       "\n",
       "   population  households  median_income  median_house_value ocean_proximity  \\\n",
       "0      1298.0       478.0         1.9797             85800.0      NEAR OCEAN   \n",
       "1       907.0       369.0         2.3571            111400.0      NEAR OCEAN   \n",
       "2       883.0       337.0         1.7450             70500.0      NEAR OCEAN   \n",
       "3       873.0       313.0         4.0357            128900.0      NEAR OCEAN   \n",
       "4       951.0       353.0         4.8516            116100.0      NEAR OCEAN   \n",
       "\n",
       "                                  numerical_features  \\\n",
       "0  [-124.3, 41.8, 19.0, 2672.0, 552.0, 1298.0, 47...   \n",
       "1  [-124.26, 40.58, 52.0, 2217.0, 394.0, 907.0, 3...   \n",
       "2  [-124.18, 40.79, 39.0, 1836.0, 352.0, 883.0, 3...   \n",
       "3  [-124.17, 40.74, 17.0, 2026.0, 338.0, 873.0, 3...   \n",
       "4  [-124.17, 40.75, 13.0, 2171.0, 339.0, 951.0, 3...   \n",
       "\n",
       "                           numerical_features_scaled     prediction  \n",
       "0  [-62.04383622990429, 19.61128612892717, 1.5073...   65465.098032  \n",
       "1  [-62.02387039362757, 19.03889930889628, 4.1253...  164077.395803  \n",
       "2  [-61.98393872107413, 19.137424909065533, 3.094...  110573.835686  \n",
       "3  [-61.97894726200495, 19.11396643283476, 1.3486...  174719.352247  \n",
       "4  [-61.97894726200495, 19.118658128080913, 1.031...  201406.288895  "
      ]
     },
     "execution_count": 23,
     "metadata": {},
     "output_type": "execute_result"
    }
   ],
   "source": [
    "predictions_2.toPandas().head(5)"
   ]
  },
  {
   "cell_type": "markdown",
   "id": "757fd103",
   "metadata": {
    "id": "757fd103"
   },
   "source": [
    "# Анализ результатов"
   ]
  },
  {
   "cell_type": "markdown",
   "id": "2e87487d",
   "metadata": {},
   "source": [
    " определяем метрики RMSE, MAE, R2 для модели 1 (все данные)\n",
    " "
   ]
  },
  {
   "cell_type": "code",
   "execution_count": 24,
   "id": "ae88b0c6",
   "metadata": {},
   "outputs": [
    {
     "name": "stdout",
     "output_type": "stream",
     "text": [
      "RMSE: 67359.91058072698\n",
      "MAE: 49218.92567022398\n",
      "R2: 0.6542930056011936\n"
     ]
    }
   ],
   "source": [
    "evaluator = RegressionEvaluator(labelCol=target, predictionCol=\"prediction\", metricName=\"rmse\")\n",
    "rmse = evaluator.evaluate(predictions_1)\n",
    "\n",
    "evaluator = RegressionEvaluator(labelCol=target, predictionCol=\"prediction\", metricName=\"mae\")\n",
    "mae = evaluator.evaluate(predictions_1)\n",
    "\n",
    "evaluator = RegressionEvaluator(labelCol=target, predictionCol=\"prediction\", metricName=\"r2\")\n",
    "r2 = evaluator.evaluate(predictions_1)\n",
    "\n",
    "print(\"RMSE:\", rmse)\n",
    "print(\"MAE:\", mae)\n",
    "print(\"R2:\", r2)\n",
    "\n"
   ]
  },
  {
   "cell_type": "markdown",
   "id": "7a26d40f",
   "metadata": {},
   "source": [
    " определяем метрики RMSE, MAE, R2 для модели 2 (количественные)\n",
    "    "
   ]
  },
  {
   "cell_type": "code",
   "execution_count": 25,
   "id": "cd745f49",
   "metadata": {
    "scrolled": true
   },
   "outputs": [
    {
     "name": "stdout",
     "output_type": "stream",
     "text": [
      "RMSE: 68177.39948274654\n",
      "MAE: 50396.989759948454\n",
      "R2: 0.6458509950600302\n"
     ]
    }
   ],
   "source": [
    "evaluator = RegressionEvaluator(labelCol=target, predictionCol=\"prediction\", metricName=\"rmse\")\n",
    "rmse = evaluator.evaluate(predictions_2)\n",
    "\n",
    "evaluator = RegressionEvaluator(labelCol=target, predictionCol=\"prediction\", metricName=\"mae\")\n",
    "mae = evaluator.evaluate(predictions_2)\n",
    "\n",
    "evaluator = RegressionEvaluator(labelCol=target, predictionCol=\"prediction\", metricName=\"r2\")\n",
    "r2 = evaluator.evaluate(predictions_2)\n",
    "\n",
    "print(\"RMSE:\", rmse)\n",
    "print(\"MAE:\", mae)\n",
    "print(\"R2:\", r2)"
   ]
  },
  {
   "cell_type": "markdown",
   "id": "bc63668d",
   "metadata": {},
   "source": [
    "На основании полученных данных видно, что первая модель выглядит лучше по всем  3 параметрам :\n",
    "RMSE  и MAE (чем ближе к нулю, тем более точнее предсказание ), хотя и в первом и во втором случае показатели достаточно большие\n",
    "R2,чем ближе к единице, тем модель точнее. в первом случае показатель составил 0,6543"
   ]
  },
  {
   "cell_type": "markdown",
   "id": "6ae51351",
   "metadata": {},
   "source": [
    "# Итог"
   ]
  },
  {
   "cell_type": "markdown",
   "id": "1f1e1811",
   "metadata": {},
   "source": [
    "1) Инициализировали локальную Spark-сессию.\n",
    "\n",
    "2) прочитали и подготовили данные из /datasets/housing.csv. Нашили пропуску в столбце total_bedrooms, кол-во составило 207. заменили данные пропуски на медианное значение (которое составило 435 )\n",
    "\n",
    "3) преобразовали колонки с категориональными и количественными данными методами StringIndexer,OneHotEncoder,StandardScaler и пр\n",
    "\n",
    "4) обучили две модели : со всеми данными и количественными\n",
    "\n",
    "5) определили метрики по двум моделям и сделали вывод, что по всем трем показателям модель, которая включает в себя все данные, показала наилучший результат"
   ]
  }
 ],
 "metadata": {
  "ExecuteTimeLog": [
   {
    "duration": 95,
    "start_time": "2024-02-12T14:13:41.388Z"
   },
   {
    "duration": 1598,
    "start_time": "2024-02-12T14:20:15.944Z"
   },
   {
    "duration": 17857,
    "start_time": "2024-02-12T14:22:25.769Z"
   },
   {
    "duration": 559,
    "start_time": "2024-02-12T14:24:57.242Z"
   },
   {
    "duration": 12991,
    "start_time": "2024-02-12T14:26:53.229Z"
   },
   {
    "duration": 2101,
    "start_time": "2024-02-12T14:31:05.957Z"
   },
   {
    "duration": 1404,
    "start_time": "2024-02-13T13:55:53.694Z"
   },
   {
    "duration": 14842,
    "start_time": "2024-02-13T13:55:55.100Z"
   },
   {
    "duration": 8582,
    "start_time": "2024-02-13T13:56:09.944Z"
   },
   {
    "duration": 4,
    "start_time": "2024-02-13T13:59:48.912Z"
   },
   {
    "duration": 1124,
    "start_time": "2024-02-13T13:59:53.608Z"
   },
   {
    "duration": 3591,
    "start_time": "2024-02-13T14:01:02.566Z"
   },
   {
    "duration": 779,
    "start_time": "2024-02-13T14:05:30.185Z"
   },
   {
    "duration": 1383,
    "start_time": "2024-02-13T14:05:33.846Z"
   },
   {
    "duration": 283,
    "start_time": "2024-02-13T14:22:36.053Z"
   },
   {
    "duration": 214,
    "start_time": "2024-02-13T14:22:50.608Z"
   },
   {
    "duration": 1503,
    "start_time": "2024-02-14T13:09:52.735Z"
   },
   {
    "duration": 16196,
    "start_time": "2024-02-14T13:09:54.240Z"
   },
   {
    "duration": 10269,
    "start_time": "2024-02-14T13:10:10.439Z"
   },
   {
    "duration": 4581,
    "start_time": "2024-02-14T13:10:20.711Z"
   },
   {
    "duration": 316,
    "start_time": "2024-02-14T13:10:25.294Z"
   },
   {
    "duration": 3594,
    "start_time": "2024-02-14T13:21:28.620Z"
   },
   {
    "duration": 2625,
    "start_time": "2024-02-14T13:22:30.042Z"
   },
   {
    "duration": 81,
    "start_time": "2024-02-14T13:23:49.219Z"
   },
   {
    "duration": 88,
    "start_time": "2024-02-14T13:24:11.395Z"
   },
   {
    "duration": 111,
    "start_time": "2024-02-14T13:24:30.746Z"
   },
   {
    "duration": 2298,
    "start_time": "2024-02-14T13:24:55.241Z"
   },
   {
    "duration": 2060,
    "start_time": "2024-02-14T13:25:04.276Z"
   },
   {
    "duration": 1992,
    "start_time": "2024-02-14T13:25:57.420Z"
   },
   {
    "duration": 1337,
    "start_time": "2024-02-14T13:26:48.263Z"
   },
   {
    "duration": 16092,
    "start_time": "2024-02-14T13:26:49.603Z"
   },
   {
    "duration": 10301,
    "start_time": "2024-02-14T13:27:05.697Z"
   },
   {
    "duration": 4408,
    "start_time": "2024-02-14T13:27:16.001Z"
   },
   {
    "duration": 385,
    "start_time": "2024-02-14T13:27:20.411Z"
   },
   {
    "duration": 3894,
    "start_time": "2024-02-14T13:27:20.798Z"
   },
   {
    "duration": 1918,
    "start_time": "2024-02-14T13:28:33.292Z"
   },
   {
    "duration": 1238,
    "start_time": "2024-02-14T13:30:19.455Z"
   },
   {
    "duration": 4,
    "start_time": "2024-02-14T13:30:43.811Z"
   },
   {
    "duration": 1311,
    "start_time": "2024-02-14T13:30:51.212Z"
   },
   {
    "duration": 15412,
    "start_time": "2024-02-14T13:30:52.525Z"
   },
   {
    "duration": 9763,
    "start_time": "2024-02-14T13:31:07.939Z"
   },
   {
    "duration": 4728,
    "start_time": "2024-02-14T13:31:17.704Z"
   },
   {
    "duration": 375,
    "start_time": "2024-02-14T13:31:22.435Z"
   },
   {
    "duration": 4093,
    "start_time": "2024-02-14T13:31:22.811Z"
   },
   {
    "duration": 16,
    "start_time": "2024-02-14T13:34:59.264Z"
   },
   {
    "duration": 3728,
    "start_time": "2024-02-14T13:35:30.315Z"
   },
   {
    "duration": 3,
    "start_time": "2024-02-14T13:41:51.973Z"
   },
   {
    "duration": 13,
    "start_time": "2024-02-14T13:48:35.450Z"
   },
   {
    "duration": 1418,
    "start_time": "2024-02-14T17:27:03.450Z"
   },
   {
    "duration": 15505,
    "start_time": "2024-02-14T17:27:04.870Z"
   },
   {
    "duration": 9307,
    "start_time": "2024-02-14T17:27:20.378Z"
   },
   {
    "duration": 4723,
    "start_time": "2024-02-14T17:27:29.686Z"
   },
   {
    "duration": 471,
    "start_time": "2024-02-14T17:27:34.411Z"
   },
   {
    "duration": 3621,
    "start_time": "2024-02-14T17:27:34.884Z"
   },
   {
    "duration": 75,
    "start_time": "2024-02-14T17:27:38.507Z"
   },
   {
    "duration": 3698,
    "start_time": "2024-02-14T17:27:38.584Z"
   },
   {
    "duration": 8,
    "start_time": "2024-02-14T17:27:42.284Z"
   },
   {
    "duration": 1155,
    "start_time": "2024-02-14T17:35:30.735Z"
   },
   {
    "duration": 722,
    "start_time": "2024-02-14T17:35:41.899Z"
   },
   {
    "duration": 703,
    "start_time": "2024-02-14T17:36:38.961Z"
   },
   {
    "duration": 1563,
    "start_time": "2024-02-14T17:37:55.330Z"
   },
   {
    "duration": 1612,
    "start_time": "2024-02-14T17:38:13.675Z"
   },
   {
    "duration": 1551,
    "start_time": "2024-02-14T17:40:06.222Z"
   },
   {
    "duration": 1296,
    "start_time": "2024-02-14T17:40:44.478Z"
   },
   {
    "duration": 5,
    "start_time": "2024-02-14T17:45:27.649Z"
   },
   {
    "duration": 1121,
    "start_time": "2024-02-14T17:45:34.760Z"
   },
   {
    "duration": 775,
    "start_time": "2024-02-14T17:46:57.726Z"
   },
   {
    "duration": 1123,
    "start_time": "2024-02-14T17:47:14.795Z"
   },
   {
    "duration": 977,
    "start_time": "2024-02-14T17:48:24.797Z"
   },
   {
    "duration": 1024,
    "start_time": "2024-02-14T17:50:13.695Z"
   },
   {
    "duration": 1064,
    "start_time": "2024-02-14T17:50:28.527Z"
   },
   {
    "duration": 899,
    "start_time": "2024-02-14T17:50:53.807Z"
   },
   {
    "duration": 2544,
    "start_time": "2024-02-14T17:55:44.278Z"
   },
   {
    "duration": 1533,
    "start_time": "2024-02-14T17:56:08.108Z"
   },
   {
    "duration": 1474,
    "start_time": "2024-02-14T17:56:20.528Z"
   },
   {
    "duration": 901,
    "start_time": "2024-02-14T17:57:12.200Z"
   },
   {
    "duration": 259,
    "start_time": "2024-02-14T17:57:31.337Z"
   },
   {
    "duration": 278,
    "start_time": "2024-02-14T17:57:44.247Z"
   },
   {
    "duration": 43,
    "start_time": "2024-02-14T18:01:12.874Z"
   },
   {
    "duration": 1022,
    "start_time": "2024-02-14T18:05:53.762Z"
   },
   {
    "duration": 121,
    "start_time": "2024-02-14T18:06:10.792Z"
   },
   {
    "duration": 100,
    "start_time": "2024-02-14T18:07:08.288Z"
   },
   {
    "duration": 1340,
    "start_time": "2024-02-14T18:09:55.489Z"
   },
   {
    "duration": 15247,
    "start_time": "2024-02-14T18:09:56.831Z"
   },
   {
    "duration": 9419,
    "start_time": "2024-02-14T18:10:12.080Z"
   },
   {
    "duration": 4324,
    "start_time": "2024-02-14T18:10:21.567Z"
   },
   {
    "duration": 388,
    "start_time": "2024-02-14T18:10:25.894Z"
   },
   {
    "duration": 3792,
    "start_time": "2024-02-14T18:10:26.283Z"
   },
   {
    "duration": 92,
    "start_time": "2024-02-14T18:10:30.077Z"
   },
   {
    "duration": 3527,
    "start_time": "2024-02-14T18:10:30.171Z"
   },
   {
    "duration": 12,
    "start_time": "2024-02-14T18:10:33.700Z"
   },
   {
    "duration": 1669,
    "start_time": "2024-02-14T18:10:33.715Z"
   },
   {
    "duration": 3902,
    "start_time": "2024-02-14T18:10:35.386Z"
   },
   {
    "duration": 1425,
    "start_time": "2024-02-14T18:10:39.290Z"
   },
   {
    "duration": 1262,
    "start_time": "2024-02-14T18:10:40.717Z"
   },
   {
    "duration": 123,
    "start_time": "2024-02-14T18:11:39.252Z"
   },
   {
    "duration": 1165,
    "start_time": "2024-02-14T18:11:48.963Z"
   },
   {
    "duration": 14836,
    "start_time": "2024-02-14T18:11:50.130Z"
   },
   {
    "duration": 9103,
    "start_time": "2024-02-14T18:12:04.968Z"
   },
   {
    "duration": 3827,
    "start_time": "2024-02-14T18:12:14.073Z"
   },
   {
    "duration": 477,
    "start_time": "2024-02-14T18:12:17.902Z"
   },
   {
    "duration": 3394,
    "start_time": "2024-02-14T18:12:18.381Z"
   },
   {
    "duration": 21,
    "start_time": "2024-02-14T18:12:21.777Z"
   },
   {
    "duration": 3473,
    "start_time": "2024-02-14T18:12:21.801Z"
   },
   {
    "duration": 9,
    "start_time": "2024-02-14T18:12:25.276Z"
   },
   {
    "duration": 1410,
    "start_time": "2024-02-14T18:12:25.288Z"
   },
   {
    "duration": 3867,
    "start_time": "2024-02-14T18:12:26.700Z"
   },
   {
    "duration": 1343,
    "start_time": "2024-02-14T18:12:30.568Z"
   },
   {
    "duration": 2181,
    "start_time": "2024-02-14T18:12:31.913Z"
   },
   {
    "duration": 1915,
    "start_time": "2024-02-14T18:14:49.079Z"
   },
   {
    "duration": 214,
    "start_time": "2024-02-14T18:15:20.785Z"
   },
   {
    "duration": 1253,
    "start_time": "2024-02-14T18:15:33.740Z"
   },
   {
    "duration": 14885,
    "start_time": "2024-02-14T18:15:34.995Z"
   },
   {
    "duration": 8697,
    "start_time": "2024-02-14T18:15:49.883Z"
   },
   {
    "duration": 4099,
    "start_time": "2024-02-14T18:15:58.582Z"
   },
   {
    "duration": 397,
    "start_time": "2024-02-14T18:16:02.693Z"
   },
   {
    "duration": 3279,
    "start_time": "2024-02-14T18:16:03.092Z"
   },
   {
    "duration": 20,
    "start_time": "2024-02-14T18:16:06.373Z"
   },
   {
    "duration": 3294,
    "start_time": "2024-02-14T18:16:06.395Z"
   },
   {
    "duration": 9,
    "start_time": "2024-02-14T18:16:09.691Z"
   },
   {
    "duration": 1477,
    "start_time": "2024-02-14T18:16:09.702Z"
   },
   {
    "duration": 3693,
    "start_time": "2024-02-14T18:16:11.181Z"
   },
   {
    "duration": 1424,
    "start_time": "2024-02-14T18:16:14.876Z"
   },
   {
    "duration": 1887,
    "start_time": "2024-02-14T18:16:16.302Z"
   },
   {
    "duration": 0,
    "start_time": "2024-02-14T18:16:18.191Z"
   },
   {
    "duration": 115,
    "start_time": "2024-02-14T18:17:44.441Z"
   },
   {
    "duration": 1173,
    "start_time": "2024-02-14T18:18:26.358Z"
   },
   {
    "duration": 15262,
    "start_time": "2024-02-14T18:18:27.532Z"
   },
   {
    "duration": 8773,
    "start_time": "2024-02-14T18:18:42.797Z"
   },
   {
    "duration": 4000,
    "start_time": "2024-02-14T18:18:51.572Z"
   },
   {
    "duration": 419,
    "start_time": "2024-02-14T18:18:55.574Z"
   },
   {
    "duration": 3911,
    "start_time": "2024-02-14T18:18:55.994Z"
   },
   {
    "duration": 66,
    "start_time": "2024-02-14T18:18:59.907Z"
   },
   {
    "duration": 3022,
    "start_time": "2024-02-14T18:18:59.975Z"
   },
   {
    "duration": 10,
    "start_time": "2024-02-14T18:19:02.998Z"
   },
   {
    "duration": 1557,
    "start_time": "2024-02-14T18:19:03.009Z"
   },
   {
    "duration": 3874,
    "start_time": "2024-02-14T18:19:04.568Z"
   },
   {
    "duration": 1399,
    "start_time": "2024-02-14T18:19:08.444Z"
   },
   {
    "duration": 5727,
    "start_time": "2024-02-14T18:19:09.844Z"
   },
   {
    "duration": 1693,
    "start_time": "2024-02-14T18:19:15.574Z"
   },
   {
    "duration": 205,
    "start_time": "2024-02-14T18:19:53.072Z"
   },
   {
    "duration": 1240,
    "start_time": "2024-02-14T18:20:04.076Z"
   },
   {
    "duration": 15171,
    "start_time": "2024-02-14T18:20:05.317Z"
   },
   {
    "duration": 9292,
    "start_time": "2024-02-14T18:20:20.490Z"
   },
   {
    "duration": 4408,
    "start_time": "2024-02-14T18:20:29.783Z"
   },
   {
    "duration": 389,
    "start_time": "2024-02-14T18:20:34.193Z"
   },
   {
    "duration": 3391,
    "start_time": "2024-02-14T18:20:34.583Z"
   },
   {
    "duration": 90,
    "start_time": "2024-02-14T18:20:37.976Z"
   },
   {
    "duration": 3413,
    "start_time": "2024-02-14T18:20:38.068Z"
   },
   {
    "duration": 10,
    "start_time": "2024-02-14T18:20:41.483Z"
   },
   {
    "duration": 1484,
    "start_time": "2024-02-14T18:20:41.495Z"
   },
   {
    "duration": 3425,
    "start_time": "2024-02-14T18:20:42.981Z"
   },
   {
    "duration": 1309,
    "start_time": "2024-02-14T18:20:46.408Z"
   },
   {
    "duration": 5402,
    "start_time": "2024-02-14T18:20:47.719Z"
   },
   {
    "duration": 2433,
    "start_time": "2024-02-14T18:20:53.164Z"
   },
   {
    "duration": 2991,
    "start_time": "2024-02-14T18:35:16.227Z"
   },
   {
    "duration": 1743,
    "start_time": "2024-02-14T18:35:35.129Z"
   },
   {
    "duration": 1730,
    "start_time": "2024-02-14T18:36:25.360Z"
   },
   {
    "duration": 2064,
    "start_time": "2024-02-14T18:38:08.520Z"
   },
   {
    "duration": 1220,
    "start_time": "2024-02-14T18:38:39.528Z"
   },
   {
    "duration": 15061,
    "start_time": "2024-02-14T18:38:40.751Z"
   },
   {
    "duration": 9370,
    "start_time": "2024-02-14T18:38:55.814Z"
   },
   {
    "duration": 4433,
    "start_time": "2024-02-14T18:39:05.186Z"
   },
   {
    "duration": 464,
    "start_time": "2024-02-14T18:39:09.622Z"
   },
   {
    "duration": 3879,
    "start_time": "2024-02-14T18:39:10.088Z"
   },
   {
    "duration": 14,
    "start_time": "2024-02-14T18:39:13.968Z"
   },
   {
    "duration": 4034,
    "start_time": "2024-02-14T18:39:13.984Z"
   },
   {
    "duration": 48,
    "start_time": "2024-02-14T18:39:18.020Z"
   },
   {
    "duration": 1509,
    "start_time": "2024-02-14T18:39:18.070Z"
   },
   {
    "duration": 3523,
    "start_time": "2024-02-14T18:39:19.581Z"
   },
   {
    "duration": 1460,
    "start_time": "2024-02-14T18:39:23.106Z"
   },
   {
    "duration": 5840,
    "start_time": "2024-02-14T18:39:24.569Z"
   },
   {
    "duration": 2485,
    "start_time": "2024-02-14T18:39:30.412Z"
   },
   {
    "duration": 3701,
    "start_time": "2024-02-14T18:39:32.899Z"
   },
   {
    "duration": 1917,
    "start_time": "2024-02-14T18:41:25.580Z"
   },
   {
    "duration": 2,
    "start_time": "2024-02-14T18:41:40.544Z"
   },
   {
    "duration": 1414,
    "start_time": "2024-02-14T18:44:57.061Z"
   },
   {
    "duration": 474,
    "start_time": "2024-02-14T18:46:27.728Z"
   },
   {
    "duration": 424,
    "start_time": "2024-02-14T18:46:37.881Z"
   },
   {
    "duration": 1221,
    "start_time": "2024-02-14T18:47:45.631Z"
   },
   {
    "duration": 485,
    "start_time": "2024-02-14T18:48:37.485Z"
   },
   {
    "duration": 1204,
    "start_time": "2024-02-14T18:49:02.839Z"
   },
   {
    "duration": 15235,
    "start_time": "2024-02-14T18:49:04.045Z"
   },
   {
    "duration": 8484,
    "start_time": "2024-02-14T18:49:19.282Z"
   },
   {
    "duration": 3949,
    "start_time": "2024-02-14T18:49:27.768Z"
   },
   {
    "duration": 414,
    "start_time": "2024-02-14T18:49:31.767Z"
   },
   {
    "duration": 3202,
    "start_time": "2024-02-14T18:49:32.183Z"
   },
   {
    "duration": 11,
    "start_time": "2024-02-14T18:49:35.387Z"
   },
   {
    "duration": 3128,
    "start_time": "2024-02-14T18:49:35.400Z"
   },
   {
    "duration": 9,
    "start_time": "2024-02-14T18:49:38.530Z"
   },
   {
    "duration": 1425,
    "start_time": "2024-02-14T18:49:38.541Z"
   },
   {
    "duration": 3834,
    "start_time": "2024-02-14T18:49:39.968Z"
   },
   {
    "duration": 1333,
    "start_time": "2024-02-14T18:49:43.803Z"
   },
   {
    "duration": 7844,
    "start_time": "2024-02-14T18:49:45.138Z"
   },
   {
    "duration": 2986,
    "start_time": "2024-02-14T18:49:52.985Z"
   },
   {
    "duration": 3425,
    "start_time": "2024-02-14T18:49:55.973Z"
   },
   {
    "duration": 3,
    "start_time": "2024-02-14T18:49:59.400Z"
   },
   {
    "duration": 1064,
    "start_time": "2024-02-14T18:49:59.404Z"
   },
   {
    "duration": 0,
    "start_time": "2024-02-14T18:50:00.470Z"
   },
   {
    "duration": 0,
    "start_time": "2024-02-14T18:50:00.472Z"
   },
   {
    "duration": 2006,
    "start_time": "2024-02-14T18:50:14.808Z"
   },
   {
    "duration": 1280,
    "start_time": "2024-02-14T18:50:19.246Z"
   },
   {
    "duration": 476,
    "start_time": "2024-02-14T18:50:58.223Z"
   },
   {
    "duration": 1563,
    "start_time": "2024-02-14T18:52:52.143Z"
   },
   {
    "duration": 1369,
    "start_time": "2024-02-14T18:54:56.125Z"
   },
   {
    "duration": 15605,
    "start_time": "2024-02-14T18:54:57.497Z"
   },
   {
    "duration": 9981,
    "start_time": "2024-02-14T18:55:13.104Z"
   },
   {
    "duration": 4616,
    "start_time": "2024-02-14T18:55:23.087Z"
   },
   {
    "duration": 483,
    "start_time": "2024-02-14T18:55:27.706Z"
   },
   {
    "duration": 4300,
    "start_time": "2024-02-14T18:55:28.191Z"
   },
   {
    "duration": 83,
    "start_time": "2024-02-14T18:55:32.493Z"
   },
   {
    "duration": 3718,
    "start_time": "2024-02-14T18:55:32.581Z"
   },
   {
    "duration": 73,
    "start_time": "2024-02-14T18:55:36.301Z"
   },
   {
    "duration": 1513,
    "start_time": "2024-02-14T18:55:36.376Z"
   },
   {
    "duration": 4597,
    "start_time": "2024-02-14T18:55:37.891Z"
   },
   {
    "duration": 1809,
    "start_time": "2024-02-14T18:55:42.490Z"
   },
   {
    "duration": 8564,
    "start_time": "2024-02-14T18:55:44.302Z"
   },
   {
    "duration": 2712,
    "start_time": "2024-02-14T18:55:52.868Z"
   },
   {
    "duration": 3287,
    "start_time": "2024-02-14T18:55:55.583Z"
   },
   {
    "duration": 1722,
    "start_time": "2024-02-14T18:55:58.872Z"
   },
   {
    "duration": 1250,
    "start_time": "2024-02-14T18:56:00.596Z"
   },
   {
    "duration": 852,
    "start_time": "2024-02-14T18:58:58.992Z"
   },
   {
    "duration": 1225,
    "start_time": "2024-02-14T18:59:12.840Z"
   },
   {
    "duration": 14843,
    "start_time": "2024-02-14T18:59:14.067Z"
   },
   {
    "duration": 9164,
    "start_time": "2024-02-14T18:59:28.913Z"
   },
   {
    "duration": 3705,
    "start_time": "2024-02-14T18:59:38.079Z"
   },
   {
    "duration": 401,
    "start_time": "2024-02-14T18:59:41.786Z"
   },
   {
    "duration": 3291,
    "start_time": "2024-02-14T18:59:42.189Z"
   },
   {
    "duration": 86,
    "start_time": "2024-02-14T18:59:45.482Z"
   },
   {
    "duration": 3796,
    "start_time": "2024-02-14T18:59:45.570Z"
   },
   {
    "duration": 9,
    "start_time": "2024-02-14T18:59:49.367Z"
   },
   {
    "duration": 1212,
    "start_time": "2024-02-14T18:59:49.379Z"
   },
   {
    "duration": 1965,
    "start_time": "2024-02-14T18:59:50.592Z"
   },
   {
    "duration": 0,
    "start_time": "2024-02-14T18:59:52.559Z"
   },
   {
    "duration": 0,
    "start_time": "2024-02-14T18:59:52.560Z"
   },
   {
    "duration": 0,
    "start_time": "2024-02-14T18:59:52.561Z"
   },
   {
    "duration": 0,
    "start_time": "2024-02-14T18:59:52.563Z"
   },
   {
    "duration": 0,
    "start_time": "2024-02-14T18:59:52.563Z"
   },
   {
    "duration": 0,
    "start_time": "2024-02-14T18:59:52.565Z"
   },
   {
    "duration": 3017,
    "start_time": "2024-02-14T19:00:37.276Z"
   },
   {
    "duration": 1253,
    "start_time": "2024-02-14T19:02:08.151Z"
   },
   {
    "duration": 15193,
    "start_time": "2024-02-14T19:02:09.406Z"
   },
   {
    "duration": 8665,
    "start_time": "2024-02-14T19:02:24.601Z"
   },
   {
    "duration": 4199,
    "start_time": "2024-02-14T19:02:33.269Z"
   },
   {
    "duration": 399,
    "start_time": "2024-02-14T19:02:37.470Z"
   },
   {
    "duration": 3223,
    "start_time": "2024-02-14T19:02:37.871Z"
   },
   {
    "duration": 69,
    "start_time": "2024-02-14T19:02:41.096Z"
   },
   {
    "duration": 3338,
    "start_time": "2024-02-14T19:02:41.167Z"
   },
   {
    "duration": 10,
    "start_time": "2024-02-14T19:02:44.566Z"
   },
   {
    "duration": 1495,
    "start_time": "2024-02-14T19:02:44.579Z"
   },
   {
    "duration": 3792,
    "start_time": "2024-02-14T19:02:46.076Z"
   },
   {
    "duration": 1512,
    "start_time": "2024-02-14T19:02:49.870Z"
   },
   {
    "duration": 6409,
    "start_time": "2024-02-14T19:02:51.384Z"
   },
   {
    "duration": 2673,
    "start_time": "2024-02-14T19:02:57.795Z"
   },
   {
    "duration": 3202,
    "start_time": "2024-02-14T19:03:00.470Z"
   },
   {
    "duration": 1925,
    "start_time": "2024-02-14T19:03:03.673Z"
   },
   {
    "duration": 1497,
    "start_time": "2024-02-14T19:03:05.600Z"
   },
   {
    "duration": 783,
    "start_time": "2024-02-14T19:06:16.094Z"
   },
   {
    "duration": 1275,
    "start_time": "2024-02-14T19:09:06.454Z"
   },
   {
    "duration": 556,
    "start_time": "2024-02-14T19:12:44.927Z"
   },
   {
    "duration": 84,
    "start_time": "2024-02-14T19:14:54.804Z"
   },
   {
    "duration": 1010,
    "start_time": "2024-02-14T19:15:16.960Z"
   },
   {
    "duration": 474,
    "start_time": "2024-02-14T19:15:57.889Z"
   },
   {
    "duration": 7,
    "start_time": "2024-02-14T19:16:37.691Z"
   },
   {
    "duration": 587,
    "start_time": "2024-02-14T19:16:59.136Z"
   },
   {
    "duration": 50,
    "start_time": "2024-02-15T12:08:30.370Z"
   },
   {
    "duration": 1664,
    "start_time": "2024-02-15T12:08:39.440Z"
   },
   {
    "duration": 15680,
    "start_time": "2024-02-15T12:08:41.106Z"
   },
   {
    "duration": 9603,
    "start_time": "2024-02-15T12:08:56.789Z"
   },
   {
    "duration": 4207,
    "start_time": "2024-02-15T12:09:06.394Z"
   },
   {
    "duration": 4328,
    "start_time": "2024-02-15T12:09:10.603Z"
   },
   {
    "duration": 216,
    "start_time": "2024-02-15T12:09:14.981Z"
   },
   {
    "duration": 0,
    "start_time": "2024-02-15T12:09:15.198Z"
   },
   {
    "duration": 0,
    "start_time": "2024-02-15T12:09:15.200Z"
   },
   {
    "duration": 0,
    "start_time": "2024-02-15T12:09:15.201Z"
   },
   {
    "duration": 0,
    "start_time": "2024-02-15T12:09:15.202Z"
   },
   {
    "duration": 0,
    "start_time": "2024-02-15T12:09:15.204Z"
   },
   {
    "duration": 0,
    "start_time": "2024-02-15T12:09:15.205Z"
   },
   {
    "duration": 0,
    "start_time": "2024-02-15T12:09:15.206Z"
   },
   {
    "duration": 0,
    "start_time": "2024-02-15T12:09:15.207Z"
   },
   {
    "duration": 0,
    "start_time": "2024-02-15T12:09:15.208Z"
   },
   {
    "duration": 0,
    "start_time": "2024-02-15T12:09:15.210Z"
   },
   {
    "duration": 0,
    "start_time": "2024-02-15T12:09:15.211Z"
   },
   {
    "duration": 0,
    "start_time": "2024-02-15T12:09:15.212Z"
   },
   {
    "duration": 19,
    "start_time": "2024-02-15T12:21:56.066Z"
   },
   {
    "duration": 402,
    "start_time": "2024-02-15T12:22:41.501Z"
   },
   {
    "duration": 380,
    "start_time": "2024-02-15T12:22:50.605Z"
   },
   {
    "duration": 140,
    "start_time": "2024-02-15T12:22:58.877Z"
   },
   {
    "duration": 174,
    "start_time": "2024-02-15T12:24:38.694Z"
   },
   {
    "duration": 10,
    "start_time": "2024-02-15T12:25:22.440Z"
   },
   {
    "duration": 221,
    "start_time": "2024-02-15T12:26:16.896Z"
   },
   {
    "duration": 28,
    "start_time": "2024-02-15T12:26:19.318Z"
   },
   {
    "duration": 33,
    "start_time": "2024-02-15T12:26:44.448Z"
   },
   {
    "duration": 20,
    "start_time": "2024-02-15T12:27:04.768Z"
   },
   {
    "duration": 3189,
    "start_time": "2024-02-15T12:27:09.895Z"
   },
   {
    "duration": 1906,
    "start_time": "2024-02-15T12:27:33.280Z"
   },
   {
    "duration": 73,
    "start_time": "2024-02-15T12:40:12.879Z"
   },
   {
    "duration": 9,
    "start_time": "2024-02-15T12:41:59.702Z"
   },
   {
    "duration": 2580,
    "start_time": "2024-02-15T12:42:19.518Z"
   },
   {
    "duration": 11,
    "start_time": "2024-02-15T12:42:31.590Z"
   },
   {
    "duration": 1348,
    "start_time": "2024-02-15T12:42:34.070Z"
   },
   {
    "duration": 27,
    "start_time": "2024-02-15T12:42:39.558Z"
   },
   {
    "duration": 13,
    "start_time": "2024-02-15T12:55:06.720Z"
   },
   {
    "duration": 12,
    "start_time": "2024-02-15T13:04:32.283Z"
   },
   {
    "duration": 10,
    "start_time": "2024-02-15T13:08:07.061Z"
   },
   {
    "duration": 10,
    "start_time": "2024-02-15T13:13:01.680Z"
   },
   {
    "duration": 2,
    "start_time": "2024-02-15T13:13:04.495Z"
   },
   {
    "duration": 7,
    "start_time": "2024-02-15T13:13:07.175Z"
   },
   {
    "duration": 9,
    "start_time": "2024-02-15T13:17:11.497Z"
   },
   {
    "duration": 9,
    "start_time": "2024-02-15T13:20:52.147Z"
   },
   {
    "duration": 5,
    "start_time": "2024-02-15T13:21:27.331Z"
   },
   {
    "duration": 6,
    "start_time": "2024-02-15T13:21:30.356Z"
   },
   {
    "duration": 731,
    "start_time": "2024-02-15T13:21:32.891Z"
   },
   {
    "duration": 1219,
    "start_time": "2024-02-15T13:21:40.672Z"
   },
   {
    "duration": 1555,
    "start_time": "2024-02-15T13:21:50.045Z"
   },
   {
    "duration": 15410,
    "start_time": "2024-02-15T13:21:51.602Z"
   },
   {
    "duration": 8979,
    "start_time": "2024-02-15T13:22:07.014Z"
   },
   {
    "duration": 4414,
    "start_time": "2024-02-15T13:22:15.995Z"
   },
   {
    "duration": 4417,
    "start_time": "2024-02-15T13:22:20.412Z"
   },
   {
    "duration": 390,
    "start_time": "2024-02-15T13:22:24.831Z"
   },
   {
    "duration": 90,
    "start_time": "2024-02-15T13:22:25.223Z"
   },
   {
    "duration": 3102,
    "start_time": "2024-02-15T13:22:25.315Z"
   },
   {
    "duration": 2097,
    "start_time": "2024-02-15T13:22:28.419Z"
   },
   {
    "duration": 2428,
    "start_time": "2024-02-15T13:22:30.518Z"
   },
   {
    "duration": 40,
    "start_time": "2024-02-15T13:22:32.948Z"
   },
   {
    "duration": 1400,
    "start_time": "2024-02-15T13:22:32.990Z"
   },
   {
    "duration": 26,
    "start_time": "2024-02-15T13:22:34.391Z"
   },
   {
    "duration": 12,
    "start_time": "2024-02-15T13:22:34.481Z"
   },
   {
    "duration": 17,
    "start_time": "2024-02-15T13:22:34.494Z"
   },
   {
    "duration": 73,
    "start_time": "2024-02-15T13:22:34.513Z"
   },
   {
    "duration": 3,
    "start_time": "2024-02-15T13:22:34.587Z"
   },
   {
    "duration": 12,
    "start_time": "2024-02-15T13:22:34.592Z"
   },
   {
    "duration": 3,
    "start_time": "2024-02-15T13:22:34.606Z"
   },
   {
    "duration": 283,
    "start_time": "2024-02-15T13:22:34.610Z"
   },
   {
    "duration": 0,
    "start_time": "2024-02-15T13:22:34.894Z"
   },
   {
    "duration": 0,
    "start_time": "2024-02-15T13:22:34.895Z"
   },
   {
    "duration": 0,
    "start_time": "2024-02-15T13:22:34.896Z"
   },
   {
    "duration": 9,
    "start_time": "2024-02-15T13:27:18.144Z"
   },
   {
    "duration": 10,
    "start_time": "2024-02-15T13:27:27.287Z"
   },
   {
    "duration": 9,
    "start_time": "2024-02-15T13:28:54.344Z"
   },
   {
    "duration": 3437,
    "start_time": "2024-02-15T13:31:33.265Z"
   },
   {
    "duration": 1266,
    "start_time": "2024-02-15T13:31:48.408Z"
   },
   {
    "duration": 15628,
    "start_time": "2024-02-15T13:31:49.676Z"
   },
   {
    "duration": 9180,
    "start_time": "2024-02-15T13:32:05.306Z"
   },
   {
    "duration": 4495,
    "start_time": "2024-02-15T13:32:14.488Z"
   },
   {
    "duration": 4422,
    "start_time": "2024-02-15T13:32:18.986Z"
   },
   {
    "duration": 494,
    "start_time": "2024-02-15T13:32:23.410Z"
   },
   {
    "duration": 89,
    "start_time": "2024-02-15T13:32:23.906Z"
   },
   {
    "duration": 3092,
    "start_time": "2024-02-15T13:32:23.997Z"
   },
   {
    "duration": 1998,
    "start_time": "2024-02-15T13:32:27.091Z"
   },
   {
    "duration": 11,
    "start_time": "2024-02-15T13:32:29.091Z"
   },
   {
    "duration": 1299,
    "start_time": "2024-02-15T13:32:29.103Z"
   },
   {
    "duration": 103,
    "start_time": "2024-02-15T13:32:30.404Z"
   },
   {
    "duration": 12,
    "start_time": "2024-02-15T13:32:30.508Z"
   },
   {
    "duration": 70,
    "start_time": "2024-02-15T13:32:30.523Z"
   },
   {
    "duration": 88,
    "start_time": "2024-02-15T13:32:30.595Z"
   },
   {
    "duration": 2,
    "start_time": "2024-02-15T13:32:30.685Z"
   },
   {
    "duration": 41,
    "start_time": "2024-02-15T13:32:30.688Z"
   },
   {
    "duration": 34,
    "start_time": "2024-02-15T13:32:30.731Z"
   },
   {
    "duration": 80,
    "start_time": "2024-02-15T13:32:30.767Z"
   },
   {
    "duration": 3486,
    "start_time": "2024-02-15T13:32:30.848Z"
   },
   {
    "duration": 0,
    "start_time": "2024-02-15T13:32:34.336Z"
   },
   {
    "duration": 1321,
    "start_time": "2024-02-15T13:33:09.976Z"
   },
   {
    "duration": 15412,
    "start_time": "2024-02-15T13:33:11.299Z"
   },
   {
    "duration": 9877,
    "start_time": "2024-02-15T13:33:26.713Z"
   },
   {
    "duration": 4616,
    "start_time": "2024-02-15T13:33:36.592Z"
   },
   {
    "duration": 4483,
    "start_time": "2024-02-15T13:33:41.210Z"
   },
   {
    "duration": 501,
    "start_time": "2024-02-15T13:33:45.695Z"
   },
   {
    "duration": 94,
    "start_time": "2024-02-15T13:33:46.198Z"
   },
   {
    "duration": 3206,
    "start_time": "2024-02-15T13:33:46.294Z"
   },
   {
    "duration": 1992,
    "start_time": "2024-02-15T13:33:49.502Z"
   },
   {
    "duration": 12,
    "start_time": "2024-02-15T13:33:51.495Z"
   },
   {
    "duration": 1322,
    "start_time": "2024-02-15T13:33:51.508Z"
   },
   {
    "duration": 27,
    "start_time": "2024-02-15T13:33:52.883Z"
   },
   {
    "duration": 76,
    "start_time": "2024-02-15T13:33:52.912Z"
   },
   {
    "duration": 12,
    "start_time": "2024-02-15T13:33:52.990Z"
   },
   {
    "duration": 9,
    "start_time": "2024-02-15T13:33:53.004Z"
   },
   {
    "duration": 3,
    "start_time": "2024-02-15T13:33:53.014Z"
   },
   {
    "duration": 18,
    "start_time": "2024-02-15T13:33:53.019Z"
   },
   {
    "duration": 10,
    "start_time": "2024-02-15T13:33:53.039Z"
   },
   {
    "duration": 66,
    "start_time": "2024-02-15T13:33:53.050Z"
   },
   {
    "duration": 3784,
    "start_time": "2024-02-15T13:33:53.118Z"
   },
   {
    "duration": 0,
    "start_time": "2024-02-15T13:33:56.904Z"
   },
   {
    "duration": 1267,
    "start_time": "2024-02-15T13:50:22.296Z"
   },
   {
    "duration": 15559,
    "start_time": "2024-02-15T13:50:23.565Z"
   },
   {
    "duration": 9468,
    "start_time": "2024-02-15T13:50:39.126Z"
   },
   {
    "duration": 4213,
    "start_time": "2024-02-15T13:50:48.595Z"
   },
   {
    "duration": 3951,
    "start_time": "2024-02-15T13:50:52.811Z"
   },
   {
    "duration": 531,
    "start_time": "2024-02-15T13:50:56.783Z"
   },
   {
    "duration": 93,
    "start_time": "2024-02-15T13:50:57.316Z"
   },
   {
    "duration": 3113,
    "start_time": "2024-02-15T13:50:57.411Z"
   },
   {
    "duration": 1992,
    "start_time": "2024-02-15T13:51:00.526Z"
   },
   {
    "duration": 13,
    "start_time": "2024-02-15T13:51:02.521Z"
   },
   {
    "duration": 1521,
    "start_time": "2024-02-15T13:51:02.582Z"
   },
   {
    "duration": 94,
    "start_time": "2024-02-15T13:51:04.105Z"
   },
   {
    "duration": 12,
    "start_time": "2024-02-15T13:51:04.201Z"
   },
   {
    "duration": 10,
    "start_time": "2024-02-15T13:51:04.216Z"
   },
   {
    "duration": 10,
    "start_time": "2024-02-15T13:51:04.283Z"
   },
   {
    "duration": 7,
    "start_time": "2024-02-15T13:51:04.295Z"
   },
   {
    "duration": 4,
    "start_time": "2024-02-15T13:51:04.304Z"
   },
   {
    "duration": 108,
    "start_time": "2024-02-15T13:51:04.309Z"
   },
   {
    "duration": 7176,
    "start_time": "2024-02-15T13:51:04.419Z"
   },
   {
    "duration": 7,
    "start_time": "2024-02-15T13:51:11.597Z"
   },
   {
    "duration": 2486,
    "start_time": "2024-02-15T13:54:02.304Z"
   },
   {
    "duration": 1411,
    "start_time": "2024-02-15T13:55:15.145Z"
   },
   {
    "duration": 821,
    "start_time": "2024-02-15T13:55:33.265Z"
   },
   {
    "duration": 1461,
    "start_time": "2024-02-15T13:56:57.962Z"
   },
   {
    "duration": 1258,
    "start_time": "2024-02-15T13:57:10.449Z"
   }
  ],
  "colab": {
   "name": "PySparkSprint.ipynb",
   "provenance": []
  },
  "kernelspec": {
   "display_name": "Python 3 (ipykernel)",
   "language": "python",
   "name": "python3"
  },
  "language_info": {
   "codemirror_mode": {
    "name": "ipython",
    "version": 3
   },
   "file_extension": ".py",
   "mimetype": "text/x-python",
   "name": "python",
   "nbconvert_exporter": "python",
   "pygments_lexer": "ipython3",
   "version": "3.11.5"
  },
  "toc": {
   "base_numbering": 1,
   "nav_menu": {},
   "number_sections": true,
   "sideBar": true,
   "skip_h1_title": true,
   "title_cell": "Table of Contents",
   "title_sidebar": "Contents",
   "toc_cell": false,
   "toc_position": {},
   "toc_section_display": true,
   "toc_window_display": false
  }
 },
 "nbformat": 4,
 "nbformat_minor": 5
}
