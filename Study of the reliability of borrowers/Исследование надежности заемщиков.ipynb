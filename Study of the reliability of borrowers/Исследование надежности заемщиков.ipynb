{
 "cells": [
  {
   "cell_type": "markdown",
   "id": "3072ac0d",
   "metadata": {
    "deletable": false,
    "editable": false,
    "id": "c81daeeb"
   },
   "source": [
    "# Исследование надежности заемщиков\n"
   ]
  },
  {
   "cell_type": "markdown",
   "id": "c034d95b",
   "metadata": {
    "deletable": false,
    "editable": false,
    "id": "744d7639",
    "tags": []
   },
   "source": [
    "## Откройте таблицу и изучите общую информацию о данных"
   ]
  },
  {
   "cell_type": "markdown",
   "id": "f3de22a5",
   "metadata": {
    "deletable": false,
    "editable": false,
    "id": "e7a14c31"
   },
   "source": [
    "**Задание 1. Импортируйте библиотеку pandas. Считайте данные из csv-файла в датафрейм и сохраните в переменную `data`. Путь к файлу:**\n",
    "\n",
    "`/datasets/data.csv`"
   ]
  },
  {
   "cell_type": "code",
   "execution_count": 1,
   "id": "c1b30829",
   "metadata": {
    "deletable": false,
    "id": "7bcf75c9"
   },
   "outputs": [],
   "source": [
    "import pandas as pd\n",
    "\n",
    "try:\n",
    "    data = pd.read_csv('/datasets/data.csv')\n",
    "except:\n",
    "    data = pd.read_csv('https://code.s3.yandex.net/datasets/data.csv')"
   ]
  },
  {
   "cell_type": "markdown",
   "id": "a0565655",
   "metadata": {
    "deletable": false,
    "editable": false,
    "id": "b8038fe3"
   },
   "source": [
    "**Задание 2. Выведите первые 20 строчек датафрейма `data` на экран.**"
   ]
  },
  {
   "cell_type": "code",
   "execution_count": 2,
   "id": "098ccbb9",
   "metadata": {
    "deletable": false,
    "id": "2a7cab99",
    "outputId": "1a8f3ef2-d323-4ec2-ddf7-89670b5944c4"
   },
   "outputs": [
    {
     "data": {
      "text/html": [
       "<div>\n",
       "<style scoped>\n",
       "    .dataframe tbody tr th:only-of-type {\n",
       "        vertical-align: middle;\n",
       "    }\n",
       "\n",
       "    .dataframe tbody tr th {\n",
       "        vertical-align: top;\n",
       "    }\n",
       "\n",
       "    .dataframe thead th {\n",
       "        text-align: right;\n",
       "    }\n",
       "</style>\n",
       "<table border=\"1\" class=\"dataframe\">\n",
       "  <thead>\n",
       "    <tr style=\"text-align: right;\">\n",
       "      <th></th>\n",
       "      <th>children</th>\n",
       "      <th>days_employed</th>\n",
       "      <th>dob_years</th>\n",
       "      <th>education</th>\n",
       "      <th>education_id</th>\n",
       "      <th>family_status</th>\n",
       "      <th>family_status_id</th>\n",
       "      <th>gender</th>\n",
       "      <th>income_type</th>\n",
       "      <th>debt</th>\n",
       "      <th>total_income</th>\n",
       "      <th>purpose</th>\n",
       "    </tr>\n",
       "  </thead>\n",
       "  <tbody>\n",
       "    <tr>\n",
       "      <th>0</th>\n",
       "      <td>1</td>\n",
       "      <td>-8437.673028</td>\n",
       "      <td>42</td>\n",
       "      <td>высшее</td>\n",
       "      <td>0</td>\n",
       "      <td>женат / замужем</td>\n",
       "      <td>0</td>\n",
       "      <td>F</td>\n",
       "      <td>сотрудник</td>\n",
       "      <td>0</td>\n",
       "      <td>253875.639453</td>\n",
       "      <td>покупка жилья</td>\n",
       "    </tr>\n",
       "    <tr>\n",
       "      <th>1</th>\n",
       "      <td>1</td>\n",
       "      <td>-4024.803754</td>\n",
       "      <td>36</td>\n",
       "      <td>среднее</td>\n",
       "      <td>1</td>\n",
       "      <td>женат / замужем</td>\n",
       "      <td>0</td>\n",
       "      <td>F</td>\n",
       "      <td>сотрудник</td>\n",
       "      <td>0</td>\n",
       "      <td>112080.014102</td>\n",
       "      <td>приобретение автомобиля</td>\n",
       "    </tr>\n",
       "    <tr>\n",
       "      <th>2</th>\n",
       "      <td>0</td>\n",
       "      <td>-5623.422610</td>\n",
       "      <td>33</td>\n",
       "      <td>Среднее</td>\n",
       "      <td>1</td>\n",
       "      <td>женат / замужем</td>\n",
       "      <td>0</td>\n",
       "      <td>M</td>\n",
       "      <td>сотрудник</td>\n",
       "      <td>0</td>\n",
       "      <td>145885.952297</td>\n",
       "      <td>покупка жилья</td>\n",
       "    </tr>\n",
       "    <tr>\n",
       "      <th>3</th>\n",
       "      <td>3</td>\n",
       "      <td>-4124.747207</td>\n",
       "      <td>32</td>\n",
       "      <td>среднее</td>\n",
       "      <td>1</td>\n",
       "      <td>женат / замужем</td>\n",
       "      <td>0</td>\n",
       "      <td>M</td>\n",
       "      <td>сотрудник</td>\n",
       "      <td>0</td>\n",
       "      <td>267628.550329</td>\n",
       "      <td>дополнительное образование</td>\n",
       "    </tr>\n",
       "    <tr>\n",
       "      <th>4</th>\n",
       "      <td>0</td>\n",
       "      <td>340266.072047</td>\n",
       "      <td>53</td>\n",
       "      <td>среднее</td>\n",
       "      <td>1</td>\n",
       "      <td>гражданский брак</td>\n",
       "      <td>1</td>\n",
       "      <td>F</td>\n",
       "      <td>пенсионер</td>\n",
       "      <td>0</td>\n",
       "      <td>158616.077870</td>\n",
       "      <td>сыграть свадьбу</td>\n",
       "    </tr>\n",
       "    <tr>\n",
       "      <th>5</th>\n",
       "      <td>0</td>\n",
       "      <td>-926.185831</td>\n",
       "      <td>27</td>\n",
       "      <td>высшее</td>\n",
       "      <td>0</td>\n",
       "      <td>гражданский брак</td>\n",
       "      <td>1</td>\n",
       "      <td>M</td>\n",
       "      <td>компаньон</td>\n",
       "      <td>0</td>\n",
       "      <td>255763.565419</td>\n",
       "      <td>покупка жилья</td>\n",
       "    </tr>\n",
       "    <tr>\n",
       "      <th>6</th>\n",
       "      <td>0</td>\n",
       "      <td>-2879.202052</td>\n",
       "      <td>43</td>\n",
       "      <td>высшее</td>\n",
       "      <td>0</td>\n",
       "      <td>женат / замужем</td>\n",
       "      <td>0</td>\n",
       "      <td>F</td>\n",
       "      <td>компаньон</td>\n",
       "      <td>0</td>\n",
       "      <td>240525.971920</td>\n",
       "      <td>операции с жильем</td>\n",
       "    </tr>\n",
       "    <tr>\n",
       "      <th>7</th>\n",
       "      <td>0</td>\n",
       "      <td>-152.779569</td>\n",
       "      <td>50</td>\n",
       "      <td>СРЕДНЕЕ</td>\n",
       "      <td>1</td>\n",
       "      <td>женат / замужем</td>\n",
       "      <td>0</td>\n",
       "      <td>M</td>\n",
       "      <td>сотрудник</td>\n",
       "      <td>0</td>\n",
       "      <td>135823.934197</td>\n",
       "      <td>образование</td>\n",
       "    </tr>\n",
       "    <tr>\n",
       "      <th>8</th>\n",
       "      <td>2</td>\n",
       "      <td>-6929.865299</td>\n",
       "      <td>35</td>\n",
       "      <td>ВЫСШЕЕ</td>\n",
       "      <td>0</td>\n",
       "      <td>гражданский брак</td>\n",
       "      <td>1</td>\n",
       "      <td>F</td>\n",
       "      <td>сотрудник</td>\n",
       "      <td>0</td>\n",
       "      <td>95856.832424</td>\n",
       "      <td>на проведение свадьбы</td>\n",
       "    </tr>\n",
       "    <tr>\n",
       "      <th>9</th>\n",
       "      <td>0</td>\n",
       "      <td>-2188.756445</td>\n",
       "      <td>41</td>\n",
       "      <td>среднее</td>\n",
       "      <td>1</td>\n",
       "      <td>женат / замужем</td>\n",
       "      <td>0</td>\n",
       "      <td>M</td>\n",
       "      <td>сотрудник</td>\n",
       "      <td>0</td>\n",
       "      <td>144425.938277</td>\n",
       "      <td>покупка жилья для семьи</td>\n",
       "    </tr>\n",
       "    <tr>\n",
       "      <th>10</th>\n",
       "      <td>2</td>\n",
       "      <td>-4171.483647</td>\n",
       "      <td>36</td>\n",
       "      <td>высшее</td>\n",
       "      <td>0</td>\n",
       "      <td>женат / замужем</td>\n",
       "      <td>0</td>\n",
       "      <td>M</td>\n",
       "      <td>компаньон</td>\n",
       "      <td>0</td>\n",
       "      <td>113943.491460</td>\n",
       "      <td>покупка недвижимости</td>\n",
       "    </tr>\n",
       "    <tr>\n",
       "      <th>11</th>\n",
       "      <td>0</td>\n",
       "      <td>-792.701887</td>\n",
       "      <td>40</td>\n",
       "      <td>среднее</td>\n",
       "      <td>1</td>\n",
       "      <td>женат / замужем</td>\n",
       "      <td>0</td>\n",
       "      <td>F</td>\n",
       "      <td>сотрудник</td>\n",
       "      <td>0</td>\n",
       "      <td>77069.234271</td>\n",
       "      <td>покупка коммерческой недвижимости</td>\n",
       "    </tr>\n",
       "    <tr>\n",
       "      <th>12</th>\n",
       "      <td>0</td>\n",
       "      <td>NaN</td>\n",
       "      <td>65</td>\n",
       "      <td>среднее</td>\n",
       "      <td>1</td>\n",
       "      <td>гражданский брак</td>\n",
       "      <td>1</td>\n",
       "      <td>M</td>\n",
       "      <td>пенсионер</td>\n",
       "      <td>0</td>\n",
       "      <td>NaN</td>\n",
       "      <td>сыграть свадьбу</td>\n",
       "    </tr>\n",
       "    <tr>\n",
       "      <th>13</th>\n",
       "      <td>0</td>\n",
       "      <td>-1846.641941</td>\n",
       "      <td>54</td>\n",
       "      <td>неоконченное высшее</td>\n",
       "      <td>2</td>\n",
       "      <td>женат / замужем</td>\n",
       "      <td>0</td>\n",
       "      <td>F</td>\n",
       "      <td>сотрудник</td>\n",
       "      <td>0</td>\n",
       "      <td>130458.228857</td>\n",
       "      <td>приобретение автомобиля</td>\n",
       "    </tr>\n",
       "    <tr>\n",
       "      <th>14</th>\n",
       "      <td>0</td>\n",
       "      <td>-1844.956182</td>\n",
       "      <td>56</td>\n",
       "      <td>высшее</td>\n",
       "      <td>0</td>\n",
       "      <td>гражданский брак</td>\n",
       "      <td>1</td>\n",
       "      <td>F</td>\n",
       "      <td>компаньон</td>\n",
       "      <td>1</td>\n",
       "      <td>165127.911772</td>\n",
       "      <td>покупка жилой недвижимости</td>\n",
       "    </tr>\n",
       "    <tr>\n",
       "      <th>15</th>\n",
       "      <td>1</td>\n",
       "      <td>-972.364419</td>\n",
       "      <td>26</td>\n",
       "      <td>среднее</td>\n",
       "      <td>1</td>\n",
       "      <td>женат / замужем</td>\n",
       "      <td>0</td>\n",
       "      <td>F</td>\n",
       "      <td>сотрудник</td>\n",
       "      <td>0</td>\n",
       "      <td>116820.904450</td>\n",
       "      <td>строительство собственной недвижимости</td>\n",
       "    </tr>\n",
       "    <tr>\n",
       "      <th>16</th>\n",
       "      <td>0</td>\n",
       "      <td>-1719.934226</td>\n",
       "      <td>35</td>\n",
       "      <td>среднее</td>\n",
       "      <td>1</td>\n",
       "      <td>женат / замужем</td>\n",
       "      <td>0</td>\n",
       "      <td>F</td>\n",
       "      <td>сотрудник</td>\n",
       "      <td>0</td>\n",
       "      <td>289202.704229</td>\n",
       "      <td>недвижимость</td>\n",
       "    </tr>\n",
       "    <tr>\n",
       "      <th>17</th>\n",
       "      <td>0</td>\n",
       "      <td>-2369.999720</td>\n",
       "      <td>33</td>\n",
       "      <td>высшее</td>\n",
       "      <td>0</td>\n",
       "      <td>гражданский брак</td>\n",
       "      <td>1</td>\n",
       "      <td>M</td>\n",
       "      <td>сотрудник</td>\n",
       "      <td>0</td>\n",
       "      <td>90410.586745</td>\n",
       "      <td>строительство недвижимости</td>\n",
       "    </tr>\n",
       "    <tr>\n",
       "      <th>18</th>\n",
       "      <td>0</td>\n",
       "      <td>400281.136913</td>\n",
       "      <td>53</td>\n",
       "      <td>среднее</td>\n",
       "      <td>1</td>\n",
       "      <td>вдовец / вдова</td>\n",
       "      <td>2</td>\n",
       "      <td>F</td>\n",
       "      <td>пенсионер</td>\n",
       "      <td>0</td>\n",
       "      <td>56823.777243</td>\n",
       "      <td>на покупку подержанного автомобиля</td>\n",
       "    </tr>\n",
       "    <tr>\n",
       "      <th>19</th>\n",
       "      <td>0</td>\n",
       "      <td>-10038.818549</td>\n",
       "      <td>48</td>\n",
       "      <td>СРЕДНЕЕ</td>\n",
       "      <td>1</td>\n",
       "      <td>в разводе</td>\n",
       "      <td>3</td>\n",
       "      <td>F</td>\n",
       "      <td>сотрудник</td>\n",
       "      <td>0</td>\n",
       "      <td>242831.107982</td>\n",
       "      <td>на покупку своего автомобиля</td>\n",
       "    </tr>\n",
       "  </tbody>\n",
       "</table>\n",
       "</div>"
      ],
      "text/plain": [
       "    children  days_employed  dob_years            education  education_id  \\\n",
       "0          1   -8437.673028         42               высшее             0   \n",
       "1          1   -4024.803754         36              среднее             1   \n",
       "2          0   -5623.422610         33              Среднее             1   \n",
       "3          3   -4124.747207         32              среднее             1   \n",
       "4          0  340266.072047         53              среднее             1   \n",
       "5          0    -926.185831         27               высшее             0   \n",
       "6          0   -2879.202052         43               высшее             0   \n",
       "7          0    -152.779569         50              СРЕДНЕЕ             1   \n",
       "8          2   -6929.865299         35               ВЫСШЕЕ             0   \n",
       "9          0   -2188.756445         41              среднее             1   \n",
       "10         2   -4171.483647         36               высшее             0   \n",
       "11         0    -792.701887         40              среднее             1   \n",
       "12         0            NaN         65              среднее             1   \n",
       "13         0   -1846.641941         54  неоконченное высшее             2   \n",
       "14         0   -1844.956182         56               высшее             0   \n",
       "15         1    -972.364419         26              среднее             1   \n",
       "16         0   -1719.934226         35              среднее             1   \n",
       "17         0   -2369.999720         33               высшее             0   \n",
       "18         0  400281.136913         53              среднее             1   \n",
       "19         0  -10038.818549         48              СРЕДНЕЕ             1   \n",
       "\n",
       "       family_status  family_status_id gender income_type  debt  \\\n",
       "0    женат / замужем                 0      F   сотрудник     0   \n",
       "1    женат / замужем                 0      F   сотрудник     0   \n",
       "2    женат / замужем                 0      M   сотрудник     0   \n",
       "3    женат / замужем                 0      M   сотрудник     0   \n",
       "4   гражданский брак                 1      F   пенсионер     0   \n",
       "5   гражданский брак                 1      M   компаньон     0   \n",
       "6    женат / замужем                 0      F   компаньон     0   \n",
       "7    женат / замужем                 0      M   сотрудник     0   \n",
       "8   гражданский брак                 1      F   сотрудник     0   \n",
       "9    женат / замужем                 0      M   сотрудник     0   \n",
       "10   женат / замужем                 0      M   компаньон     0   \n",
       "11   женат / замужем                 0      F   сотрудник     0   \n",
       "12  гражданский брак                 1      M   пенсионер     0   \n",
       "13   женат / замужем                 0      F   сотрудник     0   \n",
       "14  гражданский брак                 1      F   компаньон     1   \n",
       "15   женат / замужем                 0      F   сотрудник     0   \n",
       "16   женат / замужем                 0      F   сотрудник     0   \n",
       "17  гражданский брак                 1      M   сотрудник     0   \n",
       "18    вдовец / вдова                 2      F   пенсионер     0   \n",
       "19         в разводе                 3      F   сотрудник     0   \n",
       "\n",
       "     total_income                                 purpose  \n",
       "0   253875.639453                           покупка жилья  \n",
       "1   112080.014102                 приобретение автомобиля  \n",
       "2   145885.952297                           покупка жилья  \n",
       "3   267628.550329              дополнительное образование  \n",
       "4   158616.077870                         сыграть свадьбу  \n",
       "5   255763.565419                           покупка жилья  \n",
       "6   240525.971920                       операции с жильем  \n",
       "7   135823.934197                             образование  \n",
       "8    95856.832424                   на проведение свадьбы  \n",
       "9   144425.938277                 покупка жилья для семьи  \n",
       "10  113943.491460                    покупка недвижимости  \n",
       "11   77069.234271       покупка коммерческой недвижимости  \n",
       "12            NaN                         сыграть свадьбу  \n",
       "13  130458.228857                 приобретение автомобиля  \n",
       "14  165127.911772              покупка жилой недвижимости  \n",
       "15  116820.904450  строительство собственной недвижимости  \n",
       "16  289202.704229                            недвижимость  \n",
       "17   90410.586745              строительство недвижимости  \n",
       "18   56823.777243      на покупку подержанного автомобиля  \n",
       "19  242831.107982            на покупку своего автомобиля  "
      ]
     },
     "execution_count": 2,
     "metadata": {},
     "output_type": "execute_result"
    }
   ],
   "source": [
    "data.head(20)"
   ]
  },
  {
   "cell_type": "markdown",
   "id": "091ecf35",
   "metadata": {
    "deletable": false,
    "editable": false,
    "id": "1c12e233"
   },
   "source": [
    "**Задание 3. Выведите основную информацию о датафрейме с помощью метода `info()`.**"
   ]
  },
  {
   "cell_type": "code",
   "execution_count": 3,
   "id": "f16681fd",
   "metadata": {
    "deletable": false,
    "id": "2b757bca",
    "outputId": "15376089-8dad-46c9-b520-c05248d43158"
   },
   "outputs": [
    {
     "name": "stdout",
     "output_type": "stream",
     "text": [
      "<class 'pandas.core.frame.DataFrame'>\n",
      "RangeIndex: 21525 entries, 0 to 21524\n",
      "Data columns (total 12 columns):\n",
      " #   Column            Non-Null Count  Dtype  \n",
      "---  ------            --------------  -----  \n",
      " 0   children          21525 non-null  int64  \n",
      " 1   days_employed     19351 non-null  float64\n",
      " 2   dob_years         21525 non-null  int64  \n",
      " 3   education         21525 non-null  object \n",
      " 4   education_id      21525 non-null  int64  \n",
      " 5   family_status     21525 non-null  object \n",
      " 6   family_status_id  21525 non-null  int64  \n",
      " 7   gender            21525 non-null  object \n",
      " 8   income_type       21525 non-null  object \n",
      " 9   debt              21525 non-null  int64  \n",
      " 10  total_income      19351 non-null  float64\n",
      " 11  purpose           21525 non-null  object \n",
      "dtypes: float64(2), int64(5), object(5)\n",
      "memory usage: 2.0+ MB\n"
     ]
    }
   ],
   "source": [
    "data.info()"
   ]
  },
  {
   "cell_type": "markdown",
   "id": "9bf38251",
   "metadata": {
    "deletable": false,
    "editable": false,
    "id": "333ec665"
   },
   "source": [
    "## Предобработка данных"
   ]
  },
  {
   "cell_type": "markdown",
   "id": "76dda578",
   "metadata": {
    "deletable": false,
    "editable": false,
    "id": "02d92d53"
   },
   "source": [
    "### Удаление пропусков"
   ]
  },
  {
   "cell_type": "markdown",
   "id": "9e64791b",
   "metadata": {
    "deletable": false,
    "editable": false,
    "id": "cd84967c"
   },
   "source": [
    "**Задание 4. Выведите количество пропущенных значений для каждого столбца. Используйте комбинацию двух методов.**"
   ]
  },
  {
   "cell_type": "code",
   "execution_count": 4,
   "id": "94442fb5",
   "metadata": {
    "deletable": false,
    "id": "7f9b2309",
    "outputId": "81f4d817-781c-465c-ed15-91ce4446810d"
   },
   "outputs": [
    {
     "data": {
      "text/plain": [
       "children               0\n",
       "days_employed       2174\n",
       "dob_years              0\n",
       "education              0\n",
       "education_id           0\n",
       "family_status          0\n",
       "family_status_id       0\n",
       "gender                 0\n",
       "income_type            0\n",
       "debt                   0\n",
       "total_income        2174\n",
       "purpose                0\n",
       "dtype: int64"
      ]
     },
     "execution_count": 4,
     "metadata": {},
     "output_type": "execute_result"
    }
   ],
   "source": [
    "data.isna().sum()"
   ]
  },
  {
   "cell_type": "markdown",
   "id": "7500c000",
   "metadata": {
    "deletable": false,
    "editable": false,
    "id": "db86e27b"
   },
   "source": [
    "**Задание 5. В двух столбцах есть пропущенные значения. Один из них — `days_employed`. Пропуски в этом столбце вы обработаете на следующем этапе. Другой столбец с пропущенными значениями — `total_income` — хранит данные о доходах. На сумму дохода сильнее всего влияет тип занятости, поэтому заполнить пропуски в этом столбце нужно медианным значением по каждому типу из столбца `income_type`. Например, у человека с типом занятости `сотрудник` пропуск в столбце `total_income` должен быть заполнен медианным доходом среди всех записей с тем же типом.**"
   ]
  },
  {
   "cell_type": "code",
   "execution_count": 5,
   "id": "9fe52c8b",
   "metadata": {
    "deletable": false,
    "id": "42006a93"
   },
   "outputs": [],
   "source": [
    "for t in data['income_type'].unique():\n",
    "    data.loc[(data['income_type'] == t) & (data['total_income'].isna()), 'total_income'] = \\\n",
    "    data.loc[(data['income_type'] == t), 'total_income'].median()"
   ]
  },
  {
   "cell_type": "markdown",
   "id": "752fc2ca",
   "metadata": {
    "deletable": false,
    "editable": false,
    "id": "89da5ece"
   },
   "source": [
    "### Обработка аномальных значений"
   ]
  },
  {
   "cell_type": "markdown",
   "id": "c7cf93f7",
   "metadata": {
    "deletable": false,
    "editable": false,
    "id": "57964554"
   },
   "source": [
    "**Задание 6. В данных могут встречаться артефакты (аномалии) — значения, которые не отражают действительность и появились по какой-то ошибке. таким артефактом будет отрицательное количество дней трудового стажа в столбце `days_employed`. Для реальных данных это нормально. Обработайте значения в этом столбце: замените все отрицательные значения положительными с помощью метода `abs()`.**"
   ]
  },
  {
   "cell_type": "code",
   "execution_count": 6,
   "id": "d4bdac2e",
   "metadata": {
    "deletable": false,
    "id": "f6f055bf"
   },
   "outputs": [],
   "source": [
    "data['days_employed'] = data['days_employed'].abs()"
   ]
  },
  {
   "cell_type": "markdown",
   "id": "503bd913",
   "metadata": {
    "deletable": false,
    "editable": false,
    "id": "6107dd2f"
   },
   "source": [
    "**Задание 7. Для каждого типа занятости выведите медианное значение трудового стажа `days_employed` в днях.**"
   ]
  },
  {
   "cell_type": "code",
   "execution_count": 7,
   "id": "8396fb50",
   "metadata": {
    "deletable": false,
    "id": "85a5faf6",
    "outputId": "801ef80e-522b-4668-f34e-565af7432bcf"
   },
   "outputs": [
    {
     "data": {
      "text/plain": [
       "income_type\n",
       "безработный        366413.652744\n",
       "в декрете            3296.759962\n",
       "госслужащий          2689.368353\n",
       "компаньон            1547.382223\n",
       "пенсионер          365213.306266\n",
       "предприниматель       520.848083\n",
       "сотрудник            1574.202821\n",
       "студент               578.751554\n",
       "Name: days_employed, dtype: float64"
      ]
     },
     "execution_count": 7,
     "metadata": {},
     "output_type": "execute_result"
    }
   ],
   "source": [
    "data.groupby('income_type')['days_employed'].agg('median')"
   ]
  },
  {
   "cell_type": "markdown",
   "id": "c13b8a80",
   "metadata": {
    "deletable": false,
    "editable": false,
    "id": "38d1a030"
   },
   "source": [
    "У двух типов (безработные и пенсионеры) получатся аномально большие значения. Исправить такие значения сложно, поэтому оставьте их как есть. Тем более этот столбец не понадобится вам для исследования."
   ]
  },
  {
   "cell_type": "markdown",
   "id": "9b5ef978",
   "metadata": {
    "deletable": false,
    "editable": false,
    "id": "d8a9f147"
   },
   "source": [
    "**Задание 8. Выведите перечень уникальных значений столбца `children`.**"
   ]
  },
  {
   "cell_type": "code",
   "execution_count": 8,
   "id": "676fec39",
   "metadata": {
    "deletable": false,
    "id": "ef5056eb",
    "outputId": "6975b15c-7f95-4697-d16d-a0c79b657b03"
   },
   "outputs": [
    {
     "data": {
      "text/plain": [
       "array([ 1,  0,  3,  2, -1,  4, 20,  5], dtype=int64)"
      ]
     },
     "execution_count": 8,
     "metadata": {},
     "output_type": "execute_result"
    }
   ],
   "source": [
    "data['children'].unique()"
   ]
  },
  {
   "cell_type": "markdown",
   "id": "f1ca9566",
   "metadata": {
    "deletable": false,
    "editable": false,
    "id": "40b9ebf2"
   },
   "source": [
    "**Задание 9. В столбце `children` есть два аномальных значения. Удалите строки, в которых встречаются такие аномальные значения из датафрейма `data`.**"
   ]
  },
  {
   "cell_type": "code",
   "execution_count": 9,
   "id": "8e30dfda",
   "metadata": {
    "deletable": false,
    "id": "3ff9801d"
   },
   "outputs": [],
   "source": [
    "data = data[(data['children'] != -1) & (data['children'] != 20)]"
   ]
  },
  {
   "cell_type": "markdown",
   "id": "d20143fb",
   "metadata": {
    "deletable": false,
    "editable": false,
    "id": "bbc4d0ce"
   },
   "source": [
    "**Задание 10. Ещё раз выведите перечень уникальных значений столбца `children`, чтобы убедиться, что артефакты удалены.**"
   ]
  },
  {
   "cell_type": "code",
   "execution_count": 10,
   "id": "3b1da16d",
   "metadata": {
    "deletable": false,
    "id": "ad4fa8b7",
    "outputId": "b2097101-d49d-44d9-901b-32a65c9463d1"
   },
   "outputs": [
    {
     "data": {
      "text/plain": [
       "array([1, 0, 3, 2, 4, 5], dtype=int64)"
      ]
     },
     "execution_count": 10,
     "metadata": {},
     "output_type": "execute_result"
    }
   ],
   "source": [
    "data['children'].unique()"
   ]
  },
  {
   "cell_type": "markdown",
   "id": "5184ee91",
   "metadata": {
    "deletable": false,
    "editable": false,
    "id": "75440b63"
   },
   "source": [
    "### Удаление пропусков (продолжение)"
   ]
  },
  {
   "cell_type": "markdown",
   "id": "3b4931ce",
   "metadata": {
    "deletable": false,
    "editable": false,
    "id": "f4ea573f"
   },
   "source": [
    "**Задание 11. Заполните пропуски в столбце `days_employed` медианными значениями по каждого типа занятости `income_type`.**"
   ]
  },
  {
   "cell_type": "code",
   "execution_count": 11,
   "id": "3879ea9f",
   "metadata": {
    "deletable": false,
    "id": "af6b1a7e"
   },
   "outputs": [],
   "source": [
    "for t in data['income_type'].unique():\n",
    "    data.loc[(data['income_type'] == t) & (data['days_employed'].isna()), 'days_employed'] = \\\n",
    "    data.loc[(data['income_type'] == t), 'days_employed'].median()"
   ]
  },
  {
   "cell_type": "markdown",
   "id": "f4a4f9e6",
   "metadata": {
    "deletable": false,
    "editable": false,
    "id": "2753f40d"
   },
   "source": [
    "**Задание 12. Убедитесь, что все пропуски заполнены. Проверьте себя и ещё раз выведите количество пропущенных значений для каждого столбца с помощью двух методов.**"
   ]
  },
  {
   "cell_type": "code",
   "execution_count": 12,
   "id": "1cea0abe",
   "metadata": {
    "deletable": false,
    "id": "55f78bc2",
    "outputId": "8da1e4e1-358e-4e87-98c9-f261bce0a7b2"
   },
   "outputs": [
    {
     "data": {
      "text/plain": [
       "children            0\n",
       "days_employed       0\n",
       "dob_years           0\n",
       "education           0\n",
       "education_id        0\n",
       "family_status       0\n",
       "family_status_id    0\n",
       "gender              0\n",
       "income_type         0\n",
       "debt                0\n",
       "total_income        0\n",
       "purpose             0\n",
       "dtype: int64"
      ]
     },
     "execution_count": 12,
     "metadata": {},
     "output_type": "execute_result"
    }
   ],
   "source": [
    "data.isna().sum()"
   ]
  },
  {
   "cell_type": "markdown",
   "id": "6ef1dde6",
   "metadata": {
    "deletable": false,
    "editable": false,
    "id": "ddc81e43"
   },
   "source": [
    "### Изменение типов данных"
   ]
  },
  {
   "cell_type": "markdown",
   "id": "65117816",
   "metadata": {
    "deletable": false,
    "editable": false,
    "id": "42d19d24"
   },
   "source": [
    "**Задание 13. Замените вещественный тип данных в столбце `total_income` на целочисленный с помощью метода `astype()`.**"
   ]
  },
  {
   "cell_type": "code",
   "execution_count": 13,
   "id": "ff09bc94",
   "metadata": {
    "deletable": false,
    "id": "920b65ad"
   },
   "outputs": [],
   "source": [
    "data['total_income'] = data['total_income'].astype(int)"
   ]
  },
  {
   "cell_type": "markdown",
   "id": "bbff2115",
   "metadata": {
    "deletable": false,
    "editable": false,
    "id": "80c420ba"
   },
   "source": [
    "### Обработка дубликатов"
   ]
  },
  {
   "cell_type": "markdown",
   "id": "b3715450",
   "metadata": {
    "deletable": false,
    "editable": false
   },
   "source": [
    "**Задание 14. Обработайте неявные дубликаты в столбце `education`. В этом столбце есть одни и те же значения, но записанные по-разному: с использованием заглавных и строчных букв. Приведите их к нижнему регистру. Проверьте остальные столбцы.**"
   ]
  },
  {
   "cell_type": "code",
   "execution_count": 14,
   "id": "093a0b80",
   "metadata": {
    "deletable": false
   },
   "outputs": [],
   "source": [
    "data['education'] = data['education'].str.lower()"
   ]
  },
  {
   "cell_type": "markdown",
   "id": "6e408941",
   "metadata": {
    "deletable": false,
    "editable": false,
    "id": "dc587695"
   },
   "source": [
    "**Задание 15. Выведите на экран количество строк-дубликатов в данных. Если такие строки присутствуют, удалите их.**"
   ]
  },
  {
   "cell_type": "code",
   "execution_count": 15,
   "id": "5111b28f",
   "metadata": {
    "deletable": false,
    "id": "3ee445e4",
    "outputId": "9684deba-1934-42d1-99e1-cda61740f822"
   },
   "outputs": [
    {
     "data": {
      "text/plain": [
       "71"
      ]
     },
     "execution_count": 15,
     "metadata": {},
     "output_type": "execute_result"
    }
   ],
   "source": [
    "data.duplicated().sum()"
   ]
  },
  {
   "cell_type": "code",
   "execution_count": 16,
   "id": "2adcaefa",
   "metadata": {
    "deletable": false,
    "id": "8575fe05"
   },
   "outputs": [],
   "source": [
    "data = data.drop_duplicates()"
   ]
  },
  {
   "cell_type": "markdown",
   "id": "2c97708b",
   "metadata": {
    "deletable": false,
    "editable": false,
    "id": "9904cf55"
   },
   "source": [
    "### Категоризация данных"
   ]
  },
  {
   "cell_type": "markdown",
   "id": "11672703",
   "metadata": {
    "deletable": false,
    "editable": false,
    "id": "72fcc8a2"
   },
   "source": [
    "**Задание 16. На основании диапазонов, указанных ниже, создайте в датафрейме `data` столбец `total_income_category` с категориями:**\n",
    "\n",
    "- 0–30000 — `'E'`;\n",
    "- 30001–50000 — `'D'`;\n",
    "- 50001–200000 — `'C'`;\n",
    "- 200001–1000000 — `'B'`;\n",
    "- 1000001 и выше — `'A'`.\n",
    "\n",
    "\n",
    "**Например, кредитополучателю с доходом 25000 нужно назначить категорию `'E'`, а клиенту, получающему 235000, — `'B'`. Используйте собственную функцию с именем `categorize_income()` и метод `apply()`.**"
   ]
  },
  {
   "cell_type": "code",
   "execution_count": 17,
   "id": "56f5eb0b",
   "metadata": {
    "deletable": false,
    "id": "e1771346"
   },
   "outputs": [],
   "source": [
    "def categorize_income(income):\n",
    "    try:\n",
    "        if 0 <= income <= 30000:\n",
    "            return 'E'\n",
    "        elif 30001 <= income <= 50000:\n",
    "            return 'D'\n",
    "        elif 50001 <= income <= 200000:\n",
    "            return 'C'\n",
    "        elif 200001 <= income <= 1000000:\n",
    "            return 'B'\n",
    "        elif income >= 1000001:\n",
    "            return 'A'\n",
    "    except:\n",
    "        pass"
   ]
  },
  {
   "cell_type": "code",
   "execution_count": 18,
   "id": "87eec8a1",
   "metadata": {
    "deletable": false,
    "id": "d5f3586d"
   },
   "outputs": [],
   "source": [
    "data['total_income_category'] = data['total_income'].apply(categorize_income)"
   ]
  },
  {
   "cell_type": "markdown",
   "id": "fc9358c7",
   "metadata": {
    "deletable": false,
    "editable": false,
    "id": "dde49b5c"
   },
   "source": [
    "**Задание 17. Выведите на экран перечень уникальных целей взятия кредита из столбца `purpose`.**"
   ]
  },
  {
   "cell_type": "code",
   "execution_count": 19,
   "id": "ef001070",
   "metadata": {
    "deletable": false,
    "id": "f67ce9b3",
    "outputId": "673c12d9-7d7e-4ae0-9812-c622c89dd244"
   },
   "outputs": [
    {
     "data": {
      "text/plain": [
       "array(['покупка жилья', 'приобретение автомобиля',\n",
       "       'дополнительное образование', 'сыграть свадьбу',\n",
       "       'операции с жильем', 'образование', 'на проведение свадьбы',\n",
       "       'покупка жилья для семьи', 'покупка недвижимости',\n",
       "       'покупка коммерческой недвижимости', 'покупка жилой недвижимости',\n",
       "       'строительство собственной недвижимости', 'недвижимость',\n",
       "       'строительство недвижимости', 'на покупку подержанного автомобиля',\n",
       "       'на покупку своего автомобиля',\n",
       "       'операции с коммерческой недвижимостью',\n",
       "       'строительство жилой недвижимости', 'жилье',\n",
       "       'операции со своей недвижимостью', 'автомобили',\n",
       "       'заняться образованием', 'сделка с подержанным автомобилем',\n",
       "       'получение образования', 'автомобиль', 'свадьба',\n",
       "       'получение дополнительного образования', 'покупка своего жилья',\n",
       "       'операции с недвижимостью', 'получение высшего образования',\n",
       "       'свой автомобиль', 'сделка с автомобилем',\n",
       "       'профильное образование', 'высшее образование',\n",
       "       'покупка жилья для сдачи', 'на покупку автомобиля', 'ремонт жилью',\n",
       "       'заняться высшим образованием'], dtype=object)"
      ]
     },
     "execution_count": 19,
     "metadata": {},
     "output_type": "execute_result"
    }
   ],
   "source": [
    "data['purpose'].unique()"
   ]
  },
  {
   "cell_type": "markdown",
   "id": "e4f1af96",
   "metadata": {
    "deletable": false,
    "editable": false,
    "id": "85d0aef0"
   },
   "source": [
    "**Задание 18. Создайте функцию, которая на основании данных из столбца `purpose` сформирует новый столбец `purpose_category`, в который войдут следующие категории:**\n",
    "\n",
    "- `'операции с автомобилем'`,\n",
    "- `'операции с недвижимостью'`,\n",
    "- `'проведение свадьбы'`,\n",
    "- `'получение образования'`.\n",
    "\n",
    "**Например, если в столбце `purpose` находится подстрока `'на покупку автомобиля'`, то в столбце `purpose_category` должна появиться строка `'операции с автомобилем'`.**\n",
    "\n",
    "**Используйте собственную функцию с именем `categorize_purpose()` и метод `apply()`. Изучите данные в столбце `purpose` и определите, какие подстроки помогут вам правильно определить категорию.**"
   ]
  },
  {
   "cell_type": "code",
   "execution_count": 20,
   "id": "c16716bc",
   "metadata": {
    "deletable": false,
    "id": "e149fab4"
   },
   "outputs": [],
   "source": [
    "def categorize_purpose(row):\n",
    "    try:\n",
    "        if 'автом' in row:\n",
    "            return 'операции с автомобилем'\n",
    "        elif 'жил' in row or 'недвиж' in row:\n",
    "            return 'операции с недвижимостью'\n",
    "        elif 'свад' in row:\n",
    "            return 'проведение свадьбы'\n",
    "        elif 'образов' in row:\n",
    "            return 'получение образования'\n",
    "    except:\n",
    "        return 'нет категории'"
   ]
  },
  {
   "cell_type": "code",
   "execution_count": 21,
   "id": "e94e56e8",
   "metadata": {
    "deletable": false,
    "id": "bf36e69b"
   },
   "outputs": [],
   "source": [
    "data['purpose_category'] = data['purpose'].apply(categorize_purpose)"
   ]
  },
  {
   "cell_type": "markdown",
   "id": "8977ee66",
   "metadata": {
    "deletable": false,
    "editable": false,
    "id": "09b242bf"
   },
   "source": [
    "### Шаг 3. Исследуйте данные и ответьте на вопросы"
   ]
  },
  {
   "cell_type": "markdown",
   "id": "e61b19fb",
   "metadata": {
    "deletable": false,
    "editable": false,
    "id": "c5d66278"
   },
   "source": [
    "#### 3.1 Есть ли зависимость между количеством детей и возвратом кредита в срок?"
   ]
  },
  {
   "cell_type": "code",
   "execution_count": 22,
   "id": "9cbd9651",
   "metadata": {
    "deletable": false,
    "id": "2cacfc4a"
   },
   "outputs": [
    {
     "data": {
      "text/html": [
       "<div>\n",
       "<style scoped>\n",
       "    .dataframe tbody tr th:only-of-type {\n",
       "        vertical-align: middle;\n",
       "    }\n",
       "\n",
       "    .dataframe tbody tr th {\n",
       "        vertical-align: top;\n",
       "    }\n",
       "\n",
       "    .dataframe thead tr th {\n",
       "        text-align: left;\n",
       "    }\n",
       "\n",
       "    .dataframe thead tr:last-of-type th {\n",
       "        text-align: right;\n",
       "    }\n",
       "</style>\n",
       "<table border=\"1\" class=\"dataframe\">\n",
       "  <thead>\n",
       "    <tr>\n",
       "      <th></th>\n",
       "      <th>sum</th>\n",
       "      <th>count</th>\n",
       "      <th>mean</th>\n",
       "    </tr>\n",
       "    <tr>\n",
       "      <th></th>\n",
       "      <th>debt</th>\n",
       "      <th>debt</th>\n",
       "      <th>debt</th>\n",
       "    </tr>\n",
       "    <tr>\n",
       "      <th>children</th>\n",
       "      <th></th>\n",
       "      <th></th>\n",
       "      <th></th>\n",
       "    </tr>\n",
       "  </thead>\n",
       "  <tbody>\n",
       "    <tr>\n",
       "      <th>0</th>\n",
       "      <td>1063</td>\n",
       "      <td>14091</td>\n",
       "      <td>0.075438</td>\n",
       "    </tr>\n",
       "    <tr>\n",
       "      <th>1</th>\n",
       "      <td>444</td>\n",
       "      <td>4808</td>\n",
       "      <td>0.092346</td>\n",
       "    </tr>\n",
       "    <tr>\n",
       "      <th>2</th>\n",
       "      <td>194</td>\n",
       "      <td>2052</td>\n",
       "      <td>0.094542</td>\n",
       "    </tr>\n",
       "    <tr>\n",
       "      <th>3</th>\n",
       "      <td>27</td>\n",
       "      <td>330</td>\n",
       "      <td>0.081818</td>\n",
       "    </tr>\n",
       "    <tr>\n",
       "      <th>4</th>\n",
       "      <td>4</td>\n",
       "      <td>41</td>\n",
       "      <td>0.097561</td>\n",
       "    </tr>\n",
       "    <tr>\n",
       "      <th>5</th>\n",
       "      <td>0</td>\n",
       "      <td>9</td>\n",
       "      <td>0.000000</td>\n",
       "    </tr>\n",
       "  </tbody>\n",
       "</table>\n",
       "</div>"
      ],
      "text/plain": [
       "           sum  count      mean\n",
       "          debt   debt      debt\n",
       "children                       \n",
       "0         1063  14091  0.075438\n",
       "1          444   4808  0.092346\n",
       "2          194   2052  0.094542\n",
       "3           27    330  0.081818\n",
       "4            4     41  0.097561\n",
       "5            0      9  0.000000"
      ]
     },
     "metadata": {},
     "output_type": "display_data"
    },
    {
     "data": {
      "text/html": [
       "<div>\n",
       "<style scoped>\n",
       "    .dataframe tbody tr th:only-of-type {\n",
       "        vertical-align: middle;\n",
       "    }\n",
       "\n",
       "    .dataframe tbody tr th {\n",
       "        vertical-align: top;\n",
       "    }\n",
       "\n",
       "    .dataframe thead th {\n",
       "        text-align: right;\n",
       "    }\n",
       "</style>\n",
       "<table border=\"1\" class=\"dataframe\">\n",
       "  <thead>\n",
       "    <tr style=\"text-align: right;\">\n",
       "      <th></th>\n",
       "      <th>children</th>\n",
       "      <th>sum</th>\n",
       "      <th>count</th>\n",
       "      <th>mean</th>\n",
       "    </tr>\n",
       "  </thead>\n",
       "  <tbody>\n",
       "    <tr>\n",
       "      <th>0</th>\n",
       "      <td>0</td>\n",
       "      <td>1063</td>\n",
       "      <td>14091</td>\n",
       "      <td>0.075438</td>\n",
       "    </tr>\n",
       "    <tr>\n",
       "      <th>1</th>\n",
       "      <td>1</td>\n",
       "      <td>444</td>\n",
       "      <td>4808</td>\n",
       "      <td>0.092346</td>\n",
       "    </tr>\n",
       "    <tr>\n",
       "      <th>2</th>\n",
       "      <td>2</td>\n",
       "      <td>194</td>\n",
       "      <td>2052</td>\n",
       "      <td>0.094542</td>\n",
       "    </tr>\n",
       "    <tr>\n",
       "      <th>3</th>\n",
       "      <td>3</td>\n",
       "      <td>27</td>\n",
       "      <td>330</td>\n",
       "      <td>0.081818</td>\n",
       "    </tr>\n",
       "    <tr>\n",
       "      <th>4</th>\n",
       "      <td>4</td>\n",
       "      <td>4</td>\n",
       "      <td>41</td>\n",
       "      <td>0.097561</td>\n",
       "    </tr>\n",
       "    <tr>\n",
       "      <th>5</th>\n",
       "      <td>5</td>\n",
       "      <td>0</td>\n",
       "      <td>9</td>\n",
       "      <td>0.000000</td>\n",
       "    </tr>\n",
       "  </tbody>\n",
       "</table>\n",
       "</div>"
      ],
      "text/plain": [
       "   children   sum  count      mean\n",
       "0         0  1063  14091  0.075438\n",
       "1         1   444   4808  0.092346\n",
       "2         2   194   2052  0.094542\n",
       "3         3    27    330  0.081818\n",
       "4         4     4     41  0.097561\n",
       "5         5     0      9  0.000000"
      ]
     },
     "metadata": {},
     "output_type": "display_data"
    },
    {
     "data": {
      "text/plain": [
       "children       15.000000\n",
       "sum          1732.000000\n",
       "count       21331.000000\n",
       "mean            0.441705\n",
       "dtype: float64"
      ]
     },
     "metadata": {},
     "output_type": "display_data"
    }
   ],
   "source": [
    "data_children = data.pivot_table(index=['children'], values='debt', aggfunc=['sum','count', 'mean'])\n",
    "display(data_children)\n",
    "data_children = data_children.reset_index().droplevel(1, axis=1)\n",
    "display(data_children)\n",
    "display(data_children.sum())\n",
    "\n",
    " "
   ]
  },
  {
   "cell_type": "markdown",
   "id": "f1e5b122",
   "metadata": {
    "deletable": false,
    "id": "3a6b99ec"
   },
   "source": [
    "**Вывод:** "
   ]
  },
  {
   "cell_type": "markdown",
   "id": "d00fd0b6-472f-4178-b758-9c55ffdd2666",
   "metadata": {},
   "source": [
    "из полученных данных нельзя с точностью сказать, что прослеживается высокая зависимость между количеством детей и возвратом кредита в срок. например, у семьи с 5 детьми нет задержек по возвратом вовсе, а семьи у которых 4 ребенка самый большой процент невозратов из всего списка. на втором месте по проценту находятся люди у которых вообще нет детей, при этом стоит учитывать их самое большое количество в абсолютных величинах."
   ]
  },
  {
   "cell_type": "markdown",
   "id": "b6c752d7",
   "metadata": {},
   "source": [
    "<b>Выводы:</b>\n",
    "<p>На основании полученных данных можно сказать, что основная доля (порядка 66 %) клиентов по кредитам приходится на людей без детей и их показатель невозрата является самым минимальным(7,5%) из представленой выборки.</p> <p>Группы людей, которые имеют одного или двух детей, показывают наихудший результат в размере 9,2 % и 9,4 % соответственно.</p> <p> Остальные данные являются нерелевантнами для анализа в рамках количественной выборки данных категорий.</p>\n",
    "\n",
    "\n"
   ]
  },
  {
   "cell_type": "markdown",
   "id": "8a2bbd30",
   "metadata": {
    "deletable": false,
    "editable": false,
    "id": "97be82ca"
   },
   "source": [
    "#### 3.2 Есть ли зависимость между семейным положением и возвратом кредита в срок?"
   ]
  },
  {
   "cell_type": "code",
   "execution_count": 27,
   "id": "30cad777",
   "metadata": {
    "deletable": false,
    "id": "dc3f7ee8"
   },
   "outputs": [
    {
     "data": {
      "text/html": [
       "<div>\n",
       "<style scoped>\n",
       "    .dataframe tbody tr th:only-of-type {\n",
       "        vertical-align: middle;\n",
       "    }\n",
       "\n",
       "    .dataframe tbody tr th {\n",
       "        vertical-align: top;\n",
       "    }\n",
       "\n",
       "    .dataframe thead tr th {\n",
       "        text-align: left;\n",
       "    }\n",
       "\n",
       "    .dataframe thead tr:last-of-type th {\n",
       "        text-align: right;\n",
       "    }\n",
       "</style>\n",
       "<table border=\"1\" class=\"dataframe\">\n",
       "  <thead>\n",
       "    <tr>\n",
       "      <th></th>\n",
       "      <th>count</th>\n",
       "      <th>sum</th>\n",
       "      <th>mean</th>\n",
       "    </tr>\n",
       "    <tr>\n",
       "      <th></th>\n",
       "      <th>debt</th>\n",
       "      <th>debt</th>\n",
       "      <th>debt</th>\n",
       "    </tr>\n",
       "    <tr>\n",
       "      <th>family_status</th>\n",
       "      <th></th>\n",
       "      <th></th>\n",
       "      <th></th>\n",
       "    </tr>\n",
       "  </thead>\n",
       "  <tbody>\n",
       "    <tr>\n",
       "      <th>Не женат / не замужем</th>\n",
       "      <td>2796</td>\n",
       "      <td>273</td>\n",
       "      <td>0.097639</td>\n",
       "    </tr>\n",
       "    <tr>\n",
       "      <th>в разводе</th>\n",
       "      <td>1189</td>\n",
       "      <td>84</td>\n",
       "      <td>0.070648</td>\n",
       "    </tr>\n",
       "    <tr>\n",
       "      <th>вдовец / вдова</th>\n",
       "      <td>951</td>\n",
       "      <td>63</td>\n",
       "      <td>0.066246</td>\n",
       "    </tr>\n",
       "    <tr>\n",
       "      <th>гражданский брак</th>\n",
       "      <td>4134</td>\n",
       "      <td>385</td>\n",
       "      <td>0.093130</td>\n",
       "    </tr>\n",
       "    <tr>\n",
       "      <th>женат / замужем</th>\n",
       "      <td>12261</td>\n",
       "      <td>927</td>\n",
       "      <td>0.075606</td>\n",
       "    </tr>\n",
       "  </tbody>\n",
       "</table>\n",
       "</div>"
      ],
      "text/plain": [
       "                       count  sum      mean\n",
       "                        debt debt      debt\n",
       "family_status                              \n",
       "Не женат / не замужем   2796  273  0.097639\n",
       "в разводе               1189   84  0.070648\n",
       "вдовец / вдова           951   63  0.066246\n",
       "гражданский брак        4134  385  0.093130\n",
       "женат / замужем        12261  927  0.075606"
      ]
     },
     "metadata": {},
     "output_type": "display_data"
    },
    {
     "data": {
      "text/plain": [
       "family_status    Не женат / не замужемв разводевдовец / вдовагр...\n",
       "count                                                        21331\n",
       "sum                                                           1732\n",
       "mean                                                      0.403269\n",
       "dtype: object"
      ]
     },
     "metadata": {},
     "output_type": "display_data"
    }
   ],
   "source": [
    "data_status = data.pivot_table(index=['family_status'], values='debt', aggfunc=['count','sum', 'mean'])\n",
    "display(data_status)\n",
    "data_status = data_status.reset_index().droplevel(1, axis=1)\n",
    "display(data_status.sum())"
   ]
  },
  {
   "cell_type": "markdown",
   "id": "78324404",
   "metadata": {
    "deletable": false,
    "id": "1cef7837"
   },
   "source": [
    "**Вывод:** \n",
    "<p> Проанализиров зависимость семейного положения и возврата кредита, можно смело сказать, что более 57 % кредитов приходится на семейные пары в официальном браке и их показатель невозврата находится на уровне 7,5 %, что значительно ниже(~2%) показателя невозрата людей не женатых/не замужем или находяшихся в гражданском браке </p>\n",
    "<p> По другим категориям людей, показатель невозрата еще ниже, но с точки зрения оценки и общего количества клиентов их удельный вес небольшой </p>\n"
   ]
  },
  {
   "cell_type": "markdown",
   "id": "c3d6d707",
   "metadata": {
    "deletable": false,
    "editable": false,
    "id": "1e8b2fca"
   },
   "source": [
    "#### 3.3 Есть ли зависимость между уровнем дохода и возвратом кредита в срок?"
   ]
  },
  {
   "cell_type": "code",
   "execution_count": 29,
   "id": "2042f6af",
   "metadata": {
    "deletable": false,
    "id": "cd7e3720"
   },
   "outputs": [
    {
     "data": {
      "text/html": [
       "<div>\n",
       "<style scoped>\n",
       "    .dataframe tbody tr th:only-of-type {\n",
       "        vertical-align: middle;\n",
       "    }\n",
       "\n",
       "    .dataframe tbody tr th {\n",
       "        vertical-align: top;\n",
       "    }\n",
       "\n",
       "    .dataframe thead th {\n",
       "        text-align: right;\n",
       "    }\n",
       "</style>\n",
       "<table border=\"1\" class=\"dataframe\">\n",
       "  <thead>\n",
       "    <tr style=\"text-align: right;\">\n",
       "      <th></th>\n",
       "      <th>count</th>\n",
       "      <th>sum</th>\n",
       "      <th>percent</th>\n",
       "    </tr>\n",
       "    <tr>\n",
       "      <th>total_income_category</th>\n",
       "      <th></th>\n",
       "      <th></th>\n",
       "      <th></th>\n",
       "    </tr>\n",
       "  </thead>\n",
       "  <tbody>\n",
       "    <tr>\n",
       "      <th>D</th>\n",
       "      <td>349</td>\n",
       "      <td>21</td>\n",
       "      <td>0.060172</td>\n",
       "    </tr>\n",
       "    <tr>\n",
       "      <th>B</th>\n",
       "      <td>5014</td>\n",
       "      <td>354</td>\n",
       "      <td>0.070602</td>\n",
       "    </tr>\n",
       "    <tr>\n",
       "      <th>A</th>\n",
       "      <td>25</td>\n",
       "      <td>2</td>\n",
       "      <td>0.080000</td>\n",
       "    </tr>\n",
       "    <tr>\n",
       "      <th>C</th>\n",
       "      <td>15921</td>\n",
       "      <td>1353</td>\n",
       "      <td>0.084982</td>\n",
       "    </tr>\n",
       "    <tr>\n",
       "      <th>E</th>\n",
       "      <td>22</td>\n",
       "      <td>2</td>\n",
       "      <td>0.090909</td>\n",
       "    </tr>\n",
       "  </tbody>\n",
       "</table>\n",
       "</div>"
      ],
      "text/plain": [
       "                       count   sum   percent\n",
       "total_income_category                       \n",
       "D                        349    21  0.060172\n",
       "B                       5014   354  0.070602\n",
       "A                         25     2  0.080000\n",
       "C                      15921  1353  0.084982\n",
       "E                         22     2  0.090909"
      ]
     },
     "metadata": {},
     "output_type": "display_data"
    }
   ],
   "source": [
    "data_income = data.pivot_table(index=['total_income_category'],  values='debt', aggfunc={'sum','count'})\n",
    "data_income['percent']=(data_income['sum']/data_income['count'])\n",
    "display(data_income.sort_values('percent'))"
   ]
  },
  {
   "cell_type": "markdown",
   "id": "dacacd17",
   "metadata": {
    "deletable": false,
    "id": "e8593def"
   },
   "source": [
    "**Вывод:** \n",
    "<p> В рамках данного анализа, можно выделить тот фактор, что порядка 75 % клиентов в ходят в группу С( с доходом от 50 до 200 тыс) при этом данная группа является менее привлекательная, т.к. их процент не возратов составляет 8,5 %, что на 1,5 % хуже группы B( доход от 30 до 50 тыс).</p> \n",
    "<p> По остальным группа данные являются слишком маленькими для включения их в общий анализ. </p>"
   ]
  },
  {
   "cell_type": "markdown",
   "id": "80a63618",
   "metadata": {
    "deletable": false,
    "editable": false,
    "id": "99ecbd1f"
   },
   "source": [
    "#### 3.4 Как разные цели кредита влияют на его возврат в срок?"
   ]
  },
  {
   "cell_type": "code",
   "execution_count": 28,
   "id": "77310874",
   "metadata": {
    "deletable": false,
    "id": "2b687290"
   },
   "outputs": [
    {
     "data": {
      "text/html": [
       "<div>\n",
       "<style scoped>\n",
       "    .dataframe tbody tr th:only-of-type {\n",
       "        vertical-align: middle;\n",
       "    }\n",
       "\n",
       "    .dataframe tbody tr th {\n",
       "        vertical-align: top;\n",
       "    }\n",
       "\n",
       "    .dataframe thead th {\n",
       "        text-align: right;\n",
       "    }\n",
       "</style>\n",
       "<table border=\"1\" class=\"dataframe\">\n",
       "  <thead>\n",
       "    <tr style=\"text-align: right;\">\n",
       "      <th></th>\n",
       "      <th>count</th>\n",
       "      <th>sum</th>\n",
       "      <th>percent</th>\n",
       "    </tr>\n",
       "    <tr>\n",
       "      <th>purpose_category</th>\n",
       "      <th></th>\n",
       "      <th></th>\n",
       "      <th></th>\n",
       "    </tr>\n",
       "  </thead>\n",
       "  <tbody>\n",
       "    <tr>\n",
       "      <th>операции с недвижимостью</th>\n",
       "      <td>10751</td>\n",
       "      <td>780</td>\n",
       "      <td>0.072551</td>\n",
       "    </tr>\n",
       "    <tr>\n",
       "      <th>проведение свадьбы</th>\n",
       "      <td>2313</td>\n",
       "      <td>183</td>\n",
       "      <td>0.079118</td>\n",
       "    </tr>\n",
       "    <tr>\n",
       "      <th>получение образования</th>\n",
       "      <td>3988</td>\n",
       "      <td>369</td>\n",
       "      <td>0.092528</td>\n",
       "    </tr>\n",
       "    <tr>\n",
       "      <th>операции с автомобилем</th>\n",
       "      <td>4279</td>\n",
       "      <td>400</td>\n",
       "      <td>0.093480</td>\n",
       "    </tr>\n",
       "  </tbody>\n",
       "</table>\n",
       "</div>"
      ],
      "text/plain": [
       "                          count  sum   percent\n",
       "purpose_category                              \n",
       "операции с недвижимостью  10751  780  0.072551\n",
       "проведение свадьбы         2313  183  0.079118\n",
       "получение образования      3988  369  0.092528\n",
       "операции с автомобилем     4279  400  0.093480"
      ]
     },
     "metadata": {},
     "output_type": "display_data"
    }
   ],
   "source": [
    "data_purpose = data.pivot_table(index=['purpose_category'],  values='debt', aggfunc={'sum','count'})\n",
    "data_purpose['percent']=(data_purpose['sum']/data_purpose['count'])\n",
    "display(data_purpose.sort_values('percent'))# Ваш код будет здесь. Вы можете создавать новые ячейки."
   ]
  },
  {
   "cell_type": "markdown",
   "id": "742e68a3",
   "metadata": {
    "deletable": false,
    "id": "b4bb2ce6"
   },
   "source": [
    "**Вывод:**\n",
    "<p> По итогам данного сравнения можно сказать, что наилучший процент по невозратам кредита связан с целью \"операции с недвижимостью\" и составляет 7,3%, немногим хуже обстоят дела с кредитами на проведения свадьбы, порядка 7,9 %. Но наихудший результат связан с целью получения образования и операции с автомобилем, он составляет ~9.3% </p>"
   ]
  },
  {
   "cell_type": "markdown",
   "id": "9e88eb2d",
   "metadata": {
    "deletable": false,
    "editable": false,
    "id": "09c3ac4c"
   },
   "source": [
    "#### 3.5 Приведите возможные причины появления пропусков в исходных данных."
   ]
  },
  {
   "cell_type": "markdown",
   "id": "150ec55b",
   "metadata": {
    "deletable": false,
    "id": "9da2ceda"
   },
   "source": [
    "*Ответ:* пропуски в данной таблице встретились в столбцах: days_employed и total_income. Основной причиной данных пропусков являлся человеческий фактор или ошибка в формулах, так, например,  в кол-во дней работы попали отрицательные значения.\n",
    "\n",
    "Однако, если пристально взглянуть на на наши данные, то увидим что пропуски в столбцах \"трудовой стаж\" и \"ежемесячный доход\" абсолютно идентичны. Количество ячеек с отсутствующими данными в обоих указанных столбцах совпадает и равно 2174. Маловероятно, что специалисты по выдаче кредитов, заполнив все без исключения ячейки других столбцов по каждому кредитополучателю, оставляли незаполненными именно два показателя, и сделали это ровно 2174 раза в каждом столбце. Даже не проводя проверку, во всех ли случаях незаполненные ячейки находятся в одной и то же строке с высокой долей вероятности можно утверждать, что произошла техническая ошибка при формировании таблицы с исходными данными (либо некий сбой во время выгрузки данных на анализ, либо при объединении данных в единый файл, который также должен был передаваться на анализ, либо эти данные не собирались)"
   ]
  },
  {
   "cell_type": "markdown",
   "id": "3535278f",
   "metadata": {
    "deletable": false,
    "editable": false,
    "id": "7b0487d6"
   },
   "source": [
    "#### 3.6 Объясните, почему заполнить пропуски медианным значением — лучшее решение для количественных переменных."
   ]
  },
  {
   "cell_type": "markdown",
   "id": "877b891f",
   "metadata": {
    "deletable": false,
    "id": "7ecf2b8e"
   },
   "source": [
    "*Ответ:* \n",
    "\n",
    "    #среднее значение(mean) не учитывает резкие колебания в цифрах и может привести к неправильной интерпритации значений, в отличие от медианного значения, который фомируется по возрастанию и определяет одинаковое кол-во значений слева и права"
   ]
  },
  {
   "cell_type": "markdown",
   "id": "fc4c31a2",
   "metadata": {
    "deletable": false,
    "editable": false,
    "id": "6db5255a"
   },
   "source": [
    "### Шаг 4: общий вывод."
   ]
  },
  {
   "cell_type": "markdown",
   "id": "5edf6a7d",
   "metadata": {
    "deletable": false,
    "id": "bad65432"
   },
   "source": [
    " \n",
    "Проанализиров данные по разным критериям и их влиянием на возраты по кредитам, можно сказать,что:\n",
    "\n",
    "<br>1)люди у которых нет детей имеют наименьшую долю (7,5 %) невозратов кредитов в сравнении с людьми у которых один ребенок - 9,2 % и два ребенка - 9,4 %. </br>\n",
    "\n",
    "<br>2)Также, просматривается влияние  семейного положения на данный показатель, так, люди находящиеся в официальном браке более четко соблюдают сроки возврата по кредиту и доля просрочки составляет 7,5 %, в то время как, холостые люди или находящиеся в гражданском браке, чаще нарущают сроки и доля просрочки составляет 9,7 % и 9,3 % соответственно</br>\n",
    "\n",
    "<br>3) Учитывая выборку по доходу, можно сделать выводы только по двум группам граждан , т.к. по другим категориям она в разрезе данных является несуществена. Стоит отметить, что среди групп B ( доход 30-50 тыс) и С ( доход 50-200 тыс), количество заявок из группы С практически в три раза превышает кол-во заявок из группы B. При этом показатель невозратов в группе B на 1,5 % ниже группы С и составляет 7 %</br>\n",
    "\n",
    "<br>4) Оценивая цели кредита и уровень возратов, можно сказать, что удельный вес цели \"операции с недвижомостью' от всего списка целей занимает ~50 % и имеет наименьшую долю невозратов 7,2 %, возможно это связанно с долгосрочным планированием, статусом семейного положения и отсутствием детей. Наихудшая доля в данном разрезе оказалась у цели 'операция с автомобилем' и составила 9,3 %</br>\n",
    "\n",
    "<br>Для улучшения качественного анализа, я бы предложил еще добавить инфорамацию о месте работы, количество дней на одной работе, а не общее количество дней, т.к. оно не является релевантным для принятия решения, например, пенсионер практически всегда будет иметь данный показатель намного лучше, чем студент,только устроившийся на работу. Также, на мой взгляд, будет верным понимать динамику поступления ДС за последнии  5 лет, а не общий доход на сегодня.</br>\n"
   ]
  }
 ],
 "metadata": {
  "ExecuteTimeLog": [
   {
    "duration": 694,
    "start_time": "2023-04-01T16:46:16.525Z"
   },
   {
    "duration": 27,
    "start_time": "2023-04-01T16:46:17.221Z"
   },
   {
    "duration": 13,
    "start_time": "2023-04-01T16:46:17.250Z"
   },
   {
    "duration": 9,
    "start_time": "2023-04-01T16:46:17.264Z"
   },
   {
    "duration": 31,
    "start_time": "2023-04-01T16:46:17.274Z"
   },
   {
    "duration": 3,
    "start_time": "2023-04-01T16:46:17.306Z"
   },
   {
    "duration": 9,
    "start_time": "2023-04-01T16:46:17.310Z"
   },
   {
    "duration": 5,
    "start_time": "2023-04-01T16:46:17.320Z"
   },
   {
    "duration": 11,
    "start_time": "2023-04-01T16:46:17.349Z"
   },
   {
    "duration": 5,
    "start_time": "2023-04-01T16:46:17.361Z"
   },
   {
    "duration": 28,
    "start_time": "2023-04-01T16:46:17.367Z"
   },
   {
    "duration": 7,
    "start_time": "2023-04-01T16:46:17.397Z"
   },
   {
    "duration": 4,
    "start_time": "2023-04-01T16:46:17.406Z"
   },
   {
    "duration": 12,
    "start_time": "2023-04-01T16:46:17.412Z"
   },
   {
    "duration": 34,
    "start_time": "2023-04-01T16:46:17.426Z"
   },
   {
    "duration": 16,
    "start_time": "2023-04-01T16:46:17.461Z"
   },
   {
    "duration": 3,
    "start_time": "2023-04-01T16:46:17.479Z"
   },
   {
    "duration": 10,
    "start_time": "2023-04-01T16:46:17.484Z"
   },
   {
    "duration": 7,
    "start_time": "2023-04-01T16:46:17.496Z"
   },
   {
    "duration": 3,
    "start_time": "2023-04-01T16:46:17.504Z"
   },
   {
    "duration": 10,
    "start_time": "2023-04-01T16:46:17.508Z"
   },
   {
    "duration": 2,
    "start_time": "2023-04-01T16:46:17.519Z"
   },
   {
    "duration": 28,
    "start_time": "2023-04-01T16:46:17.522Z"
   },
   {
    "duration": 6,
    "start_time": "2023-04-01T16:46:17.551Z"
   },
   {
    "duration": 10,
    "start_time": "2023-04-01T16:46:17.559Z"
   },
   {
    "duration": 3,
    "start_time": "2023-04-01T17:06:46.974Z"
   },
   {
    "duration": 77,
    "start_time": "2023-04-01T17:09:37.824Z"
   },
   {
    "duration": 12,
    "start_time": "2023-04-01T17:10:10.929Z"
   },
   {
    "duration": 24,
    "start_time": "2023-04-01T17:11:24.714Z"
   },
   {
    "duration": 10,
    "start_time": "2023-04-01T17:16:54.177Z"
   },
   {
    "duration": 9,
    "start_time": "2023-04-01T17:17:08.909Z"
   },
   {
    "duration": 13,
    "start_time": "2023-04-01T17:17:37.020Z"
   },
   {
    "duration": 805,
    "start_time": "2023-04-02T19:29:28.463Z"
   },
   {
    "duration": 35,
    "start_time": "2023-04-02T19:29:29.272Z"
   },
   {
    "duration": 17,
    "start_time": "2023-04-02T19:29:29.309Z"
   },
   {
    "duration": 13,
    "start_time": "2023-04-02T19:29:29.327Z"
   },
   {
    "duration": 80,
    "start_time": "2023-04-02T19:29:29.344Z"
   },
   {
    "duration": 4,
    "start_time": "2023-04-02T19:29:29.426Z"
   },
   {
    "duration": 23,
    "start_time": "2023-04-02T19:29:29.432Z"
   },
   {
    "duration": 7,
    "start_time": "2023-04-02T19:29:29.456Z"
   },
   {
    "duration": 18,
    "start_time": "2023-04-02T19:29:29.465Z"
   },
   {
    "duration": 21,
    "start_time": "2023-04-02T19:29:29.484Z"
   },
   {
    "duration": 39,
    "start_time": "2023-04-02T19:29:29.507Z"
   },
   {
    "duration": 15,
    "start_time": "2023-04-02T19:29:29.548Z"
   },
   {
    "duration": 15,
    "start_time": "2023-04-02T19:29:29.565Z"
   },
   {
    "duration": 17,
    "start_time": "2023-04-02T19:29:29.583Z"
   },
   {
    "duration": 24,
    "start_time": "2023-04-02T19:29:29.602Z"
   },
   {
    "duration": 18,
    "start_time": "2023-04-02T19:29:29.628Z"
   },
   {
    "duration": 4,
    "start_time": "2023-04-02T19:29:29.648Z"
   },
   {
    "duration": 37,
    "start_time": "2023-04-02T19:29:29.653Z"
   },
   {
    "duration": 6,
    "start_time": "2023-04-02T19:29:29.692Z"
   },
   {
    "duration": 4,
    "start_time": "2023-04-02T19:29:29.700Z"
   },
   {
    "duration": 13,
    "start_time": "2023-04-02T19:29:29.706Z"
   },
   {
    "duration": 15,
    "start_time": "2023-04-02T19:29:29.721Z"
   },
   {
    "duration": 3,
    "start_time": "2023-04-02T19:29:29.738Z"
   },
   {
    "duration": 5,
    "start_time": "2023-04-02T19:29:29.742Z"
   },
   {
    "duration": 42,
    "start_time": "2023-04-02T19:29:29.748Z"
   },
   {
    "duration": 82,
    "start_time": "2023-04-02T19:32:08.864Z"
   },
   {
    "duration": 66,
    "start_time": "2023-04-02T19:32:32.002Z"
   },
   {
    "duration": 104,
    "start_time": "2023-04-02T19:32:51.937Z"
   },
   {
    "duration": 50,
    "start_time": "2023-04-02T19:33:04.627Z"
   },
   {
    "duration": 52,
    "start_time": "2023-04-02T19:34:38.526Z"
   },
   {
    "duration": 260,
    "start_time": "2023-04-02T19:34:53.687Z"
   },
   {
    "duration": 126,
    "start_time": "2023-04-02T19:35:00.665Z"
   },
   {
    "duration": 701,
    "start_time": "2023-04-02T19:35:06.450Z"
   },
   {
    "duration": 17,
    "start_time": "2023-04-02T19:35:26.590Z"
   },
   {
    "duration": 19,
    "start_time": "2023-04-02T19:36:55.562Z"
   },
   {
    "duration": 22,
    "start_time": "2023-04-02T19:38:23.803Z"
   },
   {
    "duration": 29,
    "start_time": "2023-04-02T19:38:33.658Z"
   },
   {
    "duration": 19,
    "start_time": "2023-04-02T19:38:40.273Z"
   },
   {
    "duration": 54,
    "start_time": "2023-04-02T19:50:27.544Z"
   },
   {
    "duration": 4,
    "start_time": "2023-04-02T19:50:40.608Z"
   },
   {
    "duration": 21,
    "start_time": "2023-04-02T19:51:46.007Z"
   },
   {
    "duration": 22,
    "start_time": "2023-04-02T19:52:20.650Z"
   },
   {
    "duration": 14,
    "start_time": "2023-04-02T19:59:52.256Z"
   },
   {
    "duration": 21,
    "start_time": "2023-04-02T20:01:17.443Z"
   },
   {
    "duration": 20,
    "start_time": "2023-04-02T20:01:40.320Z"
   },
   {
    "duration": 25,
    "start_time": "2023-04-02T20:04:14.348Z"
   },
   {
    "duration": 33,
    "start_time": "2023-04-02T20:15:41.382Z"
   },
   {
    "duration": 10,
    "start_time": "2023-04-02T20:33:52.032Z"
   },
   {
    "duration": 11,
    "start_time": "2023-04-02T20:34:02.529Z"
   },
   {
    "duration": 20,
    "start_time": "2023-04-02T20:34:18.048Z"
   },
   {
    "duration": 77,
    "start_time": "2023-04-02T20:34:52.388Z"
   },
   {
    "duration": 12,
    "start_time": "2023-04-02T20:35:50.587Z"
   },
   {
    "duration": 837,
    "start_time": "2023-04-02T20:37:15.356Z"
   },
   {
    "duration": 9,
    "start_time": "2023-04-02T20:38:05.749Z"
   },
   {
    "duration": 4,
    "start_time": "2023-04-02T20:38:16.249Z"
   },
   {
    "duration": 13,
    "start_time": "2023-04-02T20:38:27.786Z"
   },
   {
    "duration": 20,
    "start_time": "2023-04-02T20:40:44.238Z"
   },
   {
    "duration": 114,
    "start_time": "2023-04-03T10:43:20.096Z"
   },
   {
    "duration": 59,
    "start_time": "2023-04-03T12:38:11.105Z"
   },
   {
    "duration": 548,
    "start_time": "2023-04-03T12:39:26.554Z"
   },
   {
    "duration": 23,
    "start_time": "2023-04-03T12:39:27.104Z"
   },
   {
    "duration": 46,
    "start_time": "2023-04-03T12:39:27.129Z"
   },
   {
    "duration": 14,
    "start_time": "2023-04-03T12:39:27.176Z"
   },
   {
    "duration": 65,
    "start_time": "2023-04-03T12:39:27.192Z"
   },
   {
    "duration": 5,
    "start_time": "2023-04-03T12:39:27.259Z"
   },
   {
    "duration": 10,
    "start_time": "2023-04-03T12:39:27.265Z"
   },
   {
    "duration": 5,
    "start_time": "2023-04-03T12:39:27.276Z"
   },
   {
    "duration": 8,
    "start_time": "2023-04-03T12:39:27.283Z"
   },
   {
    "duration": 6,
    "start_time": "2023-04-03T12:39:27.292Z"
   },
   {
    "duration": 72,
    "start_time": "2023-04-03T12:39:27.299Z"
   },
   {
    "duration": 10,
    "start_time": "2023-04-03T12:39:27.373Z"
   },
   {
    "duration": 13,
    "start_time": "2023-04-03T12:39:27.385Z"
   },
   {
    "duration": 34,
    "start_time": "2023-04-03T12:39:27.401Z"
   },
   {
    "duration": 33,
    "start_time": "2023-04-03T12:39:27.437Z"
   },
   {
    "duration": 17,
    "start_time": "2023-04-03T12:39:27.472Z"
   },
   {
    "duration": 4,
    "start_time": "2023-04-03T12:39:27.490Z"
   },
   {
    "duration": 17,
    "start_time": "2023-04-03T12:39:27.496Z"
   },
   {
    "duration": 6,
    "start_time": "2023-04-03T12:39:27.515Z"
   },
   {
    "duration": 32,
    "start_time": "2023-04-03T12:39:27.523Z"
   },
   {
    "duration": 15,
    "start_time": "2023-04-03T12:39:27.556Z"
   },
   {
    "duration": 39,
    "start_time": "2023-04-03T12:39:27.573Z"
   },
   {
    "duration": 3,
    "start_time": "2023-04-03T12:39:27.615Z"
   },
   {
    "duration": 42,
    "start_time": "2023-04-03T12:39:27.621Z"
   },
   {
    "duration": 27,
    "start_time": "2023-04-03T12:39:27.664Z"
   },
   {
    "duration": 20,
    "start_time": "2023-04-03T12:39:27.693Z"
   },
   {
    "duration": 47,
    "start_time": "2023-04-03T12:40:51.334Z"
   },
   {
    "duration": 21,
    "start_time": "2023-04-03T12:41:14.668Z"
   },
   {
    "duration": 21,
    "start_time": "2023-04-03T12:44:47.807Z"
   },
   {
    "duration": 24,
    "start_time": "2023-04-03T12:47:17.114Z"
   },
   {
    "duration": 24,
    "start_time": "2023-04-03T12:47:40.110Z"
   },
   {
    "duration": 23,
    "start_time": "2023-04-03T12:49:59.980Z"
   },
   {
    "duration": 24,
    "start_time": "2023-04-03T12:50:59.378Z"
   },
   {
    "duration": 24,
    "start_time": "2023-04-03T12:51:57.599Z"
   },
   {
    "duration": 23,
    "start_time": "2023-04-03T12:52:10.874Z"
   },
   {
    "duration": 25,
    "start_time": "2023-04-03T12:54:10.860Z"
   },
   {
    "duration": 23,
    "start_time": "2023-04-03T12:54:11.571Z"
   },
   {
    "duration": 19,
    "start_time": "2023-04-03T12:54:23.603Z"
   },
   {
    "duration": 21,
    "start_time": "2023-04-03T13:01:59.914Z"
   },
   {
    "duration": 21,
    "start_time": "2023-04-03T13:02:25.973Z"
   },
   {
    "duration": 27,
    "start_time": "2023-04-03T13:03:44.155Z"
   },
   {
    "duration": 20,
    "start_time": "2023-04-03T13:03:52.724Z"
   },
   {
    "duration": 21,
    "start_time": "2023-04-03T13:05:00.811Z"
   },
   {
    "duration": 28,
    "start_time": "2023-04-03T13:05:38.739Z"
   },
   {
    "duration": 20,
    "start_time": "2023-04-03T13:07:40.803Z"
   },
   {
    "duration": 29,
    "start_time": "2023-04-03T13:08:17.138Z"
   },
   {
    "duration": 10,
    "start_time": "2023-04-03T13:08:35.897Z"
   },
   {
    "duration": 19,
    "start_time": "2023-04-03T13:08:45.677Z"
   },
   {
    "duration": 20,
    "start_time": "2023-04-03T13:12:27.176Z"
   },
   {
    "duration": 34,
    "start_time": "2023-04-03T13:13:24.125Z"
   },
   {
    "duration": 40,
    "start_time": "2023-04-03T13:13:56.931Z"
   },
   {
    "duration": 110,
    "start_time": "2023-04-03T13:14:56.595Z"
   },
   {
    "duration": 19,
    "start_time": "2023-04-03T13:15:01.202Z"
   },
   {
    "duration": 22,
    "start_time": "2023-04-03T13:15:12.788Z"
   },
   {
    "duration": 26,
    "start_time": "2023-04-03T13:15:22.571Z"
   },
   {
    "duration": 22,
    "start_time": "2023-04-03T13:16:39.607Z"
   },
   {
    "duration": 22,
    "start_time": "2023-04-03T13:16:59.601Z"
   },
   {
    "duration": 21,
    "start_time": "2023-04-03T13:18:13.970Z"
   },
   {
    "duration": 24,
    "start_time": "2023-04-03T13:18:32.369Z"
   },
   {
    "duration": 21,
    "start_time": "2023-04-03T13:18:54.968Z"
   },
   {
    "duration": 28,
    "start_time": "2023-04-03T13:19:04.784Z"
   },
   {
    "duration": 20,
    "start_time": "2023-04-03T13:19:12.800Z"
   },
   {
    "duration": 24,
    "start_time": "2023-04-03T13:19:43.487Z"
   },
   {
    "duration": 33,
    "start_time": "2023-04-03T13:22:23.871Z"
   },
   {
    "duration": 28,
    "start_time": "2023-04-03T13:22:28.462Z"
   },
   {
    "duration": 67,
    "start_time": "2023-04-03T13:35:48.989Z"
   },
   {
    "duration": 14,
    "start_time": "2023-04-03T13:35:49.058Z"
   },
   {
    "duration": 24,
    "start_time": "2023-04-03T13:35:49.073Z"
   },
   {
    "duration": 17,
    "start_time": "2023-04-03T13:35:49.099Z"
   },
   {
    "duration": 48,
    "start_time": "2023-04-03T13:35:49.118Z"
   },
   {
    "duration": 2,
    "start_time": "2023-04-03T13:35:49.168Z"
   },
   {
    "duration": 14,
    "start_time": "2023-04-03T13:35:49.172Z"
   },
   {
    "duration": 23,
    "start_time": "2023-04-03T13:35:49.187Z"
   },
   {
    "duration": 6,
    "start_time": "2023-04-03T13:35:49.212Z"
   },
   {
    "duration": 4,
    "start_time": "2023-04-03T13:35:49.221Z"
   },
   {
    "duration": 33,
    "start_time": "2023-04-03T13:35:49.226Z"
   },
   {
    "duration": 8,
    "start_time": "2023-04-03T13:35:49.261Z"
   },
   {
    "duration": 6,
    "start_time": "2023-04-03T13:35:49.271Z"
   },
   {
    "duration": 17,
    "start_time": "2023-04-03T13:35:49.278Z"
   },
   {
    "duration": 21,
    "start_time": "2023-04-03T13:35:49.297Z"
   },
   {
    "duration": 31,
    "start_time": "2023-04-03T13:35:49.320Z"
   },
   {
    "duration": 3,
    "start_time": "2023-04-03T13:35:49.352Z"
   },
   {
    "duration": 16,
    "start_time": "2023-04-03T13:35:49.356Z"
   },
   {
    "duration": 5,
    "start_time": "2023-04-03T13:35:49.373Z"
   },
   {
    "duration": 3,
    "start_time": "2023-04-03T13:35:49.379Z"
   },
   {
    "duration": 9,
    "start_time": "2023-04-03T13:35:49.383Z"
   },
   {
    "duration": 25,
    "start_time": "2023-04-03T13:35:49.393Z"
   },
   {
    "duration": 20,
    "start_time": "2023-04-03T13:35:49.420Z"
   },
   {
    "duration": 19,
    "start_time": "2023-04-03T13:35:49.441Z"
   },
   {
    "duration": 18,
    "start_time": "2023-04-03T13:35:49.461Z"
   },
   {
    "duration": 16,
    "start_time": "2023-04-03T13:35:49.480Z"
   },
   {
    "duration": 516,
    "start_time": "2023-04-04T10:58:50.235Z"
   },
   {
    "duration": 23,
    "start_time": "2023-04-04T10:58:50.753Z"
   },
   {
    "duration": 16,
    "start_time": "2023-04-04T10:58:50.778Z"
   },
   {
    "duration": 11,
    "start_time": "2023-04-04T10:58:50.796Z"
   },
   {
    "duration": 46,
    "start_time": "2023-04-04T10:58:50.808Z"
   },
   {
    "duration": 3,
    "start_time": "2023-04-04T10:58:50.856Z"
   },
   {
    "duration": 27,
    "start_time": "2023-04-04T10:58:50.861Z"
   },
   {
    "duration": 7,
    "start_time": "2023-04-04T10:58:50.890Z"
   },
   {
    "duration": 8,
    "start_time": "2023-04-04T10:58:50.899Z"
   },
   {
    "duration": 5,
    "start_time": "2023-04-04T10:58:50.917Z"
   },
   {
    "duration": 48,
    "start_time": "2023-04-04T10:58:50.923Z"
   },
   {
    "duration": 11,
    "start_time": "2023-04-04T10:58:50.972Z"
   },
   {
    "duration": 22,
    "start_time": "2023-04-04T10:58:50.984Z"
   },
   {
    "duration": 19,
    "start_time": "2023-04-04T10:58:51.007Z"
   },
   {
    "duration": 47,
    "start_time": "2023-04-04T10:58:51.028Z"
   },
   {
    "duration": 19,
    "start_time": "2023-04-04T10:58:51.077Z"
   },
   {
    "duration": 10,
    "start_time": "2023-04-04T10:58:51.098Z"
   },
   {
    "duration": 32,
    "start_time": "2023-04-04T10:58:51.109Z"
   },
   {
    "duration": 7,
    "start_time": "2023-04-04T10:58:51.143Z"
   },
   {
    "duration": 16,
    "start_time": "2023-04-04T10:58:51.152Z"
   },
   {
    "duration": 20,
    "start_time": "2023-04-04T10:58:51.170Z"
   },
   {
    "duration": 32,
    "start_time": "2023-04-04T10:58:51.192Z"
   },
   {
    "duration": 2,
    "start_time": "2023-04-04T10:58:51.226Z"
   },
   {
    "duration": 47,
    "start_time": "2023-04-04T10:58:51.230Z"
   },
   {
    "duration": 20,
    "start_time": "2023-04-04T10:58:51.278Z"
   },
   {
    "duration": 30,
    "start_time": "2023-04-04T10:58:51.302Z"
   },
   {
    "duration": 21,
    "start_time": "2023-04-04T10:58:51.334Z"
   },
   {
    "duration": 33,
    "start_time": "2023-04-04T10:59:45.768Z"
   },
   {
    "duration": 113,
    "start_time": "2023-04-04T11:00:55.080Z"
   },
   {
    "duration": 457,
    "start_time": "2023-04-04T11:01:03.341Z"
   },
   {
    "duration": 24,
    "start_time": "2023-04-04T11:01:03.800Z"
   },
   {
    "duration": 24,
    "start_time": "2023-04-04T11:01:03.825Z"
   },
   {
    "duration": 16,
    "start_time": "2023-04-04T11:01:03.852Z"
   },
   {
    "duration": 39,
    "start_time": "2023-04-04T11:01:03.870Z"
   },
   {
    "duration": 4,
    "start_time": "2023-04-04T11:01:03.911Z"
   },
   {
    "duration": 10,
    "start_time": "2023-04-04T11:01:03.917Z"
   },
   {
    "duration": 9,
    "start_time": "2023-04-04T11:01:03.929Z"
   },
   {
    "duration": 7,
    "start_time": "2023-04-04T11:01:03.939Z"
   },
   {
    "duration": 4,
    "start_time": "2023-04-04T11:01:03.950Z"
   },
   {
    "duration": 62,
    "start_time": "2023-04-04T11:01:03.956Z"
   },
   {
    "duration": 13,
    "start_time": "2023-04-04T11:01:04.019Z"
   },
   {
    "duration": 5,
    "start_time": "2023-04-04T11:01:04.034Z"
   },
   {
    "duration": 20,
    "start_time": "2023-04-04T11:01:04.040Z"
   },
   {
    "duration": 25,
    "start_time": "2023-04-04T11:01:04.062Z"
   },
   {
    "duration": 29,
    "start_time": "2023-04-04T11:01:04.089Z"
   },
   {
    "duration": 4,
    "start_time": "2023-04-04T11:01:04.120Z"
   },
   {
    "duration": 22,
    "start_time": "2023-04-04T11:01:04.125Z"
   },
   {
    "duration": 15,
    "start_time": "2023-04-04T11:01:04.149Z"
   },
   {
    "duration": 13,
    "start_time": "2023-04-04T11:01:04.166Z"
   },
   {
    "duration": 15,
    "start_time": "2023-04-04T11:01:04.180Z"
   },
   {
    "duration": 48,
    "start_time": "2023-04-04T11:01:04.197Z"
   },
   {
    "duration": 2,
    "start_time": "2023-04-04T11:01:04.247Z"
   },
   {
    "duration": 112,
    "start_time": "2023-04-04T11:01:04.251Z"
   },
   {
    "duration": 0,
    "start_time": "2023-04-04T11:01:04.365Z"
   },
   {
    "duration": 0,
    "start_time": "2023-04-04T11:01:04.366Z"
   },
   {
    "duration": 0,
    "start_time": "2023-04-04T11:01:04.368Z"
   },
   {
    "duration": 35,
    "start_time": "2023-04-04T11:01:13.712Z"
   },
   {
    "duration": 510,
    "start_time": "2023-04-04T11:02:32.886Z"
   },
   {
    "duration": 24,
    "start_time": "2023-04-04T11:02:33.398Z"
   },
   {
    "duration": 16,
    "start_time": "2023-04-04T11:02:33.424Z"
   },
   {
    "duration": 10,
    "start_time": "2023-04-04T11:02:33.441Z"
   },
   {
    "duration": 53,
    "start_time": "2023-04-04T11:02:33.453Z"
   },
   {
    "duration": 4,
    "start_time": "2023-04-04T11:02:33.508Z"
   },
   {
    "duration": 25,
    "start_time": "2023-04-04T11:02:33.514Z"
   },
   {
    "duration": 5,
    "start_time": "2023-04-04T11:02:33.541Z"
   },
   {
    "duration": 13,
    "start_time": "2023-04-04T11:02:33.548Z"
   },
   {
    "duration": 5,
    "start_time": "2023-04-04T11:02:33.563Z"
   },
   {
    "duration": 49,
    "start_time": "2023-04-04T11:02:33.570Z"
   },
   {
    "duration": 10,
    "start_time": "2023-04-04T11:02:33.621Z"
   },
   {
    "duration": 7,
    "start_time": "2023-04-04T11:02:33.633Z"
   },
   {
    "duration": 12,
    "start_time": "2023-04-04T11:02:33.643Z"
   },
   {
    "duration": 22,
    "start_time": "2023-04-04T11:02:33.657Z"
   },
   {
    "duration": 34,
    "start_time": "2023-04-04T11:02:33.681Z"
   },
   {
    "duration": 3,
    "start_time": "2023-04-04T11:02:33.717Z"
   },
   {
    "duration": 13,
    "start_time": "2023-04-04T11:02:33.722Z"
   },
   {
    "duration": 6,
    "start_time": "2023-04-04T11:02:33.737Z"
   },
   {
    "duration": 7,
    "start_time": "2023-04-04T11:02:33.744Z"
   },
   {
    "duration": 11,
    "start_time": "2023-04-04T11:02:33.752Z"
   },
   {
    "duration": 58,
    "start_time": "2023-04-04T11:02:33.764Z"
   },
   {
    "duration": 2,
    "start_time": "2023-04-04T11:02:33.824Z"
   },
   {
    "duration": 51,
    "start_time": "2023-04-04T11:02:33.828Z"
   },
   {
    "duration": 27,
    "start_time": "2023-04-04T11:02:33.880Z"
   },
   {
    "duration": 20,
    "start_time": "2023-04-04T11:02:33.908Z"
   },
   {
    "duration": 21,
    "start_time": "2023-04-04T11:02:33.930Z"
   },
   {
    "duration": 56,
    "start_time": "2023-04-04T12:09:38.396Z"
   },
   {
    "duration": 7,
    "start_time": "2023-04-04T12:09:45.519Z"
   },
   {
    "duration": 486,
    "start_time": "2023-04-04T12:10:19.329Z"
   },
   {
    "duration": 23,
    "start_time": "2023-04-04T12:10:19.817Z"
   },
   {
    "duration": 15,
    "start_time": "2023-04-04T12:10:19.841Z"
   },
   {
    "duration": 10,
    "start_time": "2023-04-04T12:10:19.858Z"
   },
   {
    "duration": 33,
    "start_time": "2023-04-04T12:10:19.875Z"
   },
   {
    "duration": 3,
    "start_time": "2023-04-04T12:10:19.909Z"
   },
   {
    "duration": 10,
    "start_time": "2023-04-04T12:10:19.914Z"
   },
   {
    "duration": 4,
    "start_time": "2023-04-04T12:10:19.926Z"
   },
   {
    "duration": 12,
    "start_time": "2023-04-04T12:10:19.932Z"
   },
   {
    "duration": 28,
    "start_time": "2023-04-04T12:10:19.947Z"
   },
   {
    "duration": 34,
    "start_time": "2023-04-04T12:10:19.977Z"
   },
   {
    "duration": 10,
    "start_time": "2023-04-04T12:10:20.012Z"
   },
   {
    "duration": 15,
    "start_time": "2023-04-04T12:10:20.024Z"
   },
   {
    "duration": 29,
    "start_time": "2023-04-04T12:10:20.041Z"
   },
   {
    "duration": 34,
    "start_time": "2023-04-04T12:10:20.072Z"
   },
   {
    "duration": 22,
    "start_time": "2023-04-04T12:10:20.108Z"
   },
   {
    "duration": 4,
    "start_time": "2023-04-04T12:10:20.131Z"
   },
   {
    "duration": 32,
    "start_time": "2023-04-04T12:10:20.138Z"
   },
   {
    "duration": 8,
    "start_time": "2023-04-04T12:10:20.173Z"
   },
   {
    "duration": 6,
    "start_time": "2023-04-04T12:10:20.184Z"
   },
   {
    "duration": 29,
    "start_time": "2023-04-04T12:10:20.192Z"
   },
   {
    "duration": 53,
    "start_time": "2023-04-04T12:10:20.223Z"
   },
   {
    "duration": 0,
    "start_time": "2023-04-04T12:10:20.278Z"
   },
   {
    "duration": 0,
    "start_time": "2023-04-04T12:10:20.279Z"
   },
   {
    "duration": 0,
    "start_time": "2023-04-04T12:10:20.280Z"
   },
   {
    "duration": 0,
    "start_time": "2023-04-04T12:10:20.281Z"
   },
   {
    "duration": 0,
    "start_time": "2023-04-04T12:10:20.282Z"
   },
   {
    "duration": 26,
    "start_time": "2023-04-04T12:10:37.096Z"
   },
   {
    "duration": 38,
    "start_time": "2023-04-04T12:13:18.556Z"
   },
   {
    "duration": 41,
    "start_time": "2023-04-04T12:14:23.409Z"
   },
   {
    "duration": 52,
    "start_time": "2023-04-04T12:16:34.203Z"
   },
   {
    "duration": 39,
    "start_time": "2023-04-04T12:16:49.712Z"
   },
   {
    "duration": 35,
    "start_time": "2023-04-04T12:17:08.359Z"
   },
   {
    "duration": 41,
    "start_time": "2023-04-04T12:17:43.328Z"
   },
   {
    "duration": 35,
    "start_time": "2023-04-04T12:19:32.096Z"
   },
   {
    "duration": 22,
    "start_time": "2023-04-04T12:25:23.392Z"
   },
   {
    "duration": 22,
    "start_time": "2023-04-04T12:26:11.900Z"
   },
   {
    "duration": 68,
    "start_time": "2023-04-04T12:27:03.293Z"
   },
   {
    "duration": 33,
    "start_time": "2023-04-04T12:31:24.562Z"
   },
   {
    "duration": 4,
    "start_time": "2023-04-04T12:31:31.955Z"
   },
   {
    "duration": 47,
    "start_time": "2023-04-04T12:31:44.392Z"
   },
   {
    "duration": 36,
    "start_time": "2023-04-04T12:32:12.396Z"
   },
   {
    "duration": 34,
    "start_time": "2023-04-04T12:32:41.013Z"
   },
   {
    "duration": 39,
    "start_time": "2023-04-04T12:34:40.947Z"
   },
   {
    "duration": 42,
    "start_time": "2023-04-04T12:45:39.887Z"
   },
   {
    "duration": 40,
    "start_time": "2023-04-04T12:45:45.722Z"
   },
   {
    "duration": 57,
    "start_time": "2023-04-04T12:45:50.802Z"
   },
   {
    "duration": 47,
    "start_time": "2023-04-04T12:45:55.808Z"
   },
   {
    "duration": 43,
    "start_time": "2023-04-04T12:45:59.197Z"
   },
   {
    "duration": 71,
    "start_time": "2023-04-04T12:46:04.059Z"
   },
   {
    "duration": 70,
    "start_time": "2023-04-04T12:46:06.921Z"
   },
   {
    "duration": 47,
    "start_time": "2023-04-04T12:47:30.944Z"
   },
   {
    "duration": 31,
    "start_time": "2023-04-04T12:55:46.602Z"
   },
   {
    "duration": 19,
    "start_time": "2023-04-04T12:55:57.645Z"
   },
   {
    "duration": 46,
    "start_time": "2023-04-04T18:15:10.884Z"
   },
   {
    "duration": 8,
    "start_time": "2023-04-04T18:15:22.218Z"
   },
   {
    "duration": 7,
    "start_time": "2023-04-04T18:15:49.923Z"
   },
   {
    "duration": 7,
    "start_time": "2023-04-04T18:15:57.617Z"
   },
   {
    "duration": 7,
    "start_time": "2023-04-04T18:16:15.192Z"
   },
   {
    "duration": 7,
    "start_time": "2023-04-04T18:16:38.998Z"
   },
   {
    "duration": 648,
    "start_time": "2023-04-04T18:17:03.914Z"
   },
   {
    "duration": 22,
    "start_time": "2023-04-04T18:17:04.564Z"
   },
   {
    "duration": 16,
    "start_time": "2023-04-04T18:17:04.587Z"
   },
   {
    "duration": 9,
    "start_time": "2023-04-04T18:17:04.605Z"
   },
   {
    "duration": 39,
    "start_time": "2023-04-04T18:17:04.616Z"
   },
   {
    "duration": 3,
    "start_time": "2023-04-04T18:17:04.657Z"
   },
   {
    "duration": 29,
    "start_time": "2023-04-04T18:17:04.662Z"
   },
   {
    "duration": 7,
    "start_time": "2023-04-04T18:17:04.692Z"
   },
   {
    "duration": 11,
    "start_time": "2023-04-04T18:17:04.701Z"
   },
   {
    "duration": 16,
    "start_time": "2023-04-04T18:17:04.715Z"
   },
   {
    "duration": 42,
    "start_time": "2023-04-04T18:17:04.733Z"
   },
   {
    "duration": 15,
    "start_time": "2023-04-04T18:17:04.778Z"
   },
   {
    "duration": 35,
    "start_time": "2023-04-04T18:17:04.795Z"
   },
   {
    "duration": 20,
    "start_time": "2023-04-04T18:17:04.832Z"
   },
   {
    "duration": 45,
    "start_time": "2023-04-04T18:17:04.854Z"
   },
   {
    "duration": 22,
    "start_time": "2023-04-04T18:17:04.901Z"
   },
   {
    "duration": 4,
    "start_time": "2023-04-04T18:17:04.925Z"
   },
   {
    "duration": 39,
    "start_time": "2023-04-04T18:17:04.931Z"
   },
   {
    "duration": 24,
    "start_time": "2023-04-04T18:17:04.972Z"
   },
   {
    "duration": 29,
    "start_time": "2023-04-04T18:17:04.997Z"
   },
   {
    "duration": 28,
    "start_time": "2023-04-04T18:17:05.028Z"
   },
   {
    "duration": 32,
    "start_time": "2023-04-04T18:17:05.058Z"
   },
   {
    "duration": 2,
    "start_time": "2023-04-04T18:17:05.092Z"
   },
   {
    "duration": 37,
    "start_time": "2023-04-04T18:17:05.095Z"
   },
   {
    "duration": 31,
    "start_time": "2023-04-04T18:17:05.133Z"
   },
   {
    "duration": 18,
    "start_time": "2023-04-04T18:17:05.183Z"
   },
   {
    "duration": 24,
    "start_time": "2023-04-04T18:17:05.202Z"
   },
   {
    "duration": 22,
    "start_time": "2023-04-04T18:17:25.882Z"
   },
   {
    "duration": 112,
    "start_time": "2023-04-04T20:57:23.311Z"
   },
   {
    "duration": 107,
    "start_time": "2023-04-04T20:59:07.417Z"
   },
   {
    "duration": 51,
    "start_time": "2023-05-09T13:50:32.908Z"
   }
  ],
  "colab": {
   "name": "dpp_template_part2.ipynb",
   "provenance": []
  },
  "kernelspec": {
   "display_name": "Python 3 (ipykernel)",
   "language": "python",
   "name": "python3"
  },
  "language_info": {
   "codemirror_mode": {
    "name": "ipython",
    "version": 3
   },
   "file_extension": ".py",
   "mimetype": "text/x-python",
   "name": "python",
   "nbconvert_exporter": "python",
   "pygments_lexer": "ipython3",
   "version": "3.11.5"
  },
  "toc": {
   "base_numbering": 1,
   "nav_menu": {},
   "number_sections": true,
   "sideBar": true,
   "skip_h1_title": true,
   "title_cell": "Table of Contents",
   "title_sidebar": "Contents",
   "toc_cell": false,
   "toc_position": {},
   "toc_section_display": true,
   "toc_window_display": false
  }
 },
 "nbformat": 4,
 "nbformat_minor": 5
}
