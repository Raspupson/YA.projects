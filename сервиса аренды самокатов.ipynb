{
 "cells": [
  {
   "cell_type": "markdown",
   "id": "b87232d9",
   "metadata": {},
   "source": [
    "# Описание проекта\n",
    "<br>Вы аналитик популярного сервиса аренды самокатов GoFast. Вам передали данные о некоторых пользователях из нескольких городов, а также об их поездках. Проанализируйте данные и проверьте некоторые гипотезы, которые могут помочь бизнесу вырасти.\n",
    "Чтобы совершать поездки по городу, пользователи сервиса GoFast пользуются мобильным приложением. Сервисом можно пользоваться:\n",
    "без подписки абонентская плата отсутствует;<br>\n",
    "<br>стоимость одной минуты поездки — 8 рублей;<br>\n",
    "<br>стоимость старта (начала поездки) — 50 рублей;с подпиской Ultra абонентская плата — 199 рублей в месяц;<br>\n",
    "<br>стоимость одной минуты поездки — 6 рублей;<br>\n",
    "<br>стоимость старта — бесплатно.<br>\n",
    "<br>Описание данных<br>\n",
    "<br>В основных данных есть информация о пользователях, их поездках и подписках.<br>\n",
    "<br>Пользователи — users_go.csv\n",
    "<br>user_id\tуникальный идентификатор пользователя\n",
    "<br>name\tимя пользователя\n",
    "<br>age\tвозраст\n",
    "<br>city\tгород\n",
    "<br>subscription_type\tтип подписки (free, ultra)\n",
    "<br>Поездки — rides_go.csv\n",
    "<br>user_id\tуникальный идентификатор пользователя\n",
    "<br>distance\tрасстояние, которое пользователь проехал в текущей сессии (в метрах)\n",
    "<br>duration\tпродолжительность сессии (в минутах) — время с того момента, как пользователь нажал кнопку «Начать поездку» до момента, как он нажал кнопку «Завершить поездку»\n",
    "<br>date\tдата совершения поездки\n",
    "<br>Подписки — subscriptions_go.csv\n",
    "<br>subscription_type\tтип подписки\n",
    "<br>minute_price\tстоимость одной минуты поездки по данной подписке\n",
    "<br>start_ride_price\tстоимость начала поездки\n",
    "<br>subscription_fee\tстоимость ежемесячного платежа<br>\n"
   ]
  },
  {
   "cell_type": "markdown",
   "id": "4f86a6e8",
   "metadata": {},
   "source": [
    "Импортируем билиотеки для работы"
   ]
  },
  {
   "cell_type": "code",
   "execution_count": 1,
   "id": "72576667",
   "metadata": {
    "tags": []
   },
   "outputs": [],
   "source": [
    "import pandas as pd\n",
    "import numpy as np\n",
    "import matplotlib as mplt\n",
    "import matplotlib.pyplot as plt\n",
    "import seaborn as sns\n",
    "from scipy import stats as st\n",
    "pd.set_option('display.float_format', '{:,.2f}'.format)"
   ]
  },
  {
   "cell_type": "markdown",
   "id": "8279d391",
   "metadata": {},
   "source": [
    "<div class=\"alert alert-success\" style=\"border-radius: 10px; box-shadow: 2px 2px 2px; border: 1px solid; padding: 10px \">\n",
    "<b>Комментарий ревьюера v.1</b> \n",
    "    \n",
    "👍 \n",
    "Правильно, что весь импорт ты проводишь в первой ячейке работы. Так твой коллега, запускающий работу, будет в курсе используемых в ней библиотек и сможет при необходимости быстро настроить окружение.\n",
    "</div>"
   ]
  },
  {
   "cell_type": "markdown",
   "id": "c42cbe00",
   "metadata": {},
   "source": [
    "#### Шаг 1. Загрузка данных"
   ]
  },
  {
   "cell_type": "markdown",
   "id": "4678f54f",
   "metadata": {},
   "source": [
    "Знакомство с данными"
   ]
  },
  {
   "cell_type": "markdown",
   "id": "c18e2400-3111-4fc6-8692-9e2cdd8cbceb",
   "metadata": {
    "tags": []
   },
   "source": [
    "Пропишем функцию и откроем данные"
   ]
  },
  {
   "cell_type": "code",
   "execution_count": 2,
   "id": "e38e5502-fa2b-4cb1-a911-23a12355035d",
   "metadata": {
    "tags": []
   },
   "outputs": [],
   "source": [
    "def my_func(x):\n",
    "    print('------------- Исходный датафрейм -------------')\n",
    "    display(x.head())\n",
    "    print('')\n",
    "    print('')\n",
    "    print('------------- Общая информация о датафрейме -------------')\n",
    "    print('')\n",
    "    print('')\n",
    "    display(x.info())\n",
    "    print('------------- Количество пустых значений в датафрейме -------------')\n",
    "    print('')\n",
    "    print('')\n",
    "    display(x.isna().sum())\n",
    "    print('------------- Количество явных дубликатов в датафрейме -------------')\n",
    "    display(x.duplicated().sum())\n",
    "    print('')\n",
    "    print('')\n",
    "    print('------------- Описательная статистика -------------')\n",
    "    display(x.describe())\n",
    "    \n"
   ]
  },
  {
   "cell_type": "code",
   "execution_count": 3,
   "id": "eff9f206",
   "metadata": {
    "tags": []
   },
   "outputs": [],
   "source": [
    "u_go = pd.read_csv(r\"C:\\Users\\lebed\\Downloads\\users_go.csv\")"
   ]
  },
  {
   "cell_type": "code",
   "execution_count": 4,
   "id": "2f021570-9549-4a1e-8845-be831c4a745c",
   "metadata": {
    "tags": []
   },
   "outputs": [
    {
     "name": "stdout",
     "output_type": "stream",
     "text": [
      "------------- Исходный датафрейм -------------\n"
     ]
    },
    {
     "data": {
      "text/html": [
       "<div>\n",
       "<style scoped>\n",
       "    .dataframe tbody tr th:only-of-type {\n",
       "        vertical-align: middle;\n",
       "    }\n",
       "\n",
       "    .dataframe tbody tr th {\n",
       "        vertical-align: top;\n",
       "    }\n",
       "\n",
       "    .dataframe thead th {\n",
       "        text-align: right;\n",
       "    }\n",
       "</style>\n",
       "<table border=\"1\" class=\"dataframe\">\n",
       "  <thead>\n",
       "    <tr style=\"text-align: right;\">\n",
       "      <th></th>\n",
       "      <th>user_id</th>\n",
       "      <th>name</th>\n",
       "      <th>age</th>\n",
       "      <th>city</th>\n",
       "      <th>subscription_type</th>\n",
       "    </tr>\n",
       "  </thead>\n",
       "  <tbody>\n",
       "    <tr>\n",
       "      <th>0</th>\n",
       "      <td>1</td>\n",
       "      <td>Кира</td>\n",
       "      <td>22</td>\n",
       "      <td>Тюмень</td>\n",
       "      <td>ultra</td>\n",
       "    </tr>\n",
       "    <tr>\n",
       "      <th>1</th>\n",
       "      <td>2</td>\n",
       "      <td>Станислав</td>\n",
       "      <td>31</td>\n",
       "      <td>Омск</td>\n",
       "      <td>ultra</td>\n",
       "    </tr>\n",
       "    <tr>\n",
       "      <th>2</th>\n",
       "      <td>3</td>\n",
       "      <td>Алексей</td>\n",
       "      <td>20</td>\n",
       "      <td>Москва</td>\n",
       "      <td>ultra</td>\n",
       "    </tr>\n",
       "    <tr>\n",
       "      <th>3</th>\n",
       "      <td>4</td>\n",
       "      <td>Константин</td>\n",
       "      <td>26</td>\n",
       "      <td>Ростов-на-Дону</td>\n",
       "      <td>ultra</td>\n",
       "    </tr>\n",
       "    <tr>\n",
       "      <th>4</th>\n",
       "      <td>5</td>\n",
       "      <td>Адель</td>\n",
       "      <td>28</td>\n",
       "      <td>Омск</td>\n",
       "      <td>ultra</td>\n",
       "    </tr>\n",
       "  </tbody>\n",
       "</table>\n",
       "</div>"
      ],
      "text/plain": [
       "   user_id        name  age            city subscription_type\n",
       "0        1        Кира   22          Тюмень             ultra\n",
       "1        2   Станислав   31            Омск             ultra\n",
       "2        3     Алексей   20          Москва             ultra\n",
       "3        4  Константин   26  Ростов-на-Дону             ultra\n",
       "4        5       Адель   28            Омск             ultra"
      ]
     },
     "metadata": {},
     "output_type": "display_data"
    },
    {
     "name": "stdout",
     "output_type": "stream",
     "text": [
      "\n",
      "\n",
      "------------- Общая информация о датафрейме -------------\n",
      "\n",
      "\n",
      "<class 'pandas.core.frame.DataFrame'>\n",
      "RangeIndex: 1565 entries, 0 to 1564\n",
      "Data columns (total 5 columns):\n",
      " #   Column             Non-Null Count  Dtype \n",
      "---  ------             --------------  ----- \n",
      " 0   user_id            1565 non-null   int64 \n",
      " 1   name               1565 non-null   object\n",
      " 2   age                1565 non-null   int64 \n",
      " 3   city               1565 non-null   object\n",
      " 4   subscription_type  1565 non-null   object\n",
      "dtypes: int64(2), object(3)\n",
      "memory usage: 61.3+ KB\n"
     ]
    },
    {
     "data": {
      "text/plain": [
       "None"
      ]
     },
     "metadata": {},
     "output_type": "display_data"
    },
    {
     "name": "stdout",
     "output_type": "stream",
     "text": [
      "------------- Количество пустых значений в датафрейме -------------\n",
      "\n",
      "\n"
     ]
    },
    {
     "data": {
      "text/plain": [
       "user_id              0\n",
       "name                 0\n",
       "age                  0\n",
       "city                 0\n",
       "subscription_type    0\n",
       "dtype: int64"
      ]
     },
     "metadata": {},
     "output_type": "display_data"
    },
    {
     "name": "stdout",
     "output_type": "stream",
     "text": [
      "------------- Количество явных дубликатов в датафрейме -------------\n"
     ]
    },
    {
     "data": {
      "text/plain": [
       "31"
      ]
     },
     "metadata": {},
     "output_type": "display_data"
    },
    {
     "name": "stdout",
     "output_type": "stream",
     "text": [
      "\n",
      "\n",
      "------------- Описательная статистика -------------\n"
     ]
    },
    {
     "data": {
      "text/html": [
       "<div>\n",
       "<style scoped>\n",
       "    .dataframe tbody tr th:only-of-type {\n",
       "        vertical-align: middle;\n",
       "    }\n",
       "\n",
       "    .dataframe tbody tr th {\n",
       "        vertical-align: top;\n",
       "    }\n",
       "\n",
       "    .dataframe thead th {\n",
       "        text-align: right;\n",
       "    }\n",
       "</style>\n",
       "<table border=\"1\" class=\"dataframe\">\n",
       "  <thead>\n",
       "    <tr style=\"text-align: right;\">\n",
       "      <th></th>\n",
       "      <th>user_id</th>\n",
       "      <th>age</th>\n",
       "    </tr>\n",
       "  </thead>\n",
       "  <tbody>\n",
       "    <tr>\n",
       "      <th>count</th>\n",
       "      <td>1,565.00</td>\n",
       "      <td>1,565.00</td>\n",
       "    </tr>\n",
       "    <tr>\n",
       "      <th>mean</th>\n",
       "      <td>762.63</td>\n",
       "      <td>24.92</td>\n",
       "    </tr>\n",
       "    <tr>\n",
       "      <th>std</th>\n",
       "      <td>443.26</td>\n",
       "      <td>4.55</td>\n",
       "    </tr>\n",
       "    <tr>\n",
       "      <th>min</th>\n",
       "      <td>1.00</td>\n",
       "      <td>12.00</td>\n",
       "    </tr>\n",
       "    <tr>\n",
       "      <th>25%</th>\n",
       "      <td>378.00</td>\n",
       "      <td>22.00</td>\n",
       "    </tr>\n",
       "    <tr>\n",
       "      <th>50%</th>\n",
       "      <td>762.00</td>\n",
       "      <td>25.00</td>\n",
       "    </tr>\n",
       "    <tr>\n",
       "      <th>75%</th>\n",
       "      <td>1,146.00</td>\n",
       "      <td>28.00</td>\n",
       "    </tr>\n",
       "    <tr>\n",
       "      <th>max</th>\n",
       "      <td>1,534.00</td>\n",
       "      <td>43.00</td>\n",
       "    </tr>\n",
       "  </tbody>\n",
       "</table>\n",
       "</div>"
      ],
      "text/plain": [
       "       user_id      age\n",
       "count 1,565.00 1,565.00\n",
       "mean    762.63    24.92\n",
       "std     443.26     4.55\n",
       "min       1.00    12.00\n",
       "25%     378.00    22.00\n",
       "50%     762.00    25.00\n",
       "75%   1,146.00    28.00\n",
       "max   1,534.00    43.00"
      ]
     },
     "metadata": {},
     "output_type": "display_data"
    }
   ],
   "source": [
    "my_func(u_go)"
   ]
  },
  {
   "cell_type": "code",
   "execution_count": 5,
   "id": "775c44b2",
   "metadata": {
    "tags": []
   },
   "outputs": [],
   "source": [
    "r_go=pd.read_csv(r\"C:\\Users\\lebed\\Downloads\\rides_go.csv\", parse_dates=['date'])"
   ]
  },
  {
   "cell_type": "code",
   "execution_count": 6,
   "id": "05d00252-8b06-4596-bae7-d53e1c07ce1e",
   "metadata": {
    "tags": []
   },
   "outputs": [
    {
     "name": "stdout",
     "output_type": "stream",
     "text": [
      "------------- Исходный датафрейм -------------\n"
     ]
    },
    {
     "data": {
      "text/html": [
       "<div>\n",
       "<style scoped>\n",
       "    .dataframe tbody tr th:only-of-type {\n",
       "        vertical-align: middle;\n",
       "    }\n",
       "\n",
       "    .dataframe tbody tr th {\n",
       "        vertical-align: top;\n",
       "    }\n",
       "\n",
       "    .dataframe thead th {\n",
       "        text-align: right;\n",
       "    }\n",
       "</style>\n",
       "<table border=\"1\" class=\"dataframe\">\n",
       "  <thead>\n",
       "    <tr style=\"text-align: right;\">\n",
       "      <th></th>\n",
       "      <th>user_id</th>\n",
       "      <th>distance</th>\n",
       "      <th>duration</th>\n",
       "      <th>date</th>\n",
       "    </tr>\n",
       "  </thead>\n",
       "  <tbody>\n",
       "    <tr>\n",
       "      <th>0</th>\n",
       "      <td>1</td>\n",
       "      <td>4,409.92</td>\n",
       "      <td>25.60</td>\n",
       "      <td>2021-01-01</td>\n",
       "    </tr>\n",
       "    <tr>\n",
       "      <th>1</th>\n",
       "      <td>1</td>\n",
       "      <td>2,617.59</td>\n",
       "      <td>15.82</td>\n",
       "      <td>2021-01-18</td>\n",
       "    </tr>\n",
       "    <tr>\n",
       "      <th>2</th>\n",
       "      <td>1</td>\n",
       "      <td>754.16</td>\n",
       "      <td>6.23</td>\n",
       "      <td>2021-04-20</td>\n",
       "    </tr>\n",
       "    <tr>\n",
       "      <th>3</th>\n",
       "      <td>1</td>\n",
       "      <td>2,694.78</td>\n",
       "      <td>18.51</td>\n",
       "      <td>2021-08-11</td>\n",
       "    </tr>\n",
       "    <tr>\n",
       "      <th>4</th>\n",
       "      <td>1</td>\n",
       "      <td>4,028.69</td>\n",
       "      <td>26.27</td>\n",
       "      <td>2021-08-28</td>\n",
       "    </tr>\n",
       "  </tbody>\n",
       "</table>\n",
       "</div>"
      ],
      "text/plain": [
       "   user_id  distance  duration       date\n",
       "0        1  4,409.92     25.60 2021-01-01\n",
       "1        1  2,617.59     15.82 2021-01-18\n",
       "2        1    754.16      6.23 2021-04-20\n",
       "3        1  2,694.78     18.51 2021-08-11\n",
       "4        1  4,028.69     26.27 2021-08-28"
      ]
     },
     "metadata": {},
     "output_type": "display_data"
    },
    {
     "name": "stdout",
     "output_type": "stream",
     "text": [
      "\n",
      "\n",
      "------------- Общая информация о датафрейме -------------\n",
      "\n",
      "\n",
      "<class 'pandas.core.frame.DataFrame'>\n",
      "RangeIndex: 18068 entries, 0 to 18067\n",
      "Data columns (total 4 columns):\n",
      " #   Column    Non-Null Count  Dtype         \n",
      "---  ------    --------------  -----         \n",
      " 0   user_id   18068 non-null  int64         \n",
      " 1   distance  18068 non-null  float64       \n",
      " 2   duration  18068 non-null  float64       \n",
      " 3   date      18068 non-null  datetime64[ns]\n",
      "dtypes: datetime64[ns](1), float64(2), int64(1)\n",
      "memory usage: 564.8 KB\n"
     ]
    },
    {
     "data": {
      "text/plain": [
       "None"
      ]
     },
     "metadata": {},
     "output_type": "display_data"
    },
    {
     "name": "stdout",
     "output_type": "stream",
     "text": [
      "------------- Количество пустых значений в датафрейме -------------\n",
      "\n",
      "\n"
     ]
    },
    {
     "data": {
      "text/plain": [
       "user_id     0\n",
       "distance    0\n",
       "duration    0\n",
       "date        0\n",
       "dtype: int64"
      ]
     },
     "metadata": {},
     "output_type": "display_data"
    },
    {
     "name": "stdout",
     "output_type": "stream",
     "text": [
      "------------- Количество явных дубликатов в датафрейме -------------\n"
     ]
    },
    {
     "data": {
      "text/plain": [
       "0"
      ]
     },
     "metadata": {},
     "output_type": "display_data"
    },
    {
     "name": "stdout",
     "output_type": "stream",
     "text": [
      "\n",
      "\n",
      "------------- Описательная статистика -------------\n"
     ]
    },
    {
     "data": {
      "text/html": [
       "<div>\n",
       "<style scoped>\n",
       "    .dataframe tbody tr th:only-of-type {\n",
       "        vertical-align: middle;\n",
       "    }\n",
       "\n",
       "    .dataframe tbody tr th {\n",
       "        vertical-align: top;\n",
       "    }\n",
       "\n",
       "    .dataframe thead th {\n",
       "        text-align: right;\n",
       "    }\n",
       "</style>\n",
       "<table border=\"1\" class=\"dataframe\">\n",
       "  <thead>\n",
       "    <tr style=\"text-align: right;\">\n",
       "      <th></th>\n",
       "      <th>user_id</th>\n",
       "      <th>distance</th>\n",
       "      <th>duration</th>\n",
       "      <th>date</th>\n",
       "    </tr>\n",
       "  </thead>\n",
       "  <tbody>\n",
       "    <tr>\n",
       "      <th>count</th>\n",
       "      <td>18,068.00</td>\n",
       "      <td>18,068.00</td>\n",
       "      <td>18,068.00</td>\n",
       "      <td>18068</td>\n",
       "    </tr>\n",
       "    <tr>\n",
       "      <th>mean</th>\n",
       "      <td>842.87</td>\n",
       "      <td>3,070.66</td>\n",
       "      <td>17.81</td>\n",
       "      <td>2021-06-30 19:47:21.266327296</td>\n",
       "    </tr>\n",
       "    <tr>\n",
       "      <th>min</th>\n",
       "      <td>1.00</td>\n",
       "      <td>0.86</td>\n",
       "      <td>0.50</td>\n",
       "      <td>2021-01-01 00:00:00</td>\n",
       "    </tr>\n",
       "    <tr>\n",
       "      <th>25%</th>\n",
       "      <td>487.00</td>\n",
       "      <td>2,543.23</td>\n",
       "      <td>13.60</td>\n",
       "      <td>2021-04-02 00:00:00</td>\n",
       "    </tr>\n",
       "    <tr>\n",
       "      <th>50%</th>\n",
       "      <td>889.00</td>\n",
       "      <td>3,133.61</td>\n",
       "      <td>17.68</td>\n",
       "      <td>2021-06-30 00:00:00</td>\n",
       "    </tr>\n",
       "    <tr>\n",
       "      <th>75%</th>\n",
       "      <td>1,213.25</td>\n",
       "      <td>3,776.22</td>\n",
       "      <td>21.72</td>\n",
       "      <td>2021-09-28 00:00:00</td>\n",
       "    </tr>\n",
       "    <tr>\n",
       "      <th>max</th>\n",
       "      <td>1,534.00</td>\n",
       "      <td>7,211.01</td>\n",
       "      <td>40.82</td>\n",
       "      <td>2021-12-30 00:00:00</td>\n",
       "    </tr>\n",
       "    <tr>\n",
       "      <th>std</th>\n",
       "      <td>434.73</td>\n",
       "      <td>1,116.83</td>\n",
       "      <td>6.09</td>\n",
       "      <td>NaN</td>\n",
       "    </tr>\n",
       "  </tbody>\n",
       "</table>\n",
       "</div>"
      ],
      "text/plain": [
       "        user_id  distance  duration                           date\n",
       "count 18,068.00 18,068.00 18,068.00                          18068\n",
       "mean     842.87  3,070.66     17.81  2021-06-30 19:47:21.266327296\n",
       "min        1.00      0.86      0.50            2021-01-01 00:00:00\n",
       "25%      487.00  2,543.23     13.60            2021-04-02 00:00:00\n",
       "50%      889.00  3,133.61     17.68            2021-06-30 00:00:00\n",
       "75%    1,213.25  3,776.22     21.72            2021-09-28 00:00:00\n",
       "max    1,534.00  7,211.01     40.82            2021-12-30 00:00:00\n",
       "std      434.73  1,116.83      6.09                            NaN"
      ]
     },
     "metadata": {},
     "output_type": "display_data"
    }
   ],
   "source": [
    "my_func(r_go)"
   ]
  },
  {
   "cell_type": "code",
   "execution_count": 7,
   "id": "277f4b0d",
   "metadata": {
    "tags": []
   },
   "outputs": [],
   "source": [
    "s_go=pd.read_csv(r\"C:\\Users\\lebed\\Downloads\\subscriptions_go.csv\")"
   ]
  },
  {
   "cell_type": "code",
   "execution_count": 8,
   "id": "8d5859b7-e941-47e2-9f74-e902ac159d7c",
   "metadata": {
    "tags": []
   },
   "outputs": [
    {
     "name": "stdout",
     "output_type": "stream",
     "text": [
      "------------- Исходный датафрейм -------------\n"
     ]
    },
    {
     "data": {
      "text/html": [
       "<div>\n",
       "<style scoped>\n",
       "    .dataframe tbody tr th:only-of-type {\n",
       "        vertical-align: middle;\n",
       "    }\n",
       "\n",
       "    .dataframe tbody tr th {\n",
       "        vertical-align: top;\n",
       "    }\n",
       "\n",
       "    .dataframe thead th {\n",
       "        text-align: right;\n",
       "    }\n",
       "</style>\n",
       "<table border=\"1\" class=\"dataframe\">\n",
       "  <thead>\n",
       "    <tr style=\"text-align: right;\">\n",
       "      <th></th>\n",
       "      <th>subscription_type</th>\n",
       "      <th>minute_price</th>\n",
       "      <th>start_ride_price</th>\n",
       "      <th>subscription_fee</th>\n",
       "    </tr>\n",
       "  </thead>\n",
       "  <tbody>\n",
       "    <tr>\n",
       "      <th>0</th>\n",
       "      <td>free</td>\n",
       "      <td>8</td>\n",
       "      <td>50</td>\n",
       "      <td>0</td>\n",
       "    </tr>\n",
       "    <tr>\n",
       "      <th>1</th>\n",
       "      <td>ultra</td>\n",
       "      <td>6</td>\n",
       "      <td>0</td>\n",
       "      <td>199</td>\n",
       "    </tr>\n",
       "  </tbody>\n",
       "</table>\n",
       "</div>"
      ],
      "text/plain": [
       "  subscription_type  minute_price  start_ride_price  subscription_fee\n",
       "0              free             8                50                 0\n",
       "1             ultra             6                 0               199"
      ]
     },
     "metadata": {},
     "output_type": "display_data"
    },
    {
     "name": "stdout",
     "output_type": "stream",
     "text": [
      "\n",
      "\n",
      "------------- Общая информация о датафрейме -------------\n",
      "\n",
      "\n",
      "<class 'pandas.core.frame.DataFrame'>\n",
      "RangeIndex: 2 entries, 0 to 1\n",
      "Data columns (total 4 columns):\n",
      " #   Column             Non-Null Count  Dtype \n",
      "---  ------             --------------  ----- \n",
      " 0   subscription_type  2 non-null      object\n",
      " 1   minute_price       2 non-null      int64 \n",
      " 2   start_ride_price   2 non-null      int64 \n",
      " 3   subscription_fee   2 non-null      int64 \n",
      "dtypes: int64(3), object(1)\n",
      "memory usage: 196.0+ bytes\n"
     ]
    },
    {
     "data": {
      "text/plain": [
       "None"
      ]
     },
     "metadata": {},
     "output_type": "display_data"
    },
    {
     "name": "stdout",
     "output_type": "stream",
     "text": [
      "------------- Количество пустых значений в датафрейме -------------\n",
      "\n",
      "\n"
     ]
    },
    {
     "data": {
      "text/plain": [
       "subscription_type    0\n",
       "minute_price         0\n",
       "start_ride_price     0\n",
       "subscription_fee     0\n",
       "dtype: int64"
      ]
     },
     "metadata": {},
     "output_type": "display_data"
    },
    {
     "name": "stdout",
     "output_type": "stream",
     "text": [
      "------------- Количество явных дубликатов в датафрейме -------------\n"
     ]
    },
    {
     "data": {
      "text/plain": [
       "0"
      ]
     },
     "metadata": {},
     "output_type": "display_data"
    },
    {
     "name": "stdout",
     "output_type": "stream",
     "text": [
      "\n",
      "\n",
      "------------- Описательная статистика -------------\n"
     ]
    },
    {
     "data": {
      "text/html": [
       "<div>\n",
       "<style scoped>\n",
       "    .dataframe tbody tr th:only-of-type {\n",
       "        vertical-align: middle;\n",
       "    }\n",
       "\n",
       "    .dataframe tbody tr th {\n",
       "        vertical-align: top;\n",
       "    }\n",
       "\n",
       "    .dataframe thead th {\n",
       "        text-align: right;\n",
       "    }\n",
       "</style>\n",
       "<table border=\"1\" class=\"dataframe\">\n",
       "  <thead>\n",
       "    <tr style=\"text-align: right;\">\n",
       "      <th></th>\n",
       "      <th>minute_price</th>\n",
       "      <th>start_ride_price</th>\n",
       "      <th>subscription_fee</th>\n",
       "    </tr>\n",
       "  </thead>\n",
       "  <tbody>\n",
       "    <tr>\n",
       "      <th>count</th>\n",
       "      <td>2.00</td>\n",
       "      <td>2.00</td>\n",
       "      <td>2.00</td>\n",
       "    </tr>\n",
       "    <tr>\n",
       "      <th>mean</th>\n",
       "      <td>7.00</td>\n",
       "      <td>25.00</td>\n",
       "      <td>99.50</td>\n",
       "    </tr>\n",
       "    <tr>\n",
       "      <th>std</th>\n",
       "      <td>1.41</td>\n",
       "      <td>35.36</td>\n",
       "      <td>140.71</td>\n",
       "    </tr>\n",
       "    <tr>\n",
       "      <th>min</th>\n",
       "      <td>6.00</td>\n",
       "      <td>0.00</td>\n",
       "      <td>0.00</td>\n",
       "    </tr>\n",
       "    <tr>\n",
       "      <th>25%</th>\n",
       "      <td>6.50</td>\n",
       "      <td>12.50</td>\n",
       "      <td>49.75</td>\n",
       "    </tr>\n",
       "    <tr>\n",
       "      <th>50%</th>\n",
       "      <td>7.00</td>\n",
       "      <td>25.00</td>\n",
       "      <td>99.50</td>\n",
       "    </tr>\n",
       "    <tr>\n",
       "      <th>75%</th>\n",
       "      <td>7.50</td>\n",
       "      <td>37.50</td>\n",
       "      <td>149.25</td>\n",
       "    </tr>\n",
       "    <tr>\n",
       "      <th>max</th>\n",
       "      <td>8.00</td>\n",
       "      <td>50.00</td>\n",
       "      <td>199.00</td>\n",
       "    </tr>\n",
       "  </tbody>\n",
       "</table>\n",
       "</div>"
      ],
      "text/plain": [
       "       minute_price  start_ride_price  subscription_fee\n",
       "count          2.00              2.00              2.00\n",
       "mean           7.00             25.00             99.50\n",
       "std            1.41             35.36            140.71\n",
       "min            6.00              0.00              0.00\n",
       "25%            6.50             12.50             49.75\n",
       "50%            7.00             25.00             99.50\n",
       "75%            7.50             37.50            149.25\n",
       "max            8.00             50.00            199.00"
      ]
     },
     "metadata": {},
     "output_type": "display_data"
    }
   ],
   "source": [
    "my_func(s_go)"
   ]
  },
  {
   "cell_type": "markdown",
   "id": "19b7ec72",
   "metadata": {},
   "source": [
    "Ознакомились с данными, выявили, что данные представлены в правильном формате для работы, кроме столбца Data, который поправим в следующем шаге. Также, стоит отметить, что в данных не наблюдается слишком максимальных данных, которые стоит убрать из анализа."
   ]
  },
  {
   "cell_type": "markdown",
   "id": "e95ebca7",
   "metadata": {},
   "source": [
    "#### Шаг 2. Предобработка данных"
   ]
  },
  {
   "cell_type": "code",
   "execution_count": 9,
   "id": "32118a53",
   "metadata": {},
   "outputs": [
    {
     "data": {
      "text/html": [
       "<div>\n",
       "<style scoped>\n",
       "    .dataframe tbody tr th:only-of-type {\n",
       "        vertical-align: middle;\n",
       "    }\n",
       "\n",
       "    .dataframe tbody tr th {\n",
       "        vertical-align: top;\n",
       "    }\n",
       "\n",
       "    .dataframe thead th {\n",
       "        text-align: right;\n",
       "    }\n",
       "</style>\n",
       "<table border=\"1\" class=\"dataframe\">\n",
       "  <thead>\n",
       "    <tr style=\"text-align: right;\">\n",
       "      <th></th>\n",
       "      <th>user_id</th>\n",
       "      <th>distance</th>\n",
       "      <th>duration</th>\n",
       "      <th>date</th>\n",
       "    </tr>\n",
       "  </thead>\n",
       "  <tbody>\n",
       "    <tr>\n",
       "      <th>0</th>\n",
       "      <td>1</td>\n",
       "      <td>4,409.92</td>\n",
       "      <td>25.60</td>\n",
       "      <td>2021-01-01</td>\n",
       "    </tr>\n",
       "    <tr>\n",
       "      <th>13113</th>\n",
       "      <td>1184</td>\n",
       "      <td>5,322.18</td>\n",
       "      <td>25.21</td>\n",
       "      <td>2021-01-01</td>\n",
       "    </tr>\n",
       "    <tr>\n",
       "      <th>5445</th>\n",
       "      <td>582</td>\n",
       "      <td>2,842.01</td>\n",
       "      <td>22.18</td>\n",
       "      <td>2021-01-01</td>\n",
       "    </tr>\n",
       "    <tr>\n",
       "      <th>12775</th>\n",
       "      <td>1159</td>\n",
       "      <td>3,098.41</td>\n",
       "      <td>18.30</td>\n",
       "      <td>2021-01-01</td>\n",
       "    </tr>\n",
       "    <tr>\n",
       "      <th>17096</th>\n",
       "      <td>1467</td>\n",
       "      <td>1,875.82</td>\n",
       "      <td>16.04</td>\n",
       "      <td>2021-01-01</td>\n",
       "    </tr>\n",
       "    <tr>\n",
       "      <th>...</th>\n",
       "      <td>...</td>\n",
       "      <td>...</td>\n",
       "      <td>...</td>\n",
       "      <td>...</td>\n",
       "    </tr>\n",
       "    <tr>\n",
       "      <th>15325</th>\n",
       "      <td>1340</td>\n",
       "      <td>3,857.68</td>\n",
       "      <td>23.62</td>\n",
       "      <td>2021-12-30</td>\n",
       "    </tr>\n",
       "    <tr>\n",
       "      <th>7541</th>\n",
       "      <td>774</td>\n",
       "      <td>3,008.53</td>\n",
       "      <td>9.45</td>\n",
       "      <td>2021-12-30</td>\n",
       "    </tr>\n",
       "    <tr>\n",
       "      <th>6115</th>\n",
       "      <td>655</td>\n",
       "      <td>3,803.88</td>\n",
       "      <td>21.68</td>\n",
       "      <td>2021-12-30</td>\n",
       "    </tr>\n",
       "    <tr>\n",
       "      <th>10991</th>\n",
       "      <td>1027</td>\n",
       "      <td>5,080.10</td>\n",
       "      <td>15.70</td>\n",
       "      <td>2021-12-30</td>\n",
       "    </tr>\n",
       "    <tr>\n",
       "      <th>11778</th>\n",
       "      <td>1085</td>\n",
       "      <td>3,002.96</td>\n",
       "      <td>18.26</td>\n",
       "      <td>2021-12-30</td>\n",
       "    </tr>\n",
       "  </tbody>\n",
       "</table>\n",
       "<p>18068 rows × 4 columns</p>\n",
       "</div>"
      ],
      "text/plain": [
       "       user_id  distance  duration       date\n",
       "0            1  4,409.92     25.60 2021-01-01\n",
       "13113     1184  5,322.18     25.21 2021-01-01\n",
       "5445       582  2,842.01     22.18 2021-01-01\n",
       "12775     1159  3,098.41     18.30 2021-01-01\n",
       "17096     1467  1,875.82     16.04 2021-01-01\n",
       "...        ...       ...       ...        ...\n",
       "15325     1340  3,857.68     23.62 2021-12-30\n",
       "7541       774  3,008.53      9.45 2021-12-30\n",
       "6115       655  3,803.88     21.68 2021-12-30\n",
       "10991     1027  5,080.10     15.70 2021-12-30\n",
       "11778     1085  3,002.96     18.26 2021-12-30\n",
       "\n",
       "[18068 rows x 4 columns]"
      ]
     },
     "execution_count": 9,
     "metadata": {},
     "output_type": "execute_result"
    }
   ],
   "source": [
    "r_go.sort_values(by=\"date\",ascending=True)"
   ]
  },
  {
   "cell_type": "markdown",
   "id": "adf63969",
   "metadata": {},
   "source": [
    "Создаем новый столбец с номером месяца на основе столбца date. Данные предоставлены за 1 год (2021)"
   ]
  },
  {
   "cell_type": "code",
   "execution_count": 10,
   "id": "7bbf81cf",
   "metadata": {},
   "outputs": [],
   "source": [
    "r_go['month'] = r_go['date'].dt.month"
   ]
  },
  {
   "cell_type": "code",
   "execution_count": 11,
   "id": "b955d320",
   "metadata": {},
   "outputs": [
    {
     "data": {
      "text/html": [
       "<div>\n",
       "<style scoped>\n",
       "    .dataframe tbody tr th:only-of-type {\n",
       "        vertical-align: middle;\n",
       "    }\n",
       "\n",
       "    .dataframe tbody tr th {\n",
       "        vertical-align: top;\n",
       "    }\n",
       "\n",
       "    .dataframe thead th {\n",
       "        text-align: right;\n",
       "    }\n",
       "</style>\n",
       "<table border=\"1\" class=\"dataframe\">\n",
       "  <thead>\n",
       "    <tr style=\"text-align: right;\">\n",
       "      <th></th>\n",
       "      <th>user_id</th>\n",
       "      <th>distance</th>\n",
       "      <th>duration</th>\n",
       "      <th>date</th>\n",
       "      <th>month</th>\n",
       "    </tr>\n",
       "  </thead>\n",
       "  <tbody>\n",
       "    <tr>\n",
       "      <th>0</th>\n",
       "      <td>1</td>\n",
       "      <td>4,409.92</td>\n",
       "      <td>25.60</td>\n",
       "      <td>2021-01-01</td>\n",
       "      <td>1</td>\n",
       "    </tr>\n",
       "    <tr>\n",
       "      <th>1</th>\n",
       "      <td>1</td>\n",
       "      <td>2,617.59</td>\n",
       "      <td>15.82</td>\n",
       "      <td>2021-01-18</td>\n",
       "      <td>1</td>\n",
       "    </tr>\n",
       "    <tr>\n",
       "      <th>2</th>\n",
       "      <td>1</td>\n",
       "      <td>754.16</td>\n",
       "      <td>6.23</td>\n",
       "      <td>2021-04-20</td>\n",
       "      <td>4</td>\n",
       "    </tr>\n",
       "    <tr>\n",
       "      <th>3</th>\n",
       "      <td>1</td>\n",
       "      <td>2,694.78</td>\n",
       "      <td>18.51</td>\n",
       "      <td>2021-08-11</td>\n",
       "      <td>8</td>\n",
       "    </tr>\n",
       "    <tr>\n",
       "      <th>4</th>\n",
       "      <td>1</td>\n",
       "      <td>4,028.69</td>\n",
       "      <td>26.27</td>\n",
       "      <td>2021-08-28</td>\n",
       "      <td>8</td>\n",
       "    </tr>\n",
       "    <tr>\n",
       "      <th>...</th>\n",
       "      <td>...</td>\n",
       "      <td>...</td>\n",
       "      <td>...</td>\n",
       "      <td>...</td>\n",
       "      <td>...</td>\n",
       "    </tr>\n",
       "    <tr>\n",
       "      <th>18063</th>\n",
       "      <td>1534</td>\n",
       "      <td>3,781.10</td>\n",
       "      <td>19.82</td>\n",
       "      <td>2021-11-04</td>\n",
       "      <td>11</td>\n",
       "    </tr>\n",
       "    <tr>\n",
       "      <th>18064</th>\n",
       "      <td>1534</td>\n",
       "      <td>2,840.42</td>\n",
       "      <td>21.41</td>\n",
       "      <td>2021-11-16</td>\n",
       "      <td>11</td>\n",
       "    </tr>\n",
       "    <tr>\n",
       "      <th>18065</th>\n",
       "      <td>1534</td>\n",
       "      <td>3,826.19</td>\n",
       "      <td>18.44</td>\n",
       "      <td>2021-11-18</td>\n",
       "      <td>11</td>\n",
       "    </tr>\n",
       "    <tr>\n",
       "      <th>18066</th>\n",
       "      <td>1534</td>\n",
       "      <td>2,902.31</td>\n",
       "      <td>16.67</td>\n",
       "      <td>2021-11-27</td>\n",
       "      <td>11</td>\n",
       "    </tr>\n",
       "    <tr>\n",
       "      <th>18067</th>\n",
       "      <td>1534</td>\n",
       "      <td>2,371.71</td>\n",
       "      <td>15.89</td>\n",
       "      <td>2021-12-29</td>\n",
       "      <td>12</td>\n",
       "    </tr>\n",
       "  </tbody>\n",
       "</table>\n",
       "<p>18068 rows × 5 columns</p>\n",
       "</div>"
      ],
      "text/plain": [
       "       user_id  distance  duration       date  month\n",
       "0            1  4,409.92     25.60 2021-01-01      1\n",
       "1            1  2,617.59     15.82 2021-01-18      1\n",
       "2            1    754.16      6.23 2021-04-20      4\n",
       "3            1  2,694.78     18.51 2021-08-11      8\n",
       "4            1  4,028.69     26.27 2021-08-28      8\n",
       "...        ...       ...       ...        ...    ...\n",
       "18063     1534  3,781.10     19.82 2021-11-04     11\n",
       "18064     1534  2,840.42     21.41 2021-11-16     11\n",
       "18065     1534  3,826.19     18.44 2021-11-18     11\n",
       "18066     1534  2,902.31     16.67 2021-11-27     11\n",
       "18067     1534  2,371.71     15.89 2021-12-29     12\n",
       "\n",
       "[18068 rows x 5 columns]"
      ]
     },
     "execution_count": 11,
     "metadata": {},
     "output_type": "execute_result"
    }
   ],
   "source": [
    "r_go"
   ]
  },
  {
   "cell_type": "markdown",
   "id": "da630f03",
   "metadata": {},
   "source": [
    "Проверка пропущенных значений и дубликатов в датафреймах"
   ]
  },
  {
   "cell_type": "code",
   "execution_count": 12,
   "id": "1207521a",
   "metadata": {},
   "outputs": [
    {
     "data": {
      "text/plain": [
       "31"
      ]
     },
     "execution_count": 12,
     "metadata": {},
     "output_type": "execute_result"
    }
   ],
   "source": [
    "u_go.duplicated().sum()"
   ]
  },
  {
   "cell_type": "code",
   "execution_count": 13,
   "id": "808dda51",
   "metadata": {},
   "outputs": [
    {
     "data": {
      "text/plain": [
       "0"
      ]
     },
     "execution_count": 13,
     "metadata": {},
     "output_type": "execute_result"
    }
   ],
   "source": [
    "r_go.duplicated().sum()"
   ]
  },
  {
   "cell_type": "code",
   "execution_count": 14,
   "id": "c2e4c76f",
   "metadata": {},
   "outputs": [
    {
     "data": {
      "text/plain": [
       "0"
      ]
     },
     "execution_count": 14,
     "metadata": {},
     "output_type": "execute_result"
    }
   ],
   "source": [
    "s_go.duplicated().sum()"
   ]
  },
  {
   "cell_type": "markdown",
   "id": "31234582",
   "metadata": {},
   "source": [
    "Дубликаты присутствуют только в дата users. Удалим их."
   ]
  },
  {
   "cell_type": "code",
   "execution_count": 15,
   "id": "33b7d20b",
   "metadata": {},
   "outputs": [],
   "source": [
    "u_go.drop_duplicates(inplace=True)"
   ]
  },
  {
   "cell_type": "code",
   "execution_count": 16,
   "id": "1dacbf22",
   "metadata": {},
   "outputs": [
    {
     "data": {
      "text/plain": [
       "0"
      ]
     },
     "execution_count": 16,
     "metadata": {},
     "output_type": "execute_result"
    }
   ],
   "source": [
    "u_go.duplicated().sum()"
   ]
  },
  {
   "cell_type": "code",
   "execution_count": 17,
   "id": "00e23208",
   "metadata": {},
   "outputs": [
    {
     "data": {
      "text/plain": [
       "user_id              0\n",
       "name                 0\n",
       "age                  0\n",
       "city                 0\n",
       "subscription_type    0\n",
       "dtype: int64"
      ]
     },
     "execution_count": 17,
     "metadata": {},
     "output_type": "execute_result"
    }
   ],
   "source": [
    "u_go.isna().sum()"
   ]
  },
  {
   "cell_type": "code",
   "execution_count": 18,
   "id": "1f327d41",
   "metadata": {},
   "outputs": [
    {
     "data": {
      "text/plain": [
       "user_id     0\n",
       "distance    0\n",
       "duration    0\n",
       "date        0\n",
       "month       0\n",
       "dtype: int64"
      ]
     },
     "execution_count": 18,
     "metadata": {},
     "output_type": "execute_result"
    }
   ],
   "source": [
    "r_go.isna().sum()"
   ]
  },
  {
   "cell_type": "code",
   "execution_count": 19,
   "id": "94a79bd2",
   "metadata": {
    "scrolled": true
   },
   "outputs": [
    {
     "data": {
      "text/plain": [
       "subscription_type    0\n",
       "minute_price         0\n",
       "start_ride_price     0\n",
       "subscription_fee     0\n",
       "dtype: int64"
      ]
     },
     "execution_count": 19,
     "metadata": {},
     "output_type": "execute_result"
    }
   ],
   "source": [
    "s_go.isna().sum()"
   ]
  },
  {
   "cell_type": "markdown",
   "id": "a49409f2",
   "metadata": {},
   "source": [
    "Пропущенных данных в таблицах нет, дубликаты были только в таблице users и мы их удалили. Добавили столбец с номером месяца."
   ]
  },
  {
   "cell_type": "markdown",
   "id": "212593c7",
   "metadata": {},
   "source": [
    "#### Шаг 3. Исследовательский анализ данных"
   ]
  },
  {
   "cell_type": "markdown",
   "id": "25578502",
   "metadata": {},
   "source": [
    "Опишем и визуализируем общую информацию о пользователях и поездках:"
   ]
  },
  {
   "cell_type": "markdown",
   "id": "f4d223e0",
   "metadata": {},
   "source": [
    "3.1. частота встречаемости городов;"
   ]
  },
  {
   "cell_type": "code",
   "execution_count": 20,
   "id": "e4ff4595",
   "metadata": {},
   "outputs": [
    {
     "name": "stdout",
     "output_type": "stream",
     "text": [
      "city\n",
      "Пятигорск         219\n",
      "Екатеринбург      204\n",
      "Ростов-на-Дону    198\n",
      "Краснодар         193\n",
      "Сочи              189\n",
      "Омск              183\n",
      "Тюмень            180\n",
      "Москва            168\n",
      "Name: count, dtype: int64\n"
     ]
    }
   ],
   "source": [
    "number_of_users_by_city=u_go['city'].value_counts()\n",
    "print(number_of_users_by_city)"
   ]
  },
  {
   "cell_type": "code",
   "execution_count": 21,
   "id": "870f5f71",
   "metadata": {},
   "outputs": [
    {
     "data": {
      "image/png": "[encoded data removed]",
      "text/plain": [
       "<Figure size 800x800 with 1 Axes>"
      ]
     },
     "metadata": {},
     "output_type": "display_data"
    }
   ],
   "source": [
    "u_go['city'].value_counts().plot(\n",
    "    kind = 'pie', title = 'частота встречаемости городов',figsize=(8,8),\n",
    "    autopct = '%1.1f%%');"
   ]
  },
  {
   "cell_type": "code",
   "execution_count": 22,
   "id": "ad79f148",
   "metadata": {},
   "outputs": [
    {
     "data": {
      "image/png": "[encoded data removed]",
      "text/plain": [
       "<Figure size 1500x1000 with 1 Axes>"
      ]
     },
     "metadata": {},
     "output_type": "display_data"
    }
   ],
   "source": [
    "u_go['city'].value_counts().plot(kind='barh',  grid=True, figsize=(15, 10))\n",
    "plt.title('частота встречаемости городов')\n",
    "plt.xlabel('частота встречаемости городов')\n",
    "plt.ylabel('Город')\n",
    "plt.legend(['частота встречаемости городов'])\n",
    "plt.show()"
   ]
  },
  {
   "cell_type": "markdown",
   "id": "824b2e93",
   "metadata": {},
   "source": [
    "3.2 соотношение пользователей с подпиской и без подписки;"
   ]
  },
  {
   "cell_type": "code",
   "execution_count": 23,
   "id": "b2f028d0",
   "metadata": {},
   "outputs": [
    {
     "data": {
      "text/plain": [
       "subscription_type\n",
       "free     835\n",
       "ultra    699\n",
       "Name: count, dtype: int64"
      ]
     },
     "metadata": {},
     "output_type": "display_data"
    }
   ],
   "source": [
    "users_sub = u_go['subscription_type'].value_counts()\n",
    "display (users_sub)"
   ]
  },
  {
   "cell_type": "code",
   "execution_count": 24,
   "id": "cd6fa31f",
   "metadata": {},
   "outputs": [
    {
     "data": {
      "image/png": "[encoded data removed]",
      "text/plain": [
       "<Figure size 800x800 with 1 Axes>"
      ]
     },
     "metadata": {},
     "output_type": "display_data"
    }
   ],
   "source": [
    "u_go['subscription_type'].value_counts().plot(\n",
    "    kind = 'pie', title = 'соотношение пользователей с подпиской и без подписки',figsize=(8,8), \n",
    "    autopct = '%1.1f%%');"
   ]
  },
  {
   "cell_type": "markdown",
   "id": "24dc2a65",
   "metadata": {},
   "source": [
    "3.3 возраст пользователей;"
   ]
  },
  {
   "cell_type": "code",
   "execution_count": 25,
   "id": "fed93c40",
   "metadata": {},
   "outputs": [
    {
     "data": {
      "text/plain": [
       "count   1,534.00\n",
       "mean       24.90\n",
       "std         4.57\n",
       "min        12.00\n",
       "25%        22.00\n",
       "50%        25.00\n",
       "75%        28.00\n",
       "max        43.00\n",
       "Name: age, dtype: float64"
      ]
     },
     "execution_count": 25,
     "metadata": {},
     "output_type": "execute_result"
    }
   ],
   "source": [
    "u_go['age'].describe()"
   ]
  },
  {
   "cell_type": "code",
   "execution_count": 26,
   "id": "5a821391",
   "metadata": {},
   "outputs": [
    {
     "data": {
      "text/plain": [
       "age\n",
       "25    145\n",
       "24    132\n",
       "26    131\n",
       "23    129\n",
       "22    119\n",
       "27    119\n",
       "28    112\n",
       "21     93\n",
       "20     71\n",
       "30     68\n",
       "29     68\n",
       "31     48\n",
       "19     47\n",
       "18     46\n",
       "32     41\n",
       "33     39\n",
       "17     26\n",
       "16     19\n",
       "34     19\n",
       "35     15\n",
       "15     13\n",
       "14      9\n",
       "13      8\n",
       "36      6\n",
       "12      4\n",
       "38      3\n",
       "37      2\n",
       "39      1\n",
       "43      1\n",
       "Name: count, dtype: int64"
      ]
     },
     "metadata": {},
     "output_type": "display_data"
    }
   ],
   "source": [
    "users_age=u_go['age'].value_counts()\n",
    "display(users_age)"
   ]
  },
  {
   "cell_type": "code",
   "execution_count": 27,
   "id": "86270f8e",
   "metadata": {},
   "outputs": [
    {
     "data": {
      "image/png": "[encoded data removed]",
      "text/plain": [
       "<Figure size 640x480 with 1 Axes>"
      ]
     },
     "metadata": {},
     "output_type": "display_data"
    }
   ],
   "source": [
    "plt.hist(u_go['age'], bins = 30)\n",
    "plt.title('Возраст пользователей')\n",
    "plt.xlabel('Возраст')\n",
    "plt.ylabel('Количество пользователей')\n",
    "plt.grid()\n",
    "plt.show()"
   ]
  },
  {
   "cell_type": "markdown",
   "id": "da729f00",
   "metadata": {},
   "source": [
    "3.4 расстояние, которое пользователь преодолел за одну поездку;"
   ]
  },
  {
   "cell_type": "code",
   "execution_count": 28,
   "id": "b7326f70",
   "metadata": {},
   "outputs": [
    {
     "data": {
      "text/html": [
       "<div>\n",
       "<style scoped>\n",
       "    .dataframe tbody tr th:only-of-type {\n",
       "        vertical-align: middle;\n",
       "    }\n",
       "\n",
       "    .dataframe tbody tr th {\n",
       "        vertical-align: top;\n",
       "    }\n",
       "\n",
       "    .dataframe thead th {\n",
       "        text-align: right;\n",
       "    }\n",
       "</style>\n",
       "<table border=\"1\" class=\"dataframe\">\n",
       "  <thead>\n",
       "    <tr style=\"text-align: right;\">\n",
       "      <th></th>\n",
       "      <th>user_id</th>\n",
       "      <th>distance</th>\n",
       "      <th>duration</th>\n",
       "      <th>date</th>\n",
       "      <th>month</th>\n",
       "    </tr>\n",
       "  </thead>\n",
       "  <tbody>\n",
       "    <tr>\n",
       "      <th>count</th>\n",
       "      <td>18,068.00</td>\n",
       "      <td>18,068.00</td>\n",
       "      <td>18,068.00</td>\n",
       "      <td>18068</td>\n",
       "      <td>18,068.00</td>\n",
       "    </tr>\n",
       "    <tr>\n",
       "      <th>mean</th>\n",
       "      <td>842.87</td>\n",
       "      <td>3,070.66</td>\n",
       "      <td>17.81</td>\n",
       "      <td>2021-06-30 19:47:21.266327296</td>\n",
       "      <td>6.49</td>\n",
       "    </tr>\n",
       "    <tr>\n",
       "      <th>min</th>\n",
       "      <td>1.00</td>\n",
       "      <td>0.86</td>\n",
       "      <td>0.50</td>\n",
       "      <td>2021-01-01 00:00:00</td>\n",
       "      <td>1.00</td>\n",
       "    </tr>\n",
       "    <tr>\n",
       "      <th>25%</th>\n",
       "      <td>487.00</td>\n",
       "      <td>2,543.23</td>\n",
       "      <td>13.60</td>\n",
       "      <td>2021-04-02 00:00:00</td>\n",
       "      <td>4.00</td>\n",
       "    </tr>\n",
       "    <tr>\n",
       "      <th>50%</th>\n",
       "      <td>889.00</td>\n",
       "      <td>3,133.61</td>\n",
       "      <td>17.68</td>\n",
       "      <td>2021-06-30 00:00:00</td>\n",
       "      <td>6.00</td>\n",
       "    </tr>\n",
       "    <tr>\n",
       "      <th>75%</th>\n",
       "      <td>1,213.25</td>\n",
       "      <td>3,776.22</td>\n",
       "      <td>21.72</td>\n",
       "      <td>2021-09-28 00:00:00</td>\n",
       "      <td>9.00</td>\n",
       "    </tr>\n",
       "    <tr>\n",
       "      <th>max</th>\n",
       "      <td>1,534.00</td>\n",
       "      <td>7,211.01</td>\n",
       "      <td>40.82</td>\n",
       "      <td>2021-12-30 00:00:00</td>\n",
       "      <td>12.00</td>\n",
       "    </tr>\n",
       "    <tr>\n",
       "      <th>std</th>\n",
       "      <td>434.73</td>\n",
       "      <td>1,116.83</td>\n",
       "      <td>6.09</td>\n",
       "      <td>NaN</td>\n",
       "      <td>3.44</td>\n",
       "    </tr>\n",
       "  </tbody>\n",
       "</table>\n",
       "</div>"
      ],
      "text/plain": [
       "        user_id  distance  duration                           date     month\n",
       "count 18,068.00 18,068.00 18,068.00                          18068 18,068.00\n",
       "mean     842.87  3,070.66     17.81  2021-06-30 19:47:21.266327296      6.49\n",
       "min        1.00      0.86      0.50            2021-01-01 00:00:00      1.00\n",
       "25%      487.00  2,543.23     13.60            2021-04-02 00:00:00      4.00\n",
       "50%      889.00  3,133.61     17.68            2021-06-30 00:00:00      6.00\n",
       "75%    1,213.25  3,776.22     21.72            2021-09-28 00:00:00      9.00\n",
       "max    1,534.00  7,211.01     40.82            2021-12-30 00:00:00     12.00\n",
       "std      434.73  1,116.83      6.09                            NaN      3.44"
      ]
     },
     "execution_count": 28,
     "metadata": {},
     "output_type": "execute_result"
    }
   ],
   "source": [
    "r_go.describe()"
   ]
  },
  {
   "cell_type": "code",
   "execution_count": 29,
   "id": "31557e68",
   "metadata": {},
   "outputs": [
    {
     "data": {
      "text/html": [
       "<div>\n",
       "<style scoped>\n",
       "    .dataframe tbody tr th:only-of-type {\n",
       "        vertical-align: middle;\n",
       "    }\n",
       "\n",
       "    .dataframe tbody tr th {\n",
       "        vertical-align: top;\n",
       "    }\n",
       "\n",
       "    .dataframe thead th {\n",
       "        text-align: right;\n",
       "    }\n",
       "</style>\n",
       "<table border=\"1\" class=\"dataframe\">\n",
       "  <thead>\n",
       "    <tr style=\"text-align: right;\">\n",
       "      <th></th>\n",
       "      <th>user_id</th>\n",
       "      <th>distance</th>\n",
       "      <th>duration</th>\n",
       "      <th>date</th>\n",
       "      <th>month</th>\n",
       "    </tr>\n",
       "  </thead>\n",
       "  <tbody>\n",
       "    <tr>\n",
       "      <th>11555</th>\n",
       "      <td>1069</td>\n",
       "      <td>0.86</td>\n",
       "      <td>10.00</td>\n",
       "      <td>2021-01-31</td>\n",
       "      <td>1</td>\n",
       "    </tr>\n",
       "    <tr>\n",
       "      <th>9541</th>\n",
       "      <td>925</td>\n",
       "      <td>2.57</td>\n",
       "      <td>3.01</td>\n",
       "      <td>2021-10-19</td>\n",
       "      <td>10</td>\n",
       "    </tr>\n",
       "    <tr>\n",
       "      <th>13690</th>\n",
       "      <td>1223</td>\n",
       "      <td>4.33</td>\n",
       "      <td>4.01</td>\n",
       "      <td>2021-05-22</td>\n",
       "      <td>5</td>\n",
       "    </tr>\n",
       "    <tr>\n",
       "      <th>8658</th>\n",
       "      <td>861</td>\n",
       "      <td>6.78</td>\n",
       "      <td>6.02</td>\n",
       "      <td>2021-07-21</td>\n",
       "      <td>7</td>\n",
       "    </tr>\n",
       "    <tr>\n",
       "      <th>7841</th>\n",
       "      <td>796</td>\n",
       "      <td>7.10</td>\n",
       "      <td>10.03</td>\n",
       "      <td>2021-11-26</td>\n",
       "      <td>11</td>\n",
       "    </tr>\n",
       "    <tr>\n",
       "      <th>8906</th>\n",
       "      <td>880</td>\n",
       "      <td>11.28</td>\n",
       "      <td>2.04</td>\n",
       "      <td>2021-03-28</td>\n",
       "      <td>3</td>\n",
       "    </tr>\n",
       "    <tr>\n",
       "      <th>8324</th>\n",
       "      <td>835</td>\n",
       "      <td>12.23</td>\n",
       "      <td>4.03</td>\n",
       "      <td>2021-09-19</td>\n",
       "      <td>9</td>\n",
       "    </tr>\n",
       "    <tr>\n",
       "      <th>13940</th>\n",
       "      <td>1240</td>\n",
       "      <td>15.00</td>\n",
       "      <td>10.05</td>\n",
       "      <td>2021-08-20</td>\n",
       "      <td>8</td>\n",
       "    </tr>\n",
       "    <tr>\n",
       "      <th>15626</th>\n",
       "      <td>1364</td>\n",
       "      <td>15.37</td>\n",
       "      <td>6.06</td>\n",
       "      <td>2021-08-22</td>\n",
       "      <td>8</td>\n",
       "    </tr>\n",
       "    <tr>\n",
       "      <th>11862</th>\n",
       "      <td>1091</td>\n",
       "      <td>15.63</td>\n",
       "      <td>13.04</td>\n",
       "      <td>2021-03-29</td>\n",
       "      <td>3</td>\n",
       "    </tr>\n",
       "  </tbody>\n",
       "</table>\n",
       "</div>"
      ],
      "text/plain": [
       "       user_id  distance  duration       date  month\n",
       "11555     1069      0.86     10.00 2021-01-31      1\n",
       "9541       925      2.57      3.01 2021-10-19     10\n",
       "13690     1223      4.33      4.01 2021-05-22      5\n",
       "8658       861      6.78      6.02 2021-07-21      7\n",
       "7841       796      7.10     10.03 2021-11-26     11\n",
       "8906       880     11.28      2.04 2021-03-28      3\n",
       "8324       835     12.23      4.03 2021-09-19      9\n",
       "13940     1240     15.00     10.05 2021-08-20      8\n",
       "15626     1364     15.37      6.06 2021-08-22      8\n",
       "11862     1091     15.63     13.04 2021-03-29      3"
      ]
     },
     "metadata": {},
     "output_type": "display_data"
    },
    {
     "data": {
      "text/html": [
       "<div>\n",
       "<style scoped>\n",
       "    .dataframe tbody tr th:only-of-type {\n",
       "        vertical-align: middle;\n",
       "    }\n",
       "\n",
       "    .dataframe tbody tr th {\n",
       "        vertical-align: top;\n",
       "    }\n",
       "\n",
       "    .dataframe thead th {\n",
       "        text-align: right;\n",
       "    }\n",
       "</style>\n",
       "<table border=\"1\" class=\"dataframe\">\n",
       "  <thead>\n",
       "    <tr style=\"text-align: right;\">\n",
       "      <th></th>\n",
       "      <th>user_id</th>\n",
       "      <th>distance</th>\n",
       "      <th>duration</th>\n",
       "      <th>date</th>\n",
       "      <th>month</th>\n",
       "    </tr>\n",
       "  </thead>\n",
       "  <tbody>\n",
       "    <tr>\n",
       "      <th>11319</th>\n",
       "      <td>1052</td>\n",
       "      <td>6,503.60</td>\n",
       "      <td>26.01</td>\n",
       "      <td>2021-07-01</td>\n",
       "      <td>7</td>\n",
       "    </tr>\n",
       "    <tr>\n",
       "      <th>10915</th>\n",
       "      <td>1022</td>\n",
       "      <td>6,535.39</td>\n",
       "      <td>30.01</td>\n",
       "      <td>2021-10-14</td>\n",
       "      <td>10</td>\n",
       "    </tr>\n",
       "    <tr>\n",
       "      <th>12086</th>\n",
       "      <td>1108</td>\n",
       "      <td>6,538.94</td>\n",
       "      <td>29.65</td>\n",
       "      <td>2021-09-27</td>\n",
       "      <td>9</td>\n",
       "    </tr>\n",
       "    <tr>\n",
       "      <th>11385</th>\n",
       "      <td>1057</td>\n",
       "      <td>6,601.20</td>\n",
       "      <td>0.50</td>\n",
       "      <td>2021-02-07</td>\n",
       "      <td>2</td>\n",
       "    </tr>\n",
       "    <tr>\n",
       "      <th>10341</th>\n",
       "      <td>981</td>\n",
       "      <td>6,671.97</td>\n",
       "      <td>27.30</td>\n",
       "      <td>2021-12-06</td>\n",
       "      <td>12</td>\n",
       "    </tr>\n",
       "    <tr>\n",
       "      <th>17242</th>\n",
       "      <td>1477</td>\n",
       "      <td>6,724.93</td>\n",
       "      <td>0.50</td>\n",
       "      <td>2021-01-12</td>\n",
       "      <td>1</td>\n",
       "    </tr>\n",
       "    <tr>\n",
       "      <th>17171</th>\n",
       "      <td>1471</td>\n",
       "      <td>6,760.94</td>\n",
       "      <td>32.04</td>\n",
       "      <td>2021-08-03</td>\n",
       "      <td>8</td>\n",
       "    </tr>\n",
       "    <tr>\n",
       "      <th>15580</th>\n",
       "      <td>1361</td>\n",
       "      <td>6,908.49</td>\n",
       "      <td>23.82</td>\n",
       "      <td>2021-03-27</td>\n",
       "      <td>3</td>\n",
       "    </tr>\n",
       "    <tr>\n",
       "      <th>16484</th>\n",
       "      <td>1422</td>\n",
       "      <td>7,066.00</td>\n",
       "      <td>23.62</td>\n",
       "      <td>2021-02-12</td>\n",
       "      <td>2</td>\n",
       "    </tr>\n",
       "    <tr>\n",
       "      <th>16309</th>\n",
       "      <td>1411</td>\n",
       "      <td>7,211.01</td>\n",
       "      <td>0.50</td>\n",
       "      <td>2021-04-15</td>\n",
       "      <td>4</td>\n",
       "    </tr>\n",
       "  </tbody>\n",
       "</table>\n",
       "</div>"
      ],
      "text/plain": [
       "       user_id  distance  duration       date  month\n",
       "11319     1052  6,503.60     26.01 2021-07-01      7\n",
       "10915     1022  6,535.39     30.01 2021-10-14     10\n",
       "12086     1108  6,538.94     29.65 2021-09-27      9\n",
       "11385     1057  6,601.20      0.50 2021-02-07      2\n",
       "10341      981  6,671.97     27.30 2021-12-06     12\n",
       "17242     1477  6,724.93      0.50 2021-01-12      1\n",
       "17171     1471  6,760.94     32.04 2021-08-03      8\n",
       "15580     1361  6,908.49     23.82 2021-03-27      3\n",
       "16484     1422  7,066.00     23.62 2021-02-12      2\n",
       "16309     1411  7,211.01      0.50 2021-04-15      4"
      ]
     },
     "metadata": {},
     "output_type": "display_data"
    },
    {
     "data": {
      "text/plain": [
       "user_id                    1057\n",
       "distance               6,601.20\n",
       "duration                   0.50\n",
       "date        2021-02-07 00:00:00\n",
       "month                         2\n",
       "Name: 11385, dtype: object"
      ]
     },
     "metadata": {},
     "output_type": "display_data"
    }
   ],
   "source": [
    "display(r_go.sort_values(by='distance').head(10))\n",
    "display(r_go.sort_values(by='distance').tail(10))\n",
    "display(r_go.loc[11385])"
   ]
  },
  {
   "cell_type": "code",
   "execution_count": 30,
   "id": "88cdc6b2",
   "metadata": {},
   "outputs": [
    {
     "data": {
      "image/png": "[encoded data removed]",
      "text/plain": [
       "<Figure size 640x480 with 1 Axes>"
      ]
     },
     "metadata": {},
     "output_type": "display_data"
    }
   ],
   "source": [
    "plt.hist(r_go['distance'], bins = 20)\n",
    "plt.title('Расстояние, который пользователь преодолел за одну поездку;')\n",
    "plt.xlabel('Дистанция')\n",
    "plt.ylabel('Количество пользователей')\n",
    "plt.grid()\n",
    "plt.show()"
   ]
  },
  {
   "cell_type": "markdown",
   "id": "6384865d",
   "metadata": {},
   "source": [
    "3.5 продолжительность поездок."
   ]
  },
  {
   "cell_type": "code",
   "execution_count": 31,
   "id": "abc7636c",
   "metadata": {},
   "outputs": [
    {
     "data": {
      "text/html": [
       "<div>\n",
       "<style scoped>\n",
       "    .dataframe tbody tr th:only-of-type {\n",
       "        vertical-align: middle;\n",
       "    }\n",
       "\n",
       "    .dataframe tbody tr th {\n",
       "        vertical-align: top;\n",
       "    }\n",
       "\n",
       "    .dataframe thead th {\n",
       "        text-align: right;\n",
       "    }\n",
       "</style>\n",
       "<table border=\"1\" class=\"dataframe\">\n",
       "  <thead>\n",
       "    <tr style=\"text-align: right;\">\n",
       "      <th></th>\n",
       "      <th>user_id</th>\n",
       "      <th>distance</th>\n",
       "      <th>duration</th>\n",
       "      <th>date</th>\n",
       "      <th>month</th>\n",
       "    </tr>\n",
       "  </thead>\n",
       "  <tbody>\n",
       "    <tr>\n",
       "      <th>12013</th>\n",
       "      <td>1102</td>\n",
       "      <td>4,602.12</td>\n",
       "      <td>0.50</td>\n",
       "      <td>2021-08-01</td>\n",
       "      <td>8</td>\n",
       "    </tr>\n",
       "    <tr>\n",
       "      <th>17314</th>\n",
       "      <td>1483</td>\n",
       "      <td>4,445.48</td>\n",
       "      <td>0.50</td>\n",
       "      <td>2021-03-06</td>\n",
       "      <td>3</td>\n",
       "    </tr>\n",
       "    <tr>\n",
       "      <th>15029</th>\n",
       "      <td>1318</td>\n",
       "      <td>5,894.63</td>\n",
       "      <td>0.50</td>\n",
       "      <td>2021-03-28</td>\n",
       "      <td>3</td>\n",
       "    </tr>\n",
       "    <tr>\n",
       "      <th>7437</th>\n",
       "      <td>766</td>\n",
       "      <td>4,539.09</td>\n",
       "      <td>0.50</td>\n",
       "      <td>2021-12-22</td>\n",
       "      <td>12</td>\n",
       "    </tr>\n",
       "    <tr>\n",
       "      <th>12967</th>\n",
       "      <td>1172</td>\n",
       "      <td>4,907.14</td>\n",
       "      <td>0.50</td>\n",
       "      <td>2021-12-19</td>\n",
       "      <td>12</td>\n",
       "    </tr>\n",
       "    <tr>\n",
       "      <th>...</th>\n",
       "      <td>...</td>\n",
       "      <td>...</td>\n",
       "      <td>...</td>\n",
       "      <td>...</td>\n",
       "      <td>...</td>\n",
       "    </tr>\n",
       "    <tr>\n",
       "      <th>12088</th>\n",
       "      <td>1109</td>\n",
       "      <td>5,202.56</td>\n",
       "      <td>0.50</td>\n",
       "      <td>2021-01-08</td>\n",
       "      <td>1</td>\n",
       "    </tr>\n",
       "    <tr>\n",
       "      <th>7160</th>\n",
       "      <td>745</td>\n",
       "      <td>5,286.17</td>\n",
       "      <td>0.50</td>\n",
       "      <td>2021-08-17</td>\n",
       "      <td>8</td>\n",
       "    </tr>\n",
       "    <tr>\n",
       "      <th>10182</th>\n",
       "      <td>970</td>\n",
       "      <td>5,180.55</td>\n",
       "      <td>0.50</td>\n",
       "      <td>2021-08-07</td>\n",
       "      <td>8</td>\n",
       "    </tr>\n",
       "    <tr>\n",
       "      <th>6680</th>\n",
       "      <td>712</td>\n",
       "      <td>4,684.00</td>\n",
       "      <td>0.50</td>\n",
       "      <td>2021-03-04</td>\n",
       "      <td>3</td>\n",
       "    </tr>\n",
       "    <tr>\n",
       "      <th>8906</th>\n",
       "      <td>880</td>\n",
       "      <td>11.28</td>\n",
       "      <td>2.04</td>\n",
       "      <td>2021-03-28</td>\n",
       "      <td>3</td>\n",
       "    </tr>\n",
       "  </tbody>\n",
       "</table>\n",
       "<p>96 rows × 5 columns</p>\n",
       "</div>"
      ],
      "text/plain": [
       "       user_id  distance  duration       date  month\n",
       "12013     1102  4,602.12      0.50 2021-08-01      8\n",
       "17314     1483  4,445.48      0.50 2021-03-06      3\n",
       "15029     1318  5,894.63      0.50 2021-03-28      3\n",
       "7437       766  4,539.09      0.50 2021-12-22     12\n",
       "12967     1172  4,907.14      0.50 2021-12-19     12\n",
       "...        ...       ...       ...        ...    ...\n",
       "12088     1109  5,202.56      0.50 2021-01-08      1\n",
       "7160       745  5,286.17      0.50 2021-08-17      8\n",
       "10182      970  5,180.55      0.50 2021-08-07      8\n",
       "6680       712  4,684.00      0.50 2021-03-04      3\n",
       "8906       880     11.28      2.04 2021-03-28      3\n",
       "\n",
       "[96 rows x 5 columns]"
      ]
     },
     "metadata": {},
     "output_type": "display_data"
    },
    {
     "data": {
      "text/html": [
       "<div>\n",
       "<style scoped>\n",
       "    .dataframe tbody tr th:only-of-type {\n",
       "        vertical-align: middle;\n",
       "    }\n",
       "\n",
       "    .dataframe tbody tr th {\n",
       "        vertical-align: top;\n",
       "    }\n",
       "\n",
       "    .dataframe thead th {\n",
       "        text-align: right;\n",
       "    }\n",
       "</style>\n",
       "<table border=\"1\" class=\"dataframe\">\n",
       "  <thead>\n",
       "    <tr style=\"text-align: right;\">\n",
       "      <th></th>\n",
       "      <th>user_id</th>\n",
       "      <th>distance</th>\n",
       "      <th>duration</th>\n",
       "      <th>date</th>\n",
       "      <th>month</th>\n",
       "    </tr>\n",
       "  </thead>\n",
       "  <tbody>\n",
       "    <tr>\n",
       "      <th>4653</th>\n",
       "      <td>501</td>\n",
       "      <td>4,103.77</td>\n",
       "      <td>36.62</td>\n",
       "      <td>2021-05-24</td>\n",
       "      <td>5</td>\n",
       "    </tr>\n",
       "    <tr>\n",
       "      <th>6348</th>\n",
       "      <td>681</td>\n",
       "      <td>4,134.88</td>\n",
       "      <td>36.81</td>\n",
       "      <td>2021-05-01</td>\n",
       "      <td>5</td>\n",
       "    </tr>\n",
       "    <tr>\n",
       "      <th>499</th>\n",
       "      <td>55</td>\n",
       "      <td>4,151.08</td>\n",
       "      <td>36.91</td>\n",
       "      <td>2021-06-30</td>\n",
       "      <td>6</td>\n",
       "    </tr>\n",
       "    <tr>\n",
       "      <th>3729</th>\n",
       "      <td>401</td>\n",
       "      <td>4,002.36</td>\n",
       "      <td>37.01</td>\n",
       "      <td>2021-09-21</td>\n",
       "      <td>9</td>\n",
       "    </tr>\n",
       "    <tr>\n",
       "      <th>143</th>\n",
       "      <td>15</td>\n",
       "      <td>4,187.62</td>\n",
       "      <td>38.13</td>\n",
       "      <td>2021-01-13</td>\n",
       "      <td>1</td>\n",
       "    </tr>\n",
       "    <tr>\n",
       "      <th>6453</th>\n",
       "      <td>694</td>\n",
       "      <td>4,210.87</td>\n",
       "      <td>38.27</td>\n",
       "      <td>2021-03-11</td>\n",
       "      <td>3</td>\n",
       "    </tr>\n",
       "    <tr>\n",
       "      <th>1998</th>\n",
       "      <td>216</td>\n",
       "      <td>4,831.34</td>\n",
       "      <td>38.35</td>\n",
       "      <td>2021-05-11</td>\n",
       "      <td>5</td>\n",
       "    </tr>\n",
       "    <tr>\n",
       "      <th>2623</th>\n",
       "      <td>278</td>\n",
       "      <td>4,754.43</td>\n",
       "      <td>39.53</td>\n",
       "      <td>2021-12-02</td>\n",
       "      <td>12</td>\n",
       "    </tr>\n",
       "    <tr>\n",
       "      <th>4709</th>\n",
       "      <td>507</td>\n",
       "      <td>4,645.64</td>\n",
       "      <td>39.87</td>\n",
       "      <td>2021-01-15</td>\n",
       "      <td>1</td>\n",
       "    </tr>\n",
       "    <tr>\n",
       "      <th>4215</th>\n",
       "      <td>454</td>\n",
       "      <td>5,137.33</td>\n",
       "      <td>40.82</td>\n",
       "      <td>2021-12-27</td>\n",
       "      <td>12</td>\n",
       "    </tr>\n",
       "  </tbody>\n",
       "</table>\n",
       "</div>"
      ],
      "text/plain": [
       "      user_id  distance  duration       date  month\n",
       "4653      501  4,103.77     36.62 2021-05-24      5\n",
       "6348      681  4,134.88     36.81 2021-05-01      5\n",
       "499        55  4,151.08     36.91 2021-06-30      6\n",
       "3729      401  4,002.36     37.01 2021-09-21      9\n",
       "143        15  4,187.62     38.13 2021-01-13      1\n",
       "6453      694  4,210.87     38.27 2021-03-11      3\n",
       "1998      216  4,831.34     38.35 2021-05-11      5\n",
       "2623      278  4,754.43     39.53 2021-12-02     12\n",
       "4709      507  4,645.64     39.87 2021-01-15      1\n",
       "4215      454  5,137.33     40.82 2021-12-27     12"
      ]
     },
     "metadata": {},
     "output_type": "display_data"
    },
    {
     "data": {
      "text/plain": [
       "321653.9423251829"
      ]
     },
     "metadata": {},
     "output_type": "display_data"
    }
   ],
   "source": [
    "display(r_go.sort_values(by='duration').head(96))\n",
    "display(r_go.sort_values(by='duration').tail(10))\n",
    "display(r_go['duration'].unique().sum())"
   ]
  },
  {
   "cell_type": "code",
   "execution_count": 32,
   "id": "c01236ec",
   "metadata": {},
   "outputs": [
    {
     "data": {
      "text/plain": [
       "count   18,068.00\n",
       "mean        17.81\n",
       "std          6.09\n",
       "min          0.50\n",
       "25%         13.60\n",
       "50%         17.68\n",
       "75%         21.72\n",
       "max         40.82\n",
       "Name: duration, dtype: float64"
      ]
     },
     "execution_count": 32,
     "metadata": {},
     "output_type": "execute_result"
    }
   ],
   "source": [
    "# Выведем описание столбца продолжительности поездок\n",
    "r_go['duration'].describe().round(2)"
   ]
  },
  {
   "cell_type": "code",
   "execution_count": 33,
   "id": "f10d6aee",
   "metadata": {
    "tags": []
   },
   "outputs": [
    {
     "name": "stdout",
     "output_type": "stream",
     "text": [
      "Минимальная продолжительность поездки: 0\n",
      "Максимальная продолжительность поездки: 41\n"
     ]
    },
    {
     "data": {
      "image/png": "[encoded data removed]",
      "text/plain": [
       "<Figure size 640x480 with 1 Axes>"
      ]
     },
     "metadata": {},
     "output_type": "display_data"
    }
   ],
   "source": [
    "# Выведем минимальное и максимальное продолжительности поездок в минутах\n",
    "print('Минимальная продолжительность поездки:', round(r_go['duration'].min()))\n",
    "print('Максимальная продолжительность поездки:', round(r_go['duration'].max()))\n",
    "\n",
    "# Построим гистрограмму распределения преодоленных за одну поездку расстояний\n",
    "plt.hist(r_go['duration'], bins=41, range=(0, 41))\n",
    "plt.grid() # включим отображение сетки\n",
    "plt.xticks(rotation=30) # повернем название дат для корректного отображения\n",
    "plt.xlabel('Продолжительность поездки, мин') # подпишем ось Х\n",
    "plt.ylabel('Кол-во поездок') # подпишем ось Y\n",
    "plt.title('Распределение продолжительностей поездок') # дадим название гистограмме\n",
    "plt.show()"
   ]
  },
  {
   "cell_type": "code",
   "execution_count": 34,
   "id": "74b1ce77",
   "metadata": {
    "tags": []
   },
   "outputs": [],
   "source": [
    "def  r_go_per(row):\n",
    "    if row['duration'] == 0.5:\n",
    "        return row['distance']/123.9\n",
    "    return row['duration']"
   ]
  },
  {
   "cell_type": "code",
   "execution_count": 35,
   "id": "14179e98",
   "metadata": {},
   "outputs": [],
   "source": [
    "r_go['duration']=r_go.apply(r_go_per, axis=1)"
   ]
  },
  {
   "cell_type": "code",
   "execution_count": 36,
   "id": "1a90a5c1",
   "metadata": {
    "tags": []
   },
   "outputs": [
    {
     "data": {
      "text/html": [
       "<div>\n",
       "<style scoped>\n",
       "    .dataframe tbody tr th:only-of-type {\n",
       "        vertical-align: middle;\n",
       "    }\n",
       "\n",
       "    .dataframe tbody tr th {\n",
       "        vertical-align: top;\n",
       "    }\n",
       "\n",
       "    .dataframe thead th {\n",
       "        text-align: right;\n",
       "    }\n",
       "</style>\n",
       "<table border=\"1\" class=\"dataframe\">\n",
       "  <thead>\n",
       "    <tr style=\"text-align: right;\">\n",
       "      <th></th>\n",
       "      <th>user_id</th>\n",
       "      <th>distance</th>\n",
       "      <th>duration</th>\n",
       "      <th>date</th>\n",
       "      <th>month</th>\n",
       "    </tr>\n",
       "  </thead>\n",
       "  <tbody>\n",
       "    <tr>\n",
       "      <th>8906</th>\n",
       "      <td>880</td>\n",
       "      <td>11.28</td>\n",
       "      <td>2.04</td>\n",
       "      <td>2021-03-28</td>\n",
       "      <td>3</td>\n",
       "    </tr>\n",
       "    <tr>\n",
       "      <th>6691</th>\n",
       "      <td>712</td>\n",
       "      <td>23.96</td>\n",
       "      <td>2.05</td>\n",
       "      <td>2021-11-22</td>\n",
       "      <td>11</td>\n",
       "    </tr>\n",
       "    <tr>\n",
       "      <th>13308</th>\n",
       "      <td>1198</td>\n",
       "      <td>84.41</td>\n",
       "      <td>2.18</td>\n",
       "      <td>2021-06-11</td>\n",
       "      <td>6</td>\n",
       "    </tr>\n",
       "    <tr>\n",
       "      <th>17309</th>\n",
       "      <td>1482</td>\n",
       "      <td>111.30</td>\n",
       "      <td>2.22</td>\n",
       "      <td>2021-07-24</td>\n",
       "      <td>7</td>\n",
       "    </tr>\n",
       "    <tr>\n",
       "      <th>14081</th>\n",
       "      <td>1251</td>\n",
       "      <td>41.21</td>\n",
       "      <td>2.22</td>\n",
       "      <td>2021-04-15</td>\n",
       "      <td>4</td>\n",
       "    </tr>\n",
       "    <tr>\n",
       "      <th>...</th>\n",
       "      <td>...</td>\n",
       "      <td>...</td>\n",
       "      <td>...</td>\n",
       "      <td>...</td>\n",
       "      <td>...</td>\n",
       "    </tr>\n",
       "    <tr>\n",
       "      <th>12477</th>\n",
       "      <td>1137</td>\n",
       "      <td>474.21</td>\n",
       "      <td>4.03</td>\n",
       "      <td>2021-08-11</td>\n",
       "      <td>8</td>\n",
       "    </tr>\n",
       "    <tr>\n",
       "      <th>8324</th>\n",
       "      <td>835</td>\n",
       "      <td>12.23</td>\n",
       "      <td>4.03</td>\n",
       "      <td>2021-09-19</td>\n",
       "      <td>9</td>\n",
       "    </tr>\n",
       "    <tr>\n",
       "      <th>13764</th>\n",
       "      <td>1228</td>\n",
       "      <td>244.97</td>\n",
       "      <td>4.05</td>\n",
       "      <td>2021-09-20</td>\n",
       "      <td>9</td>\n",
       "    </tr>\n",
       "    <tr>\n",
       "      <th>17035</th>\n",
       "      <td>1462</td>\n",
       "      <td>262.77</td>\n",
       "      <td>4.05</td>\n",
       "      <td>2021-07-10</td>\n",
       "      <td>7</td>\n",
       "    </tr>\n",
       "    <tr>\n",
       "      <th>16473</th>\n",
       "      <td>1421</td>\n",
       "      <td>658.21</td>\n",
       "      <td>4.08</td>\n",
       "      <td>2021-08-09</td>\n",
       "      <td>8</td>\n",
       "    </tr>\n",
       "  </tbody>\n",
       "</table>\n",
       "<p>96 rows × 5 columns</p>\n",
       "</div>"
      ],
      "text/plain": [
       "       user_id  distance  duration       date  month\n",
       "8906       880     11.28      2.04 2021-03-28      3\n",
       "6691       712     23.96      2.05 2021-11-22     11\n",
       "13308     1198     84.41      2.18 2021-06-11      6\n",
       "17309     1482    111.30      2.22 2021-07-24      7\n",
       "14081     1251     41.21      2.22 2021-04-15      4\n",
       "...        ...       ...       ...        ...    ...\n",
       "12477     1137    474.21      4.03 2021-08-11      8\n",
       "8324       835     12.23      4.03 2021-09-19      9\n",
       "13764     1228    244.97      4.05 2021-09-20      9\n",
       "17035     1462    262.77      4.05 2021-07-10      7\n",
       "16473     1421    658.21      4.08 2021-08-09      8\n",
       "\n",
       "[96 rows x 5 columns]"
      ]
     },
     "metadata": {},
     "output_type": "display_data"
    },
    {
     "data": {
      "text/plain": [
       "325573.95703148574"
      ]
     },
     "metadata": {},
     "output_type": "display_data"
    },
    {
     "data": {
      "text/plain": [
       "user_id                    1057\n",
       "distance               6,601.20\n",
       "duration                  53.28\n",
       "date        2021-02-07 00:00:00\n",
       "month                         2\n",
       "Name: 11385, dtype: object"
      ]
     },
     "metadata": {},
     "output_type": "display_data"
    }
   ],
   "source": [
    "display(r_go.sort_values(by='duration').head(96))\n",
    "display(r_go['duration'].unique().sum())\n",
    "display(r_go.loc[11385])"
   ]
  },
  {
   "cell_type": "code",
   "execution_count": 37,
   "id": "1b15f521",
   "metadata": {},
   "outputs": [
    {
     "data": {
      "text/html": [
       "<div>\n",
       "<style scoped>\n",
       "    .dataframe tbody tr th:only-of-type {\n",
       "        vertical-align: middle;\n",
       "    }\n",
       "\n",
       "    .dataframe tbody tr th {\n",
       "        vertical-align: top;\n",
       "    }\n",
       "\n",
       "    .dataframe thead th {\n",
       "        text-align: right;\n",
       "    }\n",
       "</style>\n",
       "<table border=\"1\" class=\"dataframe\">\n",
       "  <thead>\n",
       "    <tr style=\"text-align: right;\">\n",
       "      <th></th>\n",
       "      <th>user_id</th>\n",
       "      <th>distance</th>\n",
       "      <th>duration</th>\n",
       "      <th>date</th>\n",
       "      <th>month</th>\n",
       "    </tr>\n",
       "  </thead>\n",
       "  <tbody>\n",
       "    <tr>\n",
       "      <th>count</th>\n",
       "      <td>18,068.00</td>\n",
       "      <td>18,068.00</td>\n",
       "      <td>18,068.00</td>\n",
       "      <td>18068</td>\n",
       "      <td>18,068.00</td>\n",
       "    </tr>\n",
       "    <tr>\n",
       "      <th>mean</th>\n",
       "      <td>842.87</td>\n",
       "      <td>3,070.66</td>\n",
       "      <td>18.02</td>\n",
       "      <td>2021-06-30 19:47:21.266327296</td>\n",
       "      <td>6.49</td>\n",
       "    </tr>\n",
       "    <tr>\n",
       "      <th>min</th>\n",
       "      <td>1.00</td>\n",
       "      <td>0.86</td>\n",
       "      <td>2.04</td>\n",
       "      <td>2021-01-01 00:00:00</td>\n",
       "      <td>1.00</td>\n",
       "    </tr>\n",
       "    <tr>\n",
       "      <th>25%</th>\n",
       "      <td>487.00</td>\n",
       "      <td>2,543.23</td>\n",
       "      <td>13.70</td>\n",
       "      <td>2021-04-02 00:00:00</td>\n",
       "      <td>4.00</td>\n",
       "    </tr>\n",
       "    <tr>\n",
       "      <th>50%</th>\n",
       "      <td>889.00</td>\n",
       "      <td>3,133.61</td>\n",
       "      <td>17.75</td>\n",
       "      <td>2021-06-30 00:00:00</td>\n",
       "      <td>6.00</td>\n",
       "    </tr>\n",
       "    <tr>\n",
       "      <th>75%</th>\n",
       "      <td>1,213.25</td>\n",
       "      <td>3,776.22</td>\n",
       "      <td>21.82</td>\n",
       "      <td>2021-09-28 00:00:00</td>\n",
       "      <td>9.00</td>\n",
       "    </tr>\n",
       "    <tr>\n",
       "      <th>max</th>\n",
       "      <td>1,534.00</td>\n",
       "      <td>7,211.01</td>\n",
       "      <td>58.20</td>\n",
       "      <td>2021-12-30 00:00:00</td>\n",
       "      <td>12.00</td>\n",
       "    </tr>\n",
       "    <tr>\n",
       "      <th>std</th>\n",
       "      <td>434.73</td>\n",
       "      <td>1,116.83</td>\n",
       "      <td>6.21</td>\n",
       "      <td>NaN</td>\n",
       "      <td>3.44</td>\n",
       "    </tr>\n",
       "  </tbody>\n",
       "</table>\n",
       "</div>"
      ],
      "text/plain": [
       "        user_id  distance  duration                           date     month\n",
       "count 18,068.00 18,068.00 18,068.00                          18068 18,068.00\n",
       "mean     842.87  3,070.66     18.02  2021-06-30 19:47:21.266327296      6.49\n",
       "min        1.00      0.86      2.04            2021-01-01 00:00:00      1.00\n",
       "25%      487.00  2,543.23     13.70            2021-04-02 00:00:00      4.00\n",
       "50%      889.00  3,133.61     17.75            2021-06-30 00:00:00      6.00\n",
       "75%    1,213.25  3,776.22     21.82            2021-09-28 00:00:00      9.00\n",
       "max    1,534.00  7,211.01     58.20            2021-12-30 00:00:00     12.00\n",
       "std      434.73  1,116.83      6.21                            NaN      3.44"
      ]
     },
     "execution_count": 37,
     "metadata": {},
     "output_type": "execute_result"
    }
   ],
   "source": [
    "r_go.describe()\n"
   ]
  },
  {
   "cell_type": "code",
   "execution_count": 38,
   "id": "b59805c7",
   "metadata": {},
   "outputs": [
    {
     "data": {
      "image/png": "[encoded data removed]",
      "text/plain": [
       "<Figure size 640x480 with 1 Axes>"
      ]
     },
     "metadata": {},
     "output_type": "display_data"
    }
   ],
   "source": [
    "plt.hist(r_go['duration'], bins = 30)\n",
    "plt.title('продолжительность поездок')\n",
    "plt.xlabel('время')\n",
    "plt.ylabel('Количество пользователей')\n",
    "plt.grid()\n",
    "plt.show()"
   ]
  },
  {
   "cell_type": "markdown",
   "id": "6222dafd",
   "metadata": {},
   "source": [
    "Проведенный анализ показал, что кол-во пользователей по городам распределено примерно в одинаковых пропроциях, максимальное значение наблюдается в Пятигорске- 219, минимальное -Москва (168). По соотношению кол-во пользователей с подпиской и без, тоже не наблюдается какого-то значемого сдвига в процентном соотношении в одну или другую стороную( 835 - free и 699- ultra) ,т.е. порядка 54% / 46 %.\n",
    "основная возрастная группа, использующая самокат, находится в диапазоне от 25 до 29 лет, самому младшему 12,старшему-43.\n",
    "Расстояние, которое пользователи преодолевают за время использования, составляет в среднем от 2,5 км до 4 км, наименьшее растояние было 0,0086 км, максимальное растояние - 7,2 км.\n",
    "Время поездки, исходя из данных, которое во время анализа было немного скорректировано, т.к. были найдены аномальные значения с достаточно высокими показатели растояния проделанного за период в 50 сек, было выявлено порядка 95 показателей, которые в рамках общей статистики не очень бы повлияли на выборку, но в рамках более релевантных значений,а также, что в данные были с очень большим километражом, было принято решение заменить данные показатели на среднее значения последних 100 по возрастающему порядку. Таким образом, среднее значение стало порядка 18 мин, максимальное 58,2 и минимальное 2,04.(без изменения макс значение было 40,8 )"
   ]
  },
  {
   "cell_type": "markdown",
   "id": "4ef51331",
   "metadata": {},
   "source": [
    "#### Шаг 4. Объединение данных"
   ]
  },
  {
   "cell_type": "markdown",
   "id": "46a9cb38",
   "metadata": {},
   "source": [
    "4.1 Объедините данные о пользователях, поездках и подписках в один датафрейм. "
   ]
  },
  {
   "cell_type": "code",
   "execution_count": 39,
   "id": "fbb51ea2",
   "metadata": {},
   "outputs": [
    {
     "name": "stdout",
     "output_type": "stream",
     "text": [
      "<class 'pandas.core.frame.DataFrame'>\n",
      "Index: 1534 entries, 0 to 1533\n",
      "Data columns (total 5 columns):\n",
      " #   Column             Non-Null Count  Dtype \n",
      "---  ------             --------------  ----- \n",
      " 0   user_id            1534 non-null   int64 \n",
      " 1   name               1534 non-null   object\n",
      " 2   age                1534 non-null   int64 \n",
      " 3   city               1534 non-null   object\n",
      " 4   subscription_type  1534 non-null   object\n",
      "dtypes: int64(2), object(3)\n",
      "memory usage: 71.9+ KB\n"
     ]
    },
    {
     "data": {
      "text/plain": [
       "None"
      ]
     },
     "metadata": {},
     "output_type": "display_data"
    },
    {
     "name": "stdout",
     "output_type": "stream",
     "text": [
      "<class 'pandas.core.frame.DataFrame'>\n",
      "RangeIndex: 18068 entries, 0 to 18067\n",
      "Data columns (total 5 columns):\n",
      " #   Column    Non-Null Count  Dtype         \n",
      "---  ------    --------------  -----         \n",
      " 0   user_id   18068 non-null  int64         \n",
      " 1   distance  18068 non-null  float64       \n",
      " 2   duration  18068 non-null  float64       \n",
      " 3   date      18068 non-null  datetime64[ns]\n",
      " 4   month     18068 non-null  int32         \n",
      "dtypes: datetime64[ns](1), float64(2), int32(1), int64(1)\n",
      "memory usage: 635.3 KB\n"
     ]
    },
    {
     "data": {
      "text/plain": [
       "None"
      ]
     },
     "metadata": {},
     "output_type": "display_data"
    },
    {
     "name": "stdout",
     "output_type": "stream",
     "text": [
      "<class 'pandas.core.frame.DataFrame'>\n",
      "RangeIndex: 2 entries, 0 to 1\n",
      "Data columns (total 4 columns):\n",
      " #   Column             Non-Null Count  Dtype \n",
      "---  ------             --------------  ----- \n",
      " 0   subscription_type  2 non-null      object\n",
      " 1   minute_price       2 non-null      int64 \n",
      " 2   start_ride_price   2 non-null      int64 \n",
      " 3   subscription_fee   2 non-null      int64 \n",
      "dtypes: int64(3), object(1)\n",
      "memory usage: 196.0+ bytes\n"
     ]
    },
    {
     "data": {
      "text/plain": [
       "None"
      ]
     },
     "metadata": {},
     "output_type": "display_data"
    }
   ],
   "source": [
    "display(u_go.info())\n",
    "display(r_go.info())\n",
    "display(s_go.info())"
   ]
  },
  {
   "cell_type": "code",
   "execution_count": 40,
   "id": "f08ead99",
   "metadata": {},
   "outputs": [],
   "source": [
    "data=u_go.merge(r_go,how ='left')"
   ]
  },
  {
   "cell_type": "code",
   "execution_count": 41,
   "id": "5e116806",
   "metadata": {},
   "outputs": [],
   "source": [
    "data = data.merge(s_go,how='left')"
   ]
  },
  {
   "cell_type": "code",
   "execution_count": 42,
   "id": "aebdb28a",
   "metadata": {
    "scrolled": true
   },
   "outputs": [
    {
     "data": {
      "text/html": [
       "<div>\n",
       "<style scoped>\n",
       "    .dataframe tbody tr th:only-of-type {\n",
       "        vertical-align: middle;\n",
       "    }\n",
       "\n",
       "    .dataframe tbody tr th {\n",
       "        vertical-align: top;\n",
       "    }\n",
       "\n",
       "    .dataframe thead th {\n",
       "        text-align: right;\n",
       "    }\n",
       "</style>\n",
       "<table border=\"1\" class=\"dataframe\">\n",
       "  <thead>\n",
       "    <tr style=\"text-align: right;\">\n",
       "      <th></th>\n",
       "      <th>user_id</th>\n",
       "      <th>name</th>\n",
       "      <th>age</th>\n",
       "      <th>city</th>\n",
       "      <th>subscription_type</th>\n",
       "      <th>distance</th>\n",
       "      <th>duration</th>\n",
       "      <th>date</th>\n",
       "      <th>month</th>\n",
       "      <th>minute_price</th>\n",
       "      <th>start_ride_price</th>\n",
       "      <th>subscription_fee</th>\n",
       "    </tr>\n",
       "  </thead>\n",
       "  <tbody>\n",
       "    <tr>\n",
       "      <th>0</th>\n",
       "      <td>1</td>\n",
       "      <td>Кира</td>\n",
       "      <td>22</td>\n",
       "      <td>Тюмень</td>\n",
       "      <td>ultra</td>\n",
       "      <td>4,409.92</td>\n",
       "      <td>25.60</td>\n",
       "      <td>2021-01-01</td>\n",
       "      <td>1</td>\n",
       "      <td>6</td>\n",
       "      <td>0</td>\n",
       "      <td>199</td>\n",
       "    </tr>\n",
       "    <tr>\n",
       "      <th>1</th>\n",
       "      <td>1</td>\n",
       "      <td>Кира</td>\n",
       "      <td>22</td>\n",
       "      <td>Тюмень</td>\n",
       "      <td>ultra</td>\n",
       "      <td>2,617.59</td>\n",
       "      <td>15.82</td>\n",
       "      <td>2021-01-18</td>\n",
       "      <td>1</td>\n",
       "      <td>6</td>\n",
       "      <td>0</td>\n",
       "      <td>199</td>\n",
       "    </tr>\n",
       "    <tr>\n",
       "      <th>2</th>\n",
       "      <td>1</td>\n",
       "      <td>Кира</td>\n",
       "      <td>22</td>\n",
       "      <td>Тюмень</td>\n",
       "      <td>ultra</td>\n",
       "      <td>754.16</td>\n",
       "      <td>6.23</td>\n",
       "      <td>2021-04-20</td>\n",
       "      <td>4</td>\n",
       "      <td>6</td>\n",
       "      <td>0</td>\n",
       "      <td>199</td>\n",
       "    </tr>\n",
       "    <tr>\n",
       "      <th>3</th>\n",
       "      <td>1</td>\n",
       "      <td>Кира</td>\n",
       "      <td>22</td>\n",
       "      <td>Тюмень</td>\n",
       "      <td>ultra</td>\n",
       "      <td>2,694.78</td>\n",
       "      <td>18.51</td>\n",
       "      <td>2021-08-11</td>\n",
       "      <td>8</td>\n",
       "      <td>6</td>\n",
       "      <td>0</td>\n",
       "      <td>199</td>\n",
       "    </tr>\n",
       "    <tr>\n",
       "      <th>4</th>\n",
       "      <td>1</td>\n",
       "      <td>Кира</td>\n",
       "      <td>22</td>\n",
       "      <td>Тюмень</td>\n",
       "      <td>ultra</td>\n",
       "      <td>4,028.69</td>\n",
       "      <td>26.27</td>\n",
       "      <td>2021-08-28</td>\n",
       "      <td>8</td>\n",
       "      <td>6</td>\n",
       "      <td>0</td>\n",
       "      <td>199</td>\n",
       "    </tr>\n",
       "  </tbody>\n",
       "</table>\n",
       "</div>"
      ],
      "text/plain": [
       "   user_id  name  age    city subscription_type  distance  duration  \\\n",
       "0        1  Кира   22  Тюмень             ultra  4,409.92     25.60   \n",
       "1        1  Кира   22  Тюмень             ultra  2,617.59     15.82   \n",
       "2        1  Кира   22  Тюмень             ultra    754.16      6.23   \n",
       "3        1  Кира   22  Тюмень             ultra  2,694.78     18.51   \n",
       "4        1  Кира   22  Тюмень             ultra  4,028.69     26.27   \n",
       "\n",
       "        date  month  minute_price  start_ride_price  subscription_fee  \n",
       "0 2021-01-01      1             6                 0               199  \n",
       "1 2021-01-18      1             6                 0               199  \n",
       "2 2021-04-20      4             6                 0               199  \n",
       "3 2021-08-11      8             6                 0               199  \n",
       "4 2021-08-28      8             6                 0               199  "
      ]
     },
     "execution_count": 42,
     "metadata": {},
     "output_type": "execute_result"
    }
   ],
   "source": [
    "data.head()"
   ]
  },
  {
   "cell_type": "code",
   "execution_count": 43,
   "id": "1b566fe2",
   "metadata": {
    "scrolled": true
   },
   "outputs": [
    {
     "name": "stdout",
     "output_type": "stream",
     "text": [
      "<class 'pandas.core.frame.DataFrame'>\n",
      "RangeIndex: 18068 entries, 0 to 18067\n",
      "Data columns (total 12 columns):\n",
      " #   Column             Non-Null Count  Dtype         \n",
      "---  ------             --------------  -----         \n",
      " 0   user_id            18068 non-null  int64         \n",
      " 1   name               18068 non-null  object        \n",
      " 2   age                18068 non-null  int64         \n",
      " 3   city               18068 non-null  object        \n",
      " 4   subscription_type  18068 non-null  object        \n",
      " 5   distance           18068 non-null  float64       \n",
      " 6   duration           18068 non-null  float64       \n",
      " 7   date               18068 non-null  datetime64[ns]\n",
      " 8   month              18068 non-null  int32         \n",
      " 9   minute_price       18068 non-null  int64         \n",
      " 10  start_ride_price   18068 non-null  int64         \n",
      " 11  subscription_fee   18068 non-null  int64         \n",
      "dtypes: datetime64[ns](1), float64(2), int32(1), int64(5), object(3)\n",
      "memory usage: 1.6+ MB\n"
     ]
    }
   ],
   "source": [
    "data.info()"
   ]
  },
  {
   "cell_type": "code",
   "execution_count": 44,
   "id": "dd19c282",
   "metadata": {},
   "outputs": [
    {
     "data": {
      "text/plain": [
       "0"
      ]
     },
     "execution_count": 44,
     "metadata": {},
     "output_type": "execute_result"
    }
   ],
   "source": [
    "data.duplicated().sum()"
   ]
  },
  {
   "cell_type": "code",
   "execution_count": 45,
   "id": "fd671210",
   "metadata": {},
   "outputs": [
    {
     "data": {
      "text/plain": [
       "user_id              0\n",
       "name                 0\n",
       "age                  0\n",
       "city                 0\n",
       "subscription_type    0\n",
       "distance             0\n",
       "duration             0\n",
       "date                 0\n",
       "month                0\n",
       "minute_price         0\n",
       "start_ride_price     0\n",
       "subscription_fee     0\n",
       "dtype: int64"
      ]
     },
     "execution_count": 45,
     "metadata": {},
     "output_type": "execute_result"
    }
   ],
   "source": [
    "data.isna().sum()"
   ]
  },
  {
   "cell_type": "markdown",
   "id": "6eaf0e71",
   "metadata": {},
   "source": [
    "Создадим ещё два датафрейма из датафрейма, созданного на этапе 4.1:"
   ]
  },
  {
   "cell_type": "markdown",
   "id": "1451d6b3",
   "metadata": {},
   "source": [
    "c данными о пользователях без подписки;"
   ]
  },
  {
   "cell_type": "code",
   "execution_count": 46,
   "id": "c506694d",
   "metadata": {},
   "outputs": [],
   "source": [
    "without_sub = data.query(\"`subscription_type` == 'free'\")"
   ]
  },
  {
   "cell_type": "code",
   "execution_count": 47,
   "id": "9e5dc6a3",
   "metadata": {
    "scrolled": true
   },
   "outputs": [
    {
     "data": {
      "text/html": [
       "<div>\n",
       "<style scoped>\n",
       "    .dataframe tbody tr th:only-of-type {\n",
       "        vertical-align: middle;\n",
       "    }\n",
       "\n",
       "    .dataframe tbody tr th {\n",
       "        vertical-align: top;\n",
       "    }\n",
       "\n",
       "    .dataframe thead th {\n",
       "        text-align: right;\n",
       "    }\n",
       "</style>\n",
       "<table border=\"1\" class=\"dataframe\">\n",
       "  <thead>\n",
       "    <tr style=\"text-align: right;\">\n",
       "      <th></th>\n",
       "      <th>user_id</th>\n",
       "      <th>name</th>\n",
       "      <th>age</th>\n",
       "      <th>city</th>\n",
       "      <th>subscription_type</th>\n",
       "      <th>distance</th>\n",
       "      <th>duration</th>\n",
       "      <th>date</th>\n",
       "      <th>month</th>\n",
       "      <th>minute_price</th>\n",
       "      <th>start_ride_price</th>\n",
       "      <th>subscription_fee</th>\n",
       "    </tr>\n",
       "  </thead>\n",
       "  <tbody>\n",
       "    <tr>\n",
       "      <th>6500</th>\n",
       "      <td>700</td>\n",
       "      <td>Айдар</td>\n",
       "      <td>22</td>\n",
       "      <td>Омск</td>\n",
       "      <td>free</td>\n",
       "      <td>2,515.69</td>\n",
       "      <td>14.94</td>\n",
       "      <td>2021-01-02</td>\n",
       "      <td>1</td>\n",
       "      <td>8</td>\n",
       "      <td>50</td>\n",
       "      <td>0</td>\n",
       "    </tr>\n",
       "    <tr>\n",
       "      <th>6501</th>\n",
       "      <td>700</td>\n",
       "      <td>Айдар</td>\n",
       "      <td>22</td>\n",
       "      <td>Омск</td>\n",
       "      <td>free</td>\n",
       "      <td>846.93</td>\n",
       "      <td>16.23</td>\n",
       "      <td>2021-02-01</td>\n",
       "      <td>2</td>\n",
       "      <td>8</td>\n",
       "      <td>50</td>\n",
       "      <td>0</td>\n",
       "    </tr>\n",
       "    <tr>\n",
       "      <th>6502</th>\n",
       "      <td>700</td>\n",
       "      <td>Айдар</td>\n",
       "      <td>22</td>\n",
       "      <td>Омск</td>\n",
       "      <td>free</td>\n",
       "      <td>4,004.43</td>\n",
       "      <td>20.02</td>\n",
       "      <td>2021-02-04</td>\n",
       "      <td>2</td>\n",
       "      <td>8</td>\n",
       "      <td>50</td>\n",
       "      <td>0</td>\n",
       "    </tr>\n",
       "    <tr>\n",
       "      <th>6503</th>\n",
       "      <td>700</td>\n",
       "      <td>Айдар</td>\n",
       "      <td>22</td>\n",
       "      <td>Омск</td>\n",
       "      <td>free</td>\n",
       "      <td>1,205.91</td>\n",
       "      <td>9.78</td>\n",
       "      <td>2021-02-10</td>\n",
       "      <td>2</td>\n",
       "      <td>8</td>\n",
       "      <td>50</td>\n",
       "      <td>0</td>\n",
       "    </tr>\n",
       "    <tr>\n",
       "      <th>6504</th>\n",
       "      <td>700</td>\n",
       "      <td>Айдар</td>\n",
       "      <td>22</td>\n",
       "      <td>Омск</td>\n",
       "      <td>free</td>\n",
       "      <td>3,047.38</td>\n",
       "      <td>17.43</td>\n",
       "      <td>2021-02-14</td>\n",
       "      <td>2</td>\n",
       "      <td>8</td>\n",
       "      <td>50</td>\n",
       "      <td>0</td>\n",
       "    </tr>\n",
       "    <tr>\n",
       "      <th>...</th>\n",
       "      <td>...</td>\n",
       "      <td>...</td>\n",
       "      <td>...</td>\n",
       "      <td>...</td>\n",
       "      <td>...</td>\n",
       "      <td>...</td>\n",
       "      <td>...</td>\n",
       "      <td>...</td>\n",
       "      <td>...</td>\n",
       "      <td>...</td>\n",
       "      <td>...</td>\n",
       "      <td>...</td>\n",
       "    </tr>\n",
       "    <tr>\n",
       "      <th>18063</th>\n",
       "      <td>1534</td>\n",
       "      <td>Альберт</td>\n",
       "      <td>25</td>\n",
       "      <td>Краснодар</td>\n",
       "      <td>free</td>\n",
       "      <td>3,781.10</td>\n",
       "      <td>19.82</td>\n",
       "      <td>2021-11-04</td>\n",
       "      <td>11</td>\n",
       "      <td>8</td>\n",
       "      <td>50</td>\n",
       "      <td>0</td>\n",
       "    </tr>\n",
       "    <tr>\n",
       "      <th>18064</th>\n",
       "      <td>1534</td>\n",
       "      <td>Альберт</td>\n",
       "      <td>25</td>\n",
       "      <td>Краснодар</td>\n",
       "      <td>free</td>\n",
       "      <td>2,840.42</td>\n",
       "      <td>21.41</td>\n",
       "      <td>2021-11-16</td>\n",
       "      <td>11</td>\n",
       "      <td>8</td>\n",
       "      <td>50</td>\n",
       "      <td>0</td>\n",
       "    </tr>\n",
       "    <tr>\n",
       "      <th>18065</th>\n",
       "      <td>1534</td>\n",
       "      <td>Альберт</td>\n",
       "      <td>25</td>\n",
       "      <td>Краснодар</td>\n",
       "      <td>free</td>\n",
       "      <td>3,826.19</td>\n",
       "      <td>18.44</td>\n",
       "      <td>2021-11-18</td>\n",
       "      <td>11</td>\n",
       "      <td>8</td>\n",
       "      <td>50</td>\n",
       "      <td>0</td>\n",
       "    </tr>\n",
       "    <tr>\n",
       "      <th>18066</th>\n",
       "      <td>1534</td>\n",
       "      <td>Альберт</td>\n",
       "      <td>25</td>\n",
       "      <td>Краснодар</td>\n",
       "      <td>free</td>\n",
       "      <td>2,902.31</td>\n",
       "      <td>16.67</td>\n",
       "      <td>2021-11-27</td>\n",
       "      <td>11</td>\n",
       "      <td>8</td>\n",
       "      <td>50</td>\n",
       "      <td>0</td>\n",
       "    </tr>\n",
       "    <tr>\n",
       "      <th>18067</th>\n",
       "      <td>1534</td>\n",
       "      <td>Альберт</td>\n",
       "      <td>25</td>\n",
       "      <td>Краснодар</td>\n",
       "      <td>free</td>\n",
       "      <td>2,371.71</td>\n",
       "      <td>15.89</td>\n",
       "      <td>2021-12-29</td>\n",
       "      <td>12</td>\n",
       "      <td>8</td>\n",
       "      <td>50</td>\n",
       "      <td>0</td>\n",
       "    </tr>\n",
       "  </tbody>\n",
       "</table>\n",
       "<p>11568 rows × 12 columns</p>\n",
       "</div>"
      ],
      "text/plain": [
       "       user_id     name  age       city subscription_type  distance  duration  \\\n",
       "6500       700    Айдар   22       Омск              free  2,515.69     14.94   \n",
       "6501       700    Айдар   22       Омск              free    846.93     16.23   \n",
       "6502       700    Айдар   22       Омск              free  4,004.43     20.02   \n",
       "6503       700    Айдар   22       Омск              free  1,205.91      9.78   \n",
       "6504       700    Айдар   22       Омск              free  3,047.38     17.43   \n",
       "...        ...      ...  ...        ...               ...       ...       ...   \n",
       "18063     1534  Альберт   25  Краснодар              free  3,781.10     19.82   \n",
       "18064     1534  Альберт   25  Краснодар              free  2,840.42     21.41   \n",
       "18065     1534  Альберт   25  Краснодар              free  3,826.19     18.44   \n",
       "18066     1534  Альберт   25  Краснодар              free  2,902.31     16.67   \n",
       "18067     1534  Альберт   25  Краснодар              free  2,371.71     15.89   \n",
       "\n",
       "            date  month  minute_price  start_ride_price  subscription_fee  \n",
       "6500  2021-01-02      1             8                50                 0  \n",
       "6501  2021-02-01      2             8                50                 0  \n",
       "6502  2021-02-04      2             8                50                 0  \n",
       "6503  2021-02-10      2             8                50                 0  \n",
       "6504  2021-02-14      2             8                50                 0  \n",
       "...          ...    ...           ...               ...               ...  \n",
       "18063 2021-11-04     11             8                50                 0  \n",
       "18064 2021-11-16     11             8                50                 0  \n",
       "18065 2021-11-18     11             8                50                 0  \n",
       "18066 2021-11-27     11             8                50                 0  \n",
       "18067 2021-12-29     12             8                50                 0  \n",
       "\n",
       "[11568 rows x 12 columns]"
      ]
     },
     "execution_count": 47,
     "metadata": {},
     "output_type": "execute_result"
    }
   ],
   "source": [
    "without_sub"
   ]
  },
  {
   "cell_type": "markdown",
   "id": "fdaa280c",
   "metadata": {},
   "source": [
    "с данными о пользователях с подпиской"
   ]
  },
  {
   "cell_type": "code",
   "execution_count": 48,
   "id": "98ef55e7",
   "metadata": {},
   "outputs": [],
   "source": [
    "with_sub = data.query(\"`subscription_type` == 'ultra'\")"
   ]
  },
  {
   "cell_type": "code",
   "execution_count": 49,
   "id": "77c3c327",
   "metadata": {},
   "outputs": [
    {
     "data": {
      "text/html": [
       "<div>\n",
       "<style scoped>\n",
       "    .dataframe tbody tr th:only-of-type {\n",
       "        vertical-align: middle;\n",
       "    }\n",
       "\n",
       "    .dataframe tbody tr th {\n",
       "        vertical-align: top;\n",
       "    }\n",
       "\n",
       "    .dataframe thead th {\n",
       "        text-align: right;\n",
       "    }\n",
       "</style>\n",
       "<table border=\"1\" class=\"dataframe\">\n",
       "  <thead>\n",
       "    <tr style=\"text-align: right;\">\n",
       "      <th></th>\n",
       "      <th>user_id</th>\n",
       "      <th>name</th>\n",
       "      <th>age</th>\n",
       "      <th>city</th>\n",
       "      <th>subscription_type</th>\n",
       "      <th>distance</th>\n",
       "      <th>duration</th>\n",
       "      <th>date</th>\n",
       "      <th>month</th>\n",
       "      <th>minute_price</th>\n",
       "      <th>start_ride_price</th>\n",
       "      <th>subscription_fee</th>\n",
       "    </tr>\n",
       "  </thead>\n",
       "  <tbody>\n",
       "    <tr>\n",
       "      <th>0</th>\n",
       "      <td>1</td>\n",
       "      <td>Кира</td>\n",
       "      <td>22</td>\n",
       "      <td>Тюмень</td>\n",
       "      <td>ultra</td>\n",
       "      <td>4,409.92</td>\n",
       "      <td>25.60</td>\n",
       "      <td>2021-01-01</td>\n",
       "      <td>1</td>\n",
       "      <td>6</td>\n",
       "      <td>0</td>\n",
       "      <td>199</td>\n",
       "    </tr>\n",
       "    <tr>\n",
       "      <th>1</th>\n",
       "      <td>1</td>\n",
       "      <td>Кира</td>\n",
       "      <td>22</td>\n",
       "      <td>Тюмень</td>\n",
       "      <td>ultra</td>\n",
       "      <td>2,617.59</td>\n",
       "      <td>15.82</td>\n",
       "      <td>2021-01-18</td>\n",
       "      <td>1</td>\n",
       "      <td>6</td>\n",
       "      <td>0</td>\n",
       "      <td>199</td>\n",
       "    </tr>\n",
       "    <tr>\n",
       "      <th>2</th>\n",
       "      <td>1</td>\n",
       "      <td>Кира</td>\n",
       "      <td>22</td>\n",
       "      <td>Тюмень</td>\n",
       "      <td>ultra</td>\n",
       "      <td>754.16</td>\n",
       "      <td>6.23</td>\n",
       "      <td>2021-04-20</td>\n",
       "      <td>4</td>\n",
       "      <td>6</td>\n",
       "      <td>0</td>\n",
       "      <td>199</td>\n",
       "    </tr>\n",
       "    <tr>\n",
       "      <th>3</th>\n",
       "      <td>1</td>\n",
       "      <td>Кира</td>\n",
       "      <td>22</td>\n",
       "      <td>Тюмень</td>\n",
       "      <td>ultra</td>\n",
       "      <td>2,694.78</td>\n",
       "      <td>18.51</td>\n",
       "      <td>2021-08-11</td>\n",
       "      <td>8</td>\n",
       "      <td>6</td>\n",
       "      <td>0</td>\n",
       "      <td>199</td>\n",
       "    </tr>\n",
       "    <tr>\n",
       "      <th>4</th>\n",
       "      <td>1</td>\n",
       "      <td>Кира</td>\n",
       "      <td>22</td>\n",
       "      <td>Тюмень</td>\n",
       "      <td>ultra</td>\n",
       "      <td>4,028.69</td>\n",
       "      <td>26.27</td>\n",
       "      <td>2021-08-28</td>\n",
       "      <td>8</td>\n",
       "      <td>6</td>\n",
       "      <td>0</td>\n",
       "      <td>199</td>\n",
       "    </tr>\n",
       "    <tr>\n",
       "      <th>...</th>\n",
       "      <td>...</td>\n",
       "      <td>...</td>\n",
       "      <td>...</td>\n",
       "      <td>...</td>\n",
       "      <td>...</td>\n",
       "      <td>...</td>\n",
       "      <td>...</td>\n",
       "      <td>...</td>\n",
       "      <td>...</td>\n",
       "      <td>...</td>\n",
       "      <td>...</td>\n",
       "      <td>...</td>\n",
       "    </tr>\n",
       "    <tr>\n",
       "      <th>6495</th>\n",
       "      <td>699</td>\n",
       "      <td>Оксана</td>\n",
       "      <td>22</td>\n",
       "      <td>Москва</td>\n",
       "      <td>ultra</td>\n",
       "      <td>3,973.05</td>\n",
       "      <td>24.67</td>\n",
       "      <td>2021-08-29</td>\n",
       "      <td>8</td>\n",
       "      <td>6</td>\n",
       "      <td>0</td>\n",
       "      <td>199</td>\n",
       "    </tr>\n",
       "    <tr>\n",
       "      <th>6496</th>\n",
       "      <td>699</td>\n",
       "      <td>Оксана</td>\n",
       "      <td>22</td>\n",
       "      <td>Москва</td>\n",
       "      <td>ultra</td>\n",
       "      <td>3,288.70</td>\n",
       "      <td>15.89</td>\n",
       "      <td>2021-09-12</td>\n",
       "      <td>9</td>\n",
       "      <td>6</td>\n",
       "      <td>0</td>\n",
       "      <td>199</td>\n",
       "    </tr>\n",
       "    <tr>\n",
       "      <th>6497</th>\n",
       "      <td>699</td>\n",
       "      <td>Оксана</td>\n",
       "      <td>22</td>\n",
       "      <td>Москва</td>\n",
       "      <td>ultra</td>\n",
       "      <td>3,076.16</td>\n",
       "      <td>14.39</td>\n",
       "      <td>2021-09-26</td>\n",
       "      <td>9</td>\n",
       "      <td>6</td>\n",
       "      <td>0</td>\n",
       "      <td>199</td>\n",
       "    </tr>\n",
       "    <tr>\n",
       "      <th>6498</th>\n",
       "      <td>699</td>\n",
       "      <td>Оксана</td>\n",
       "      <td>22</td>\n",
       "      <td>Москва</td>\n",
       "      <td>ultra</td>\n",
       "      <td>4,707.85</td>\n",
       "      <td>15.84</td>\n",
       "      <td>2021-10-17</td>\n",
       "      <td>10</td>\n",
       "      <td>6</td>\n",
       "      <td>0</td>\n",
       "      <td>199</td>\n",
       "    </tr>\n",
       "    <tr>\n",
       "      <th>6499</th>\n",
       "      <td>699</td>\n",
       "      <td>Оксана</td>\n",
       "      <td>22</td>\n",
       "      <td>Москва</td>\n",
       "      <td>ultra</td>\n",
       "      <td>3,202.89</td>\n",
       "      <td>25.22</td>\n",
       "      <td>2021-12-03</td>\n",
       "      <td>12</td>\n",
       "      <td>6</td>\n",
       "      <td>0</td>\n",
       "      <td>199</td>\n",
       "    </tr>\n",
       "  </tbody>\n",
       "</table>\n",
       "<p>6500 rows × 12 columns</p>\n",
       "</div>"
      ],
      "text/plain": [
       "      user_id    name  age    city subscription_type  distance  duration  \\\n",
       "0           1    Кира   22  Тюмень             ultra  4,409.92     25.60   \n",
       "1           1    Кира   22  Тюмень             ultra  2,617.59     15.82   \n",
       "2           1    Кира   22  Тюмень             ultra    754.16      6.23   \n",
       "3           1    Кира   22  Тюмень             ultra  2,694.78     18.51   \n",
       "4           1    Кира   22  Тюмень             ultra  4,028.69     26.27   \n",
       "...       ...     ...  ...     ...               ...       ...       ...   \n",
       "6495      699  Оксана   22  Москва             ultra  3,973.05     24.67   \n",
       "6496      699  Оксана   22  Москва             ultra  3,288.70     15.89   \n",
       "6497      699  Оксана   22  Москва             ultra  3,076.16     14.39   \n",
       "6498      699  Оксана   22  Москва             ultra  4,707.85     15.84   \n",
       "6499      699  Оксана   22  Москва             ultra  3,202.89     25.22   \n",
       "\n",
       "           date  month  minute_price  start_ride_price  subscription_fee  \n",
       "0    2021-01-01      1             6                 0               199  \n",
       "1    2021-01-18      1             6                 0               199  \n",
       "2    2021-04-20      4             6                 0               199  \n",
       "3    2021-08-11      8             6                 0               199  \n",
       "4    2021-08-28      8             6                 0               199  \n",
       "...         ...    ...           ...               ...               ...  \n",
       "6495 2021-08-29      8             6                 0               199  \n",
       "6496 2021-09-12      9             6                 0               199  \n",
       "6497 2021-09-26      9             6                 0               199  \n",
       "6498 2021-10-17     10             6                 0               199  \n",
       "6499 2021-12-03     12             6                 0               199  \n",
       "\n",
       "[6500 rows x 12 columns]"
      ]
     },
     "execution_count": 49,
     "metadata": {},
     "output_type": "execute_result"
    }
   ],
   "source": [
    "with_sub"
   ]
  },
  {
   "cell_type": "markdown",
   "id": "1634f7a8",
   "metadata": {},
   "source": [
    "Визуализируем информацию о расстоянии и времени поездок для пользователей обеих категорий"
   ]
  },
  {
   "cell_type": "code",
   "execution_count": 50,
   "id": "faf61bf5",
   "metadata": {},
   "outputs": [
    {
     "data": {
      "image/png": "[encoded data removed]",
      "text/plain": [
       "<Figure size 640x480 with 1 Axes>"
      ]
     },
     "metadata": {},
     "output_type": "display_data"
    },
    {
     "data": {
      "text/plain": [
       "<Figure size 5000x5000 with 0 Axes>"
      ]
     },
     "metadata": {},
     "output_type": "display_data"
    },
    {
     "data": {
      "image/png": "[encoded data removed]",
      "text/plain": [
       "<Figure size 640x480 with 1 Axes>"
      ]
     },
     "metadata": {},
     "output_type": "display_data"
    },
    {
     "data": {
      "text/plain": [
       "<Figure size 5000x5000 with 0 Axes>"
      ]
     },
     "metadata": {},
     "output_type": "display_data"
    }
   ],
   "source": [
    "plt.hist(without_sub['distance'], bins=50, range = (0, 7500))\n",
    "plt.title('Расстояние, без подписки')\n",
    "plt.xlabel('Расстояние, м')\n",
    "plt.ylabel('Количество поездок')\n",
    "plt.figure(figsize=(50,50))\n",
    "plt.show()\n",
    "\n",
    "plt.hist(with_sub['distance'], bins=50, range = (0, 6000))\n",
    "plt.title('Расстояние, с подпиской')\n",
    "plt.xlabel('Расстояние, м')\n",
    "plt.ylabel('Количество поездок')\n",
    "plt.figure(figsize=(50,50))\n",
    "plt.show()"
   ]
  },
  {
   "cell_type": "code",
   "execution_count": 51,
   "id": "da382eef",
   "metadata": {},
   "outputs": [
    {
     "data": {
      "image/png": "[encoded data removed]",
      "text/plain": [
       "<Figure size 640x480 with 1 Axes>"
      ]
     },
     "metadata": {},
     "output_type": "display_data"
    },
    {
     "data": {
      "text/plain": [
       "<Figure size 2000x2000 with 0 Axes>"
      ]
     },
     "metadata": {},
     "output_type": "display_data"
    },
    {
     "data": {
      "image/png": "[encoded data removed]",
      "text/plain": [
       "<Figure size 640x480 with 1 Axes>"
      ]
     },
     "metadata": {},
     "output_type": "display_data"
    },
    {
     "data": {
      "text/plain": [
       "<Figure size 2000x2000 with 0 Axes>"
      ]
     },
     "metadata": {},
     "output_type": "display_data"
    }
   ],
   "source": [
    "plt.hist(without_sub['duration'], bins=30, range = (0, 35))\n",
    "plt.title('Время, без подписки')\n",
    "plt.xlabel('Время поездки, минуты')\n",
    "plt.ylabel('Количество поездок')\n",
    "plt.figure(figsize=(20,20))\n",
    "plt.show()\n",
    "\n",
    "plt.hist(with_sub['duration'], bins=30, range = (0, 35))\n",
    "plt.title('Время, с подпиской')\n",
    "plt.xlabel('Время поездки, минуты')\n",
    "plt.ylabel('Количество поездок')\n",
    "plt.figure(figsize=(20,20))\n",
    "plt.show()"
   ]
  },
  {
   "cell_type": "markdown",
   "id": "98658344",
   "metadata": {},
   "source": [
    "в данном шаге объединили данные о пользователях, поездках и тарифах в один датафрейм - data\n",
    "создали два новых датафрема : с подпиской-with_sub, без подписки-without_sub\n",
    "визуализировали данные по расстоянию и времени для новых датафреймов\n",
    "вывод из представленной информации можно сделать слеудющий: без подписки люди берут самокат на разные дистанции, можно сказать от нуля и до 7,5 км, при этом основная масса поездок находится в диапазоне от 2 до 5 км, в этоже время поездки по подписке находятся в диапазоне от 2,5 до 4,5 и отсутствием как более длительных поезд, так и очень коротких ( 0- 500 м)\n",
    "временной отрезок также совпадает с расстоянием, т.е. без подписки люди берут самокат  в интервале от 2  до 43"
   ]
  },
  {
   "cell_type": "markdown",
   "id": "402d620f",
   "metadata": {},
   "source": [
    "#### Шаг 5. Подсчёт выручки"
   ]
  },
  {
   "cell_type": "markdown",
   "id": "0c42ab93",
   "metadata": {},
   "source": [
    "Создадим датафрейм с агрегированными данными о поездках на основе датафрейма с объединёнными данными из шага 4: найдем суммарное расстояние, количество поездок и суммарное время для каждого пользователя за каждый месяц."
   ]
  },
  {
   "cell_type": "code",
   "execution_count": 52,
   "id": "0f212fc3",
   "metadata": {},
   "outputs": [],
   "source": [
    "sum_data = pd.pivot_table(data,\n",
    "                           index=['month', 'user_id'],\n",
    "                            values = ['distance', 'duration', 'name', 'subscription_type','minute_price','start_ride_price','subscription_fee'],\n",
    "                            aggfunc = {'distance': sum, \n",
    "                                      'duration' : sum, \n",
    "                                      'name' : len, \n",
    "                                      'subscription_type' : min,\n",
    "                                      'minute_price' : min,\n",
    "                                      'start_ride_price': min,\n",
    "                                       'subscription_fee': min\n",
    "                                    })"
   ]
  },
  {
   "cell_type": "code",
   "execution_count": 53,
   "id": "8b4b348f",
   "metadata": {},
   "outputs": [
    {
     "data": {
      "text/html": [
       "<div>\n",
       "<style scoped>\n",
       "    .dataframe tbody tr th:only-of-type {\n",
       "        vertical-align: middle;\n",
       "    }\n",
       "\n",
       "    .dataframe tbody tr th {\n",
       "        vertical-align: top;\n",
       "    }\n",
       "\n",
       "    .dataframe thead th {\n",
       "        text-align: right;\n",
       "    }\n",
       "</style>\n",
       "<table border=\"1\" class=\"dataframe\">\n",
       "  <thead>\n",
       "    <tr style=\"text-align: right;\">\n",
       "      <th></th>\n",
       "      <th></th>\n",
       "      <th>distance</th>\n",
       "      <th>duration</th>\n",
       "      <th>minute_price</th>\n",
       "      <th>name</th>\n",
       "      <th>start_ride_price</th>\n",
       "      <th>subscription_fee</th>\n",
       "      <th>subscription_type</th>\n",
       "    </tr>\n",
       "    <tr>\n",
       "      <th>month</th>\n",
       "      <th>user_id</th>\n",
       "      <th></th>\n",
       "      <th></th>\n",
       "      <th></th>\n",
       "      <th></th>\n",
       "      <th></th>\n",
       "      <th></th>\n",
       "      <th></th>\n",
       "    </tr>\n",
       "  </thead>\n",
       "  <tbody>\n",
       "    <tr>\n",
       "      <th rowspan=\"5\" valign=\"top\">1</th>\n",
       "      <th>1</th>\n",
       "      <td>7,027.51</td>\n",
       "      <td>41.42</td>\n",
       "      <td>6</td>\n",
       "      <td>2</td>\n",
       "      <td>0</td>\n",
       "      <td>199</td>\n",
       "      <td>ultra</td>\n",
       "    </tr>\n",
       "    <tr>\n",
       "      <th>3</th>\n",
       "      <td>3,061.78</td>\n",
       "      <td>12.65</td>\n",
       "      <td>6</td>\n",
       "      <td>1</td>\n",
       "      <td>0</td>\n",
       "      <td>199</td>\n",
       "      <td>ultra</td>\n",
       "    </tr>\n",
       "    <tr>\n",
       "      <th>5</th>\n",
       "      <td>3,914.65</td>\n",
       "      <td>12.40</td>\n",
       "      <td>6</td>\n",
       "      <td>1</td>\n",
       "      <td>0</td>\n",
       "      <td>199</td>\n",
       "      <td>ultra</td>\n",
       "    </tr>\n",
       "    <tr>\n",
       "      <th>7</th>\n",
       "      <td>6,478.08</td>\n",
       "      <td>27.65</td>\n",
       "      <td>6</td>\n",
       "      <td>2</td>\n",
       "      <td>0</td>\n",
       "      <td>199</td>\n",
       "      <td>ultra</td>\n",
       "    </tr>\n",
       "    <tr>\n",
       "      <th>12</th>\n",
       "      <td>3,577.15</td>\n",
       "      <td>32.46</td>\n",
       "      <td>6</td>\n",
       "      <td>1</td>\n",
       "      <td>0</td>\n",
       "      <td>199</td>\n",
       "      <td>ultra</td>\n",
       "    </tr>\n",
       "    <tr>\n",
       "      <th>...</th>\n",
       "      <th>...</th>\n",
       "      <td>...</td>\n",
       "      <td>...</td>\n",
       "      <td>...</td>\n",
       "      <td>...</td>\n",
       "      <td>...</td>\n",
       "      <td>...</td>\n",
       "      <td>...</td>\n",
       "    </tr>\n",
       "    <tr>\n",
       "      <th rowspan=\"5\" valign=\"top\">12</th>\n",
       "      <th>1525</th>\n",
       "      <td>4,597.85</td>\n",
       "      <td>33.22</td>\n",
       "      <td>8</td>\n",
       "      <td>1</td>\n",
       "      <td>50</td>\n",
       "      <td>0</td>\n",
       "      <td>free</td>\n",
       "    </tr>\n",
       "    <tr>\n",
       "      <th>1526</th>\n",
       "      <td>3,644.12</td>\n",
       "      <td>22.67</td>\n",
       "      <td>8</td>\n",
       "      <td>1</td>\n",
       "      <td>50</td>\n",
       "      <td>0</td>\n",
       "      <td>free</td>\n",
       "    </tr>\n",
       "    <tr>\n",
       "      <th>1528</th>\n",
       "      <td>3,998.57</td>\n",
       "      <td>10.27</td>\n",
       "      <td>8</td>\n",
       "      <td>1</td>\n",
       "      <td>50</td>\n",
       "      <td>0</td>\n",
       "      <td>free</td>\n",
       "    </tr>\n",
       "    <tr>\n",
       "      <th>1532</th>\n",
       "      <td>6,111.89</td>\n",
       "      <td>40.13</td>\n",
       "      <td>8</td>\n",
       "      <td>2</td>\n",
       "      <td>50</td>\n",
       "      <td>0</td>\n",
       "      <td>free</td>\n",
       "    </tr>\n",
       "    <tr>\n",
       "      <th>1534</th>\n",
       "      <td>2,371.71</td>\n",
       "      <td>15.89</td>\n",
       "      <td>8</td>\n",
       "      <td>1</td>\n",
       "      <td>50</td>\n",
       "      <td>0</td>\n",
       "      <td>free</td>\n",
       "    </tr>\n",
       "  </tbody>\n",
       "</table>\n",
       "<p>11331 rows × 7 columns</p>\n",
       "</div>"
      ],
      "text/plain": [
       "               distance  duration  minute_price  name  start_ride_price  \\\n",
       "month user_id                                                             \n",
       "1     1        7,027.51     41.42             6     2                 0   \n",
       "      3        3,061.78     12.65             6     1                 0   \n",
       "      5        3,914.65     12.40             6     1                 0   \n",
       "      7        6,478.08     27.65             6     2                 0   \n",
       "      12       3,577.15     32.46             6     1                 0   \n",
       "...                 ...       ...           ...   ...               ...   \n",
       "12    1525     4,597.85     33.22             8     1                50   \n",
       "      1526     3,644.12     22.67             8     1                50   \n",
       "      1528     3,998.57     10.27             8     1                50   \n",
       "      1532     6,111.89     40.13             8     2                50   \n",
       "      1534     2,371.71     15.89             8     1                50   \n",
       "\n",
       "               subscription_fee subscription_type  \n",
       "month user_id                                      \n",
       "1     1                     199             ultra  \n",
       "      3                     199             ultra  \n",
       "      5                     199             ultra  \n",
       "      7                     199             ultra  \n",
       "      12                    199             ultra  \n",
       "...                         ...               ...  \n",
       "12    1525                    0              free  \n",
       "      1526                    0              free  \n",
       "      1528                    0              free  \n",
       "      1532                    0              free  \n",
       "      1534                    0              free  \n",
       "\n",
       "[11331 rows x 7 columns]"
      ]
     },
     "execution_count": 53,
     "metadata": {},
     "output_type": "execute_result"
    }
   ],
   "source": [
    "sum_data"
   ]
  },
  {
   "cell_type": "markdown",
   "id": "6ac62fe4",
   "metadata": {},
   "source": [
    "добавим столбец с помесячной выручкой, которую принёс каждый пользователь"
   ]
  },
  {
   "cell_type": "code",
   "execution_count": 54,
   "id": "4f4e79da",
   "metadata": {},
   "outputs": [],
   "source": [
    "sum_data['duration'] = np.ceil(sum_data['duration'])"
   ]
  },
  {
   "cell_type": "code",
   "execution_count": 55,
   "id": "f6c173de",
   "metadata": {},
   "outputs": [
    {
     "data": {
      "text/html": [
       "<div>\n",
       "<style scoped>\n",
       "    .dataframe tbody tr th:only-of-type {\n",
       "        vertical-align: middle;\n",
       "    }\n",
       "\n",
       "    .dataframe tbody tr th {\n",
       "        vertical-align: top;\n",
       "    }\n",
       "\n",
       "    .dataframe thead th {\n",
       "        text-align: right;\n",
       "    }\n",
       "</style>\n",
       "<table border=\"1\" class=\"dataframe\">\n",
       "  <thead>\n",
       "    <tr style=\"text-align: right;\">\n",
       "      <th></th>\n",
       "      <th></th>\n",
       "      <th>distance</th>\n",
       "      <th>duration</th>\n",
       "      <th>minute_price</th>\n",
       "      <th>name</th>\n",
       "      <th>start_ride_price</th>\n",
       "      <th>subscription_fee</th>\n",
       "      <th>subscription_type</th>\n",
       "    </tr>\n",
       "    <tr>\n",
       "      <th>month</th>\n",
       "      <th>user_id</th>\n",
       "      <th></th>\n",
       "      <th></th>\n",
       "      <th></th>\n",
       "      <th></th>\n",
       "      <th></th>\n",
       "      <th></th>\n",
       "      <th></th>\n",
       "    </tr>\n",
       "  </thead>\n",
       "  <tbody>\n",
       "    <tr>\n",
       "      <th rowspan=\"5\" valign=\"top\">1</th>\n",
       "      <th>1</th>\n",
       "      <td>7,027.51</td>\n",
       "      <td>42.00</td>\n",
       "      <td>6</td>\n",
       "      <td>2</td>\n",
       "      <td>0</td>\n",
       "      <td>199</td>\n",
       "      <td>ultra</td>\n",
       "    </tr>\n",
       "    <tr>\n",
       "      <th>3</th>\n",
       "      <td>3,061.78</td>\n",
       "      <td>13.00</td>\n",
       "      <td>6</td>\n",
       "      <td>1</td>\n",
       "      <td>0</td>\n",
       "      <td>199</td>\n",
       "      <td>ultra</td>\n",
       "    </tr>\n",
       "    <tr>\n",
       "      <th>5</th>\n",
       "      <td>3,914.65</td>\n",
       "      <td>13.00</td>\n",
       "      <td>6</td>\n",
       "      <td>1</td>\n",
       "      <td>0</td>\n",
       "      <td>199</td>\n",
       "      <td>ultra</td>\n",
       "    </tr>\n",
       "    <tr>\n",
       "      <th>7</th>\n",
       "      <td>6,478.08</td>\n",
       "      <td>28.00</td>\n",
       "      <td>6</td>\n",
       "      <td>2</td>\n",
       "      <td>0</td>\n",
       "      <td>199</td>\n",
       "      <td>ultra</td>\n",
       "    </tr>\n",
       "    <tr>\n",
       "      <th>12</th>\n",
       "      <td>3,577.15</td>\n",
       "      <td>33.00</td>\n",
       "      <td>6</td>\n",
       "      <td>1</td>\n",
       "      <td>0</td>\n",
       "      <td>199</td>\n",
       "      <td>ultra</td>\n",
       "    </tr>\n",
       "  </tbody>\n",
       "</table>\n",
       "</div>"
      ],
      "text/plain": [
       "               distance  duration  minute_price  name  start_ride_price  \\\n",
       "month user_id                                                             \n",
       "1     1        7,027.51     42.00             6     2                 0   \n",
       "      3        3,061.78     13.00             6     1                 0   \n",
       "      5        3,914.65     13.00             6     1                 0   \n",
       "      7        6,478.08     28.00             6     2                 0   \n",
       "      12       3,577.15     33.00             6     1                 0   \n",
       "\n",
       "               subscription_fee subscription_type  \n",
       "month user_id                                      \n",
       "1     1                     199             ultra  \n",
       "      3                     199             ultra  \n",
       "      5                     199             ultra  \n",
       "      7                     199             ultra  \n",
       "      12                    199             ultra  "
      ]
     },
     "execution_count": 55,
     "metadata": {},
     "output_type": "execute_result"
    }
   ],
   "source": [
    "sum_data.head()"
   ]
  },
  {
   "cell_type": "markdown",
   "id": "c4ca3556",
   "metadata": {},
   "source": []
  },
  {
   "cell_type": "code",
   "execution_count": 56,
   "id": "12eb2d1d",
   "metadata": {},
   "outputs": [],
   "source": [
    "sum_data['pay']=(sum_data['start_ride_price']*\\\n",
    "               sum_data['name'])+\\\n",
    "(sum_data['duration']*sum_data['minute_price'])+sum_data['subscription_fee']\n"
   ]
  },
  {
   "cell_type": "code",
   "execution_count": 57,
   "id": "f03eae2c",
   "metadata": {},
   "outputs": [
    {
     "data": {
      "text/html": [
       "<div>\n",
       "<style scoped>\n",
       "    .dataframe tbody tr th:only-of-type {\n",
       "        vertical-align: middle;\n",
       "    }\n",
       "\n",
       "    .dataframe tbody tr th {\n",
       "        vertical-align: top;\n",
       "    }\n",
       "\n",
       "    .dataframe thead th {\n",
       "        text-align: right;\n",
       "    }\n",
       "</style>\n",
       "<table border=\"1\" class=\"dataframe\">\n",
       "  <thead>\n",
       "    <tr style=\"text-align: right;\">\n",
       "      <th></th>\n",
       "      <th></th>\n",
       "      <th>distance</th>\n",
       "      <th>duration</th>\n",
       "      <th>minute_price</th>\n",
       "      <th>name</th>\n",
       "      <th>start_ride_price</th>\n",
       "      <th>subscription_fee</th>\n",
       "      <th>subscription_type</th>\n",
       "      <th>pay</th>\n",
       "    </tr>\n",
       "    <tr>\n",
       "      <th>month</th>\n",
       "      <th>user_id</th>\n",
       "      <th></th>\n",
       "      <th></th>\n",
       "      <th></th>\n",
       "      <th></th>\n",
       "      <th></th>\n",
       "      <th></th>\n",
       "      <th></th>\n",
       "      <th></th>\n",
       "    </tr>\n",
       "  </thead>\n",
       "  <tbody>\n",
       "    <tr>\n",
       "      <th>1</th>\n",
       "      <th>1</th>\n",
       "      <td>7,027.51</td>\n",
       "      <td>42.00</td>\n",
       "      <td>6</td>\n",
       "      <td>2</td>\n",
       "      <td>0</td>\n",
       "      <td>199</td>\n",
       "      <td>ultra</td>\n",
       "      <td>451.00</td>\n",
       "    </tr>\n",
       "    <tr>\n",
       "      <th>12</th>\n",
       "      <th>1</th>\n",
       "      <td>6,751.63</td>\n",
       "      <td>28.00</td>\n",
       "      <td>6</td>\n",
       "      <td>2</td>\n",
       "      <td>0</td>\n",
       "      <td>199</td>\n",
       "      <td>ultra</td>\n",
       "      <td>367.00</td>\n",
       "    </tr>\n",
       "    <tr>\n",
       "      <th>11</th>\n",
       "      <th>1</th>\n",
       "      <td>7,003.50</td>\n",
       "      <td>54.00</td>\n",
       "      <td>6</td>\n",
       "      <td>3</td>\n",
       "      <td>0</td>\n",
       "      <td>199</td>\n",
       "      <td>ultra</td>\n",
       "      <td>523.00</td>\n",
       "    </tr>\n",
       "    <tr>\n",
       "      <th>10</th>\n",
       "      <th>1</th>\n",
       "      <td>5,809.91</td>\n",
       "      <td>32.00</td>\n",
       "      <td>6</td>\n",
       "      <td>2</td>\n",
       "      <td>0</td>\n",
       "      <td>199</td>\n",
       "      <td>ultra</td>\n",
       "      <td>391.00</td>\n",
       "    </tr>\n",
       "    <tr>\n",
       "      <th>4</th>\n",
       "      <th>1</th>\n",
       "      <td>754.16</td>\n",
       "      <td>7.00</td>\n",
       "      <td>6</td>\n",
       "      <td>1</td>\n",
       "      <td>0</td>\n",
       "      <td>199</td>\n",
       "      <td>ultra</td>\n",
       "      <td>241.00</td>\n",
       "    </tr>\n",
       "    <tr>\n",
       "      <th>8</th>\n",
       "      <th>1</th>\n",
       "      <td>6,723.47</td>\n",
       "      <td>45.00</td>\n",
       "      <td>6</td>\n",
       "      <td>2</td>\n",
       "      <td>0</td>\n",
       "      <td>199</td>\n",
       "      <td>ultra</td>\n",
       "      <td>469.00</td>\n",
       "    </tr>\n",
       "    <tr>\n",
       "      <th>12</th>\n",
       "      <th>2</th>\n",
       "      <td>3,828.25</td>\n",
       "      <td>12.00</td>\n",
       "      <td>6</td>\n",
       "      <td>1</td>\n",
       "      <td>0</td>\n",
       "      <td>199</td>\n",
       "      <td>ultra</td>\n",
       "      <td>271.00</td>\n",
       "    </tr>\n",
       "    <tr>\n",
       "      <th>3</th>\n",
       "      <th>2</th>\n",
       "      <td>10,187.72</td>\n",
       "      <td>61.00</td>\n",
       "      <td>6</td>\n",
       "      <td>3</td>\n",
       "      <td>0</td>\n",
       "      <td>199</td>\n",
       "      <td>ultra</td>\n",
       "      <td>565.00</td>\n",
       "    </tr>\n",
       "    <tr>\n",
       "      <th>10</th>\n",
       "      <th>2</th>\n",
       "      <td>2,824.64</td>\n",
       "      <td>19.00</td>\n",
       "      <td>6</td>\n",
       "      <td>1</td>\n",
       "      <td>0</td>\n",
       "      <td>199</td>\n",
       "      <td>ultra</td>\n",
       "      <td>313.00</td>\n",
       "    </tr>\n",
       "    <tr>\n",
       "      <th>8</th>\n",
       "      <th>2</th>\n",
       "      <td>923.01</td>\n",
       "      <td>7.00</td>\n",
       "      <td>6</td>\n",
       "      <td>1</td>\n",
       "      <td>0</td>\n",
       "      <td>199</td>\n",
       "      <td>ultra</td>\n",
       "      <td>241.00</td>\n",
       "    </tr>\n",
       "    <tr>\n",
       "      <th>7</th>\n",
       "      <th>2</th>\n",
       "      <td>6,780.72</td>\n",
       "      <td>47.00</td>\n",
       "      <td>6</td>\n",
       "      <td>2</td>\n",
       "      <td>0</td>\n",
       "      <td>199</td>\n",
       "      <td>ultra</td>\n",
       "      <td>481.00</td>\n",
       "    </tr>\n",
       "    <tr>\n",
       "      <th>6</th>\n",
       "      <th>2</th>\n",
       "      <td>3,255.34</td>\n",
       "      <td>14.00</td>\n",
       "      <td>6</td>\n",
       "      <td>1</td>\n",
       "      <td>0</td>\n",
       "      <td>199</td>\n",
       "      <td>ultra</td>\n",
       "      <td>283.00</td>\n",
       "    </tr>\n",
       "  </tbody>\n",
       "</table>\n",
       "</div>"
      ],
      "text/plain": [
       "               distance  duration  minute_price  name  start_ride_price  \\\n",
       "month user_id                                                             \n",
       "1     1        7,027.51     42.00             6     2                 0   \n",
       "12    1        6,751.63     28.00             6     2                 0   \n",
       "11    1        7,003.50     54.00             6     3                 0   \n",
       "10    1        5,809.91     32.00             6     2                 0   \n",
       "4     1          754.16      7.00             6     1                 0   \n",
       "8     1        6,723.47     45.00             6     2                 0   \n",
       "12    2        3,828.25     12.00             6     1                 0   \n",
       "3     2       10,187.72     61.00             6     3                 0   \n",
       "10    2        2,824.64     19.00             6     1                 0   \n",
       "8     2          923.01      7.00             6     1                 0   \n",
       "7     2        6,780.72     47.00             6     2                 0   \n",
       "6     2        3,255.34     14.00             6     1                 0   \n",
       "\n",
       "               subscription_fee subscription_type    pay  \n",
       "month user_id                                             \n",
       "1     1                     199             ultra 451.00  \n",
       "12    1                     199             ultra 367.00  \n",
       "11    1                     199             ultra 523.00  \n",
       "10    1                     199             ultra 391.00  \n",
       "4     1                     199             ultra 241.00  \n",
       "8     1                     199             ultra 469.00  \n",
       "12    2                     199             ultra 271.00  \n",
       "3     2                     199             ultra 565.00  \n",
       "10    2                     199             ultra 313.00  \n",
       "8     2                     199             ultra 241.00  \n",
       "7     2                     199             ultra 481.00  \n",
       "6     2                     199             ultra 283.00  "
      ]
     },
     "execution_count": 57,
     "metadata": {},
     "output_type": "execute_result"
    }
   ],
   "source": [
    "sum_data.sort_values(by='user_id').head(12)"
   ]
  },
  {
   "cell_type": "markdown",
   "id": "4ee37eb6",
   "metadata": {},
   "source": [
    "Создали атафрейм с агрегированными данными о поездках на основе датафрейма с объединёнными данными из шага 4:\n",
    "найдли суммарное расстояние, количество поездок и суммарное время для каждого пользователя за каждый месяц.\n",
    "Также добавили столбец с помесячной выручкой, которую принес каждый пользователь.\n"
   ]
  },
  {
   "cell_type": "markdown",
   "id": "41545ac0",
   "metadata": {},
   "source": [
    "#### Шаг 6. Проверка гипотез"
   ]
  },
  {
   "cell_type": "markdown",
   "id": "6c51dafd",
   "metadata": {},
   "source": [
    "6.1 Важно понять, тратят ли пользователи с подпиской больше времени на поездки? Если да, то пользователи с подпиской могут быть «выгоднее» для компании. Проверим гипотезу. Используя исходные данные о продолжительности каждой сессии — отдельно для подписчиков и тех, у кого нет подписки."
   ]
  },
  {
   "cell_type": "markdown",
   "id": "29755869",
   "metadata": {},
   "source": [
    "H0: среднее время время поездок пользователей с подпиской = без подписки \n",
    "\n",
    "H1: cреднее время время поездок пользователей с подпиской > без подписки \n",
    "\n",
    "alpha = 0.05"
   ]
  },
  {
   "cell_type": "code",
   "execution_count": 58,
   "id": "8724e27a",
   "metadata": {},
   "outputs": [
    {
     "name": "stdout",
     "output_type": "stream",
     "text": [
      "1.0127745921539222e-17\n",
      "Отвергаем нулевую гипотезу\n"
     ]
    }
   ],
   "source": [
    "ultra = with_sub['duration'] \n",
    "\n",
    "free= without_sub['duration']\n",
    "\n",
    "results = st.ttest_ind(ultra, \n",
    "                      free,alternative = 'greater')\n",
    "\n",
    "alpha = .05\n",
    "\n",
    "print(results.pvalue)\n",
    "\n",
    "if results.pvalue < alpha:\n",
    "    print('Отвергаем нулевую гипотезу')\n",
    "else:\n",
    "    print('Не получилось отвергнуть нулевую гипотезу')"
   ]
  },
  {
   "cell_type": "markdown",
   "id": "65704b6b",
   "metadata": {},
   "source": [
    "вывод:отвергли гипотезу о том, что время поездки пользователей с подпиской равно времени поездки пользователей без нее."
   ]
  },
  {
   "cell_type": "markdown",
   "id": "685dc47b",
   "metadata": {},
   "source": [
    "6.2 Расстояние одной поездки в 3130 метров — оптимальное с точки зрения износа самоката. Можно ли сказать, что расстояние, которое проезжают пользователи с подпиской за одну поездку, не превышает 3130 метров? \n"
   ]
  },
  {
   "cell_type": "markdown",
   "id": "eacf00cd",
   "metadata": {},
   "source": [
    "H0: Расстояние одной поездки  пользователя c подпиской > 3130 метров\n",
    "\n",
    "H1: Расстояние одной поездки пользователя с подпиской < 3130 метров\n",
    "\n",
    "alpha = 0.05"
   ]
  },
  {
   "cell_type": "code",
   "execution_count": 59,
   "id": "897e5d78",
   "metadata": {},
   "outputs": [
    {
     "name": "stdout",
     "output_type": "stream",
     "text": [
      "0.9195368847849785\n",
      "Не получилось отвергнуть нулевую гипотезу\n"
     ]
    }
   ],
   "source": [
    "ultra_m = with_sub['distance']\n",
    "\n",
    "interested_value = 3130.0\n",
    "\n",
    "alpha = .05\n",
    "\n",
    "results = st.ttest_1samp(ultra_m, \n",
    "                      interested_value,alternative = 'greater')\n",
    "\n",
    "alpha = .05\n",
    "\n",
    "print(results.pvalue)\n",
    "\n",
    "if results.pvalue < alpha:\n",
    "    print('Отвергаем нулевую гипотезу')\n",
    "else:\n",
    "    print('Не получилось отвергнуть нулевую гипотезу')"
   ]
  },
  {
   "cell_type": "markdown",
   "id": "a85ac2f7",
   "metadata": {},
   "source": [
    "Вывод:\n",
    "    нельзя сказать,что расстояние, которое проезжают пользователи с подпиской не превышает 3130 метров."
   ]
  },
  {
   "cell_type": "markdown",
   "id": "e563e956",
   "metadata": {},
   "source": [
    "6.3. Проверим гипотезу о том, будет ли помесячная выручка от пользователей с подпиской по месяцам выше, чем выручка от пользователей без подписки"
   ]
  },
  {
   "cell_type": "markdown",
   "id": "ba5bc1eb",
   "metadata": {},
   "source": [
    "\n",
    "    \n",
    "H0: Выручка пользователей по подписке  = выручка пользователей без нее\n",
    "\n",
    "H1: Выручка  пользователей по подписке  > выручка  пользователей без нее\n"
   ]
  },
  {
   "cell_type": "code",
   "execution_count": 60,
   "id": "3ecc2b3f",
   "metadata": {},
   "outputs": [
    {
     "name": "stdout",
     "output_type": "stream",
     "text": [
      "2.5813615139253414e-26\n",
      "Отвергаем нулевую гипотезу\n"
     ]
    }
   ],
   "source": [
    "revenue_Ultra = sum_data.loc[sum_data.subscription_type == 'ultra', 'pay'] \n",
    "\n",
    "revenue_free = sum_data.loc[sum_data.subscription_type == 'free', 'pay'] \n",
    "\n",
    "\n",
    "results = st.ttest_ind(revenue_Ultra, \n",
    "                       revenue_free\n",
    "                       )\n",
    "\n",
    "alpha = .05\n",
    "\n",
    "print(results.pvalue)\n",
    "\n",
    "if results.pvalue < alpha:\n",
    "    print('Отвергаем нулевую гипотезу')\n",
    "else:\n",
    "    print('Не получилось отвергнуть нулевую гипотезу')"
   ]
  },
  {
   "cell_type": "markdown",
   "id": "aeb915e5",
   "metadata": {},
   "source": [
    "# вывод:\n",
    "в данной случае, гипотеза о том, будет ли помесячная выручка от пользователей с подпиской по месяцам выше, чем выручка от пользователей без подписки, оказалось верна\n",
    "    </div>"
   ]
  },
  {
   "cell_type": "markdown",
   "id": "1043db4a",
   "metadata": {},
   "source": [
    "6.4. Представим такую ситуацию: техническая команда сервиса обновила сервера, с которыми взаимодействует мобильное приложение. Она надеется, что из-за этого количество обращений в техподдержку значимо снизилось. Некоторый файл содержит для каждого пользователя данные о количестве обращений до обновления и после него. Какой тест вам понадобился бы для проверки этой гипотезы?"
   ]
  },
  {
   "cell_type": "markdown",
   "id": "c8e982be",
   "metadata": {},
   "source": [
    "В данному случае, получается использовать нужно будеть Гипотезу о равенстве средних для зависимых (парных) выборок,если вы анализируете одну генеральную совокупность, с которой произошли некоторые изменения. В этом случае вы будете проверять, равны ли средние совокупности до и после этого изменения. Таким образом,\n",
    "H0: μ1=μ2\n",
    "H1: μ1=μ2,\n",
    "где \\mu_1μ1 и \\mu_2μ 2— средние значения до и после изменения.\n",
    "Чтобы проверить гипотезу о равенстве среднего генеральной совокупности для зависимых (парных) выборок в Python, применим метод scipy.stats.ttest_rel().\n"
   ]
  },
  {
   "cell_type": "markdown",
   "id": "502d726b",
   "metadata": {},
   "source": [
    "Набор данных до изменений и после изменений. Далее полученное p-значение этого метода сравнивается с уровнем статистической значимости. Это - односторонняя гипотеза."
   ]
  },
  {
   "cell_type": "markdown",
   "id": "6264bbc9",
   "metadata": {},
   "source": [
    "Проверили 3 гипотизы:\n",
    "    <br>1)отвергли гипотезу о том, что время поездки пользователей с подпиской равно времени поездки пользователей без нее.<br>\n",
    "    <br>2)нельзя сказать,что расстояние, которое проезжают пользователи с подпиской не превышает 3130 метров.<br>\n",
    "    <br>3)в данной случае, гипотеза о том, будет ли помесячная выручка от пользователей с подпиской по месяцам выше, чем выручка от пользователей без подписки, оказалось верна<br>\n",
    "    "
   ]
  },
  {
   "cell_type": "markdown",
   "id": "61213c5e",
   "metadata": {},
   "source": [
    "#### Шаг 7. Распределения"
   ]
  },
  {
   "cell_type": "markdown",
   "id": "bc834390",
   "metadata": {},
   "source": [
    "Общий вывод\n",
    "\n",
    "<br>1) Загрузили и изучили 3 базы с данными позьзователями из нескольких городов с информацией о поездка и подписках,стоиомсти поездки и разными тарифами<br>\n",
    "<br>2) далее, предобработали данные,пропущенных данных в таблицах нет, дубликаты были только в таблице users и мы их удалили. Добавили столбец с номером месяца.<br>\n",
    "<br>3) провели исследовательский анализ,вывели, что кол-во пользователей по городам распределено примерно в одинаковых пропроциях, максимальное значение наблюдается в Пятигорске- 219, минимальное -Москва (168). По соотношению кол-во пользователей с подпиской и без, тоже не наблюдается какого-то значемого сдвига в процентном соотношении в одну или другую стороную( 835 - free и 699- ultra) ,т.е. порядка 54% / 46 %. основная возрастная группа, использующая самокат, находится в диапазоне от 25 до 29 лет, самому младшему 12,старшему-43. Расстояние, которое пользователи преодолевают за время использования, составляет в среднем от 2,5 км до 4 км, наименьшее растояние было 0,0086 км, максимальное растояние - 7,2 км. Время поездки, исходя из данных, которое во время анализа было немного скорректировано, т.к. были найдены аномальные значения с достаточно высокими показатели растояния проделанного за период в 50 сек, было выявлено порядка 95 показателей, которые в рамках общей статистики не очень бы повлияли на выборку, но в рамках более релевантных значений,а также, что в данные были с очень большим километражом, было принято решение заменить данные показатели на среднее значения последних 100 по возрастающему порядку. Таким образом, среднее значение стало порядка 18 мин, максимальное 58,2 и минимальное 2,04.(без изменения макс значение было 40,8 )<br>\n",
    "<br>4) Проверили 3 гипотизы: <br>1)отвергли гипотезу о том, что время поездки пользователей с подпиской равно времени поездки пользователей без нее.<br>\n",
    "    <br>2)нельзя сказать,что расстояние, которое проезжают пользователи с подпиской не превышает 3130 метров.<br>\n",
    "    <br>3)в данной случае, гипотеза о том, будет ли помесячная выручка от пользователей с подпиской по месяцам выше, чем выручка от пользователей без подписки, оказалось верна<br><br>"
   ]
  }
 ],
 "metadata": {
  "ExecuteTimeLog": [
   {
    "duration": 1488,
    "start_time": "2023-08-08T08:37:36.620Z"
   },
   {
    "duration": 4,
    "start_time": "2023-08-08T08:41:47.079Z"
   },
   {
    "duration": 97,
    "start_time": "2023-08-08T08:43:13.578Z"
   },
   {
    "duration": 93,
    "start_time": "2023-08-08T08:43:24.765Z"
   },
   {
    "duration": 14,
    "start_time": "2023-08-08T08:43:27.341Z"
   },
   {
    "duration": 14,
    "start_time": "2023-08-08T08:44:44.001Z"
   },
   {
    "duration": 15,
    "start_time": "2023-08-08T08:48:22.625Z"
   },
   {
    "duration": 10,
    "start_time": "2023-08-08T08:48:59.585Z"
   },
   {
    "duration": 7,
    "start_time": "2023-08-08T08:49:27.248Z"
   },
   {
    "duration": 8,
    "start_time": "2023-08-08T08:49:33.647Z"
   },
   {
    "duration": 28,
    "start_time": "2023-08-08T08:53:35.614Z"
   },
   {
    "duration": 10,
    "start_time": "2023-08-08T08:53:45.853Z"
   },
   {
    "duration": 11,
    "start_time": "2023-08-08T08:53:49.774Z"
   },
   {
    "duration": 9,
    "start_time": "2023-08-08T08:54:09.552Z"
   },
   {
    "duration": 8,
    "start_time": "2023-08-08T08:54:21.045Z"
   },
   {
    "duration": 162,
    "start_time": "2023-08-08T08:54:49.854Z"
   },
   {
    "duration": 13,
    "start_time": "2023-08-08T08:54:50.489Z"
   },
   {
    "duration": 10,
    "start_time": "2023-08-08T08:55:01.008Z"
   },
   {
    "duration": 10,
    "start_time": "2023-08-08T08:55:27.174Z"
   },
   {
    "duration": 36,
    "start_time": "2023-08-08T08:56:05.518Z"
   },
   {
    "duration": 10,
    "start_time": "2023-08-08T08:57:36.130Z"
   },
   {
    "duration": 10,
    "start_time": "2023-08-08T08:57:40.926Z"
   },
   {
    "duration": 9,
    "start_time": "2023-08-08T08:57:43.785Z"
   },
   {
    "duration": 39,
    "start_time": "2023-08-08T08:58:16.438Z"
   },
   {
    "duration": 13,
    "start_time": "2023-08-08T08:58:30.533Z"
   },
   {
    "duration": 69,
    "start_time": "2023-08-08T08:58:47.001Z"
   },
   {
    "duration": 11,
    "start_time": "2023-08-08T08:58:47.573Z"
   },
   {
    "duration": 8,
    "start_time": "2023-08-08T08:59:03.885Z"
   },
   {
    "duration": 8,
    "start_time": "2023-08-08T08:59:10.576Z"
   },
   {
    "duration": 17,
    "start_time": "2023-08-08T08:59:42.437Z"
   },
   {
    "duration": 9,
    "start_time": "2023-08-08T09:10:33.620Z"
   },
   {
    "duration": 22,
    "start_time": "2023-08-08T09:10:53.407Z"
   },
   {
    "duration": 12,
    "start_time": "2023-08-08T09:11:04.174Z"
   },
   {
    "duration": 15,
    "start_time": "2023-08-08T09:11:07.980Z"
   },
   {
    "duration": 14,
    "start_time": "2023-08-08T09:12:14.015Z"
   },
   {
    "duration": 12,
    "start_time": "2023-08-08T09:12:41.809Z"
   },
   {
    "duration": 15,
    "start_time": "2023-08-08T09:12:48.086Z"
   },
   {
    "duration": 14,
    "start_time": "2023-08-08T09:12:51.613Z"
   },
   {
    "duration": 11,
    "start_time": "2023-08-08T09:13:04.010Z"
   },
   {
    "duration": 10,
    "start_time": "2023-08-08T09:13:17.924Z"
   },
   {
    "duration": 13,
    "start_time": "2023-08-08T09:13:49.903Z"
   },
   {
    "duration": 11,
    "start_time": "2023-08-08T09:14:36.004Z"
   },
   {
    "duration": 13,
    "start_time": "2023-08-08T09:14:50.102Z"
   },
   {
    "duration": 11,
    "start_time": "2023-08-08T09:15:11.442Z"
   },
   {
    "duration": 8,
    "start_time": "2023-08-08T09:15:17.460Z"
   },
   {
    "duration": 14,
    "start_time": "2023-08-08T09:15:25.772Z"
   },
   {
    "duration": 15,
    "start_time": "2023-08-08T09:15:36.038Z"
   },
   {
    "duration": 6,
    "start_time": "2023-08-08T09:17:49.235Z"
   },
   {
    "duration": 14,
    "start_time": "2023-08-08T09:17:58.828Z"
   },
   {
    "duration": 17,
    "start_time": "2023-08-08T09:18:04.212Z"
   },
   {
    "duration": 7,
    "start_time": "2023-08-08T11:40:34.599Z"
   },
   {
    "duration": 11,
    "start_time": "2023-08-08T11:40:44.844Z"
   },
   {
    "duration": 6,
    "start_time": "2023-08-08T11:40:48.419Z"
   },
   {
    "duration": 6,
    "start_time": "2023-08-08T11:41:26.099Z"
   },
   {
    "duration": 7,
    "start_time": "2023-08-08T11:41:49.852Z"
   },
   {
    "duration": 7,
    "start_time": "2023-08-08T11:43:13.934Z"
   },
   {
    "duration": 7,
    "start_time": "2023-08-08T11:43:27.035Z"
   },
   {
    "duration": 8,
    "start_time": "2023-08-08T11:43:29.324Z"
   },
   {
    "duration": 66,
    "start_time": "2023-08-08T11:46:15.218Z"
   },
   {
    "duration": 6,
    "start_time": "2023-08-08T11:50:36.737Z"
   },
   {
    "duration": 10,
    "start_time": "2023-08-08T11:50:59.425Z"
   },
   {
    "duration": 5,
    "start_time": "2023-08-08T11:51:03.732Z"
   },
   {
    "duration": 5,
    "start_time": "2023-08-08T11:51:14.649Z"
   },
   {
    "duration": 208,
    "start_time": "2023-08-08T11:56:27.105Z"
   },
   {
    "duration": 154,
    "start_time": "2023-08-08T11:56:55.601Z"
   },
   {
    "duration": 163,
    "start_time": "2023-08-08T11:57:30.823Z"
   },
   {
    "duration": 15,
    "start_time": "2023-08-08T11:58:57.089Z"
   },
   {
    "duration": 155,
    "start_time": "2023-08-08T11:59:04.337Z"
   },
   {
    "duration": 74,
    "start_time": "2023-08-08T11:59:38.896Z"
   },
   {
    "duration": 168,
    "start_time": "2023-08-08T11:59:45.257Z"
   },
   {
    "duration": 166,
    "start_time": "2023-08-08T12:00:50.392Z"
   },
   {
    "duration": 162,
    "start_time": "2023-08-08T12:01:00.050Z"
   },
   {
    "duration": 65,
    "start_time": "2023-08-08T12:01:06.737Z"
   },
   {
    "duration": 27,
    "start_time": "2023-08-08T12:02:38.391Z"
   },
   {
    "duration": 19,
    "start_time": "2023-08-08T12:07:47.191Z"
   },
   {
    "duration": 71,
    "start_time": "2023-08-08T12:08:33.163Z"
   },
   {
    "duration": 62,
    "start_time": "2023-08-08T12:08:38.485Z"
   },
   {
    "duration": 238,
    "start_time": "2023-08-08T12:08:46.086Z"
   },
   {
    "duration": 148,
    "start_time": "2023-08-08T12:09:00.873Z"
   },
   {
    "duration": 152,
    "start_time": "2023-08-08T12:12:05.238Z"
   },
   {
    "duration": 13,
    "start_time": "2023-08-08T12:13:13.428Z"
   },
   {
    "duration": 157,
    "start_time": "2023-08-08T12:13:20.979Z"
   },
   {
    "duration": 173,
    "start_time": "2023-08-08T12:13:33.105Z"
   },
   {
    "duration": 132,
    "start_time": "2023-08-08T12:13:43.405Z"
   },
   {
    "duration": 160,
    "start_time": "2023-08-08T12:14:12.620Z"
   },
   {
    "duration": 164,
    "start_time": "2023-08-08T12:14:22.214Z"
   },
   {
    "duration": 99,
    "start_time": "2023-08-08T12:16:54.724Z"
   },
   {
    "duration": 67,
    "start_time": "2023-08-08T12:18:17.668Z"
   },
   {
    "duration": 85,
    "start_time": "2023-08-08T12:19:20.749Z"
   },
   {
    "duration": 61,
    "start_time": "2023-08-08T12:19:57.686Z"
   },
   {
    "duration": 157,
    "start_time": "2023-08-08T12:20:41.240Z"
   },
   {
    "duration": 149,
    "start_time": "2023-08-08T12:20:56.164Z"
   },
   {
    "duration": 70,
    "start_time": "2023-08-08T12:22:50.588Z"
   },
   {
    "duration": 159,
    "start_time": "2023-08-08T12:22:56.675Z"
   },
   {
    "duration": 80,
    "start_time": "2023-08-08T12:23:34.290Z"
   },
   {
    "duration": 67,
    "start_time": "2023-08-08T12:23:48.136Z"
   },
   {
    "duration": 148,
    "start_time": "2023-08-08T12:24:06.826Z"
   },
   {
    "duration": 241,
    "start_time": "2023-08-08T12:25:44.282Z"
   },
   {
    "duration": 165,
    "start_time": "2023-08-08T12:25:57.082Z"
   },
   {
    "duration": 5,
    "start_time": "2023-08-08T14:38:51.091Z"
   },
   {
    "duration": 4,
    "start_time": "2023-08-08T14:42:52.898Z"
   },
   {
    "duration": 7,
    "start_time": "2023-08-08T14:43:10.074Z"
   },
   {
    "duration": 111,
    "start_time": "2023-08-08T14:43:53.724Z"
   },
   {
    "duration": 138,
    "start_time": "2023-08-08T14:44:18.225Z"
   },
   {
    "duration": 133,
    "start_time": "2023-08-08T14:44:24.649Z"
   },
   {
    "duration": 155,
    "start_time": "2023-08-08T14:44:41.441Z"
   },
   {
    "duration": 8,
    "start_time": "2023-08-08T14:45:50.332Z"
   },
   {
    "duration": 8,
    "start_time": "2023-08-08T14:45:55.176Z"
   },
   {
    "duration": 8,
    "start_time": "2023-08-08T14:47:04.300Z"
   },
   {
    "duration": 160,
    "start_time": "2023-08-08T14:47:34.931Z"
   },
   {
    "duration": 146,
    "start_time": "2023-08-08T14:47:42.255Z"
   },
   {
    "duration": 162,
    "start_time": "2023-08-08T14:47:48.017Z"
   },
   {
    "duration": 173,
    "start_time": "2023-08-08T14:47:52.869Z"
   },
   {
    "duration": 239,
    "start_time": "2023-08-08T14:48:30.114Z"
   },
   {
    "duration": 351,
    "start_time": "2023-08-08T14:48:38.792Z"
   },
   {
    "duration": 189,
    "start_time": "2023-08-08T14:48:49.700Z"
   },
   {
    "duration": 232,
    "start_time": "2023-08-08T14:48:52.606Z"
   },
   {
    "duration": 12,
    "start_time": "2023-08-08T14:49:55.702Z"
   },
   {
    "duration": 6,
    "start_time": "2023-08-08T14:50:01.713Z"
   },
   {
    "duration": 186,
    "start_time": "2023-08-08T14:50:16.706Z"
   },
   {
    "duration": 189,
    "start_time": "2023-08-08T14:52:33.407Z"
   },
   {
    "duration": 1441,
    "start_time": "2023-08-14T11:38:06.614Z"
   },
   {
    "duration": 79,
    "start_time": "2023-08-14T11:38:08.057Z"
   },
   {
    "duration": 12,
    "start_time": "2023-08-14T11:38:08.138Z"
   },
   {
    "duration": 40,
    "start_time": "2023-08-14T11:38:08.152Z"
   },
   {
    "duration": 18,
    "start_time": "2023-08-14T11:38:08.195Z"
   },
   {
    "duration": 24,
    "start_time": "2023-08-14T11:38:08.214Z"
   },
   {
    "duration": 79,
    "start_time": "2023-08-14T11:38:08.239Z"
   },
   {
    "duration": 13,
    "start_time": "2023-08-14T11:38:08.320Z"
   },
   {
    "duration": 24,
    "start_time": "2023-08-14T11:38:08.335Z"
   },
   {
    "duration": 21,
    "start_time": "2023-08-14T11:38:08.361Z"
   },
   {
    "duration": 23,
    "start_time": "2023-08-14T11:38:08.384Z"
   },
   {
    "duration": 57,
    "start_time": "2023-08-14T11:38:08.408Z"
   },
   {
    "duration": 10,
    "start_time": "2023-08-14T11:38:08.467Z"
   },
   {
    "duration": 12,
    "start_time": "2023-08-14T11:38:08.480Z"
   },
   {
    "duration": 27,
    "start_time": "2023-08-14T11:38:08.494Z"
   },
   {
    "duration": 12,
    "start_time": "2023-08-14T11:38:08.523Z"
   },
   {
    "duration": 14,
    "start_time": "2023-08-14T11:38:08.537Z"
   },
   {
    "duration": 4,
    "start_time": "2023-08-14T11:38:08.553Z"
   },
   {
    "duration": 19,
    "start_time": "2023-08-14T11:38:08.559Z"
   },
   {
    "duration": 13,
    "start_time": "2023-08-14T11:38:08.580Z"
   },
   {
    "duration": 9,
    "start_time": "2023-08-14T11:38:08.598Z"
   },
   {
    "duration": 10,
    "start_time": "2023-08-14T11:38:08.609Z"
   },
   {
    "duration": 8,
    "start_time": "2023-08-14T11:38:08.620Z"
   },
   {
    "duration": 13,
    "start_time": "2023-08-14T11:38:08.630Z"
   },
   {
    "duration": 10,
    "start_time": "2023-08-14T11:38:08.644Z"
   },
   {
    "duration": 15,
    "start_time": "2023-08-14T11:38:08.656Z"
   },
   {
    "duration": 40,
    "start_time": "2023-08-14T11:38:08.672Z"
   },
   {
    "duration": 79,
    "start_time": "2023-08-14T11:38:08.714Z"
   },
   {
    "duration": 0,
    "start_time": "2023-08-14T11:38:08.794Z"
   },
   {
    "duration": 0,
    "start_time": "2023-08-14T11:38:08.795Z"
   },
   {
    "duration": 0,
    "start_time": "2023-08-14T11:38:08.799Z"
   },
   {
    "duration": 0,
    "start_time": "2023-08-14T11:38:08.800Z"
   },
   {
    "duration": 0,
    "start_time": "2023-08-14T11:38:08.801Z"
   },
   {
    "duration": 0,
    "start_time": "2023-08-14T11:38:08.801Z"
   },
   {
    "duration": 0,
    "start_time": "2023-08-14T11:38:08.802Z"
   },
   {
    "duration": 20,
    "start_time": "2023-08-14T11:42:28.059Z"
   },
   {
    "duration": 110,
    "start_time": "2023-08-14T11:44:40.659Z"
   },
   {
    "duration": 18,
    "start_time": "2023-08-14T11:45:26.007Z"
   },
   {
    "duration": 30,
    "start_time": "2023-08-14T11:45:39.358Z"
   },
   {
    "duration": 26,
    "start_time": "2023-08-14T11:47:06.920Z"
   },
   {
    "duration": 36,
    "start_time": "2023-08-14T11:47:14.682Z"
   },
   {
    "duration": 31,
    "start_time": "2023-08-14T11:47:22.184Z"
   },
   {
    "duration": 33,
    "start_time": "2023-08-14T11:48:19.185Z"
   },
   {
    "duration": 114,
    "start_time": "2023-08-14T11:51:41.259Z"
   },
   {
    "duration": 1953,
    "start_time": "2023-08-14T11:51:48.087Z"
   },
   {
    "duration": 28,
    "start_time": "2023-08-14T11:54:57.059Z"
   },
   {
    "duration": 28,
    "start_time": "2023-08-14T12:02:54.732Z"
   },
   {
    "duration": 206,
    "start_time": "2023-08-14T12:04:28.697Z"
   },
   {
    "duration": 19,
    "start_time": "2023-08-14T12:04:45.195Z"
   },
   {
    "duration": 213,
    "start_time": "2023-08-14T12:05:00.620Z"
   },
   {
    "duration": 180,
    "start_time": "2023-08-14T12:05:09.262Z"
   },
   {
    "duration": 206,
    "start_time": "2023-08-14T12:05:14.187Z"
   },
   {
    "duration": 183,
    "start_time": "2023-08-14T12:06:46.626Z"
   },
   {
    "duration": 17,
    "start_time": "2023-08-14T12:09:21.107Z"
   },
   {
    "duration": 11,
    "start_time": "2023-08-14T12:09:24.880Z"
   },
   {
    "duration": 32,
    "start_time": "2023-08-14T12:09:29.592Z"
   },
   {
    "duration": 24,
    "start_time": "2023-08-14T12:09:38.861Z"
   },
   {
    "duration": 42,
    "start_time": "2023-08-14T12:09:44.793Z"
   },
   {
    "duration": 37,
    "start_time": "2023-08-14T12:10:08.923Z"
   },
   {
    "duration": 42,
    "start_time": "2023-08-14T12:10:12.009Z"
   },
   {
    "duration": 23,
    "start_time": "2023-08-14T12:10:23.825Z"
   },
   {
    "duration": 33,
    "start_time": "2023-08-14T12:10:34.481Z"
   },
   {
    "duration": 23,
    "start_time": "2023-08-14T12:10:44.738Z"
   },
   {
    "duration": 24,
    "start_time": "2023-08-14T12:10:51.593Z"
   },
   {
    "duration": 26,
    "start_time": "2023-08-14T12:10:55.897Z"
   },
   {
    "duration": 28,
    "start_time": "2023-08-14T12:11:04.978Z"
   },
   {
    "duration": 35,
    "start_time": "2023-08-14T12:11:09.273Z"
   },
   {
    "duration": 107,
    "start_time": "2023-08-14T13:02:50.572Z"
   },
   {
    "duration": 4,
    "start_time": "2023-08-14T13:02:57.748Z"
   },
   {
    "duration": 9,
    "start_time": "2023-08-14T13:03:57.138Z"
   },
   {
    "duration": 9,
    "start_time": "2023-08-14T13:04:14.877Z"
   },
   {
    "duration": 7,
    "start_time": "2023-08-14T13:05:23.883Z"
   },
   {
    "duration": 6,
    "start_time": "2023-08-14T13:05:50.285Z"
   },
   {
    "duration": 6,
    "start_time": "2023-08-14T13:05:56.031Z"
   },
   {
    "duration": 7,
    "start_time": "2023-08-14T13:06:01.808Z"
   },
   {
    "duration": 10,
    "start_time": "2023-08-14T13:08:58.522Z"
   },
   {
    "duration": 10,
    "start_time": "2023-08-14T13:09:56.874Z"
   },
   {
    "duration": 25,
    "start_time": "2023-08-14T13:10:30.995Z"
   },
   {
    "duration": 3,
    "start_time": "2023-08-14T13:11:04.282Z"
   },
   {
    "duration": 13,
    "start_time": "2023-08-14T13:11:19.074Z"
   },
   {
    "duration": 22,
    "start_time": "2023-08-14T13:11:44.538Z"
   },
   {
    "duration": 85,
    "start_time": "2023-08-14T13:12:07.810Z"
   },
   {
    "duration": 17,
    "start_time": "2023-08-14T13:12:35.593Z"
   },
   {
    "duration": 13,
    "start_time": "2023-08-14T13:35:16.164Z"
   },
   {
    "duration": 17,
    "start_time": "2023-08-14T13:35:36.389Z"
   },
   {
    "duration": 11,
    "start_time": "2023-08-14T13:36:06.093Z"
   },
   {
    "duration": 12,
    "start_time": "2023-08-14T13:36:33.457Z"
   },
   {
    "duration": 19,
    "start_time": "2023-08-14T14:11:36.687Z"
   },
   {
    "duration": 87,
    "start_time": "2023-08-14T14:18:16.569Z"
   },
   {
    "duration": 3,
    "start_time": "2023-08-14T14:18:23.767Z"
   },
   {
    "duration": 15,
    "start_time": "2023-08-14T14:18:34.335Z"
   },
   {
    "duration": 275,
    "start_time": "2023-08-14T14:21:55.329Z"
   },
   {
    "duration": 15,
    "start_time": "2023-08-14T14:21:56.928Z"
   },
   {
    "duration": 23,
    "start_time": "2023-08-14T14:33:26.177Z"
   },
   {
    "duration": 25,
    "start_time": "2023-08-14T14:33:34.367Z"
   },
   {
    "duration": 16,
    "start_time": "2023-08-14T14:33:51.705Z"
   },
   {
    "duration": 16,
    "start_time": "2023-08-14T14:34:22.785Z"
   },
   {
    "duration": 28,
    "start_time": "2023-08-14T14:34:40.163Z"
   },
   {
    "duration": 4,
    "start_time": "2023-08-14T14:35:03.673Z"
   },
   {
    "duration": 102,
    "start_time": "2023-08-14T14:35:03.679Z"
   },
   {
    "duration": 28,
    "start_time": "2023-08-14T14:35:03.783Z"
   },
   {
    "duration": 44,
    "start_time": "2023-08-14T14:35:03.813Z"
   },
   {
    "duration": 64,
    "start_time": "2023-08-14T14:35:03.860Z"
   },
   {
    "duration": 61,
    "start_time": "2023-08-14T14:35:03.926Z"
   },
   {
    "duration": 38,
    "start_time": "2023-08-14T14:35:03.989Z"
   },
   {
    "duration": 33,
    "start_time": "2023-08-14T14:35:04.029Z"
   },
   {
    "duration": 50,
    "start_time": "2023-08-14T14:35:04.064Z"
   },
   {
    "duration": 62,
    "start_time": "2023-08-14T14:35:04.115Z"
   },
   {
    "duration": 57,
    "start_time": "2023-08-14T14:35:04.179Z"
   },
   {
    "duration": 44,
    "start_time": "2023-08-14T14:35:04.237Z"
   },
   {
    "duration": 36,
    "start_time": "2023-08-14T14:35:04.283Z"
   },
   {
    "duration": 38,
    "start_time": "2023-08-14T14:35:04.322Z"
   },
   {
    "duration": 91,
    "start_time": "2023-08-14T14:35:04.361Z"
   },
   {
    "duration": 44,
    "start_time": "2023-08-14T14:35:04.453Z"
   },
   {
    "duration": 53,
    "start_time": "2023-08-14T14:35:04.499Z"
   },
   {
    "duration": 31,
    "start_time": "2023-08-14T14:35:04.554Z"
   },
   {
    "duration": 66,
    "start_time": "2023-08-14T14:35:04.587Z"
   },
   {
    "duration": 46,
    "start_time": "2023-08-14T14:35:04.655Z"
   },
   {
    "duration": 40,
    "start_time": "2023-08-14T14:35:04.703Z"
   },
   {
    "duration": 43,
    "start_time": "2023-08-14T14:35:04.744Z"
   },
   {
    "duration": 36,
    "start_time": "2023-08-14T14:35:04.788Z"
   },
   {
    "duration": 101,
    "start_time": "2023-08-14T14:35:04.826Z"
   },
   {
    "duration": 21,
    "start_time": "2023-08-14T14:35:04.928Z"
   },
   {
    "duration": 42,
    "start_time": "2023-08-14T14:35:04.950Z"
   },
   {
    "duration": 31,
    "start_time": "2023-08-14T14:35:04.993Z"
   },
   {
    "duration": 50,
    "start_time": "2023-08-14T14:35:05.025Z"
   },
   {
    "duration": 202,
    "start_time": "2023-08-14T14:35:05.077Z"
   },
   {
    "duration": 5,
    "start_time": "2023-08-14T14:35:05.281Z"
   },
   {
    "duration": 172,
    "start_time": "2023-08-14T14:35:05.294Z"
   },
   {
    "duration": 7,
    "start_time": "2023-08-14T14:35:05.468Z"
   },
   {
    "duration": 49,
    "start_time": "2023-08-14T14:35:05.477Z"
   },
   {
    "duration": 216,
    "start_time": "2023-08-14T14:35:05.528Z"
   },
   {
    "duration": 20,
    "start_time": "2023-08-14T14:35:05.745Z"
   },
   {
    "duration": 64,
    "start_time": "2023-08-14T14:35:05.766Z"
   },
   {
    "duration": 174,
    "start_time": "2023-08-14T14:35:05.832Z"
   },
   {
    "duration": 23,
    "start_time": "2023-08-14T14:35:06.007Z"
   },
   {
    "duration": 9,
    "start_time": "2023-08-14T14:35:06.032Z"
   },
   {
    "duration": 23,
    "start_time": "2023-08-14T14:35:06.042Z"
   },
   {
    "duration": 201,
    "start_time": "2023-08-14T14:35:06.068Z"
   },
   {
    "duration": 16,
    "start_time": "2023-08-14T14:35:06.271Z"
   },
   {
    "duration": 19,
    "start_time": "2023-08-14T14:36:01.240Z"
   },
   {
    "duration": 1501,
    "start_time": "2023-08-14T19:13:48.600Z"
   },
   {
    "duration": 108,
    "start_time": "2023-08-14T19:13:50.104Z"
   },
   {
    "duration": 14,
    "start_time": "2023-08-14T19:13:50.214Z"
   },
   {
    "duration": 42,
    "start_time": "2023-08-14T19:13:50.230Z"
   },
   {
    "duration": 19,
    "start_time": "2023-08-14T19:13:50.275Z"
   },
   {
    "duration": 28,
    "start_time": "2023-08-14T19:13:50.296Z"
   },
   {
    "duration": 172,
    "start_time": "2023-08-14T19:13:50.326Z"
   },
   {
    "duration": 16,
    "start_time": "2023-08-14T19:13:50.500Z"
   },
   {
    "duration": 20,
    "start_time": "2023-08-14T19:13:50.518Z"
   },
   {
    "duration": 15,
    "start_time": "2023-08-14T19:13:50.540Z"
   },
   {
    "duration": 24,
    "start_time": "2023-08-14T19:13:50.557Z"
   },
   {
    "duration": 60,
    "start_time": "2023-08-14T19:13:50.583Z"
   },
   {
    "duration": 12,
    "start_time": "2023-08-14T19:13:50.645Z"
   },
   {
    "duration": 12,
    "start_time": "2023-08-14T19:13:50.660Z"
   },
   {
    "duration": 28,
    "start_time": "2023-08-14T19:13:50.674Z"
   },
   {
    "duration": 23,
    "start_time": "2023-08-14T19:13:50.703Z"
   },
   {
    "duration": 23,
    "start_time": "2023-08-14T19:13:50.729Z"
   },
   {
    "duration": 29,
    "start_time": "2023-08-14T19:13:50.754Z"
   },
   {
    "duration": 20,
    "start_time": "2023-08-14T19:13:50.784Z"
   },
   {
    "duration": 18,
    "start_time": "2023-08-14T19:13:50.806Z"
   },
   {
    "duration": 22,
    "start_time": "2023-08-14T19:13:50.826Z"
   },
   {
    "duration": 8,
    "start_time": "2023-08-14T19:13:50.850Z"
   },
   {
    "duration": 20,
    "start_time": "2023-08-14T19:13:50.860Z"
   },
   {
    "duration": 13,
    "start_time": "2023-08-14T19:13:50.883Z"
   },
   {
    "duration": 23,
    "start_time": "2023-08-14T19:13:50.898Z"
   },
   {
    "duration": 13,
    "start_time": "2023-08-14T19:13:50.922Z"
   },
   {
    "duration": 6,
    "start_time": "2023-08-14T19:13:50.937Z"
   },
   {
    "duration": 17,
    "start_time": "2023-08-14T19:13:50.944Z"
   },
   {
    "duration": 175,
    "start_time": "2023-08-14T19:13:50.963Z"
   },
   {
    "duration": 16,
    "start_time": "2023-08-14T19:13:51.140Z"
   },
   {
    "duration": 132,
    "start_time": "2023-08-14T19:13:51.158Z"
   },
   {
    "duration": 9,
    "start_time": "2023-08-14T19:13:51.292Z"
   },
   {
    "duration": 32,
    "start_time": "2023-08-14T19:13:51.303Z"
   },
   {
    "duration": 172,
    "start_time": "2023-08-14T19:13:51.337Z"
   },
   {
    "duration": 22,
    "start_time": "2023-08-14T19:13:51.511Z"
   },
   {
    "duration": 37,
    "start_time": "2023-08-14T19:13:51.534Z"
   },
   {
    "duration": 183,
    "start_time": "2023-08-14T19:13:51.573Z"
   },
   {
    "duration": 27,
    "start_time": "2023-08-14T19:13:51.758Z"
   },
   {
    "duration": 11,
    "start_time": "2023-08-14T19:13:51.786Z"
   },
   {
    "duration": 3,
    "start_time": "2023-08-14T19:13:51.799Z"
   },
   {
    "duration": 220,
    "start_time": "2023-08-14T19:13:51.806Z"
   },
   {
    "duration": 35,
    "start_time": "2023-08-14T19:13:52.028Z"
   },
   {
    "duration": 21,
    "start_time": "2023-08-14T19:14:47.484Z"
   },
   {
    "duration": 156,
    "start_time": "2023-08-14T19:19:06.127Z"
   },
   {
    "duration": 143,
    "start_time": "2023-08-14T19:19:23.002Z"
   },
   {
    "duration": 345,
    "start_time": "2023-08-14T19:19:37.676Z"
   },
   {
    "duration": 159,
    "start_time": "2023-08-14T19:19:46.876Z"
   },
   {
    "duration": 1484,
    "start_time": "2023-08-15T07:43:39.463Z"
   },
   {
    "duration": 86,
    "start_time": "2023-08-15T07:43:40.950Z"
   },
   {
    "duration": 13,
    "start_time": "2023-08-15T07:43:41.037Z"
   },
   {
    "duration": 25,
    "start_time": "2023-08-15T07:43:41.051Z"
   },
   {
    "duration": 16,
    "start_time": "2023-08-15T07:43:41.079Z"
   },
   {
    "duration": 30,
    "start_time": "2023-08-15T07:43:41.096Z"
   },
   {
    "duration": 78,
    "start_time": "2023-08-15T07:43:41.127Z"
   },
   {
    "duration": 12,
    "start_time": "2023-08-15T07:43:41.207Z"
   },
   {
    "duration": 21,
    "start_time": "2023-08-15T07:43:41.220Z"
   },
   {
    "duration": 26,
    "start_time": "2023-08-15T07:43:41.242Z"
   },
   {
    "duration": 27,
    "start_time": "2023-08-15T07:43:41.270Z"
   },
   {
    "duration": 55,
    "start_time": "2023-08-15T07:43:41.299Z"
   },
   {
    "duration": 10,
    "start_time": "2023-08-15T07:43:41.356Z"
   },
   {
    "duration": 18,
    "start_time": "2023-08-15T07:43:41.370Z"
   },
   {
    "duration": 19,
    "start_time": "2023-08-15T07:43:41.389Z"
   },
   {
    "duration": 15,
    "start_time": "2023-08-15T07:43:41.410Z"
   },
   {
    "duration": 13,
    "start_time": "2023-08-15T07:43:41.426Z"
   },
   {
    "duration": 5,
    "start_time": "2023-08-15T07:43:41.440Z"
   },
   {
    "duration": 16,
    "start_time": "2023-08-15T07:43:41.446Z"
   },
   {
    "duration": 6,
    "start_time": "2023-08-15T07:43:41.464Z"
   },
   {
    "duration": 15,
    "start_time": "2023-08-15T07:43:41.471Z"
   },
   {
    "duration": 14,
    "start_time": "2023-08-15T07:43:41.487Z"
   },
   {
    "duration": 14,
    "start_time": "2023-08-15T07:43:41.503Z"
   },
   {
    "duration": 15,
    "start_time": "2023-08-15T07:43:41.519Z"
   },
   {
    "duration": 10,
    "start_time": "2023-08-15T07:43:41.535Z"
   },
   {
    "duration": 11,
    "start_time": "2023-08-15T07:43:41.547Z"
   },
   {
    "duration": 7,
    "start_time": "2023-08-15T07:43:41.560Z"
   },
   {
    "duration": 14,
    "start_time": "2023-08-15T07:43:41.568Z"
   },
   {
    "duration": 168,
    "start_time": "2023-08-15T07:43:41.584Z"
   },
   {
    "duration": 7,
    "start_time": "2023-08-15T07:43:41.753Z"
   },
   {
    "duration": 110,
    "start_time": "2023-08-15T07:43:41.761Z"
   },
   {
    "duration": 8,
    "start_time": "2023-08-15T07:43:41.873Z"
   },
   {
    "duration": 16,
    "start_time": "2023-08-15T07:43:41.882Z"
   },
   {
    "duration": 175,
    "start_time": "2023-08-15T07:43:41.899Z"
   },
   {
    "duration": 29,
    "start_time": "2023-08-15T07:43:42.076Z"
   },
   {
    "duration": 20,
    "start_time": "2023-08-15T07:43:42.107Z"
   },
   {
    "duration": 184,
    "start_time": "2023-08-15T07:43:42.129Z"
   },
   {
    "duration": 24,
    "start_time": "2023-08-15T07:43:42.315Z"
   },
   {
    "duration": 10,
    "start_time": "2023-08-15T07:43:42.341Z"
   },
   {
    "duration": 4,
    "start_time": "2023-08-15T07:43:42.353Z"
   },
   {
    "duration": 222,
    "start_time": "2023-08-15T07:43:42.360Z"
   },
   {
    "duration": 23,
    "start_time": "2023-08-15T07:43:42.583Z"
   },
   {
    "duration": 18,
    "start_time": "2023-08-15T07:43:42.608Z"
   },
   {
    "duration": 175,
    "start_time": "2023-08-15T07:43:42.628Z"
   },
   {
    "duration": 10,
    "start_time": "2023-08-15T08:14:45.465Z"
   },
   {
    "duration": 11,
    "start_time": "2023-08-15T08:15:23.547Z"
   },
   {
    "duration": 20,
    "start_time": "2023-08-15T08:15:32.252Z"
   },
   {
    "duration": 10,
    "start_time": "2023-08-15T08:17:34.210Z"
   },
   {
    "duration": 18,
    "start_time": "2023-08-15T08:17:40.962Z"
   },
   {
    "duration": 74,
    "start_time": "2023-08-15T08:19:27.941Z"
   },
   {
    "duration": 18,
    "start_time": "2023-08-15T08:19:33.682Z"
   },
   {
    "duration": 116,
    "start_time": "2023-08-15T08:20:55.402Z"
   },
   {
    "duration": 96,
    "start_time": "2023-08-15T08:21:52.022Z"
   },
   {
    "duration": 160,
    "start_time": "2023-08-15T08:21:59.452Z"
   },
   {
    "duration": 330,
    "start_time": "2023-08-15T08:22:44.772Z"
   },
   {
    "duration": 395,
    "start_time": "2023-08-15T08:23:29.311Z"
   },
   {
    "duration": 449,
    "start_time": "2023-08-15T08:23:46.757Z"
   },
   {
    "duration": 389,
    "start_time": "2023-08-15T08:23:52.364Z"
   },
   {
    "duration": 430,
    "start_time": "2023-08-15T08:24:13.212Z"
   },
   {
    "duration": 404,
    "start_time": "2023-08-15T08:24:26.316Z"
   },
   {
    "duration": 412,
    "start_time": "2023-08-15T08:24:35.685Z"
   },
   {
    "duration": 170,
    "start_time": "2023-08-15T08:25:27.552Z"
   },
   {
    "duration": 378,
    "start_time": "2023-08-15T08:25:45.160Z"
   },
   {
    "duration": 345,
    "start_time": "2023-08-15T08:25:49.837Z"
   },
   {
    "duration": 934,
    "start_time": "2023-08-15T13:37:20.025Z"
   },
   {
    "duration": 16,
    "start_time": "2023-08-15T13:39:06.378Z"
   },
   {
    "duration": 1012,
    "start_time": "2023-08-15T13:40:01.594Z"
   },
   {
    "duration": 16,
    "start_time": "2023-08-15T13:40:02.698Z"
   },
   {
    "duration": 22,
    "start_time": "2023-08-15T13:41:29.034Z"
   },
   {
    "duration": 18,
    "start_time": "2023-08-15T13:41:29.793Z"
   },
   {
    "duration": 19,
    "start_time": "2023-08-15T13:42:47.434Z"
   },
   {
    "duration": 15,
    "start_time": "2023-08-15T13:51:36.141Z"
   },
   {
    "duration": 144,
    "start_time": "2023-08-15T13:52:07.551Z"
   },
   {
    "duration": 79,
    "start_time": "2023-08-15T13:52:25.589Z"
   },
   {
    "duration": 11,
    "start_time": "2023-08-15T13:52:53.327Z"
   },
   {
    "duration": 83,
    "start_time": "2023-08-15T13:53:22.006Z"
   },
   {
    "duration": 87,
    "start_time": "2023-08-15T13:53:41.991Z"
   },
   {
    "duration": 546,
    "start_time": "2023-08-15T13:53:55.952Z"
   },
   {
    "duration": 16,
    "start_time": "2023-08-15T13:54:17.262Z"
   },
   {
    "duration": 18,
    "start_time": "2023-08-15T13:54:18.742Z"
   },
   {
    "duration": 20,
    "start_time": "2023-08-15T13:54:19.454Z"
   },
   {
    "duration": 11,
    "start_time": "2023-08-15T13:54:43.078Z"
   },
   {
    "duration": 13,
    "start_time": "2023-08-15T13:54:43.661Z"
   },
   {
    "duration": 10,
    "start_time": "2023-08-15T13:55:53.997Z"
   },
   {
    "duration": 9,
    "start_time": "2023-08-15T13:56:03.157Z"
   },
   {
    "duration": 903,
    "start_time": "2023-08-15T13:56:16.341Z"
   },
   {
    "duration": 14,
    "start_time": "2023-08-15T13:56:19.390Z"
   },
   {
    "duration": 5,
    "start_time": "2023-08-15T14:08:16.705Z"
   },
   {
    "duration": 10,
    "start_time": "2023-08-15T14:08:32.131Z"
   },
   {
    "duration": 208,
    "start_time": "2023-08-15T14:17:03.794Z"
   },
   {
    "duration": 80,
    "start_time": "2023-08-15T14:18:41.332Z"
   },
   {
    "duration": 68,
    "start_time": "2023-08-15T14:18:46.423Z"
   },
   {
    "duration": 87,
    "start_time": "2023-08-15T14:18:52.790Z"
   },
   {
    "duration": 99,
    "start_time": "2023-08-15T14:18:58.415Z"
   },
   {
    "duration": 1074,
    "start_time": "2023-08-15T14:19:12.840Z"
   },
   {
    "duration": 18,
    "start_time": "2023-08-15T14:19:21.595Z"
   },
   {
    "duration": 13,
    "start_time": "2023-08-15T14:19:34.071Z"
   },
   {
    "duration": 84,
    "start_time": "2023-08-15T14:19:57.576Z"
   },
   {
    "duration": 87,
    "start_time": "2023-08-15T14:20:04.750Z"
   },
   {
    "duration": 81,
    "start_time": "2023-08-15T14:20:09.555Z"
   },
   {
    "duration": 84,
    "start_time": "2023-08-15T14:25:41.701Z"
   },
   {
    "duration": 85,
    "start_time": "2023-08-15T14:25:48.935Z"
   },
   {
    "duration": 932,
    "start_time": "2023-08-15T14:26:04.447Z"
   },
   {
    "duration": 19,
    "start_time": "2023-08-15T14:26:07.786Z"
   },
   {
    "duration": 902,
    "start_time": "2023-08-15T14:26:38.710Z"
   },
   {
    "duration": 15,
    "start_time": "2023-08-15T14:26:39.968Z"
   },
   {
    "duration": 4,
    "start_time": "2023-08-15T14:26:53.021Z"
   },
   {
    "duration": 9,
    "start_time": "2023-08-15T14:26:53.541Z"
   },
   {
    "duration": 1594,
    "start_time": "2023-08-15T14:29:24.717Z"
   },
   {
    "duration": 93,
    "start_time": "2023-08-15T14:30:34.020Z"
   },
   {
    "duration": 1026,
    "start_time": "2023-08-15T14:30:40.283Z"
   },
   {
    "duration": 18,
    "start_time": "2023-08-15T14:30:42.609Z"
   },
   {
    "duration": 3,
    "start_time": "2023-08-15T14:30:47.708Z"
   },
   {
    "duration": 11,
    "start_time": "2023-08-15T14:30:48.219Z"
   },
   {
    "duration": 15,
    "start_time": "2023-08-15T14:30:53.123Z"
   },
   {
    "duration": 6,
    "start_time": "2023-08-15T14:31:21.308Z"
   },
   {
    "duration": 10,
    "start_time": "2023-08-15T14:31:33.957Z"
   },
   {
    "duration": 26,
    "start_time": "2023-08-15T14:33:46.125Z"
   },
   {
    "duration": 15,
    "start_time": "2023-08-15T14:42:37.909Z"
   },
   {
    "duration": 16,
    "start_time": "2023-08-15T14:42:53.567Z"
   },
   {
    "duration": 14,
    "start_time": "2023-08-15T14:43:26.013Z"
   },
   {
    "duration": 1628,
    "start_time": "2023-08-16T12:58:28.364Z"
   },
   {
    "duration": 102,
    "start_time": "2023-08-16T12:58:29.995Z"
   },
   {
    "duration": 15,
    "start_time": "2023-08-16T12:58:30.099Z"
   },
   {
    "duration": 70,
    "start_time": "2023-08-16T12:58:30.116Z"
   },
   {
    "duration": 103,
    "start_time": "2023-08-16T12:58:30.190Z"
   },
   {
    "duration": 79,
    "start_time": "2023-08-16T12:58:30.295Z"
   },
   {
    "duration": 160,
    "start_time": "2023-08-16T12:58:30.376Z"
   },
   {
    "duration": 19,
    "start_time": "2023-08-16T12:58:30.542Z"
   },
   {
    "duration": 39,
    "start_time": "2023-08-16T12:58:30.563Z"
   },
   {
    "duration": 67,
    "start_time": "2023-08-16T12:58:30.604Z"
   },
   {
    "duration": 65,
    "start_time": "2023-08-16T12:58:30.673Z"
   },
   {
    "duration": 117,
    "start_time": "2023-08-16T12:58:30.740Z"
   },
   {
    "duration": 12,
    "start_time": "2023-08-16T12:58:30.859Z"
   },
   {
    "duration": 28,
    "start_time": "2023-08-16T12:58:30.874Z"
   },
   {
    "duration": 69,
    "start_time": "2023-08-16T12:58:30.904Z"
   },
   {
    "duration": 38,
    "start_time": "2023-08-16T12:58:30.975Z"
   },
   {
    "duration": 56,
    "start_time": "2023-08-16T12:58:31.015Z"
   },
   {
    "duration": 76,
    "start_time": "2023-08-16T12:58:31.075Z"
   },
   {
    "duration": 39,
    "start_time": "2023-08-16T12:58:31.153Z"
   },
   {
    "duration": 85,
    "start_time": "2023-08-16T12:58:31.194Z"
   },
   {
    "duration": 45,
    "start_time": "2023-08-16T12:58:31.282Z"
   },
   {
    "duration": 46,
    "start_time": "2023-08-16T12:58:31.330Z"
   },
   {
    "duration": 62,
    "start_time": "2023-08-16T12:58:31.378Z"
   },
   {
    "duration": 39,
    "start_time": "2023-08-16T12:58:31.447Z"
   },
   {
    "duration": 78,
    "start_time": "2023-08-16T12:58:31.488Z"
   },
   {
    "duration": 68,
    "start_time": "2023-08-16T12:58:31.568Z"
   },
   {
    "duration": 49,
    "start_time": "2023-08-16T12:58:31.638Z"
   },
   {
    "duration": 22,
    "start_time": "2023-08-16T12:58:31.690Z"
   },
   {
    "duration": 264,
    "start_time": "2023-08-16T12:58:31.714Z"
   },
   {
    "duration": 8,
    "start_time": "2023-08-16T12:58:31.980Z"
   },
   {
    "duration": 130,
    "start_time": "2023-08-16T12:58:31.991Z"
   },
   {
    "duration": 10,
    "start_time": "2023-08-16T12:58:32.123Z"
   },
   {
    "duration": 44,
    "start_time": "2023-08-16T12:58:32.135Z"
   },
   {
    "duration": 243,
    "start_time": "2023-08-16T12:58:32.181Z"
   },
   {
    "duration": 32,
    "start_time": "2023-08-16T12:58:32.426Z"
   },
   {
    "duration": 54,
    "start_time": "2023-08-16T12:58:32.461Z"
   },
   {
    "duration": 279,
    "start_time": "2023-08-16T12:58:32.518Z"
   },
   {
    "duration": 57,
    "start_time": "2023-08-16T12:58:32.799Z"
   },
   {
    "duration": 24,
    "start_time": "2023-08-16T12:58:32.858Z"
   },
   {
    "duration": 5,
    "start_time": "2023-08-16T12:58:32.884Z"
   },
   {
    "duration": 300,
    "start_time": "2023-08-16T12:58:32.893Z"
   },
   {
    "duration": 26,
    "start_time": "2023-08-16T12:58:33.194Z"
   },
   {
    "duration": 45,
    "start_time": "2023-08-16T12:58:33.226Z"
   },
   {
    "duration": 210,
    "start_time": "2023-08-16T12:58:33.273Z"
   },
   {
    "duration": 15,
    "start_time": "2023-08-16T12:58:33.486Z"
   },
   {
    "duration": 49,
    "start_time": "2023-08-16T12:58:33.504Z"
   },
   {
    "duration": 26,
    "start_time": "2023-08-16T12:58:33.555Z"
   },
   {
    "duration": 15,
    "start_time": "2023-08-16T12:58:33.583Z"
   },
   {
    "duration": 40,
    "start_time": "2023-08-16T12:58:33.600Z"
   },
   {
    "duration": 14,
    "start_time": "2023-08-16T12:58:33.643Z"
   },
   {
    "duration": 29,
    "start_time": "2023-08-16T12:58:33.659Z"
   },
   {
    "duration": 648,
    "start_time": "2023-08-16T12:58:33.690Z"
   },
   {
    "duration": 431,
    "start_time": "2023-08-16T12:58:34.341Z"
   },
   {
    "duration": 1108,
    "start_time": "2023-08-16T12:58:34.774Z"
   },
   {
    "duration": 30,
    "start_time": "2023-08-16T12:58:35.884Z"
   },
   {
    "duration": 33,
    "start_time": "2023-08-16T12:58:35.916Z"
   },
   {
    "duration": 32,
    "start_time": "2023-08-16T12:58:35.951Z"
   },
   {
    "duration": 14,
    "start_time": "2023-08-16T12:58:35.986Z"
   },
   {
    "duration": 68,
    "start_time": "2023-08-16T12:58:36.002Z"
   },
   {
    "duration": 135,
    "start_time": "2023-08-16T13:07:52.434Z"
   },
   {
    "duration": 8,
    "start_time": "2023-08-16T13:12:04.923Z"
   },
   {
    "duration": 6,
    "start_time": "2023-08-16T13:12:27.458Z"
   },
   {
    "duration": 144,
    "start_time": "2023-08-16T13:18:58.391Z"
   },
   {
    "duration": 13,
    "start_time": "2023-08-16T13:20:36.185Z"
   },
   {
    "duration": 9,
    "start_time": "2023-08-16T13:28:30.656Z"
   },
   {
    "duration": 1386,
    "start_time": "2023-08-17T12:59:38.455Z"
   },
   {
    "duration": 87,
    "start_time": "2023-08-17T12:59:39.843Z"
   },
   {
    "duration": 11,
    "start_time": "2023-08-17T12:59:39.932Z"
   },
   {
    "duration": 18,
    "start_time": "2023-08-17T12:59:39.944Z"
   },
   {
    "duration": 16,
    "start_time": "2023-08-17T12:59:39.964Z"
   },
   {
    "duration": 20,
    "start_time": "2023-08-17T12:59:39.981Z"
   },
   {
    "duration": 72,
    "start_time": "2023-08-17T12:59:40.003Z"
   },
   {
    "duration": 12,
    "start_time": "2023-08-17T12:59:40.077Z"
   },
   {
    "duration": 29,
    "start_time": "2023-08-17T12:59:40.091Z"
   },
   {
    "duration": 12,
    "start_time": "2023-08-17T12:59:40.122Z"
   },
   {
    "duration": 25,
    "start_time": "2023-08-17T12:59:40.137Z"
   },
   {
    "duration": 61,
    "start_time": "2023-08-17T12:59:40.163Z"
   },
   {
    "duration": 10,
    "start_time": "2023-08-17T12:59:40.225Z"
   },
   {
    "duration": 8,
    "start_time": "2023-08-17T12:59:40.237Z"
   },
   {
    "duration": 10,
    "start_time": "2023-08-17T12:59:40.246Z"
   },
   {
    "duration": 15,
    "start_time": "2023-08-17T12:59:40.257Z"
   },
   {
    "duration": 13,
    "start_time": "2023-08-17T12:59:40.273Z"
   },
   {
    "duration": 4,
    "start_time": "2023-08-17T12:59:40.288Z"
   },
   {
    "duration": 12,
    "start_time": "2023-08-17T12:59:40.293Z"
   },
   {
    "duration": 10,
    "start_time": "2023-08-17T12:59:40.307Z"
   },
   {
    "duration": 41,
    "start_time": "2023-08-17T12:59:40.318Z"
   },
   {
    "duration": 8,
    "start_time": "2023-08-17T12:59:40.364Z"
   },
   {
    "duration": 32,
    "start_time": "2023-08-17T12:59:40.374Z"
   },
   {
    "duration": 9,
    "start_time": "2023-08-17T12:59:40.408Z"
   },
   {
    "duration": 8,
    "start_time": "2023-08-17T12:59:40.419Z"
   },
   {
    "duration": 9,
    "start_time": "2023-08-17T12:59:40.428Z"
   },
   {
    "duration": 5,
    "start_time": "2023-08-17T12:59:40.438Z"
   },
   {
    "duration": 13,
    "start_time": "2023-08-17T12:59:40.444Z"
   },
   {
    "duration": 208,
    "start_time": "2023-08-17T12:59:40.459Z"
   },
   {
    "duration": 6,
    "start_time": "2023-08-17T12:59:40.669Z"
   },
   {
    "duration": 118,
    "start_time": "2023-08-17T12:59:40.677Z"
   },
   {
    "duration": 8,
    "start_time": "2023-08-17T12:59:40.796Z"
   },
   {
    "duration": 10,
    "start_time": "2023-08-17T12:59:40.806Z"
   },
   {
    "duration": 189,
    "start_time": "2023-08-17T12:59:40.817Z"
   },
   {
    "duration": 22,
    "start_time": "2023-08-17T12:59:41.008Z"
   },
   {
    "duration": 36,
    "start_time": "2023-08-17T12:59:41.032Z"
   },
   {
    "duration": 188,
    "start_time": "2023-08-17T12:59:41.070Z"
   },
   {
    "duration": 26,
    "start_time": "2023-08-17T12:59:41.260Z"
   },
   {
    "duration": 12,
    "start_time": "2023-08-17T12:59:41.288Z"
   },
   {
    "duration": 4,
    "start_time": "2023-08-17T12:59:41.302Z"
   },
   {
    "duration": 249,
    "start_time": "2023-08-17T12:59:41.309Z"
   },
   {
    "duration": 27,
    "start_time": "2023-08-17T12:59:41.561Z"
   },
   {
    "duration": 29,
    "start_time": "2023-08-17T12:59:41.591Z"
   },
   {
    "duration": 228,
    "start_time": "2023-08-17T12:59:41.622Z"
   },
   {
    "duration": 11,
    "start_time": "2023-08-17T12:59:41.852Z"
   },
   {
    "duration": 11,
    "start_time": "2023-08-17T12:59:41.865Z"
   },
   {
    "duration": 12,
    "start_time": "2023-08-17T12:59:41.877Z"
   },
   {
    "duration": 21,
    "start_time": "2023-08-17T12:59:41.891Z"
   },
   {
    "duration": 18,
    "start_time": "2023-08-17T12:59:41.914Z"
   },
   {
    "duration": 24,
    "start_time": "2023-08-17T12:59:41.934Z"
   },
   {
    "duration": 25,
    "start_time": "2023-08-17T12:59:41.960Z"
   },
   {
    "duration": 534,
    "start_time": "2023-08-17T12:59:41.986Z"
   },
   {
    "duration": 437,
    "start_time": "2023-08-17T12:59:42.523Z"
   },
   {
    "duration": 884,
    "start_time": "2023-08-17T12:59:42.962Z"
   },
   {
    "duration": 18,
    "start_time": "2023-08-17T12:59:43.849Z"
   },
   {
    "duration": 14,
    "start_time": "2023-08-17T12:59:43.869Z"
   },
   {
    "duration": 29,
    "start_time": "2023-08-17T12:59:43.886Z"
   },
   {
    "duration": 20,
    "start_time": "2023-08-17T12:59:43.917Z"
   },
   {
    "duration": 39,
    "start_time": "2023-08-17T12:59:43.939Z"
   },
   {
    "duration": 8,
    "start_time": "2023-08-17T12:59:43.981Z"
   },
   {
    "duration": 27,
    "start_time": "2023-08-17T12:59:43.991Z"
   },
   {
    "duration": 103,
    "start_time": "2023-08-17T13:00:07.369Z"
   },
   {
    "duration": 5,
    "start_time": "2023-08-17T13:01:03.872Z"
   },
   {
    "duration": 15,
    "start_time": "2023-08-17T13:07:41.337Z"
   },
   {
    "duration": 12,
    "start_time": "2023-08-17T13:07:51.299Z"
   },
   {
    "duration": 10,
    "start_time": "2023-08-17T13:15:43.299Z"
   },
   {
    "duration": 3,
    "start_time": "2023-08-17T14:46:19.368Z"
   },
   {
    "duration": 32,
    "start_time": "2023-08-17T14:46:19.374Z"
   },
   {
    "duration": 12,
    "start_time": "2023-08-17T14:46:19.407Z"
   },
   {
    "duration": 19,
    "start_time": "2023-08-17T14:46:19.421Z"
   },
   {
    "duration": 14,
    "start_time": "2023-08-17T14:46:19.443Z"
   },
   {
    "duration": 20,
    "start_time": "2023-08-17T14:46:19.459Z"
   },
   {
    "duration": 27,
    "start_time": "2023-08-17T14:46:19.480Z"
   },
   {
    "duration": 13,
    "start_time": "2023-08-17T14:46:19.509Z"
   },
   {
    "duration": 10,
    "start_time": "2023-08-17T14:46:19.524Z"
   },
   {
    "duration": 25,
    "start_time": "2023-08-17T14:46:19.536Z"
   },
   {
    "duration": 27,
    "start_time": "2023-08-17T14:46:19.563Z"
   },
   {
    "duration": 17,
    "start_time": "2023-08-17T14:46:19.592Z"
   },
   {
    "duration": 10,
    "start_time": "2023-08-17T14:46:19.612Z"
   },
   {
    "duration": 11,
    "start_time": "2023-08-17T14:46:19.624Z"
   },
   {
    "duration": 19,
    "start_time": "2023-08-17T14:46:19.636Z"
   },
   {
    "duration": 17,
    "start_time": "2023-08-17T14:46:19.657Z"
   },
   {
    "duration": 31,
    "start_time": "2023-08-17T14:46:19.675Z"
   },
   {
    "duration": 5,
    "start_time": "2023-08-17T14:46:19.707Z"
   },
   {
    "duration": 40,
    "start_time": "2023-08-17T14:46:19.714Z"
   },
   {
    "duration": 20,
    "start_time": "2023-08-17T14:46:19.755Z"
   },
   {
    "duration": 18,
    "start_time": "2023-08-17T14:46:19.776Z"
   },
   {
    "duration": 13,
    "start_time": "2023-08-17T14:46:19.795Z"
   },
   {
    "duration": 23,
    "start_time": "2023-08-17T14:46:19.809Z"
   },
   {
    "duration": 16,
    "start_time": "2023-08-17T14:46:19.834Z"
   },
   {
    "duration": 12,
    "start_time": "2023-08-17T14:46:19.851Z"
   },
   {
    "duration": 21,
    "start_time": "2023-08-17T14:46:19.865Z"
   },
   {
    "duration": 7,
    "start_time": "2023-08-17T14:46:19.888Z"
   },
   {
    "duration": 11,
    "start_time": "2023-08-17T14:46:19.896Z"
   },
   {
    "duration": 160,
    "start_time": "2023-08-17T14:46:19.909Z"
   },
   {
    "duration": 8,
    "start_time": "2023-08-17T14:46:20.071Z"
   },
   {
    "duration": 130,
    "start_time": "2023-08-17T14:46:20.080Z"
   },
   {
    "duration": 10,
    "start_time": "2023-08-17T14:46:20.213Z"
   },
   {
    "duration": 22,
    "start_time": "2023-08-17T14:46:20.225Z"
   },
   {
    "duration": 183,
    "start_time": "2023-08-17T14:46:20.249Z"
   },
   {
    "duration": 28,
    "start_time": "2023-08-17T14:46:20.434Z"
   },
   {
    "duration": 22,
    "start_time": "2023-08-17T14:46:20.464Z"
   },
   {
    "duration": 240,
    "start_time": "2023-08-17T14:46:20.491Z"
   },
   {
    "duration": 33,
    "start_time": "2023-08-17T14:46:20.733Z"
   },
   {
    "duration": 12,
    "start_time": "2023-08-17T14:46:20.767Z"
   },
   {
    "duration": 16,
    "start_time": "2023-08-17T14:46:20.782Z"
   },
   {
    "duration": 238,
    "start_time": "2023-08-17T14:46:20.800Z"
   },
   {
    "duration": 21,
    "start_time": "2023-08-17T14:46:21.040Z"
   },
   {
    "duration": 24,
    "start_time": "2023-08-17T14:46:21.063Z"
   },
   {
    "duration": 180,
    "start_time": "2023-08-17T14:46:21.089Z"
   },
   {
    "duration": 15,
    "start_time": "2023-08-17T14:46:21.271Z"
   },
   {
    "duration": 25,
    "start_time": "2023-08-17T14:46:21.288Z"
   },
   {
    "duration": 42,
    "start_time": "2023-08-17T14:46:21.315Z"
   },
   {
    "duration": 15,
    "start_time": "2023-08-17T14:46:21.359Z"
   },
   {
    "duration": 19,
    "start_time": "2023-08-17T14:46:21.376Z"
   },
   {
    "duration": 19,
    "start_time": "2023-08-17T14:46:21.397Z"
   },
   {
    "duration": 40,
    "start_time": "2023-08-17T14:46:21.419Z"
   },
   {
    "duration": 522,
    "start_time": "2023-08-17T14:46:21.462Z"
   },
   {
    "duration": 371,
    "start_time": "2023-08-17T14:46:21.986Z"
   },
   {
    "duration": 866,
    "start_time": "2023-08-17T14:46:22.358Z"
   },
   {
    "duration": 15,
    "start_time": "2023-08-17T14:46:23.226Z"
   },
   {
    "duration": 5,
    "start_time": "2023-08-17T14:46:23.252Z"
   },
   {
    "duration": 17,
    "start_time": "2023-08-17T14:46:23.259Z"
   },
   {
    "duration": 6,
    "start_time": "2023-08-17T14:46:23.278Z"
   },
   {
    "duration": 13,
    "start_time": "2023-08-17T14:46:23.286Z"
   },
   {
    "duration": 5,
    "start_time": "2023-08-17T14:46:23.301Z"
   },
   {
    "duration": 30,
    "start_time": "2023-08-17T14:46:23.308Z"
   },
   {
    "duration": 18,
    "start_time": "2023-08-17T14:46:23.340Z"
   },
   {
    "duration": 1331,
    "start_time": "2023-08-17T14:56:33.328Z"
   },
   {
    "duration": 65,
    "start_time": "2023-08-17T14:56:34.661Z"
   },
   {
    "duration": 14,
    "start_time": "2023-08-17T14:56:34.728Z"
   },
   {
    "duration": 21,
    "start_time": "2023-08-17T14:56:34.744Z"
   },
   {
    "duration": 11,
    "start_time": "2023-08-17T14:56:34.766Z"
   },
   {
    "duration": 17,
    "start_time": "2023-08-17T14:56:34.779Z"
   },
   {
    "duration": 63,
    "start_time": "2023-08-17T14:56:34.798Z"
   },
   {
    "duration": 12,
    "start_time": "2023-08-17T14:56:34.863Z"
   },
   {
    "duration": 21,
    "start_time": "2023-08-17T14:56:34.877Z"
   },
   {
    "duration": 43,
    "start_time": "2023-08-17T14:56:34.901Z"
   },
   {
    "duration": 55,
    "start_time": "2023-08-17T14:56:34.946Z"
   },
   {
    "duration": 55,
    "start_time": "2023-08-17T14:56:35.003Z"
   },
   {
    "duration": 11,
    "start_time": "2023-08-17T14:56:35.060Z"
   },
   {
    "duration": 33,
    "start_time": "2023-08-17T14:56:35.073Z"
   },
   {
    "duration": 91,
    "start_time": "2023-08-17T14:56:35.108Z"
   },
   {
    "duration": 38,
    "start_time": "2023-08-17T14:56:35.201Z"
   },
   {
    "duration": 21,
    "start_time": "2023-08-17T14:56:35.241Z"
   },
   {
    "duration": 32,
    "start_time": "2023-08-17T14:56:35.264Z"
   },
   {
    "duration": 61,
    "start_time": "2023-08-17T14:56:35.298Z"
   },
   {
    "duration": 36,
    "start_time": "2023-08-17T14:56:35.362Z"
   },
   {
    "duration": 22,
    "start_time": "2023-08-17T14:56:35.399Z"
   },
   {
    "duration": 72,
    "start_time": "2023-08-17T14:56:35.422Z"
   },
   {
    "duration": 43,
    "start_time": "2023-08-17T14:56:35.496Z"
   },
   {
    "duration": 60,
    "start_time": "2023-08-17T14:56:35.541Z"
   },
   {
    "duration": 127,
    "start_time": "2023-08-17T14:56:35.603Z"
   },
   {
    "duration": 43,
    "start_time": "2023-08-17T14:56:35.733Z"
   },
   {
    "duration": 44,
    "start_time": "2023-08-17T14:56:35.778Z"
   },
   {
    "duration": 29,
    "start_time": "2023-08-17T14:56:35.826Z"
   },
   {
    "duration": 233,
    "start_time": "2023-08-17T14:56:35.857Z"
   },
   {
    "duration": 6,
    "start_time": "2023-08-17T14:56:36.091Z"
   },
   {
    "duration": 151,
    "start_time": "2023-08-17T14:56:36.110Z"
   },
   {
    "duration": 100,
    "start_time": "2023-08-17T14:56:36.264Z"
   },
   {
    "duration": 76,
    "start_time": "2023-08-17T14:56:36.365Z"
   },
   {
    "duration": 256,
    "start_time": "2023-08-17T14:56:36.443Z"
   },
   {
    "duration": 27,
    "start_time": "2023-08-17T14:56:36.701Z"
   },
   {
    "duration": 31,
    "start_time": "2023-08-17T14:56:36.742Z"
   },
   {
    "duration": 197,
    "start_time": "2023-08-17T14:56:36.775Z"
   },
   {
    "duration": 36,
    "start_time": "2023-08-17T14:56:36.975Z"
   },
   {
    "duration": 12,
    "start_time": "2023-08-17T14:56:37.013Z"
   },
   {
    "duration": 18,
    "start_time": "2023-08-17T14:56:37.026Z"
   },
   {
    "duration": 226,
    "start_time": "2023-08-17T14:56:37.046Z"
   },
   {
    "duration": 36,
    "start_time": "2023-08-17T14:56:37.274Z"
   },
   {
    "duration": 47,
    "start_time": "2023-08-17T14:56:37.312Z"
   },
   {
    "duration": 185,
    "start_time": "2023-08-17T14:56:37.361Z"
   },
   {
    "duration": 11,
    "start_time": "2023-08-17T14:56:37.548Z"
   },
   {
    "duration": 17,
    "start_time": "2023-08-17T14:56:37.561Z"
   },
   {
    "duration": 51,
    "start_time": "2023-08-17T14:56:37.580Z"
   },
   {
    "duration": 32,
    "start_time": "2023-08-17T14:56:37.632Z"
   },
   {
    "duration": 32,
    "start_time": "2023-08-17T14:56:37.666Z"
   },
   {
    "duration": 10,
    "start_time": "2023-08-17T14:56:37.700Z"
   },
   {
    "duration": 50,
    "start_time": "2023-08-17T14:56:37.712Z"
   },
   {
    "duration": 607,
    "start_time": "2023-08-17T14:56:37.764Z"
   },
   {
    "duration": 394,
    "start_time": "2023-08-17T14:56:38.373Z"
   },
   {
    "duration": 928,
    "start_time": "2023-08-17T14:56:38.769Z"
   },
   {
    "duration": 22,
    "start_time": "2023-08-17T14:56:39.698Z"
   },
   {
    "duration": 15,
    "start_time": "2023-08-17T14:56:39.722Z"
   },
   {
    "duration": 24,
    "start_time": "2023-08-17T14:56:39.739Z"
   },
   {
    "duration": 18,
    "start_time": "2023-08-17T14:56:39.764Z"
   },
   {
    "duration": 41,
    "start_time": "2023-08-17T14:56:39.784Z"
   },
   {
    "duration": 11,
    "start_time": "2023-08-17T14:56:39.826Z"
   },
   {
    "duration": 6,
    "start_time": "2023-08-17T14:56:39.839Z"
   },
   {
    "duration": 18,
    "start_time": "2023-08-17T14:56:39.847Z"
   },
   {
    "duration": 1231,
    "start_time": "2023-08-17T18:25:40.646Z"
   },
   {
    "duration": 105,
    "start_time": "2023-08-17T18:25:41.879Z"
   },
   {
    "duration": 11,
    "start_time": "2023-08-17T18:25:41.986Z"
   },
   {
    "duration": 41,
    "start_time": "2023-08-17T18:25:41.998Z"
   },
   {
    "duration": 33,
    "start_time": "2023-08-17T18:25:42.042Z"
   },
   {
    "duration": 35,
    "start_time": "2023-08-17T18:25:42.076Z"
   },
   {
    "duration": 179,
    "start_time": "2023-08-17T18:25:42.113Z"
   },
   {
    "duration": 11,
    "start_time": "2023-08-17T18:25:42.293Z"
   },
   {
    "duration": 23,
    "start_time": "2023-08-17T18:25:42.306Z"
   },
   {
    "duration": 36,
    "start_time": "2023-08-17T18:25:42.331Z"
   },
   {
    "duration": 18,
    "start_time": "2023-08-17T18:25:42.368Z"
   },
   {
    "duration": 58,
    "start_time": "2023-08-17T18:25:42.387Z"
   },
   {
    "duration": 10,
    "start_time": "2023-08-17T18:25:42.446Z"
   },
   {
    "duration": 9,
    "start_time": "2023-08-17T18:25:42.458Z"
   },
   {
    "duration": 14,
    "start_time": "2023-08-17T18:25:42.468Z"
   },
   {
    "duration": 14,
    "start_time": "2023-08-17T18:25:42.483Z"
   },
   {
    "duration": 19,
    "start_time": "2023-08-17T18:25:42.498Z"
   },
   {
    "duration": 4,
    "start_time": "2023-08-17T18:25:42.519Z"
   },
   {
    "duration": 21,
    "start_time": "2023-08-17T18:25:42.524Z"
   },
   {
    "duration": 6,
    "start_time": "2023-08-17T18:25:42.546Z"
   },
   {
    "duration": 19,
    "start_time": "2023-08-17T18:25:42.553Z"
   },
   {
    "duration": 28,
    "start_time": "2023-08-17T18:25:42.574Z"
   },
   {
    "duration": 7,
    "start_time": "2023-08-17T18:25:42.603Z"
   },
   {
    "duration": 8,
    "start_time": "2023-08-17T18:25:42.612Z"
   },
   {
    "duration": 16,
    "start_time": "2023-08-17T18:25:42.622Z"
   },
   {
    "duration": 17,
    "start_time": "2023-08-17T18:25:42.639Z"
   },
   {
    "duration": 6,
    "start_time": "2023-08-17T18:25:42.657Z"
   },
   {
    "duration": 9,
    "start_time": "2023-08-17T18:25:42.664Z"
   },
   {
    "duration": 156,
    "start_time": "2023-08-17T18:25:42.674Z"
   },
   {
    "duration": 5,
    "start_time": "2023-08-17T18:25:42.832Z"
   },
   {
    "duration": 97,
    "start_time": "2023-08-17T18:25:42.838Z"
   },
   {
    "duration": 7,
    "start_time": "2023-08-17T18:25:42.936Z"
   },
   {
    "duration": 9,
    "start_time": "2023-08-17T18:25:42.945Z"
   },
   {
    "duration": 171,
    "start_time": "2023-08-17T18:25:42.955Z"
   },
   {
    "duration": 19,
    "start_time": "2023-08-17T18:25:43.127Z"
   },
   {
    "duration": 31,
    "start_time": "2023-08-17T18:25:43.147Z"
   },
   {
    "duration": 164,
    "start_time": "2023-08-17T18:25:43.179Z"
   },
   {
    "duration": 36,
    "start_time": "2023-08-17T18:25:43.345Z"
   },
   {
    "duration": 10,
    "start_time": "2023-08-17T18:25:43.382Z"
   },
   {
    "duration": 3,
    "start_time": "2023-08-17T18:25:43.394Z"
   },
   {
    "duration": 193,
    "start_time": "2023-08-17T18:25:43.401Z"
   },
   {
    "duration": 16,
    "start_time": "2023-08-17T18:25:43.596Z"
   },
   {
    "duration": 18,
    "start_time": "2023-08-17T18:25:43.613Z"
   },
   {
    "duration": 173,
    "start_time": "2023-08-17T18:25:43.632Z"
   },
   {
    "duration": 10,
    "start_time": "2023-08-17T18:25:43.806Z"
   },
   {
    "duration": 10,
    "start_time": "2023-08-17T18:25:43.818Z"
   },
   {
    "duration": 20,
    "start_time": "2023-08-17T18:25:43.829Z"
   },
   {
    "duration": 23,
    "start_time": "2023-08-17T18:25:43.851Z"
   },
   {
    "duration": 20,
    "start_time": "2023-08-17T18:25:43.876Z"
   },
   {
    "duration": 7,
    "start_time": "2023-08-17T18:25:43.897Z"
   },
   {
    "duration": 15,
    "start_time": "2023-08-17T18:25:43.905Z"
   },
   {
    "duration": 423,
    "start_time": "2023-08-17T18:25:43.922Z"
   },
   {
    "duration": 306,
    "start_time": "2023-08-17T18:25:44.346Z"
   },
   {
    "duration": 821,
    "start_time": "2023-08-17T18:25:44.653Z"
   },
   {
    "duration": 13,
    "start_time": "2023-08-17T18:25:45.475Z"
   },
   {
    "duration": 25,
    "start_time": "2023-08-17T18:25:45.489Z"
   },
   {
    "duration": 43,
    "start_time": "2023-08-17T18:25:45.516Z"
   },
   {
    "duration": 19,
    "start_time": "2023-08-17T18:25:45.561Z"
   },
   {
    "duration": 24,
    "start_time": "2023-08-17T18:25:45.581Z"
   },
   {
    "duration": 12,
    "start_time": "2023-08-17T18:25:45.607Z"
   },
   {
    "duration": 35,
    "start_time": "2023-08-17T18:25:45.621Z"
   },
   {
    "duration": 17,
    "start_time": "2023-08-17T18:25:45.658Z"
   },
   {
    "duration": 61,
    "start_time": "2023-08-17T18:34:38.840Z"
   },
   {
    "duration": 169,
    "start_time": "2023-08-17T18:34:47.302Z"
   },
   {
    "duration": 165,
    "start_time": "2023-08-17T18:37:37.306Z"
   },
   {
    "duration": 154,
    "start_time": "2023-08-17T18:38:56.152Z"
   },
   {
    "duration": 271,
    "start_time": "2023-08-17T18:39:12.157Z"
   },
   {
    "duration": 184,
    "start_time": "2023-08-17T18:39:28.525Z"
   },
   {
    "duration": 25,
    "start_time": "2023-08-17T18:45:18.063Z"
   },
   {
    "duration": 92,
    "start_time": "2023-08-17T18:48:30.146Z"
   },
   {
    "duration": 64,
    "start_time": "2023-08-17T18:48:55.483Z"
   },
   {
    "duration": 9,
    "start_time": "2023-08-17T18:49:19.872Z"
   },
   {
    "duration": 11,
    "start_time": "2023-08-17T18:49:37.397Z"
   },
   {
    "duration": 11,
    "start_time": "2023-08-17T18:52:35.331Z"
   },
   {
    "duration": 13,
    "start_time": "2023-08-17T18:54:06.677Z"
   },
   {
    "duration": 8,
    "start_time": "2023-08-17T18:54:55.638Z"
   },
   {
    "duration": 5,
    "start_time": "2023-08-17T18:55:42.440Z"
   },
   {
    "duration": 4,
    "start_time": "2023-08-17T18:55:58.995Z"
   },
   {
    "duration": 62,
    "start_time": "2023-08-17T19:12:19.408Z"
   },
   {
    "duration": 4,
    "start_time": "2023-08-17T19:12:52.031Z"
   },
   {
    "duration": 30,
    "start_time": "2023-08-17T19:12:52.039Z"
   },
   {
    "duration": 10,
    "start_time": "2023-08-17T19:12:52.071Z"
   },
   {
    "duration": 31,
    "start_time": "2023-08-17T19:12:52.083Z"
   },
   {
    "duration": 27,
    "start_time": "2023-08-17T19:12:52.116Z"
   },
   {
    "duration": 12,
    "start_time": "2023-08-17T19:12:52.319Z"
   },
   {
    "duration": 24,
    "start_time": "2023-08-17T19:12:52.333Z"
   },
   {
    "duration": 11,
    "start_time": "2023-08-17T19:12:52.358Z"
   },
   {
    "duration": 9,
    "start_time": "2023-08-17T19:12:52.370Z"
   },
   {
    "duration": 48,
    "start_time": "2023-08-17T19:12:52.381Z"
   },
   {
    "duration": 21,
    "start_time": "2023-08-17T19:12:52.431Z"
   },
   {
    "duration": 15,
    "start_time": "2023-08-17T19:12:52.454Z"
   },
   {
    "duration": 9,
    "start_time": "2023-08-17T19:12:52.470Z"
   },
   {
    "duration": 12,
    "start_time": "2023-08-17T19:12:52.480Z"
   },
   {
    "duration": 27,
    "start_time": "2023-08-17T19:12:52.493Z"
   },
   {
    "duration": 10,
    "start_time": "2023-08-17T19:12:52.522Z"
   },
   {
    "duration": 11,
    "start_time": "2023-08-17T19:12:52.534Z"
   },
   {
    "duration": 4,
    "start_time": "2023-08-17T19:12:52.547Z"
   },
   {
    "duration": 11,
    "start_time": "2023-08-17T19:12:52.554Z"
   },
   {
    "duration": 6,
    "start_time": "2023-08-17T19:12:52.574Z"
   },
   {
    "duration": 6,
    "start_time": "2023-08-17T19:12:52.581Z"
   },
   {
    "duration": 7,
    "start_time": "2023-08-17T19:12:52.588Z"
   },
   {
    "duration": 23,
    "start_time": "2023-08-17T19:12:52.596Z"
   },
   {
    "duration": 11,
    "start_time": "2023-08-17T19:12:52.620Z"
   },
   {
    "duration": 6,
    "start_time": "2023-08-17T19:12:52.633Z"
   },
   {
    "duration": 16,
    "start_time": "2023-08-17T19:12:52.640Z"
   },
   {
    "duration": 7,
    "start_time": "2023-08-17T19:12:52.658Z"
   },
   {
    "duration": 10,
    "start_time": "2023-08-17T19:12:52.666Z"
   },
   {
    "duration": 141,
    "start_time": "2023-08-17T19:12:52.677Z"
   },
   {
    "duration": 180,
    "start_time": "2023-08-17T19:12:52.819Z"
   },
   {
    "duration": 5,
    "start_time": "2023-08-17T19:12:53.001Z"
   },
   {
    "duration": 101,
    "start_time": "2023-08-17T19:12:53.007Z"
   },
   {
    "duration": 8,
    "start_time": "2023-08-17T19:12:53.109Z"
   },
   {
    "duration": 7,
    "start_time": "2023-08-17T19:12:53.118Z"
   },
   {
    "duration": 232,
    "start_time": "2023-08-17T19:12:53.126Z"
   },
   {
    "duration": 22,
    "start_time": "2023-08-17T19:12:53.359Z"
   },
   {
    "duration": 18,
    "start_time": "2023-08-17T19:12:53.382Z"
   },
   {
    "duration": 158,
    "start_time": "2023-08-17T19:12:53.401Z"
   },
   {
    "duration": 30,
    "start_time": "2023-08-17T19:12:53.561Z"
   },
   {
    "duration": 9,
    "start_time": "2023-08-17T19:12:53.593Z"
   },
   {
    "duration": 2,
    "start_time": "2023-08-17T19:12:53.604Z"
   },
   {
    "duration": 197,
    "start_time": "2023-08-17T19:12:53.607Z"
   },
   {
    "duration": 23,
    "start_time": "2023-08-17T19:12:53.806Z"
   },
   {
    "duration": 21,
    "start_time": "2023-08-17T19:12:53.831Z"
   },
   {
    "duration": 146,
    "start_time": "2023-08-17T19:12:53.874Z"
   },
   {
    "duration": 25,
    "start_time": "2023-08-17T19:12:54.025Z"
   },
   {
    "duration": 28,
    "start_time": "2023-08-17T19:12:54.051Z"
   },
   {
    "duration": 8,
    "start_time": "2023-08-17T19:12:54.081Z"
   },
   {
    "duration": 12,
    "start_time": "2023-08-17T19:12:54.091Z"
   },
   {
    "duration": 12,
    "start_time": "2023-08-17T19:12:54.104Z"
   },
   {
    "duration": 11,
    "start_time": "2023-08-17T19:12:54.118Z"
   },
   {
    "duration": 7,
    "start_time": "2023-08-17T19:12:54.130Z"
   },
   {
    "duration": 37,
    "start_time": "2023-08-17T19:12:54.138Z"
   },
   {
    "duration": 19,
    "start_time": "2023-08-17T19:12:54.176Z"
   },
   {
    "duration": 6,
    "start_time": "2023-08-17T19:12:54.197Z"
   },
   {
    "duration": 18,
    "start_time": "2023-08-17T19:12:54.204Z"
   },
   {
    "duration": 375,
    "start_time": "2023-08-17T19:12:54.224Z"
   },
   {
    "duration": 295,
    "start_time": "2023-08-17T19:12:54.601Z"
   },
   {
    "duration": 788,
    "start_time": "2023-08-17T19:12:54.898Z"
   },
   {
    "duration": 13,
    "start_time": "2023-08-17T19:12:55.688Z"
   },
   {
    "duration": 11,
    "start_time": "2023-08-17T19:12:55.702Z"
   },
   {
    "duration": 28,
    "start_time": "2023-08-17T19:12:55.714Z"
   },
   {
    "duration": 10,
    "start_time": "2023-08-17T19:12:55.744Z"
   },
   {
    "duration": 16,
    "start_time": "2023-08-17T19:12:55.755Z"
   },
   {
    "duration": 5,
    "start_time": "2023-08-17T19:12:55.773Z"
   },
   {
    "duration": 15,
    "start_time": "2023-08-17T19:12:55.779Z"
   },
   {
    "duration": 11,
    "start_time": "2023-08-17T19:12:55.796Z"
   },
   {
    "duration": 1258,
    "start_time": "2023-08-17T19:38:10.927Z"
   },
   {
    "duration": 78,
    "start_time": "2023-08-17T19:38:12.187Z"
   },
   {
    "duration": 13,
    "start_time": "2023-08-17T19:38:12.267Z"
   },
   {
    "duration": 93,
    "start_time": "2023-08-17T19:38:12.282Z"
   },
   {
    "duration": 48,
    "start_time": "2023-08-17T19:38:12.377Z"
   },
   {
    "duration": 59,
    "start_time": "2023-08-17T19:38:12.427Z"
   },
   {
    "duration": 71,
    "start_time": "2023-08-17T19:38:12.488Z"
   },
   {
    "duration": 13,
    "start_time": "2023-08-17T19:38:12.560Z"
   },
   {
    "duration": 35,
    "start_time": "2023-08-17T19:38:12.575Z"
   },
   {
    "duration": 11,
    "start_time": "2023-08-17T19:38:12.613Z"
   },
   {
    "duration": 26,
    "start_time": "2023-08-17T19:38:12.626Z"
   },
   {
    "duration": 96,
    "start_time": "2023-08-17T19:38:12.654Z"
   },
   {
    "duration": 12,
    "start_time": "2023-08-17T19:38:12.752Z"
   },
   {
    "duration": 167,
    "start_time": "2023-08-17T19:38:12.766Z"
   },
   {
    "duration": 79,
    "start_time": "2023-08-17T19:38:12.935Z"
   },
   {
    "duration": 45,
    "start_time": "2023-08-17T19:38:13.016Z"
   },
   {
    "duration": 67,
    "start_time": "2023-08-17T19:38:13.063Z"
   },
   {
    "duration": 44,
    "start_time": "2023-08-17T19:38:13.132Z"
   },
   {
    "duration": 58,
    "start_time": "2023-08-17T19:38:13.178Z"
   },
   {
    "duration": 16,
    "start_time": "2023-08-17T19:38:13.238Z"
   },
   {
    "duration": 12,
    "start_time": "2023-08-17T19:38:13.257Z"
   },
   {
    "duration": 6,
    "start_time": "2023-08-17T19:38:13.270Z"
   },
   {
    "duration": 42,
    "start_time": "2023-08-17T19:38:13.277Z"
   },
   {
    "duration": 24,
    "start_time": "2023-08-17T19:38:13.321Z"
   },
   {
    "duration": 12,
    "start_time": "2023-08-17T19:38:13.347Z"
   },
   {
    "duration": 32,
    "start_time": "2023-08-17T19:38:13.360Z"
   },
   {
    "duration": 34,
    "start_time": "2023-08-17T19:38:13.393Z"
   },
   {
    "duration": 16,
    "start_time": "2023-08-17T19:38:13.432Z"
   },
   {
    "duration": 195,
    "start_time": "2023-08-17T19:38:13.450Z"
   },
   {
    "duration": 238,
    "start_time": "2023-08-17T19:38:13.647Z"
   },
   {
    "duration": 8,
    "start_time": "2023-08-17T19:38:13.888Z"
   },
   {
    "duration": 190,
    "start_time": "2023-08-17T19:38:13.908Z"
   },
   {
    "duration": 10,
    "start_time": "2023-08-17T19:38:14.100Z"
   },
   {
    "duration": 37,
    "start_time": "2023-08-17T19:38:14.112Z"
   },
   {
    "duration": 214,
    "start_time": "2023-08-17T19:38:14.152Z"
   },
   {
    "duration": 23,
    "start_time": "2023-08-17T19:38:14.368Z"
   },
   {
    "duration": 39,
    "start_time": "2023-08-17T19:38:14.393Z"
   },
   {
    "duration": 203,
    "start_time": "2023-08-17T19:38:14.434Z"
   },
   {
    "duration": 30,
    "start_time": "2023-08-17T19:38:14.639Z"
   },
   {
    "duration": 65,
    "start_time": "2023-08-17T19:38:14.671Z"
   },
   {
    "duration": 77,
    "start_time": "2023-08-17T19:38:14.738Z"
   },
   {
    "duration": 273,
    "start_time": "2023-08-17T19:38:14.817Z"
   },
   {
    "duration": 29,
    "start_time": "2023-08-17T19:38:15.092Z"
   },
   {
    "duration": 34,
    "start_time": "2023-08-17T19:38:15.123Z"
   },
   {
    "duration": 200,
    "start_time": "2023-08-17T19:38:15.159Z"
   },
   {
    "duration": 51,
    "start_time": "2023-08-17T19:38:15.361Z"
   },
   {
    "duration": 24,
    "start_time": "2023-08-17T19:38:15.413Z"
   },
   {
    "duration": 46,
    "start_time": "2023-08-17T19:38:15.439Z"
   },
   {
    "duration": 126,
    "start_time": "2023-08-17T19:38:15.487Z"
   },
   {
    "duration": 59,
    "start_time": "2023-08-17T19:38:15.615Z"
   },
   {
    "duration": 15,
    "start_time": "2023-08-17T19:38:15.676Z"
   },
   {
    "duration": 46,
    "start_time": "2023-08-17T19:38:15.693Z"
   },
   {
    "duration": 134,
    "start_time": "2023-08-17T19:38:15.741Z"
   },
   {
    "duration": 41,
    "start_time": "2023-08-17T19:38:15.878Z"
   },
   {
    "duration": 137,
    "start_time": "2023-08-17T19:38:15.922Z"
   },
   {
    "duration": 120,
    "start_time": "2023-08-17T19:38:16.062Z"
   },
   {
    "duration": 439,
    "start_time": "2023-08-17T19:38:16.184Z"
   },
   {
    "duration": 403,
    "start_time": "2023-08-17T19:38:16.625Z"
   },
   {
    "duration": 1008,
    "start_time": "2023-08-17T19:38:17.031Z"
   },
   {
    "duration": 17,
    "start_time": "2023-08-17T19:38:18.042Z"
   },
   {
    "duration": 17,
    "start_time": "2023-08-17T19:38:18.061Z"
   },
   {
    "duration": 77,
    "start_time": "2023-08-17T19:38:18.080Z"
   },
   {
    "duration": 21,
    "start_time": "2023-08-17T19:38:18.159Z"
   },
   {
    "duration": 54,
    "start_time": "2023-08-17T19:38:18.183Z"
   },
   {
    "duration": 34,
    "start_time": "2023-08-17T19:38:18.240Z"
   },
   {
    "duration": 99,
    "start_time": "2023-08-17T19:38:18.276Z"
   },
   {
    "duration": 24,
    "start_time": "2023-08-17T19:38:18.378Z"
   },
   {
    "duration": 67,
    "start_time": "2023-08-17T19:41:14.831Z"
   },
   {
    "duration": 11,
    "start_time": "2023-08-17T19:43:32.655Z"
   },
   {
    "duration": 107,
    "start_time": "2023-08-17T19:43:34.489Z"
   },
   {
    "duration": 191,
    "start_time": "2023-08-17T19:43:42.017Z"
   },
   {
    "duration": 1358,
    "start_time": "2023-08-17T19:44:53.801Z"
   },
   {
    "duration": 30,
    "start_time": "2023-08-17T19:44:55.161Z"
   },
   {
    "duration": 25,
    "start_time": "2023-08-17T19:44:55.193Z"
   },
   {
    "duration": 33,
    "start_time": "2023-08-17T19:44:55.220Z"
   },
   {
    "duration": 16,
    "start_time": "2023-08-17T19:44:55.256Z"
   },
   {
    "duration": 39,
    "start_time": "2023-08-17T19:44:55.273Z"
   },
   {
    "duration": 33,
    "start_time": "2023-08-17T19:44:55.314Z"
   },
   {
    "duration": 13,
    "start_time": "2023-08-17T19:44:55.348Z"
   },
   {
    "duration": 10,
    "start_time": "2023-08-17T19:44:55.363Z"
   },
   {
    "duration": 14,
    "start_time": "2023-08-17T19:44:55.376Z"
   },
   {
    "duration": 32,
    "start_time": "2023-08-17T19:44:55.392Z"
   },
   {
    "duration": 16,
    "start_time": "2023-08-17T19:44:55.426Z"
   },
   {
    "duration": 39,
    "start_time": "2023-08-17T19:44:55.444Z"
   },
   {
    "duration": 21,
    "start_time": "2023-08-17T19:44:55.486Z"
   },
   {
    "duration": 65,
    "start_time": "2023-08-17T19:44:55.509Z"
   },
   {
    "duration": 7,
    "start_time": "2023-08-17T19:44:55.576Z"
   },
   {
    "duration": 27,
    "start_time": "2023-08-17T19:44:55.585Z"
   },
   {
    "duration": 14,
    "start_time": "2023-08-17T19:44:55.615Z"
   },
   {
    "duration": 9,
    "start_time": "2023-08-17T19:44:55.631Z"
   },
   {
    "duration": 40,
    "start_time": "2023-08-17T19:44:55.642Z"
   },
   {
    "duration": 18,
    "start_time": "2023-08-17T19:44:55.685Z"
   },
   {
    "duration": 202,
    "start_time": "2023-08-17T19:44:55.705Z"
   },
   {
    "duration": 31,
    "start_time": "2023-08-17T19:44:55.909Z"
   },
   {
    "duration": 15,
    "start_time": "2023-08-17T19:44:55.943Z"
   },
   {
    "duration": 15,
    "start_time": "2023-08-17T19:44:55.960Z"
   },
   {
    "duration": 52,
    "start_time": "2023-08-17T19:44:55.977Z"
   },
   {
    "duration": 21,
    "start_time": "2023-08-17T19:44:56.031Z"
   },
   {
    "duration": 9,
    "start_time": "2023-08-17T19:44:56.054Z"
   },
   {
    "duration": 140,
    "start_time": "2023-08-17T19:44:56.064Z"
   },
   {
    "duration": 190,
    "start_time": "2023-08-17T19:44:56.206Z"
   },
   {
    "duration": 232,
    "start_time": "2023-08-17T19:44:56.398Z"
   },
   {
    "duration": 7,
    "start_time": "2023-08-17T19:44:56.631Z"
   },
   {
    "duration": 125,
    "start_time": "2023-08-17T19:44:56.640Z"
   },
   {
    "duration": 10,
    "start_time": "2023-08-17T19:44:56.767Z"
   },
   {
    "duration": 10,
    "start_time": "2023-08-17T19:44:56.779Z"
   },
   {
    "duration": 204,
    "start_time": "2023-08-17T19:44:56.791Z"
   },
   {
    "duration": 29,
    "start_time": "2023-08-17T19:44:56.997Z"
   },
   {
    "duration": 45,
    "start_time": "2023-08-17T19:44:57.028Z"
   },
   {
    "duration": 184,
    "start_time": "2023-08-17T19:44:57.074Z"
   },
   {
    "duration": 29,
    "start_time": "2023-08-17T19:44:57.260Z"
   },
   {
    "duration": 12,
    "start_time": "2023-08-17T19:44:57.310Z"
   },
   {
    "duration": 9,
    "start_time": "2023-08-17T19:44:57.324Z"
   },
   {
    "duration": 216,
    "start_time": "2023-08-17T19:44:57.335Z"
   },
   {
    "duration": 4,
    "start_time": "2023-08-17T19:44:57.553Z"
   },
   {
    "duration": 321,
    "start_time": "2023-08-17T19:44:57.559Z"
   },
   {
    "duration": 31,
    "start_time": "2023-08-17T19:44:57.882Z"
   },
   {
    "duration": 22,
    "start_time": "2023-08-17T19:44:57.915Z"
   },
   {
    "duration": 202,
    "start_time": "2023-08-17T19:44:57.938Z"
   },
   {
    "duration": 32,
    "start_time": "2023-08-17T19:44:58.143Z"
   },
   {
    "duration": 36,
    "start_time": "2023-08-17T19:44:58.177Z"
   },
   {
    "duration": 18,
    "start_time": "2023-08-17T19:44:58.216Z"
   },
   {
    "duration": 21,
    "start_time": "2023-08-17T19:44:58.237Z"
   },
   {
    "duration": 19,
    "start_time": "2023-08-17T19:44:58.260Z"
   },
   {
    "duration": 33,
    "start_time": "2023-08-17T19:44:58.281Z"
   },
   {
    "duration": 11,
    "start_time": "2023-08-17T19:44:58.316Z"
   },
   {
    "duration": 10,
    "start_time": "2023-08-17T19:44:58.329Z"
   },
   {
    "duration": 22,
    "start_time": "2023-08-17T19:44:58.341Z"
   },
   {
    "duration": 7,
    "start_time": "2023-08-17T19:44:58.366Z"
   },
   {
    "duration": 47,
    "start_time": "2023-08-17T19:44:58.375Z"
   },
   {
    "duration": 429,
    "start_time": "2023-08-17T19:44:58.424Z"
   },
   {
    "duration": 383,
    "start_time": "2023-08-17T19:44:58.854Z"
   },
   {
    "duration": 1064,
    "start_time": "2023-08-17T19:44:59.239Z"
   },
   {
    "duration": 21,
    "start_time": "2023-08-17T19:45:00.307Z"
   },
   {
    "duration": 87,
    "start_time": "2023-08-17T19:45:00.330Z"
   },
   {
    "duration": 30,
    "start_time": "2023-08-17T19:45:00.419Z"
   },
   {
    "duration": 119,
    "start_time": "2023-08-17T19:45:00.451Z"
   },
   {
    "duration": 37,
    "start_time": "2023-08-17T19:45:00.572Z"
   },
   {
    "duration": 13,
    "start_time": "2023-08-17T19:45:00.611Z"
   },
   {
    "duration": 37,
    "start_time": "2023-08-17T19:45:00.626Z"
   },
   {
    "duration": 19,
    "start_time": "2023-08-17T19:45:00.665Z"
   }
  ],
  "kernelspec": {
   "display_name": "Python 3 (ipykernel)",
   "language": "python",
   "name": "python3"
  },
  "language_info": {
   "codemirror_mode": {
    "name": "ipython",
    "version": 3
   },
   "file_extension": ".py",
   "mimetype": "text/x-python",
   "name": "python",
   "nbconvert_exporter": "python",
   "pygments_lexer": "ipython3",
   "version": "3.11.5"
  },
  "toc": {
   "base_numbering": 1,
   "nav_menu": {},
   "number_sections": true,
   "sideBar": true,
   "skip_h1_title": true,
   "title_cell": "Table of Contents",
   "title_sidebar": "Contents",
   "toc_cell": false,
   "toc_position": {},
   "toc_section_display": true,
   "toc_window_display": false
  }
 },
 "nbformat": 4,
 "nbformat_minor": 5
}
