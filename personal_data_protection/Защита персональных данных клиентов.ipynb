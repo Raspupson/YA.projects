{
 "cells": [
  {
   "cell_type": "markdown",
   "metadata": {
    "toc": true
   },
   "source": [
    "<h1>Содержание<span class=\"tocSkip\"></span></h1>\n",
    "<div class=\"toc\"><ul class=\"toc-item\"><li><span><a href=\"#Загрузка-данных\" data-toc-modified-id=\"Загрузка-данных-1\"><span class=\"toc-item-num\">1&nbsp;&nbsp;</span>Загрузка данных</a></span><ul class=\"toc-item\"><li><span><a href=\"#Откроем-файл-с-данными\" data-toc-modified-id=\"Откроем-файл-с-данными-1.1\"><span class=\"toc-item-num\">1.1&nbsp;&nbsp;</span>Откроем файл с данными</a></span></li></ul></li><li><span><a href=\"#Умножение-матриц\" data-toc-modified-id=\"Умножение-матриц-2\"><span class=\"toc-item-num\">2&nbsp;&nbsp;</span>Умножение матриц</a></span></li><li><span><a href=\"#Алгоритм-преобразования\" data-toc-modified-id=\"Алгоритм-преобразования-3\"><span class=\"toc-item-num\">3&nbsp;&nbsp;</span>Алгоритм преобразования</a></span></li><li><span><a href=\"#Проверка-алгоритма\" data-toc-modified-id=\"Проверка-алгоритма-4\"><span class=\"toc-item-num\">4&nbsp;&nbsp;</span>Проверка алгоритма</a></span></li><li><span><a href=\"#ВЫВОД\" data-toc-modified-id=\"ВЫВОД-5\"><span class=\"toc-item-num\">5&nbsp;&nbsp;</span>ВЫВОД</a></span></li><li><span><a href=\"#Чек-лист-проверки\" data-toc-modified-id=\"Чек-лист-проверки-6\"><span class=\"toc-item-num\">6&nbsp;&nbsp;</span>Чек-лист проверки</a></span></li></ul></div>"
   ]
  },
  {
   "cell_type": "markdown",
   "metadata": {},
   "source": [
    "# Защита персональных данных клиентов"
   ]
  },
  {
   "cell_type": "markdown",
   "metadata": {},
   "source": [
    "Вам нужно защитить данные клиентов страховой компании «Хоть потоп». Разработайте такой метод преобразования данных, чтобы по ним было сложно восстановить персональную информацию. Обоснуйте корректность его работы.\n",
    "\n",
    "Нужно защитить данные, чтобы при преобразовании качество моделей машинного обучения не ухудшилось. Подбирать наилучшую модель не требуется."
   ]
  },
  {
   "cell_type": "markdown",
   "metadata": {},
   "source": [
    "## Загрузка данных"
   ]
  },
  {
   "cell_type": "markdown",
   "metadata": {},
   "source": [
    "# Импортируем необходимые библиотеки"
   ]
  },
  {
   "cell_type": "code",
   "execution_count": 1,
   "metadata": {},
   "outputs": [
    {
     "data": {
      "text/html": [
       "<style>.container { width:90% !important; }</style>"
      ],
      "text/plain": [
       "<IPython.core.display.HTML object>"
      ]
     },
     "metadata": {},
     "output_type": "display_data"
    }
   ],
   "source": [
    "import pandas as pd\n",
    "import numpy as np\n",
    "\n",
    "\n",
    "from sklearn.linear_model import LinearRegression\n",
    "\n",
    "\n",
    "import matplotlib.pyplot as plt\n",
    "\n",
    "from sklearn.metrics import r2_score\n",
    "\n",
    "pd.set_option('display.float_format', '{:,.2f}'.format)\n",
    "pd.set_option('display.max_columns', 100)\n",
    "\n",
    "from IPython.core.display import display, HTML\n",
    "display(HTML(\"<style>.container { width:90% !important; }</style>\"))\n"
   ]
  },
  {
   "cell_type": "markdown",
   "metadata": {},
   "source": [
    "###  Откроем файл с данными"
   ]
  },
  {
   "cell_type": "code",
   "execution_count": 2,
   "metadata": {
    "scrolled": true
   },
   "outputs": [
    {
     "name": "stdout",
     "output_type": "stream",
     "text": [
      "------------- Исходный датафрейм -------------\n"
     ]
    },
    {
     "data": {
      "text/html": [
       "<div>\n",
       "<style scoped>\n",
       "    .dataframe tbody tr th:only-of-type {\n",
       "        vertical-align: middle;\n",
       "    }\n",
       "\n",
       "    .dataframe tbody tr th {\n",
       "        vertical-align: top;\n",
       "    }\n",
       "\n",
       "    .dataframe thead th {\n",
       "        text-align: right;\n",
       "    }\n",
       "</style>\n",
       "<table border=\"1\" class=\"dataframe\">\n",
       "  <thead>\n",
       "    <tr style=\"text-align: right;\">\n",
       "      <th></th>\n",
       "      <th>Пол</th>\n",
       "      <th>Возраст</th>\n",
       "      <th>Зарплата</th>\n",
       "      <th>Члены семьи</th>\n",
       "      <th>Страховые выплаты</th>\n",
       "    </tr>\n",
       "  </thead>\n",
       "  <tbody>\n",
       "    <tr>\n",
       "      <th>0</th>\n",
       "      <td>1</td>\n",
       "      <td>41.00</td>\n",
       "      <td>49,600.00</td>\n",
       "      <td>1</td>\n",
       "      <td>0</td>\n",
       "    </tr>\n",
       "    <tr>\n",
       "      <th>1</th>\n",
       "      <td>0</td>\n",
       "      <td>46.00</td>\n",
       "      <td>38,000.00</td>\n",
       "      <td>1</td>\n",
       "      <td>1</td>\n",
       "    </tr>\n",
       "    <tr>\n",
       "      <th>2</th>\n",
       "      <td>0</td>\n",
       "      <td>29.00</td>\n",
       "      <td>21,000.00</td>\n",
       "      <td>0</td>\n",
       "      <td>0</td>\n",
       "    </tr>\n",
       "    <tr>\n",
       "      <th>3</th>\n",
       "      <td>0</td>\n",
       "      <td>21.00</td>\n",
       "      <td>41,700.00</td>\n",
       "      <td>2</td>\n",
       "      <td>0</td>\n",
       "    </tr>\n",
       "    <tr>\n",
       "      <th>4</th>\n",
       "      <td>1</td>\n",
       "      <td>28.00</td>\n",
       "      <td>26,100.00</td>\n",
       "      <td>0</td>\n",
       "      <td>0</td>\n",
       "    </tr>\n",
       "  </tbody>\n",
       "</table>\n",
       "</div>"
      ],
      "text/plain": [
       "   Пол  Возраст  Зарплата  Члены семьи  Страховые выплаты\n",
       "0    1    41.00 49,600.00            1                  0\n",
       "1    0    46.00 38,000.00            1                  1\n",
       "2    0    29.00 21,000.00            0                  0\n",
       "3    0    21.00 41,700.00            2                  0\n",
       "4    1    28.00 26,100.00            0                  0"
      ]
     },
     "metadata": {},
     "output_type": "display_data"
    },
    {
     "data": {
      "text/html": [
       "<div>\n",
       "<style scoped>\n",
       "    .dataframe tbody tr th:only-of-type {\n",
       "        vertical-align: middle;\n",
       "    }\n",
       "\n",
       "    .dataframe tbody tr th {\n",
       "        vertical-align: top;\n",
       "    }\n",
       "\n",
       "    .dataframe thead th {\n",
       "        text-align: right;\n",
       "    }\n",
       "</style>\n",
       "<table border=\"1\" class=\"dataframe\">\n",
       "  <thead>\n",
       "    <tr style=\"text-align: right;\">\n",
       "      <th></th>\n",
       "      <th>Пол</th>\n",
       "      <th>Возраст</th>\n",
       "      <th>Зарплата</th>\n",
       "      <th>Члены семьи</th>\n",
       "      <th>Страховые выплаты</th>\n",
       "    </tr>\n",
       "  </thead>\n",
       "  <tbody>\n",
       "    <tr>\n",
       "      <th>4995</th>\n",
       "      <td>0</td>\n",
       "      <td>28.00</td>\n",
       "      <td>35,700.00</td>\n",
       "      <td>2</td>\n",
       "      <td>0</td>\n",
       "    </tr>\n",
       "    <tr>\n",
       "      <th>4996</th>\n",
       "      <td>0</td>\n",
       "      <td>34.00</td>\n",
       "      <td>52,400.00</td>\n",
       "      <td>1</td>\n",
       "      <td>0</td>\n",
       "    </tr>\n",
       "    <tr>\n",
       "      <th>4997</th>\n",
       "      <td>0</td>\n",
       "      <td>20.00</td>\n",
       "      <td>33,900.00</td>\n",
       "      <td>2</td>\n",
       "      <td>0</td>\n",
       "    </tr>\n",
       "    <tr>\n",
       "      <th>4998</th>\n",
       "      <td>1</td>\n",
       "      <td>22.00</td>\n",
       "      <td>32,700.00</td>\n",
       "      <td>3</td>\n",
       "      <td>0</td>\n",
       "    </tr>\n",
       "    <tr>\n",
       "      <th>4999</th>\n",
       "      <td>1</td>\n",
       "      <td>28.00</td>\n",
       "      <td>40,600.00</td>\n",
       "      <td>1</td>\n",
       "      <td>0</td>\n",
       "    </tr>\n",
       "  </tbody>\n",
       "</table>\n",
       "</div>"
      ],
      "text/plain": [
       "      Пол  Возраст  Зарплата  Члены семьи  Страховые выплаты\n",
       "4995    0    28.00 35,700.00            2                  0\n",
       "4996    0    34.00 52,400.00            1                  0\n",
       "4997    0    20.00 33,900.00            2                  0\n",
       "4998    1    22.00 32,700.00            3                  0\n",
       "4999    1    28.00 40,600.00            1                  0"
      ]
     },
     "metadata": {},
     "output_type": "display_data"
    },
    {
     "name": "stdout",
     "output_type": "stream",
     "text": [
      "\n",
      "\n",
      "------------- Общая информация о датафрейме -------------\n",
      "\n",
      "\n",
      "<class 'pandas.core.frame.DataFrame'>\n",
      "RangeIndex: 5000 entries, 0 to 4999\n",
      "Data columns (total 5 columns):\n",
      " #   Column             Non-Null Count  Dtype  \n",
      "---  ------             --------------  -----  \n",
      " 0   Пол                5000 non-null   int64  \n",
      " 1   Возраст            5000 non-null   float64\n",
      " 2   Зарплата           5000 non-null   float64\n",
      " 3   Члены семьи        5000 non-null   int64  \n",
      " 4   Страховые выплаты  5000 non-null   int64  \n",
      "dtypes: float64(2), int64(3)\n",
      "memory usage: 195.4 KB\n"
     ]
    },
    {
     "data": {
      "text/plain": [
       "None"
      ]
     },
     "metadata": {},
     "output_type": "display_data"
    },
    {
     "name": "stdout",
     "output_type": "stream",
     "text": [
      "------------- Количество пустых значений в датафрейме -------------\n",
      "\n",
      "\n"
     ]
    },
    {
     "data": {
      "text/plain": [
       "Пол                  0\n",
       "Возраст              0\n",
       "Зарплата             0\n",
       "Члены семьи          0\n",
       "Страховые выплаты    0\n",
       "dtype: int64"
      ]
     },
     "metadata": {},
     "output_type": "display_data"
    },
    {
     "name": "stdout",
     "output_type": "stream",
     "text": [
      "------------- Количество явных дубликатов в датафрейме -------------\n"
     ]
    },
    {
     "data": {
      "text/plain": [
       "153"
      ]
     },
     "metadata": {},
     "output_type": "display_data"
    },
    {
     "name": "stdout",
     "output_type": "stream",
     "text": [
      "\n",
      "\n",
      "------------- Описательная статистика -------------\n"
     ]
    },
    {
     "data": {
      "text/html": [
       "<div>\n",
       "<style scoped>\n",
       "    .dataframe tbody tr th:only-of-type {\n",
       "        vertical-align: middle;\n",
       "    }\n",
       "\n",
       "    .dataframe tbody tr th {\n",
       "        vertical-align: top;\n",
       "    }\n",
       "\n",
       "    .dataframe thead th {\n",
       "        text-align: right;\n",
       "    }\n",
       "</style>\n",
       "<table border=\"1\" class=\"dataframe\">\n",
       "  <thead>\n",
       "    <tr style=\"text-align: right;\">\n",
       "      <th></th>\n",
       "      <th>Пол</th>\n",
       "      <th>Возраст</th>\n",
       "      <th>Зарплата</th>\n",
       "      <th>Члены семьи</th>\n",
       "      <th>Страховые выплаты</th>\n",
       "    </tr>\n",
       "  </thead>\n",
       "  <tbody>\n",
       "    <tr>\n",
       "      <th>count</th>\n",
       "      <td>5,000.00</td>\n",
       "      <td>5,000.00</td>\n",
       "      <td>5,000.00</td>\n",
       "      <td>5,000.00</td>\n",
       "      <td>5,000.00</td>\n",
       "    </tr>\n",
       "    <tr>\n",
       "      <th>mean</th>\n",
       "      <td>0.50</td>\n",
       "      <td>30.95</td>\n",
       "      <td>39,916.36</td>\n",
       "      <td>1.19</td>\n",
       "      <td>0.15</td>\n",
       "    </tr>\n",
       "    <tr>\n",
       "      <th>std</th>\n",
       "      <td>0.50</td>\n",
       "      <td>8.44</td>\n",
       "      <td>9,900.08</td>\n",
       "      <td>1.09</td>\n",
       "      <td>0.46</td>\n",
       "    </tr>\n",
       "    <tr>\n",
       "      <th>min</th>\n",
       "      <td>0.00</td>\n",
       "      <td>18.00</td>\n",
       "      <td>5,300.00</td>\n",
       "      <td>0.00</td>\n",
       "      <td>0.00</td>\n",
       "    </tr>\n",
       "    <tr>\n",
       "      <th>25%</th>\n",
       "      <td>0.00</td>\n",
       "      <td>24.00</td>\n",
       "      <td>33,300.00</td>\n",
       "      <td>0.00</td>\n",
       "      <td>0.00</td>\n",
       "    </tr>\n",
       "    <tr>\n",
       "      <th>50%</th>\n",
       "      <td>0.00</td>\n",
       "      <td>30.00</td>\n",
       "      <td>40,200.00</td>\n",
       "      <td>1.00</td>\n",
       "      <td>0.00</td>\n",
       "    </tr>\n",
       "    <tr>\n",
       "      <th>75%</th>\n",
       "      <td>1.00</td>\n",
       "      <td>37.00</td>\n",
       "      <td>46,600.00</td>\n",
       "      <td>2.00</td>\n",
       "      <td>0.00</td>\n",
       "    </tr>\n",
       "    <tr>\n",
       "      <th>max</th>\n",
       "      <td>1.00</td>\n",
       "      <td>65.00</td>\n",
       "      <td>79,000.00</td>\n",
       "      <td>6.00</td>\n",
       "      <td>5.00</td>\n",
       "    </tr>\n",
       "  </tbody>\n",
       "</table>\n",
       "</div>"
      ],
      "text/plain": [
       "           Пол  Возраст  Зарплата  Члены семьи  Страховые выплаты\n",
       "count 5,000.00 5,000.00  5,000.00     5,000.00           5,000.00\n",
       "mean      0.50    30.95 39,916.36         1.19               0.15\n",
       "std       0.50     8.44  9,900.08         1.09               0.46\n",
       "min       0.00    18.00  5,300.00         0.00               0.00\n",
       "25%       0.00    24.00 33,300.00         0.00               0.00\n",
       "50%       0.00    30.00 40,200.00         1.00               0.00\n",
       "75%       1.00    37.00 46,600.00         2.00               0.00\n",
       "max       1.00    65.00 79,000.00         6.00               5.00"
      ]
     },
     "metadata": {},
     "output_type": "display_data"
    },
    {
     "name": "stdout",
     "output_type": "stream",
     "text": [
      "\n",
      "\n",
      "------------- Размер датасета -------------\n"
     ]
    },
    {
     "data": {
      "text/plain": [
       "(5000, 5)"
      ]
     },
     "metadata": {},
     "output_type": "display_data"
    }
   ],
   "source": [
    "def my_func(x):\n",
    "    print('------------- Исходный датафрейм -------------')\n",
    "    display(x.head())\n",
    "    display(x.tail())\n",
    "    print('')\n",
    "    print('')\n",
    "    print('------------- Общая информация о датафрейме -------------')\n",
    "    print('')\n",
    "    print('')\n",
    "    display(x.info())\n",
    "    print('------------- Количество пустых значений в датафрейме -------------')\n",
    "    print('')\n",
    "    print('')\n",
    "    display(x.isna().sum())\n",
    "    print('------------- Количество явных дубликатов в датафрейме -------------')\n",
    "    display(x.duplicated().sum())\n",
    "    print('')\n",
    "    print('')\n",
    "    print('------------- Описательная статистика -------------')\n",
    "    display(x.describe())\n",
    "    print('')\n",
    "    print('')\n",
    "    print('------------- Размер датасета -------------')\n",
    "    display(x.shape)\n",
    "    \n",
    "df = pd.read_csv(r\"C:\\Users\\lebed\\Downloads\\insurance.csv\")\n",
    "\n",
    "\n",
    "my_func(df)\n"
   ]
  },
  {
   "cell_type": "markdown",
   "metadata": {},
   "source": [
    "изменим тип данных для столбца возраст и зарплата аналогично другим"
   ]
  },
  {
   "cell_type": "code",
   "execution_count": 3,
   "metadata": {},
   "outputs": [],
   "source": [
    "df['Возраст'] = df['Возраст'].astype('int')\n",
    "df['Зарплата'] = df['Зарплата'].astype('int')"
   ]
  },
  {
   "cell_type": "code",
   "execution_count": 4,
   "metadata": {
    "scrolled": true
   },
   "outputs": [
    {
     "name": "stdout",
     "output_type": "stream",
     "text": [
      "<class 'pandas.core.frame.DataFrame'>\n",
      "RangeIndex: 5000 entries, 0 to 4999\n",
      "Data columns (total 5 columns):\n",
      " #   Column             Non-Null Count  Dtype\n",
      "---  ------             --------------  -----\n",
      " 0   Пол                5000 non-null   int64\n",
      " 1   Возраст            5000 non-null   int64\n",
      " 2   Зарплата           5000 non-null   int64\n",
      " 3   Члены семьи        5000 non-null   int64\n",
      " 4   Страховые выплаты  5000 non-null   int64\n",
      "dtypes: int64(5)\n",
      "memory usage: 195.4 KB\n"
     ]
    }
   ],
   "source": [
    "df.info()\n"
   ]
  },
  {
   "cell_type": "code",
   "execution_count": 5,
   "metadata": {
    "scrolled": true
   },
   "outputs": [
    {
     "data": {
      "image/png": "[encoded data removed]",
      "text/plain": [
       "<Figure size 1080x1080 with 6 Axes>"
      ]
     },
     "metadata": {
      "needs_background": "light"
     },
     "output_type": "display_data"
    }
   ],
   "source": [
    "df.hist(figsize=(15,15), bins = 50)\n",
    "plt.show()"
   ]
  },
  {
   "cell_type": "markdown",
   "metadata": {},
   "source": [
    "# Вывод:\n",
    "\n",
    "Из представленных данных видно, что :\n",
    "\n",
    "1) в данном сетет представлено 5000 записей, пропусков не обнаружено, выявлено 153 дубликата, формат данных представлен в соответсвии с информацией, но было принято решение привести формат к одному типу данных во всех столбцах\n",
    "\n",
    "2) в данных не обнаружено каких-либо критических отклонений, которые нужно было устранить/изменить. в данных представлены два пола( М и Ж), возраст от 18 до 65 лет, ЗП от 5300 до 79000,члены семьи от 0 до 6, и кол-во выплат от 0 до 5\n",
    "\n",
    "3) в столбце пол мужчины и женьщины представлены практически в равных долях, в столбце возраcт- большая часть значений приходится на возраст от 23 до 34 лет, столбец зарплат - среднее значение находится на 40 тыс., в столбце члены семьи наибольшее значение относится к 1, на втором месте 0 (наверное, имеется ввиду семейное положение холост), страховые выплаты более 80 % приходится на 0, т.е. за последнении 5 лет, выплаты получали не более 20 % семей \n",
    "\n",
    "\n",
    "\n"
   ]
  },
  {
   "cell_type": "markdown",
   "metadata": {},
   "source": [
    "## Умножение матриц"
   ]
  },
  {
   "cell_type": "markdown",
   "metadata": {},
   "source": [
    "В этом задании вы можете записывать формулы в *Jupyter Notebook.*\n",
    "\n",
    "Чтобы записать формулу внутри текста, окружите её символами доллара \\\\$; если снаружи —  двойными символами \\\\$\\\\$. Эти формулы записываются на языке вёрстки *LaTeX.* \n",
    "\n",
    "Для примера мы записали формулы линейной регрессии. Можете их скопировать и отредактировать, чтобы решить задачу.\n",
    "\n",
    "Работать в *LaTeX* необязательно."
   ]
  },
  {
   "cell_type": "markdown",
   "metadata": {},
   "source": [
    "Обозначения:\n",
    "\n",
    "- $X$ — матрица признаков (нулевой столбец состоит из единиц)\n",
    "\n",
    "- $y$ — вектор целевого признака\n",
    "\n",
    "- $P$ — матрица, на которую умножаются признаки\n",
    "\n",
    "- $w$ — вектор весов линейной регрессии (нулевой элемент равен сдвигу)"
   ]
  },
  {
   "cell_type": "markdown",
   "metadata": {},
   "source": [
    "Предсказания:\n",
    "\n",
    "$$\n",
    "a = Xw\n",
    "$$\n",
    "\n",
    "Задача обучения:\n",
    "\n",
    "$$\n",
    "w = \\arg\\min_w MSE(Xw, y)\n",
    "$$\n",
    "\n",
    "Формула обучения:\n",
    "\n",
    "$$\n",
    "w = (X^T X)^{-1} X^T y\n",
    "$$"
   ]
  },
  {
   "cell_type": "markdown",
   "metadata": {},
   "source": [
    "**Ответ:**\n",
    "\n",
    "\"b\". не изменится.  Укажите, как связаны параметры линейной регрессии в исходной задаче и в преобразованной.\n",
    "\n",
    "**Обоснование:**  \n",
    "\n",
    "умножение признаков на обратимую матрицу не влияет на линейную зависимость друг от друга => при обучении линейной регрессии после умножения на обратимую матрицу, предсказания остнутся таким же.\n",
    "\n",
    "1) из условия :\n",
    "$$ 𝑎=𝑋𝑤 $$\n",
    "\n",
    "$$ w = (X^T X)^{-1} X^T y $$\n",
    "2) таким образом, при умножении признаков X на обратимую матрицу P = x1 \n",
    "    $$ a1=x1w1 $$ => $$ a1=XPw1 $$\n",
    "    \n",
    "   $$ w1=((XP)^T (XP))^{-1} (XP)^T y $$\n",
    "3) расскрыв скобки нового веса получим:\n",
    "\n",
    "$w_1=(P^T X^T XP)^{-1} P^T X^T y =(P^T(X^TX)P)^{-1} P^T X^T y =P^{-1}(X^T X)^{-1}(P^T)^{-1} P^T X^T y$\n",
    "\n",
    "далее, преобразовав \n",
    "\n",
    "$$ w1= (p^{-1})(X^T X)^{-1} X^T y $$\n",
    "\n",
    "$$ w1= (p^{-1}) w $$\n",
    "    \n",
    "4) как итог, подставив в формулу a1 выражение w1 через w, получим a1 = XW = a"
   ]
  },
  {
   "cell_type": "markdown",
   "metadata": {},
   "source": [
    "## Алгоритм преобразования"
   ]
  },
  {
   "cell_type": "markdown",
   "metadata": {},
   "source": [
    "**Алгоритм**\n",
    "\n",
    "Алгоритм  преобразования составим на основании обоснования теории выше:\n",
    "\n",
    "- создаем рандомную матрицу(обратимую) размера n*n\n",
    "- умножаем исходную матрицу на обратимую\n",
    "- производим обучение лин. рег. на новых данных\n",
    "\n"
   ]
  },
  {
   "cell_type": "markdown",
   "metadata": {},
   "source": [
    "**Обоснование**\n",
    "\n",
    "    т.к.преобразование данных с помощью умножения на обратимую матрицу сохраняет качество линейной регрессии,а также позволяет зашифровать данные  пользователей\n",
    "    "
   ]
  },
  {
   "cell_type": "markdown",
   "metadata": {},
   "source": [
    "## Проверка алгоритма"
   ]
  },
  {
   "cell_type": "markdown",
   "metadata": {},
   "source": [
    "# выделим целевой признак( страховые выплаты)"
   ]
  },
  {
   "cell_type": "code",
   "execution_count": 6,
   "metadata": {},
   "outputs": [],
   "source": [
    "t=df['Страховые выплаты']\n",
    "f=df.drop('Страховые выплаты', axis=1)"
   ]
  },
  {
   "cell_type": "markdown",
   "metadata": {},
   "source": [
    "# Создадим рандомную матрицу"
   ]
  },
  {
   "cell_type": "code",
   "execution_count": 7,
   "metadata": {},
   "outputs": [],
   "source": [
    "n = f.shape[1] \n",
    "p = np.random.rand(n, n)\n",
    "while np.linalg.det(p) == 0:  \n",
    "    p = np.random.rand(n, n)"
   ]
  },
  {
   "cell_type": "code",
   "execution_count": 8,
   "metadata": {},
   "outputs": [],
   "source": [
    "new_f=f @ p"
   ]
  },
  {
   "cell_type": "markdown",
   "metadata": {},
   "source": [
    "модель линейной регрессии по дефолту"
   ]
  },
  {
   "cell_type": "code",
   "execution_count": 9,
   "metadata": {},
   "outputs": [],
   "source": [
    "default_model = LinearRegression()\n",
    "default_model.fit(f, t)\n",
    "predictions_default= default_model.predict(f)\n",
    "r2_default_model = r2_score(t, predictions_default)"
   ]
  },
  {
   "cell_type": "markdown",
   "metadata": {},
   "source": [
    "зашифрованная модель"
   ]
  },
  {
   "cell_type": "code",
   "execution_count": 10,
   "metadata": {},
   "outputs": [],
   "source": [
    "encrypted_model = LinearRegression()\n",
    "encrypted_model.fit(new_f, t)\n",
    "predictions_encrypted= encrypted_model.predict(new_f)\n",
    "r2_encrypted = r2_score(t, predictions_encrypted)"
   ]
  },
  {
   "cell_type": "markdown",
   "metadata": {},
   "source": [
    "проверка метри R2 для двух моделей"
   ]
  },
  {
   "cell_type": "code",
   "execution_count": 11,
   "metadata": {
    "scrolled": true
   },
   "outputs": [
    {
     "name": "stdout",
     "output_type": "stream",
     "text": [
      "R2 на исходных данных: 0.42494550308169177\n",
      "R2 на преобразованных данных: 0.4249455030816841\n"
     ]
    }
   ],
   "source": [
    "print(\"R2 на исходных данных:\", r2_default_model)\n",
    "print(\"R2 на преобразованных данных:\", r2_encrypted)"
   ]
  },
  {
   "cell_type": "markdown",
   "metadata": {},
   "source": [
    "как видно, показатель метрики практически равны ( до 13 знака после запятой)"
   ]
  },
  {
   "cell_type": "markdown",
   "metadata": {},
   "source": [
    "## ВЫВОД "
   ]
  },
  {
   "cell_type": "markdown",
   "metadata": {},
   "source": [
    "1) загрузили и изучили данные. Преодобработка данных не потребовалась\n",
    "\n",
    "2) \n",
    "    - в данном сетет представлено 5000 записей, пропусков не обнаружено, выявлено 153 дубликата, формат данных представлен в соответсвии с информацией, но было принято решение привести формат к одному типу данных во всех столбцах\n",
    "\n",
    "    - в данных не обнаружено каких-либо критических отклонений, которые нужно было устранить/изменить. в данных представлены два пола( М и Ж), возраст от 18 до 65 лет, ЗП от 5300 до 79000,члены семьи от 0 до 6, и кол-во выплат от 0 до 5\n",
    "\n",
    "    - в столбце пол мужчины и женьщины представлены практически в равных долях, в столбце возрат- большая часть значений приходится на возраст от 23 до 34 лет, столбец зарплат - среднее значение находится на 40 тыс., в столбце члены семьи наибольшее значение относится к 1, на втором месте 0 (наверное, имеется ввиду семейное положение холост), страховые выплаты более 80 % приходится на 0, т.е. за последнении 5 лет, выплаты получали не более 20 % семей\n",
    "\n",
    "    \n",
    "3) ответили на поставленную задачу и доказали, что умножение признаков на обратимую матрицу не влияет на линейную зависимость друг от друга => при обучении линейной регрессии после умножения на обратимую матрицу, предсказания остнутся таким же.\n",
    "\n",
    "4) опираясь на доказательство составили алгоритм действий\n",
    "\n",
    "5) провелики проверка алгоритма и получили практически равные метрики R2. "
   ]
  }
 ],
 "metadata": {
  "ExecuteTimeLog": [
   {
    "duration": 1658,
    "start_time": "2024-04-12T11:47:18.632Z"
   },
   {
    "duration": 4,
    "start_time": "2024-04-12T11:47:47.595Z"
   },
   {
    "duration": 146,
    "start_time": "2024-04-12T11:48:51.634Z"
   },
   {
    "duration": 5,
    "start_time": "2024-04-12T12:06:01.246Z"
   },
   {
    "duration": 8,
    "start_time": "2024-04-12T12:06:22.273Z"
   },
   {
    "duration": 20,
    "start_time": "2024-04-12T12:07:07.497Z"
   },
   {
    "duration": 1739,
    "start_time": "2024-04-14T13:51:22.554Z"
   },
   {
    "duration": 145,
    "start_time": "2024-04-14T13:51:24.295Z"
   },
   {
    "duration": 4,
    "start_time": "2024-04-14T13:51:24.441Z"
   },
   {
    "duration": 24,
    "start_time": "2024-04-14T13:51:24.447Z"
   },
   {
    "duration": 129,
    "start_time": "2024-04-14T13:57:46.569Z"
   },
   {
    "duration": 8,
    "start_time": "2024-04-14T13:59:36.998Z"
   },
   {
    "duration": 8,
    "start_time": "2024-04-14T13:59:58.569Z"
   },
   {
    "duration": 604,
    "start_time": "2024-04-14T14:00:59.193Z"
   },
   {
    "duration": 713,
    "start_time": "2024-04-14T14:01:06.884Z"
   },
   {
    "duration": 866,
    "start_time": "2024-04-14T14:27:24.035Z"
   },
   {
    "duration": 11,
    "start_time": "2024-04-14T14:28:21.974Z"
   },
   {
    "duration": 11,
    "start_time": "2024-04-14T14:32:30.950Z"
   },
   {
    "duration": 12,
    "start_time": "2024-04-14T14:33:05.174Z"
   },
   {
    "duration": 1277,
    "start_time": "2024-04-14T14:33:29.629Z"
   },
   {
    "duration": 0,
    "start_time": "2024-04-14T14:33:30.908Z"
   },
   {
    "duration": 0,
    "start_time": "2024-04-14T14:33:30.910Z"
   },
   {
    "duration": 0,
    "start_time": "2024-04-14T14:33:30.911Z"
   },
   {
    "duration": 0,
    "start_time": "2024-04-14T14:33:30.912Z"
   },
   {
    "duration": 0,
    "start_time": "2024-04-14T14:33:30.913Z"
   },
   {
    "duration": 0,
    "start_time": "2024-04-14T14:33:30.915Z"
   },
   {
    "duration": 14,
    "start_time": "2024-04-14T14:36:43.954Z"
   },
   {
    "duration": 1370,
    "start_time": "2024-04-14T14:36:50.592Z"
   },
   {
    "duration": 82,
    "start_time": "2024-04-14T14:36:51.963Z"
   },
   {
    "duration": 5,
    "start_time": "2024-04-14T14:36:52.047Z"
   },
   {
    "duration": 29,
    "start_time": "2024-04-14T14:36:52.055Z"
   },
   {
    "duration": 1007,
    "start_time": "2024-04-14T14:36:52.086Z"
   },
   {
    "duration": 9,
    "start_time": "2024-04-14T14:36:53.095Z"
   },
   {
    "duration": 312,
    "start_time": "2024-04-14T14:36:53.105Z"
   },
   {
    "duration": 0,
    "start_time": "2024-04-14T14:48:04.062Z"
   },
   {
    "duration": 128286,
    "start_time": "2024-04-14T14:48:10.032Z"
   },
   {
    "duration": 20,
    "start_time": "2024-04-14T14:52:43.333Z"
   },
   {
    "duration": 398,
    "start_time": "2024-04-14T14:53:03.256Z"
   },
   {
    "duration": 1009,
    "start_time": "2024-04-14T14:53:47.781Z"
   },
   {
    "duration": 973,
    "start_time": "2024-04-14T14:54:10.131Z"
   },
   {
    "duration": 957,
    "start_time": "2024-04-14T14:54:19.000Z"
   },
   {
    "duration": 994,
    "start_time": "2024-04-14T14:54:52.428Z"
   },
   {
    "duration": 1899,
    "start_time": "2024-04-14T18:29:48.945Z"
   },
   {
    "duration": 173,
    "start_time": "2024-04-14T18:29:50.847Z"
   },
   {
    "duration": 4,
    "start_time": "2024-04-14T18:29:51.022Z"
   },
   {
    "duration": 13,
    "start_time": "2024-04-14T18:29:51.028Z"
   },
   {
    "duration": 1093,
    "start_time": "2024-04-14T18:29:51.069Z"
   },
   {
    "duration": 15,
    "start_time": "2024-04-14T18:29:52.169Z"
   },
   {
    "duration": 478,
    "start_time": "2024-04-14T18:29:52.186Z"
   },
   {
    "duration": 1619,
    "start_time": "2024-04-16T18:49:49.625Z"
   },
   {
    "duration": 162,
    "start_time": "2024-04-16T18:49:51.246Z"
   },
   {
    "duration": 4,
    "start_time": "2024-04-16T18:49:51.410Z"
   },
   {
    "duration": 18,
    "start_time": "2024-04-16T18:49:51.415Z"
   },
   {
    "duration": 989,
    "start_time": "2024-04-16T18:49:51.435Z"
   },
   {
    "duration": 8,
    "start_time": "2024-04-16T18:49:52.426Z"
   },
   {
    "duration": 457,
    "start_time": "2024-04-16T18:49:52.436Z"
   },
   {
    "duration": 1478,
    "start_time": "2024-04-16T19:56:04.821Z"
   },
   {
    "duration": 82,
    "start_time": "2024-04-16T19:56:06.301Z"
   },
   {
    "duration": 5,
    "start_time": "2024-04-16T19:56:06.385Z"
   },
   {
    "duration": 25,
    "start_time": "2024-04-16T19:56:06.391Z"
   },
   {
    "duration": 979,
    "start_time": "2024-04-16T19:56:06.418Z"
   },
   {
    "duration": 8,
    "start_time": "2024-04-16T19:56:07.399Z"
   },
   {
    "duration": 371,
    "start_time": "2024-04-16T19:56:07.408Z"
   },
   {
    "duration": 97,
    "start_time": "2024-04-16T20:12:05.797Z"
   },
   {
    "duration": 3,
    "start_time": "2024-04-16T20:12:55.579Z"
   },
   {
    "duration": 112,
    "start_time": "2024-04-16T20:13:09.238Z"
   },
   {
    "duration": 3,
    "start_time": "2024-04-16T20:13:23.285Z"
   },
   {
    "duration": 4,
    "start_time": "2024-04-16T20:14:34.700Z"
   },
   {
    "duration": 8,
    "start_time": "2024-04-16T20:15:51.732Z"
   },
   {
    "duration": 4,
    "start_time": "2024-04-16T20:16:00.205Z"
   },
   {
    "duration": 3,
    "start_time": "2024-04-16T20:16:04.173Z"
   },
   {
    "duration": 13,
    "start_time": "2024-04-16T20:16:05.068Z"
   },
   {
    "duration": 4,
    "start_time": "2024-04-16T20:16:45.321Z"
   },
   {
    "duration": 11,
    "start_time": "2024-04-16T20:16:46.340Z"
   },
   {
    "duration": 3,
    "start_time": "2024-04-16T20:16:55.411Z"
   },
   {
    "duration": 3,
    "start_time": "2024-04-16T20:16:56.928Z"
   },
   {
    "duration": 11,
    "start_time": "2024-04-16T20:16:57.709Z"
   },
   {
    "duration": 3,
    "start_time": "2024-04-16T20:17:17.893Z"
   },
   {
    "duration": 11,
    "start_time": "2024-04-16T20:17:18.956Z"
   },
   {
    "duration": 4,
    "start_time": "2024-04-16T20:17:33.359Z"
   },
   {
    "duration": 9,
    "start_time": "2024-04-16T20:20:57.151Z"
   },
   {
    "duration": 51,
    "start_time": "2024-04-16T20:21:40.802Z"
   },
   {
    "duration": 9,
    "start_time": "2024-04-16T20:21:52.275Z"
   },
   {
    "duration": 17,
    "start_time": "2024-04-16T20:24:31.732Z"
   },
   {
    "duration": 17,
    "start_time": "2024-04-16T20:24:54.702Z"
   },
   {
    "duration": 3,
    "start_time": "2024-04-16T20:26:54.782Z"
   },
   {
    "duration": 1372,
    "start_time": "2024-04-16T20:34:58.585Z"
   },
   {
    "duration": 82,
    "start_time": "2024-04-16T20:34:59.960Z"
   },
   {
    "duration": 4,
    "start_time": "2024-04-16T20:35:00.044Z"
   },
   {
    "duration": 116,
    "start_time": "2024-04-16T20:35:00.050Z"
   },
   {
    "duration": 1034,
    "start_time": "2024-04-16T20:35:00.168Z"
   },
   {
    "duration": 10,
    "start_time": "2024-04-16T20:35:01.204Z"
   },
   {
    "duration": 568,
    "start_time": "2024-04-16T20:35:01.216Z"
   },
   {
    "duration": 4,
    "start_time": "2024-04-16T20:35:01.785Z"
   },
   {
    "duration": 119,
    "start_time": "2024-04-16T20:35:01.790Z"
   },
   {
    "duration": 59,
    "start_time": "2024-04-16T20:35:01.911Z"
   },
   {
    "duration": 46,
    "start_time": "2024-04-16T20:35:01.971Z"
   },
   {
    "duration": 157,
    "start_time": "2024-04-16T20:35:02.019Z"
   },
   {
    "duration": 189,
    "start_time": "2024-04-16T20:35:02.181Z"
   },
   {
    "duration": 63,
    "start_time": "2024-04-17T11:28:36.663Z"
   },
   {
    "duration": 1143,
    "start_time": "2024-04-17T11:29:19.058Z"
   },
   {
    "duration": 1143,
    "start_time": "2024-04-17T11:29:26.195Z"
   },
   {
    "duration": 123,
    "start_time": "2024-04-17T11:29:27.340Z"
   },
   {
    "duration": 5,
    "start_time": "2024-04-17T11:29:27.465Z"
   },
   {
    "duration": 43,
    "start_time": "2024-04-17T11:29:27.471Z"
   },
   {
    "duration": 1481,
    "start_time": "2024-04-17T11:29:27.516Z"
   },
   {
    "duration": 0,
    "start_time": "2024-04-17T11:29:28.999Z"
   },
   {
    "duration": 0,
    "start_time": "2024-04-17T11:29:29.000Z"
   },
   {
    "duration": 0,
    "start_time": "2024-04-17T11:29:29.001Z"
   },
   {
    "duration": 0,
    "start_time": "2024-04-17T11:29:29.002Z"
   },
   {
    "duration": 0,
    "start_time": "2024-04-17T11:29:29.003Z"
   },
   {
    "duration": 0,
    "start_time": "2024-04-17T11:29:29.004Z"
   },
   {
    "duration": 1389,
    "start_time": "2024-04-17T11:30:36.132Z"
   },
   {
    "duration": 81,
    "start_time": "2024-04-17T11:30:37.523Z"
   },
   {
    "duration": 10,
    "start_time": "2024-04-17T11:30:37.606Z"
   },
   {
    "duration": 11,
    "start_time": "2024-04-17T11:30:37.618Z"
   },
   {
    "duration": 897,
    "start_time": "2024-04-17T11:30:37.632Z"
   },
   {
    "duration": 4,
    "start_time": "2024-04-17T11:30:38.531Z"
   },
   {
    "duration": 7,
    "start_time": "2024-04-17T11:30:38.536Z"
   },
   {
    "duration": 5,
    "start_time": "2024-04-17T11:30:38.544Z"
   },
   {
    "duration": 251,
    "start_time": "2024-04-17T11:30:38.550Z"
   },
   {
    "duration": 0,
    "start_time": "2024-04-17T11:30:38.802Z"
   },
   {
    "duration": 0,
    "start_time": "2024-04-17T11:30:38.804Z"
   },
   {
    "duration": 1376,
    "start_time": "2024-04-17T11:32:15.802Z"
   },
   {
    "duration": 76,
    "start_time": "2024-04-17T11:32:17.180Z"
   },
   {
    "duration": 4,
    "start_time": "2024-04-17T11:32:17.257Z"
   },
   {
    "duration": 20,
    "start_time": "2024-04-17T11:32:17.262Z"
   },
   {
    "duration": 870,
    "start_time": "2024-04-17T11:32:17.284Z"
   },
   {
    "duration": 5,
    "start_time": "2024-04-17T11:32:18.156Z"
   },
   {
    "duration": 27,
    "start_time": "2024-04-17T11:32:18.162Z"
   },
   {
    "duration": 12,
    "start_time": "2024-04-17T11:32:18.191Z"
   },
   {
    "duration": 33,
    "start_time": "2024-04-17T11:32:18.205Z"
   },
   {
    "duration": 174,
    "start_time": "2024-04-17T11:32:18.241Z"
   },
   {
    "duration": 99,
    "start_time": "2024-04-17T11:32:18.418Z"
   },
   {
    "duration": 54,
    "start_time": "2024-04-17T15:00:18.094Z"
   },
   {
    "duration": 2152,
    "start_time": "2024-04-17T15:26:09.867Z"
   },
   {
    "duration": 123,
    "start_time": "2024-04-17T15:26:12.021Z"
   },
   {
    "duration": 4,
    "start_time": "2024-04-17T15:26:12.145Z"
   },
   {
    "duration": 15,
    "start_time": "2024-04-17T15:26:12.151Z"
   },
   {
    "duration": 903,
    "start_time": "2024-04-17T15:26:12.168Z"
   },
   {
    "duration": 5,
    "start_time": "2024-04-17T15:26:13.073Z"
   },
   {
    "duration": 4,
    "start_time": "2024-04-17T15:26:13.079Z"
   },
   {
    "duration": 3,
    "start_time": "2024-04-17T15:26:13.085Z"
   },
   {
    "duration": 124,
    "start_time": "2024-04-17T15:26:13.090Z"
   },
   {
    "duration": 98,
    "start_time": "2024-04-17T15:26:13.217Z"
   },
   {
    "duration": 4,
    "start_time": "2024-04-17T15:26:13.317Z"
   },
   {
    "duration": 2111,
    "start_time": "2024-04-18T11:34:02.360Z"
   },
   {
    "duration": 122,
    "start_time": "2024-04-18T11:34:04.472Z"
   },
   {
    "duration": 4,
    "start_time": "2024-04-18T11:34:04.595Z"
   },
   {
    "duration": 10,
    "start_time": "2024-04-18T11:34:04.600Z"
   },
   {
    "duration": 707,
    "start_time": "2024-04-18T11:34:04.611Z"
   },
   {
    "duration": 4,
    "start_time": "2024-04-18T11:34:05.319Z"
   },
   {
    "duration": 4,
    "start_time": "2024-04-18T11:34:05.324Z"
   },
   {
    "duration": 3,
    "start_time": "2024-04-18T11:34:05.329Z"
   },
   {
    "duration": 74,
    "start_time": "2024-04-18T11:34:05.333Z"
   },
   {
    "duration": 97,
    "start_time": "2024-04-18T11:34:05.409Z"
   },
   {
    "duration": 14,
    "start_time": "2024-04-18T11:34:05.507Z"
   },
   {
    "duration": 2254,
    "start_time": "2024-04-18T11:37:19.793Z"
   },
   {
    "duration": 68,
    "start_time": "2024-04-18T11:37:22.049Z"
   },
   {
    "duration": 4,
    "start_time": "2024-04-18T11:37:22.118Z"
   },
   {
    "duration": 49,
    "start_time": "2024-04-18T11:37:22.124Z"
   },
   {
    "duration": 736,
    "start_time": "2024-04-18T11:37:22.175Z"
   },
   {
    "duration": 3,
    "start_time": "2024-04-18T11:37:22.912Z"
   },
   {
    "duration": 30,
    "start_time": "2024-04-18T11:37:22.916Z"
   },
   {
    "duration": 40,
    "start_time": "2024-04-18T11:37:22.948Z"
   },
   {
    "duration": 27,
    "start_time": "2024-04-18T11:37:22.989Z"
   },
   {
    "duration": 88,
    "start_time": "2024-04-18T11:37:23.019Z"
   },
   {
    "duration": 197,
    "start_time": "2024-04-18T11:37:23.109Z"
   }
  ],
  "kernelspec": {
   "display_name": "Python 3 (ipykernel)",
   "language": "python",
   "name": "python3"
  },
  "language_info": {
   "codemirror_mode": {
    "name": "ipython",
    "version": 3
   },
   "file_extension": ".py",
   "mimetype": "text/x-python",
   "name": "python",
   "nbconvert_exporter": "python",
   "pygments_lexer": "ipython3",
   "version": "3.11.5"
  },
  "toc": {
   "base_numbering": 1,
   "nav_menu": {},
   "number_sections": true,
   "sideBar": true,
   "skip_h1_title": true,
   "title_cell": "Содержание",
   "title_sidebar": "Contents",
   "toc_cell": true,
   "toc_position": {
    "height": "calc(100% - 180px)",
    "left": "10px",
    "top": "150px",
    "width": "165px"
   },
   "toc_section_display": true,
   "toc_window_display": true
  }
 },
 "nbformat": 4,
 "nbformat_minor": 4
}
