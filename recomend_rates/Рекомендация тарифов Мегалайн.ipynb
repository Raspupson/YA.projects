{
 "cells": [
  {
   "cell_type": "markdown",
   "metadata": {},
   "source": [
    "# Рекомендация тарифов"
   ]
  },
  {
   "cell_type": "markdown",
   "metadata": {},
   "source": [
    "В вашем распоряжении данные о поведении клиентов, которые уже перешли на эти тарифы (из проекта курса «Статистический анализ данных»). Нужно построить модель для задачи классификации, которая выберет подходящий тариф. Предобработка данных не понадобится — вы её уже сделали.\n",
    "\n",
    "Постройте модель с максимально большим значением *accuracy*. Чтобы сдать проект успешно, нужно довести долю правильных ответов по крайней мере до 0.75. Проверьте *accuracy* на тестовой выборке самостоятельно."
   ]
  },
  {
   "cell_type": "markdown",
   "metadata": {},
   "source": [
    "# Описание проекта\n",
    "<br>Оператор мобильной связи «Мегалайн» выяснил: многие клиенты пользуются архивными тарифами. Они хотят построить систему, способную проанализировать поведение клиентов и предложить пользователям новый тариф: «Смарт» или «Ультра».\n",
    "В вашем распоряжении данные о поведении клиентов, которые уже перешли на эти тарифы. Нужно построить модель для задачи классификации, которая выберет подходящий тариф. Предобработка данных не понадобится — вы её уже сделали.\n",
    "Постройте модель с максимально большим значением accuracy. Чтобы сдать проект успешно, нужно довести долю правильных ответов по крайней мере до 0.75. Проверьте accuracy на тестовой выборке самостоятельно.</br>\n",
    "\n",
    "Описание данных\n",
    "\n",
    "Каждый объект в наборе данных — это информация о поведении одного пользователя за месяц. Известно:\n",
    "\n",
    "<br>сalls — количество звонков,\n",
    "\n",
    "minutes — суммарная длительность звонков в минутах,\n",
    "\n",
    "messages — количество sms-сообщений,\n",
    "\n",
    "mb_used — израсходованный интернет-трафик в Мб,\n",
    "\n",
    "is_ultra — каким тарифом пользовался в течение месяца («Ультра» — 1, «Смарт» — 0).\n",
    "</br>"
   ]
  },
  {
   "cell_type": "code",
   "execution_count": 1,
   "metadata": {
    "tags": []
   },
   "outputs": [],
   "source": [
    "#!pip install -U scikit-learn\n",
    "import pandas as pd\n",
    "import numpy as np\n",
    "import matplotlib as mplt\n",
    "import matplotlib.pyplot as plt\n",
    "import seaborn as sns\n",
    "from scipy import stats as st\n",
    "from sklearn.tree import DecisionTreeClassifier\n",
    "from sklearn.ensemble import RandomForestClassifier\n",
    "from sklearn.linear_model import LogisticRegression\n",
    "from sklearn.model_selection import train_test_split\n",
    "from sklearn.metrics import accuracy_score\n",
    "from sklearn.metrics import mean_squared_error as mse\n",
    "from sklearn.dummy import DummyClassifier\n",
    "\n",
    "\n",
    "pd.set_option('display.float_format', '{:,.2f}'.format)"
   ]
  },
  {
   "cell_type": "markdown",
   "metadata": {},
   "source": [
    "## Откройте и изучите файл"
   ]
  },
  {
   "cell_type": "markdown",
   "metadata": {},
   "source": [
    "откроем файл и предобработаем данные"
   ]
  },
  {
   "cell_type": "code",
   "execution_count": 2,
   "metadata": {
    "tags": []
   },
   "outputs": [
    {
     "name": "stdout",
     "output_type": "stream",
     "text": [
      "<class 'pandas.core.frame.DataFrame'>\n",
      "RangeIndex: 3214 entries, 0 to 3213\n",
      "Data columns (total 5 columns):\n",
      " #   Column    Non-Null Count  Dtype  \n",
      "---  ------    --------------  -----  \n",
      " 0   calls     3214 non-null   float64\n",
      " 1   minutes   3214 non-null   float64\n",
      " 2   messages  3214 non-null   float64\n",
      " 3   mb_used   3214 non-null   float64\n",
      " 4   is_ultra  3214 non-null   int64  \n",
      "dtypes: float64(4), int64(1)\n",
      "memory usage: 125.7 KB\n"
     ]
    }
   ],
   "source": [
    "df = pd.read_csv(r\"C:\\Users\\lebed\\Downloads\\users_behavior.csv\")\n",
    "df.info()"
   ]
  },
  {
   "cell_type": "code",
   "execution_count": 3,
   "metadata": {},
   "outputs": [
    {
     "data": {
      "text/html": [
       "<div>\n",
       "<style scoped>\n",
       "    .dataframe tbody tr th:only-of-type {\n",
       "        vertical-align: middle;\n",
       "    }\n",
       "\n",
       "    .dataframe tbody tr th {\n",
       "        vertical-align: top;\n",
       "    }\n",
       "\n",
       "    .dataframe thead th {\n",
       "        text-align: right;\n",
       "    }\n",
       "</style>\n",
       "<table border=\"1\" class=\"dataframe\">\n",
       "  <thead>\n",
       "    <tr style=\"text-align: right;\">\n",
       "      <th></th>\n",
       "      <th>calls</th>\n",
       "      <th>minutes</th>\n",
       "      <th>messages</th>\n",
       "      <th>mb_used</th>\n",
       "      <th>is_ultra</th>\n",
       "    </tr>\n",
       "  </thead>\n",
       "  <tbody>\n",
       "    <tr>\n",
       "      <th>0</th>\n",
       "      <td>40.00</td>\n",
       "      <td>311.90</td>\n",
       "      <td>83.00</td>\n",
       "      <td>19,915.42</td>\n",
       "      <td>0</td>\n",
       "    </tr>\n",
       "    <tr>\n",
       "      <th>1</th>\n",
       "      <td>85.00</td>\n",
       "      <td>516.75</td>\n",
       "      <td>56.00</td>\n",
       "      <td>22,696.96</td>\n",
       "      <td>0</td>\n",
       "    </tr>\n",
       "    <tr>\n",
       "      <th>2</th>\n",
       "      <td>77.00</td>\n",
       "      <td>467.66</td>\n",
       "      <td>86.00</td>\n",
       "      <td>21,060.45</td>\n",
       "      <td>0</td>\n",
       "    </tr>\n",
       "    <tr>\n",
       "      <th>3</th>\n",
       "      <td>106.00</td>\n",
       "      <td>745.53</td>\n",
       "      <td>81.00</td>\n",
       "      <td>8,437.39</td>\n",
       "      <td>1</td>\n",
       "    </tr>\n",
       "    <tr>\n",
       "      <th>4</th>\n",
       "      <td>66.00</td>\n",
       "      <td>418.74</td>\n",
       "      <td>1.00</td>\n",
       "      <td>14,502.75</td>\n",
       "      <td>0</td>\n",
       "    </tr>\n",
       "    <tr>\n",
       "      <th>5</th>\n",
       "      <td>58.00</td>\n",
       "      <td>344.56</td>\n",
       "      <td>21.00</td>\n",
       "      <td>15,823.37</td>\n",
       "      <td>0</td>\n",
       "    </tr>\n",
       "    <tr>\n",
       "      <th>6</th>\n",
       "      <td>57.00</td>\n",
       "      <td>431.64</td>\n",
       "      <td>20.00</td>\n",
       "      <td>3,738.90</td>\n",
       "      <td>1</td>\n",
       "    </tr>\n",
       "    <tr>\n",
       "      <th>7</th>\n",
       "      <td>15.00</td>\n",
       "      <td>132.40</td>\n",
       "      <td>6.00</td>\n",
       "      <td>21,911.60</td>\n",
       "      <td>0</td>\n",
       "    </tr>\n",
       "    <tr>\n",
       "      <th>8</th>\n",
       "      <td>7.00</td>\n",
       "      <td>43.39</td>\n",
       "      <td>3.00</td>\n",
       "      <td>2,538.67</td>\n",
       "      <td>1</td>\n",
       "    </tr>\n",
       "    <tr>\n",
       "      <th>9</th>\n",
       "      <td>90.00</td>\n",
       "      <td>665.41</td>\n",
       "      <td>38.00</td>\n",
       "      <td>17,358.61</td>\n",
       "      <td>0</td>\n",
       "    </tr>\n",
       "  </tbody>\n",
       "</table>\n",
       "</div>"
      ],
      "text/plain": [
       "   calls  minutes  messages   mb_used  is_ultra\n",
       "0  40.00   311.90     83.00 19,915.42         0\n",
       "1  85.00   516.75     56.00 22,696.96         0\n",
       "2  77.00   467.66     86.00 21,060.45         0\n",
       "3 106.00   745.53     81.00  8,437.39         1\n",
       "4  66.00   418.74      1.00 14,502.75         0\n",
       "5  58.00   344.56     21.00 15,823.37         0\n",
       "6  57.00   431.64     20.00  3,738.90         1\n",
       "7  15.00   132.40      6.00 21,911.60         0\n",
       "8   7.00    43.39      3.00  2,538.67         1\n",
       "9  90.00   665.41     38.00 17,358.61         0"
      ]
     },
     "execution_count": 3,
     "metadata": {},
     "output_type": "execute_result"
    }
   ],
   "source": [
    "df.head(10)"
   ]
  },
  {
   "cell_type": "code",
   "execution_count": 4,
   "metadata": {},
   "outputs": [
    {
     "data": {
      "text/html": [
       "<div>\n",
       "<style scoped>\n",
       "    .dataframe tbody tr th:only-of-type {\n",
       "        vertical-align: middle;\n",
       "    }\n",
       "\n",
       "    .dataframe tbody tr th {\n",
       "        vertical-align: top;\n",
       "    }\n",
       "\n",
       "    .dataframe thead th {\n",
       "        text-align: right;\n",
       "    }\n",
       "</style>\n",
       "<table border=\"1\" class=\"dataframe\">\n",
       "  <thead>\n",
       "    <tr style=\"text-align: right;\">\n",
       "      <th></th>\n",
       "      <th>calls</th>\n",
       "      <th>minutes</th>\n",
       "      <th>messages</th>\n",
       "      <th>mb_used</th>\n",
       "      <th>is_ultra</th>\n",
       "    </tr>\n",
       "  </thead>\n",
       "  <tbody>\n",
       "    <tr>\n",
       "      <th>3204</th>\n",
       "      <td>86.00</td>\n",
       "      <td>658.66</td>\n",
       "      <td>47.00</td>\n",
       "      <td>14,153.10</td>\n",
       "      <td>0</td>\n",
       "    </tr>\n",
       "    <tr>\n",
       "      <th>3205</th>\n",
       "      <td>59.00</td>\n",
       "      <td>412.81</td>\n",
       "      <td>16.00</td>\n",
       "      <td>14,105.03</td>\n",
       "      <td>0</td>\n",
       "    </tr>\n",
       "    <tr>\n",
       "      <th>3206</th>\n",
       "      <td>76.00</td>\n",
       "      <td>586.51</td>\n",
       "      <td>54.00</td>\n",
       "      <td>14,345.74</td>\n",
       "      <td>0</td>\n",
       "    </tr>\n",
       "    <tr>\n",
       "      <th>3207</th>\n",
       "      <td>17.00</td>\n",
       "      <td>92.39</td>\n",
       "      <td>2.00</td>\n",
       "      <td>4,299.25</td>\n",
       "      <td>0</td>\n",
       "    </tr>\n",
       "    <tr>\n",
       "      <th>3208</th>\n",
       "      <td>164.00</td>\n",
       "      <td>1,016.98</td>\n",
       "      <td>71.00</td>\n",
       "      <td>17,787.52</td>\n",
       "      <td>1</td>\n",
       "    </tr>\n",
       "    <tr>\n",
       "      <th>3209</th>\n",
       "      <td>122.00</td>\n",
       "      <td>910.98</td>\n",
       "      <td>20.00</td>\n",
       "      <td>35,124.90</td>\n",
       "      <td>1</td>\n",
       "    </tr>\n",
       "    <tr>\n",
       "      <th>3210</th>\n",
       "      <td>25.00</td>\n",
       "      <td>190.36</td>\n",
       "      <td>0.00</td>\n",
       "      <td>3,275.61</td>\n",
       "      <td>0</td>\n",
       "    </tr>\n",
       "    <tr>\n",
       "      <th>3211</th>\n",
       "      <td>97.00</td>\n",
       "      <td>634.44</td>\n",
       "      <td>70.00</td>\n",
       "      <td>13,974.06</td>\n",
       "      <td>0</td>\n",
       "    </tr>\n",
       "    <tr>\n",
       "      <th>3212</th>\n",
       "      <td>64.00</td>\n",
       "      <td>462.32</td>\n",
       "      <td>90.00</td>\n",
       "      <td>31,239.78</td>\n",
       "      <td>0</td>\n",
       "    </tr>\n",
       "    <tr>\n",
       "      <th>3213</th>\n",
       "      <td>80.00</td>\n",
       "      <td>566.09</td>\n",
       "      <td>6.00</td>\n",
       "      <td>29,480.52</td>\n",
       "      <td>1</td>\n",
       "    </tr>\n",
       "  </tbody>\n",
       "</table>\n",
       "</div>"
      ],
      "text/plain": [
       "      calls  minutes  messages   mb_used  is_ultra\n",
       "3204  86.00   658.66     47.00 14,153.10         0\n",
       "3205  59.00   412.81     16.00 14,105.03         0\n",
       "3206  76.00   586.51     54.00 14,345.74         0\n",
       "3207  17.00    92.39      2.00  4,299.25         0\n",
       "3208 164.00 1,016.98     71.00 17,787.52         1\n",
       "3209 122.00   910.98     20.00 35,124.90         1\n",
       "3210  25.00   190.36      0.00  3,275.61         0\n",
       "3211  97.00   634.44     70.00 13,974.06         0\n",
       "3212  64.00   462.32     90.00 31,239.78         0\n",
       "3213  80.00   566.09      6.00 29,480.52         1"
      ]
     },
     "execution_count": 4,
     "metadata": {},
     "output_type": "execute_result"
    }
   ],
   "source": [
    "df.tail(10)"
   ]
  },
  {
   "cell_type": "code",
   "execution_count": 5,
   "metadata": {
    "scrolled": true
   },
   "outputs": [
    {
     "data": {
      "text/plain": [
       "is_ultra\n",
       "0    2229\n",
       "1     985\n",
       "Name: count, dtype: int64"
      ]
     },
     "execution_count": 5,
     "metadata": {},
     "output_type": "execute_result"
    }
   ],
   "source": [
    "df[\"is_ultra\"].value_counts()"
   ]
  },
  {
   "cell_type": "code",
   "execution_count": 6,
   "metadata": {
    "scrolled": true
   },
   "outputs": [
    {
     "data": {
      "text/html": [
       "<div>\n",
       "<style scoped>\n",
       "    .dataframe tbody tr th:only-of-type {\n",
       "        vertical-align: middle;\n",
       "    }\n",
       "\n",
       "    .dataframe tbody tr th {\n",
       "        vertical-align: top;\n",
       "    }\n",
       "\n",
       "    .dataframe thead th {\n",
       "        text-align: right;\n",
       "    }\n",
       "</style>\n",
       "<table border=\"1\" class=\"dataframe\">\n",
       "  <thead>\n",
       "    <tr style=\"text-align: right;\">\n",
       "      <th></th>\n",
       "      <th>calls</th>\n",
       "      <th>minutes</th>\n",
       "      <th>messages</th>\n",
       "      <th>mb_used</th>\n",
       "      <th>is_ultra</th>\n",
       "    </tr>\n",
       "  </thead>\n",
       "  <tbody>\n",
       "    <tr>\n",
       "      <th>count</th>\n",
       "      <td>3,214.00</td>\n",
       "      <td>3,214.00</td>\n",
       "      <td>3,214.00</td>\n",
       "      <td>3,214.00</td>\n",
       "      <td>3,214.00</td>\n",
       "    </tr>\n",
       "    <tr>\n",
       "      <th>mean</th>\n",
       "      <td>63.04</td>\n",
       "      <td>438.21</td>\n",
       "      <td>38.28</td>\n",
       "      <td>17,207.67</td>\n",
       "      <td>0.31</td>\n",
       "    </tr>\n",
       "    <tr>\n",
       "      <th>std</th>\n",
       "      <td>33.24</td>\n",
       "      <td>234.57</td>\n",
       "      <td>36.15</td>\n",
       "      <td>7,570.97</td>\n",
       "      <td>0.46</td>\n",
       "    </tr>\n",
       "    <tr>\n",
       "      <th>min</th>\n",
       "      <td>0.00</td>\n",
       "      <td>0.00</td>\n",
       "      <td>0.00</td>\n",
       "      <td>0.00</td>\n",
       "      <td>0.00</td>\n",
       "    </tr>\n",
       "    <tr>\n",
       "      <th>25%</th>\n",
       "      <td>40.00</td>\n",
       "      <td>274.58</td>\n",
       "      <td>9.00</td>\n",
       "      <td>12,491.90</td>\n",
       "      <td>0.00</td>\n",
       "    </tr>\n",
       "    <tr>\n",
       "      <th>50%</th>\n",
       "      <td>62.00</td>\n",
       "      <td>430.60</td>\n",
       "      <td>30.00</td>\n",
       "      <td>16,943.24</td>\n",
       "      <td>0.00</td>\n",
       "    </tr>\n",
       "    <tr>\n",
       "      <th>75%</th>\n",
       "      <td>82.00</td>\n",
       "      <td>571.93</td>\n",
       "      <td>57.00</td>\n",
       "      <td>21,424.70</td>\n",
       "      <td>1.00</td>\n",
       "    </tr>\n",
       "    <tr>\n",
       "      <th>max</th>\n",
       "      <td>244.00</td>\n",
       "      <td>1,632.06</td>\n",
       "      <td>224.00</td>\n",
       "      <td>49,745.73</td>\n",
       "      <td>1.00</td>\n",
       "    </tr>\n",
       "  </tbody>\n",
       "</table>\n",
       "</div>"
      ],
      "text/plain": [
       "         calls  minutes  messages   mb_used  is_ultra\n",
       "count 3,214.00 3,214.00  3,214.00  3,214.00  3,214.00\n",
       "mean     63.04   438.21     38.28 17,207.67      0.31\n",
       "std      33.24   234.57     36.15  7,570.97      0.46\n",
       "min       0.00     0.00      0.00      0.00      0.00\n",
       "25%      40.00   274.58      9.00 12,491.90      0.00\n",
       "50%      62.00   430.60     30.00 16,943.24      0.00\n",
       "75%      82.00   571.93     57.00 21,424.70      1.00\n",
       "max     244.00 1,632.06    224.00 49,745.73      1.00"
      ]
     },
     "execution_count": 6,
     "metadata": {},
     "output_type": "execute_result"
    }
   ],
   "source": [
    "df.describe()"
   ]
  },
  {
   "cell_type": "code",
   "execution_count": 7,
   "metadata": {
    "scrolled": true
   },
   "outputs": [
    {
     "data": {
      "text/plain": [
       "0"
      ]
     },
     "execution_count": 7,
     "metadata": {},
     "output_type": "execute_result"
    }
   ],
   "source": [
    "df.duplicated().sum()"
   ]
  },
  {
   "cell_type": "code",
   "execution_count": 8,
   "metadata": {},
   "outputs": [
    {
     "data": {
      "text/plain": [
       "calls       0\n",
       "minutes     0\n",
       "messages    0\n",
       "mb_used     0\n",
       "is_ultra    0\n",
       "dtype: int64"
      ]
     },
     "execution_count": 8,
     "metadata": {},
     "output_type": "execute_result"
    }
   ],
   "source": [
    "df.isna().sum()"
   ]
  },
  {
   "cell_type": "markdown",
   "metadata": {},
   "source": [
    "Открыли и изучили основную информацию по сету. Получили информацию в 3214 строк и 5 столбцов, с верным стилем в заголовках, верным форматом данных , без дубликатов и без пропусков. Также, посчитали кол-во клиентов по подписке ультра. "
   ]
  },
  {
   "cell_type": "markdown",
   "metadata": {},
   "source": [
    "Оценим взаимную корреляцию  данных"
   ]
  },
  {
   "cell_type": "code",
   "execution_count": 9,
   "metadata": {
    "scrolled": true,
    "tags": []
   },
   "outputs": [
    {
     "data": {
      "text/html": [
       "<div>\n",
       "<style scoped>\n",
       "    .dataframe tbody tr th:only-of-type {\n",
       "        vertical-align: middle;\n",
       "    }\n",
       "\n",
       "    .dataframe tbody tr th {\n",
       "        vertical-align: top;\n",
       "    }\n",
       "\n",
       "    .dataframe thead th {\n",
       "        text-align: right;\n",
       "    }\n",
       "</style>\n",
       "<table border=\"1\" class=\"dataframe\">\n",
       "  <thead>\n",
       "    <tr style=\"text-align: right;\">\n",
       "      <th></th>\n",
       "      <th>calls</th>\n",
       "      <th>minutes</th>\n",
       "      <th>messages</th>\n",
       "      <th>mb_used</th>\n",
       "      <th>is_ultra</th>\n",
       "    </tr>\n",
       "  </thead>\n",
       "  <tbody>\n",
       "    <tr>\n",
       "      <th>calls</th>\n",
       "      <td>1.00</td>\n",
       "      <td>0.98</td>\n",
       "      <td>0.18</td>\n",
       "      <td>0.29</td>\n",
       "      <td>0.21</td>\n",
       "    </tr>\n",
       "    <tr>\n",
       "      <th>minutes</th>\n",
       "      <td>0.98</td>\n",
       "      <td>1.00</td>\n",
       "      <td>0.17</td>\n",
       "      <td>0.28</td>\n",
       "      <td>0.21</td>\n",
       "    </tr>\n",
       "    <tr>\n",
       "      <th>messages</th>\n",
       "      <td>0.18</td>\n",
       "      <td>0.17</td>\n",
       "      <td>1.00</td>\n",
       "      <td>0.20</td>\n",
       "      <td>0.20</td>\n",
       "    </tr>\n",
       "    <tr>\n",
       "      <th>mb_used</th>\n",
       "      <td>0.29</td>\n",
       "      <td>0.28</td>\n",
       "      <td>0.20</td>\n",
       "      <td>1.00</td>\n",
       "      <td>0.20</td>\n",
       "    </tr>\n",
       "    <tr>\n",
       "      <th>is_ultra</th>\n",
       "      <td>0.21</td>\n",
       "      <td>0.21</td>\n",
       "      <td>0.20</td>\n",
       "      <td>0.20</td>\n",
       "      <td>1.00</td>\n",
       "    </tr>\n",
       "  </tbody>\n",
       "</table>\n",
       "</div>"
      ],
      "text/plain": [
       "          calls  minutes  messages  mb_used  is_ultra\n",
       "calls      1.00     0.98      0.18     0.29      0.21\n",
       "minutes    0.98     1.00      0.17     0.28      0.21\n",
       "messages   0.18     0.17      1.00     0.20      0.20\n",
       "mb_used    0.29     0.28      0.20     1.00      0.20\n",
       "is_ultra   0.21     0.21      0.20     0.20      1.00"
      ]
     },
     "execution_count": 9,
     "metadata": {},
     "output_type": "execute_result"
    }
   ],
   "source": [
    "df.corr()"
   ]
  },
  {
   "cell_type": "markdown",
   "metadata": {},
   "source": [
    "Из данных очевидно, что высокая корреляция (~1 ) между данными по столбцу calls и minutes,в остальных случаях корреляция довольно низкая.\n",
    "Что бы избежать проблемы мультиколлениарности, будем использовать только один столбец calls, minutes удалять из таблицы не будем.\n"
   ]
  },
  {
   "cell_type": "markdown",
   "metadata": {},
   "source": [
    "## Разбейте данные на выборки"
   ]
  },
  {
   "cell_type": "markdown",
   "metadata": {},
   "source": [
    " Разделим исходные данные на обучающую, валидационную и тестовую выборки."
   ]
  },
  {
   "cell_type": "code",
   "execution_count": 10,
   "metadata": {},
   "outputs": [],
   "source": [
    "features = df.drop(['minutes', 'is_ultra'], axis=1) \n",
    "target = df['is_ultra'] "
   ]
  },
  {
   "cell_type": "code",
   "execution_count": 11,
   "metadata": {},
   "outputs": [
    {
     "data": {
      "text/plain": [
       "(3214, 3)"
      ]
     },
     "metadata": {},
     "output_type": "display_data"
    },
    {
     "data": {
      "text/plain": [
       "(3214,)"
      ]
     },
     "metadata": {},
     "output_type": "display_data"
    }
   ],
   "source": [
    "display(features.shape)\n",
    "display(target.shape)"
   ]
  },
  {
   "cell_type": "markdown",
   "metadata": {},
   "source": [
    "в связи с заданием, данные нужно разбить на три части: обучающую, валидационную и тестовую. Размеры тестового и валидационного наборов обычно равны. Исходные данные разбивают в соотношении 3:1:1. "
   ]
  },
  {
   "cell_type": "code",
   "execution_count": 12,
   "metadata": {},
   "outputs": [],
   "source": [
    "features_base, features_test, target_base, target_test = train_test_split(\n",
    "    features, target, test_size=0.20, random_state=12345)"
   ]
  },
  {
   "cell_type": "code",
   "execution_count": 13,
   "metadata": {},
   "outputs": [
    {
     "data": {
      "text/plain": [
       "(2571, 3)"
      ]
     },
     "metadata": {},
     "output_type": "display_data"
    },
    {
     "data": {
      "text/plain": [
       "(2571,)"
      ]
     },
     "metadata": {},
     "output_type": "display_data"
    },
    {
     "data": {
      "text/plain": [
       "(643, 3)"
      ]
     },
     "metadata": {},
     "output_type": "display_data"
    },
    {
     "data": {
      "text/plain": [
       "(643,)"
      ]
     },
     "metadata": {},
     "output_type": "display_data"
    }
   ],
   "source": [
    "display(features_base.shape)\n",
    "display(target_base.shape)\n",
    "display(features_test.shape)\n",
    "display(target_test.shape)"
   ]
  },
  {
   "cell_type": "code",
   "execution_count": 14,
   "metadata": {},
   "outputs": [],
   "source": [
    "features_train, features_valid, target_train, target_valid = train_test_split(\n",
    "    features_base, target_base, test_size=0.25, random_state=12345)"
   ]
  },
  {
   "cell_type": "code",
   "execution_count": 15,
   "metadata": {
    "scrolled": true
   },
   "outputs": [
    {
     "data": {
      "text/plain": [
       "(1928, 3)"
      ]
     },
     "metadata": {},
     "output_type": "display_data"
    },
    {
     "data": {
      "text/plain": [
       "(643, 3)"
      ]
     },
     "metadata": {},
     "output_type": "display_data"
    },
    {
     "data": {
      "text/plain": [
       "(643, 3)"
      ]
     },
     "metadata": {},
     "output_type": "display_data"
    }
   ],
   "source": [
    "display(features_train.shape)\n",
    "display(features_valid.shape)\n",
    "display(features_test.shape)"
   ]
  },
  {
   "cell_type": "markdown",
   "metadata": {},
   "source": [
    "разбили данные на обучающу, валидиционную и тестовую в соотношении 3:1:1\n"
   ]
  },
  {
   "cell_type": "markdown",
   "metadata": {},
   "source": [
    "## Исследуйте модели"
   ]
  },
  {
   "cell_type": "markdown",
   "metadata": {},
   "source": [
    "Исследуем качество разных моделей, меняя гиперпараметры"
   ]
  },
  {
   "cell_type": "markdown",
   "metadata": {},
   "source": [
    "Модель дерево решений\n"
   ]
  },
  {
   "cell_type": "code",
   "execution_count": 16,
   "metadata": {},
   "outputs": [
    {
     "data": {
      "text/html": [
       "<style>#sk-container-id-1 {color: black;}#sk-container-id-1 pre{padding: 0;}#sk-container-id-1 div.sk-toggleable {background-color: white;}#sk-container-id-1 label.sk-toggleable__label {cursor: pointer;display: block;width: 100%;margin-bottom: 0;padding: 0.3em;box-sizing: border-box;text-align: center;}#sk-container-id-1 label.sk-toggleable__label-arrow:before {content: \"▸\";float: left;margin-right: 0.25em;color: #696969;}#sk-container-id-1 label.sk-toggleable__label-arrow:hover:before {color: black;}#sk-container-id-1 div.sk-estimator:hover label.sk-toggleable__label-arrow:before {color: black;}#sk-container-id-1 div.sk-toggleable__content {max-height: 0;max-width: 0;overflow: hidden;text-align: left;background-color: #f0f8ff;}#sk-container-id-1 div.sk-toggleable__content pre {margin: 0.2em;color: black;border-radius: 0.25em;background-color: #f0f8ff;}#sk-container-id-1 input.sk-toggleable__control:checked~div.sk-toggleable__content {max-height: 200px;max-width: 100%;overflow: auto;}#sk-container-id-1 input.sk-toggleable__control:checked~label.sk-toggleable__label-arrow:before {content: \"▾\";}#sk-container-id-1 div.sk-estimator input.sk-toggleable__control:checked~label.sk-toggleable__label {background-color: #d4ebff;}#sk-container-id-1 div.sk-label input.sk-toggleable__control:checked~label.sk-toggleable__label {background-color: #d4ebff;}#sk-container-id-1 input.sk-hidden--visually {border: 0;clip: rect(1px 1px 1px 1px);clip: rect(1px, 1px, 1px, 1px);height: 1px;margin: -1px;overflow: hidden;padding: 0;position: absolute;width: 1px;}#sk-container-id-1 div.sk-estimator {font-family: monospace;background-color: #f0f8ff;border: 1px dotted black;border-radius: 0.25em;box-sizing: border-box;margin-bottom: 0.5em;}#sk-container-id-1 div.sk-estimator:hover {background-color: #d4ebff;}#sk-container-id-1 div.sk-parallel-item::after {content: \"\";width: 100%;border-bottom: 1px solid gray;flex-grow: 1;}#sk-container-id-1 div.sk-label:hover label.sk-toggleable__label {background-color: #d4ebff;}#sk-container-id-1 div.sk-serial::before {content: \"\";position: absolute;border-left: 1px solid gray;box-sizing: border-box;top: 0;bottom: 0;left: 50%;z-index: 0;}#sk-container-id-1 div.sk-serial {display: flex;flex-direction: column;align-items: center;background-color: white;padding-right: 0.2em;padding-left: 0.2em;position: relative;}#sk-container-id-1 div.sk-item {position: relative;z-index: 1;}#sk-container-id-1 div.sk-parallel {display: flex;align-items: stretch;justify-content: center;background-color: white;position: relative;}#sk-container-id-1 div.sk-item::before, #sk-container-id-1 div.sk-parallel-item::before {content: \"\";position: absolute;border-left: 1px solid gray;box-sizing: border-box;top: 0;bottom: 0;left: 50%;z-index: -1;}#sk-container-id-1 div.sk-parallel-item {display: flex;flex-direction: column;z-index: 1;position: relative;background-color: white;}#sk-container-id-1 div.sk-parallel-item:first-child::after {align-self: flex-end;width: 50%;}#sk-container-id-1 div.sk-parallel-item:last-child::after {align-self: flex-start;width: 50%;}#sk-container-id-1 div.sk-parallel-item:only-child::after {width: 0;}#sk-container-id-1 div.sk-dashed-wrapped {border: 1px dashed gray;margin: 0 0.4em 0.5em 0.4em;box-sizing: border-box;padding-bottom: 0.4em;background-color: white;}#sk-container-id-1 div.sk-label label {font-family: monospace;font-weight: bold;display: inline-block;line-height: 1.2em;}#sk-container-id-1 div.sk-label-container {text-align: center;}#sk-container-id-1 div.sk-container {/* jupyter's `normalize.less` sets `[hidden] { display: none; }` but bootstrap.min.css set `[hidden] { display: none !important; }` so we also need the `!important` here to be able to override the default hidden behavior on the sphinx rendered scikit-learn.org. See: https://github.com/scikit-learn/scikit-learn/issues/21755 */display: inline-block !important;position: relative;}#sk-container-id-1 div.sk-text-repr-fallback {display: none;}</style><div id=\"sk-container-id-1\" class=\"sk-top-container\"><div class=\"sk-text-repr-fallback\"><pre>DecisionTreeClassifier(random_state=12345)</pre><b>In a Jupyter environment, please rerun this cell to show the HTML representation or trust the notebook. <br />On GitHub, the HTML representation is unable to render, please try loading this page with nbviewer.org.</b></div><div class=\"sk-container\" hidden><div class=\"sk-item\"><div class=\"sk-estimator sk-toggleable\"><input class=\"sk-toggleable__control sk-hidden--visually\" id=\"sk-estimator-id-1\" type=\"checkbox\" checked><label for=\"sk-estimator-id-1\" class=\"sk-toggleable__label sk-toggleable__label-arrow\">DecisionTreeClassifier</label><div class=\"sk-toggleable__content\"><pre>DecisionTreeClassifier(random_state=12345)</pre></div></div></div></div></div>"
      ],
      "text/plain": [
       "DecisionTreeClassifier(random_state=12345)"
      ]
     },
     "execution_count": 16,
     "metadata": {},
     "output_type": "execute_result"
    }
   ],
   "source": [
    "model = DecisionTreeClassifier(random_state=12345)\n",
    "\n",
    "model.fit(features_train, target_train)"
   ]
  },
  {
   "cell_type": "code",
   "execution_count": 17,
   "metadata": {},
   "outputs": [
    {
     "name": "stdout",
     "output_type": "stream",
     "text": [
      "Accuracy\n",
      "Обучающая выборка: 1.0\n",
      "Валидационная выборка: 0.7107309486780715\n"
     ]
    }
   ],
   "source": [
    "train_predictions = model.predict(features_train)\n",
    "\n",
    "valid_predictions = model.predict(features_valid)\n",
    "print(\"Accuracy\")\n",
    "print(\"Обучающая выборка:\", accuracy_score(target_train, train_predictions))\n",
    "\n",
    "print(\"Валидационная выборка:\", accuracy_score(target_valid,valid_predictions))"
   ]
  },
  {
   "cell_type": "code",
   "execution_count": 18,
   "metadata": {},
   "outputs": [
    {
     "name": "stdout",
     "output_type": "stream",
     "text": [
      "max_depth = 1 : Accuracy лучшей модели: 0.7387247278382582\n",
      "max_depth = 2 : Accuracy лучшей модели: 0.7589424572317263\n",
      "max_depth = 3 : Accuracy лучшей модели: 0.7651632970451011\n",
      "max_depth = 4 : Accuracy лучшей модели: 0.7620528771384136\n",
      "max_depth = 5 : Accuracy лучшей модели: 0.76049766718507\n",
      "max_depth = 6 : Accuracy лучшей модели: 0.7573872472783826\n",
      "max_depth = 7 : Accuracy лучшей модели: 0.7573872472783826\n",
      "max_depth = 8 : Accuracy лучшей модели: 0.7682737169517885\n",
      "max_depth = 9 : Accuracy лучшей модели: 0.7620528771384136\n",
      "max_depth = 10 : Accuracy лучшей модели: 0.7729393468118196\n",
      "max_depth = 11 : Accuracy лучшей модели: 0.7667185069984448\n",
      "max_depth = 12 : Accuracy лучшей модели: 0.7573872472783826\n",
      "max_depth = 13 : Accuracy лучшей модели: 0.7542768273716952\n",
      "max_depth = 14 : Accuracy лучшей модели: 0.7356143079315708\n",
      "Accuracy наилучшей модели на валидационной выборке: 0.7729393468118196\n"
     ]
    }
   ],
   "source": [
    "best_model = None\n",
    "best_result = 0\n",
    "for depth in range(1, 15):\n",
    "    model = DecisionTreeClassifier(random_state=12345, max_depth=depth) \n",
    "    model.fit(features_train, target_train) \n",
    "    predictions_valid = model.predict(features_valid) \n",
    "    result = accuracy_score(target_valid, predictions_valid) \n",
    "    if result > best_result:\n",
    "        best_model = model \n",
    "        best_result = result \n",
    "    print(\"max_depth =\", depth, \": \", end='')        \n",
    "    print(\"Accuracy лучшей модели:\", result)\n",
    "print(\"Accuracy наилучшей модели на валидационной выборке:\", best_result)   "
   ]
  },
  {
   "cell_type": "markdown",
   "metadata": {},
   "source": [
    "Наилучшая модель на валидационной выборке при использовании дерево решений при  accuracy = 0.773, глубина дерева depth = 10"
   ]
  },
  {
   "cell_type": "markdown",
   "metadata": {},
   "source": [
    "Модель случайный лес"
   ]
  },
  {
   "cell_type": "code",
   "execution_count": 19,
   "metadata": {},
   "outputs": [
    {
     "name": "stdout",
     "output_type": "stream",
     "text": [
      "max_depth = 1 : n_estimators = 1 : Accuracy лучшей модели: 0.7169517884914464\n",
      "max_depth = 2 : n_estimators = 1 : Accuracy лучшей модели: 0.7387247278382582\n",
      "max_depth = 3 : n_estimators = 1 : Accuracy лучшей модели: 0.7387247278382582\n",
      "max_depth = 4 : n_estimators = 1 : Accuracy лучшей модели: 0.7589424572317263\n",
      "max_depth = 5 : n_estimators = 1 : Accuracy лучшей модели: 0.7682737169517885\n",
      "max_depth = 6 : n_estimators = 1 : Accuracy лучшей модели: 0.7651632970451011\n",
      "max_depth = 7 : n_estimators = 1 : Accuracy лучшей модели: 0.7620528771384136\n",
      "max_depth = 8 : n_estimators = 1 : Accuracy лучшей модели: 0.7636080870917574\n",
      "max_depth = 9 : n_estimators = 1 : Accuracy лучшей модели: 0.7744945567651633\n",
      "max_depth = 10 : n_estimators = 1 : Accuracy лучшей модели: 0.7822706065318819\n",
      "max_depth = 11 : n_estimators = 1 : Accuracy лучшей модели: 0.776049766718507\n",
      "max_depth = 12 : n_estimators = 1 : Accuracy лучшей модели: 0.76049766718507\n",
      "max_depth = 13 : n_estimators = 1 : Accuracy лучшей модели: 0.7480559875583204\n",
      "max_depth = 14 : n_estimators = 1 : Accuracy лучшей модели: 0.7340590979782271\n",
      "max_depth = 1 : n_estimators = 2 : Accuracy лучшей модели: 0.7558320373250389\n",
      "max_depth = 2 : n_estimators = 2 : Accuracy лучшей модели: 0.7278382581648523\n",
      "max_depth = 3 : n_estimators = 2 : Accuracy лучшей модели: 0.749611197511664\n",
      "max_depth = 4 : n_estimators = 2 : Accuracy лучшей модели: 0.7651632970451011\n",
      "max_depth = 5 : n_estimators = 2 : Accuracy лучшей модели: 0.7791601866251944\n",
      "max_depth = 6 : n_estimators = 2 : Accuracy лучшей модели: 0.7713841368584758\n",
      "max_depth = 7 : n_estimators = 2 : Accuracy лучшей модели: 0.7729393468118196\n",
      "max_depth = 8 : n_estimators = 2 : Accuracy лучшей модели: 0.776049766718507\n",
      "max_depth = 9 : n_estimators = 2 : Accuracy лучшей модели: 0.776049766718507\n",
      "max_depth = 10 : n_estimators = 2 : Accuracy лучшей модели: 0.744945567651633\n",
      "max_depth = 11 : n_estimators = 2 : Accuracy лучшей модели: 0.7465007776049767\n",
      "max_depth = 12 : n_estimators = 2 : Accuracy лучшей модели: 0.7651632970451011\n",
      "max_depth = 13 : n_estimators = 2 : Accuracy лучшей модели: 0.7511664074650077\n",
      "max_depth = 14 : n_estimators = 2 : Accuracy лучшей модели: 0.76049766718507\n",
      "max_depth = 1 : n_estimators = 3 : Accuracy лучшей модели: 0.7418351477449455\n",
      "max_depth = 2 : n_estimators = 3 : Accuracy лучшей модели: 0.7542768273716952\n",
      "max_depth = 3 : n_estimators = 3 : Accuracy лучшей модели: 0.7667185069984448\n",
      "max_depth = 4 : n_estimators = 3 : Accuracy лучшей модели: 0.7682737169517885\n",
      "max_depth = 5 : n_estimators = 3 : Accuracy лучшей модели: 0.776049766718507\n",
      "max_depth = 6 : n_estimators = 3 : Accuracy лучшей модели: 0.7822706065318819\n",
      "max_depth = 7 : n_estimators = 3 : Accuracy лучшей модели: 0.7884914463452566\n",
      "max_depth = 8 : n_estimators = 3 : Accuracy лучшей модели: 0.7838258164852255\n",
      "max_depth = 9 : n_estimators = 3 : Accuracy лучшей модели: 0.7900466562986003\n",
      "max_depth = 10 : n_estimators = 3 : Accuracy лучшей модели: 0.7931570762052877\n",
      "max_depth = 11 : n_estimators = 3 : Accuracy лучшей модели: 0.7729393468118196\n",
      "max_depth = 12 : n_estimators = 3 : Accuracy лучшей модели: 0.7916018662519441\n",
      "max_depth = 13 : n_estimators = 3 : Accuracy лучшей модели: 0.7807153965785381\n",
      "max_depth = 14 : n_estimators = 3 : Accuracy лучшей модели: 0.7807153965785381\n",
      "max_depth = 1 : n_estimators = 4 : Accuracy лучшей модели: 0.749611197511664\n",
      "max_depth = 2 : n_estimators = 4 : Accuracy лучшей модели: 0.7480559875583204\n",
      "max_depth = 3 : n_estimators = 4 : Accuracy лучшей модели: 0.7620528771384136\n",
      "max_depth = 4 : n_estimators = 4 : Accuracy лучшей модели: 0.7698289269051322\n",
      "max_depth = 5 : n_estimators = 4 : Accuracy лучшей модели: 0.7807153965785381\n",
      "max_depth = 6 : n_estimators = 4 : Accuracy лучшей модели: 0.7698289269051322\n",
      "max_depth = 7 : n_estimators = 4 : Accuracy лучшей модели: 0.7822706065318819\n",
      "max_depth = 8 : n_estimators = 4 : Accuracy лучшей модели: 0.7869362363919129\n",
      "max_depth = 9 : n_estimators = 4 : Accuracy лучшей модели: 0.7931570762052877\n",
      "max_depth = 10 : n_estimators = 4 : Accuracy лучшей модели: 0.7884914463452566\n",
      "max_depth = 11 : n_estimators = 4 : Accuracy лучшей модели: 0.7636080870917574\n",
      "max_depth = 12 : n_estimators = 4 : Accuracy лучшей модели: 0.7947122861586314\n",
      "max_depth = 13 : n_estimators = 4 : Accuracy лучшей модели: 0.7822706065318819\n",
      "max_depth = 14 : n_estimators = 4 : Accuracy лучшей модели: 0.7838258164852255\n",
      "max_depth = 1 : n_estimators = 5 : Accuracy лучшей модели: 0.7278382581648523\n",
      "max_depth = 2 : n_estimators = 5 : Accuracy лучшей модели: 0.7511664074650077\n",
      "max_depth = 3 : n_estimators = 5 : Accuracy лучшей модели: 0.7698289269051322\n",
      "max_depth = 4 : n_estimators = 5 : Accuracy лучшей модели: 0.7620528771384136\n",
      "max_depth = 5 : n_estimators = 5 : Accuracy лучшей модели: 0.7729393468118196\n",
      "max_depth = 6 : n_estimators = 5 : Accuracy лучшей модели: 0.776049766718507\n",
      "max_depth = 7 : n_estimators = 5 : Accuracy лучшей модели: 0.7807153965785381\n",
      "max_depth = 8 : n_estimators = 5 : Accuracy лучшей модели: 0.7869362363919129\n",
      "max_depth = 9 : n_estimators = 5 : Accuracy лучшей модели: 0.7744945567651633\n",
      "max_depth = 10 : n_estimators = 5 : Accuracy лучшей модели: 0.8055987558320373\n",
      "max_depth = 11 : n_estimators = 5 : Accuracy лучшей модели: 0.776049766718507\n",
      "max_depth = 12 : n_estimators = 5 : Accuracy лучшей модели: 0.7978227060653188\n",
      "max_depth = 13 : n_estimators = 5 : Accuracy лучшей модели: 0.776049766718507\n",
      "max_depth = 14 : n_estimators = 5 : Accuracy лучшей модели: 0.7884914463452566\n",
      "max_depth = 1 : n_estimators = 6 : Accuracy лучшей модели: 0.7231726283048211\n",
      "max_depth = 2 : n_estimators = 6 : Accuracy лучшей модели: 0.7465007776049767\n",
      "max_depth = 3 : n_estimators = 6 : Accuracy лучшей модели: 0.7682737169517885\n",
      "max_depth = 4 : n_estimators = 6 : Accuracy лучшей модели: 0.7651632970451011\n",
      "max_depth = 5 : n_estimators = 6 : Accuracy лучшей модели: 0.7822706065318819\n",
      "max_depth = 6 : n_estimators = 6 : Accuracy лучшей модели: 0.7682737169517885\n",
      "max_depth = 7 : n_estimators = 6 : Accuracy лучшей модели: 0.7776049766718507\n",
      "max_depth = 8 : n_estimators = 6 : Accuracy лучшей модели: 0.7869362363919129\n",
      "max_depth = 9 : n_estimators = 6 : Accuracy лучшей модели: 0.7791601866251944\n",
      "max_depth = 10 : n_estimators = 6 : Accuracy лучшей модели: 0.7916018662519441\n",
      "max_depth = 11 : n_estimators = 6 : Accuracy лучшей модели: 0.7838258164852255\n",
      "max_depth = 12 : n_estimators = 6 : Accuracy лучшей модели: 0.7962674961119751\n",
      "max_depth = 13 : n_estimators = 6 : Accuracy лучшей модели: 0.7776049766718507\n",
      "max_depth = 14 : n_estimators = 6 : Accuracy лучшей модели: 0.7853810264385692\n",
      "max_depth = 1 : n_estimators = 7 : Accuracy лучшей модели: 0.7247278382581649\n",
      "max_depth = 2 : n_estimators = 7 : Accuracy лучшей модели: 0.7465007776049767\n",
      "max_depth = 3 : n_estimators = 7 : Accuracy лучшей модели: 0.7698289269051322\n",
      "max_depth = 4 : n_estimators = 7 : Accuracy лучшей модели: 0.7620528771384136\n",
      "max_depth = 5 : n_estimators = 7 : Accuracy лучшей модели: 0.7807153965785381\n",
      "max_depth = 6 : n_estimators = 7 : Accuracy лучшей модели: 0.7713841368584758\n",
      "max_depth = 7 : n_estimators = 7 : Accuracy лучшей модели: 0.7853810264385692\n",
      "max_depth = 8 : n_estimators = 7 : Accuracy лучшей модели: 0.7978227060653188\n",
      "max_depth = 9 : n_estimators = 7 : Accuracy лучшей модели: 0.7807153965785381\n",
      "max_depth = 10 : n_estimators = 7 : Accuracy лучшей модели: 0.7947122861586314\n",
      "max_depth = 11 : n_estimators = 7 : Accuracy лучшей модели: 0.7931570762052877\n",
      "max_depth = 12 : n_estimators = 7 : Accuracy лучшей модели: 0.7993779160186625\n",
      "max_depth = 13 : n_estimators = 7 : Accuracy лучшей модели: 0.7807153965785381\n",
      "max_depth = 14 : n_estimators = 7 : Accuracy лучшей модели: 0.7807153965785381\n",
      "max_depth = 1 : n_estimators = 8 : Accuracy лучшей модели: 0.7200622083981337\n",
      "max_depth = 2 : n_estimators = 8 : Accuracy лучшей модели: 0.7465007776049767\n",
      "max_depth = 3 : n_estimators = 8 : Accuracy лучшей модели: 0.7667185069984448\n",
      "max_depth = 4 : n_estimators = 8 : Accuracy лучшей модели: 0.7636080870917574\n",
      "max_depth = 5 : n_estimators = 8 : Accuracy лучшей модели: 0.7744945567651633\n",
      "max_depth = 6 : n_estimators = 8 : Accuracy лучшей модели: 0.7729393468118196\n",
      "max_depth = 7 : n_estimators = 8 : Accuracy лучшей модели: 0.7838258164852255\n",
      "max_depth = 8 : n_estimators = 8 : Accuracy лучшей модели: 0.7962674961119751\n",
      "max_depth = 9 : n_estimators = 8 : Accuracy лучшей модели: 0.7776049766718507\n",
      "max_depth = 10 : n_estimators = 8 : Accuracy лучшей модели: 0.7916018662519441\n",
      "max_depth = 11 : n_estimators = 8 : Accuracy лучшей модели: 0.7931570762052877\n",
      "max_depth = 12 : n_estimators = 8 : Accuracy лучшей модели: 0.7978227060653188\n",
      "max_depth = 13 : n_estimators = 8 : Accuracy лучшей модели: 0.7822706065318819\n",
      "max_depth = 14 : n_estimators = 8 : Accuracy лучшей модели: 0.7807153965785381\n",
      "max_depth = 1 : n_estimators = 9 : Accuracy лучшей модели: 0.7371695178849145\n",
      "max_depth = 2 : n_estimators = 9 : Accuracy лучшей модели: 0.7465007776049767\n",
      "max_depth = 3 : n_estimators = 9 : Accuracy лучшей модели: 0.7698289269051322\n",
      "max_depth = 4 : n_estimators = 9 : Accuracy лучшей модели: 0.7651632970451011\n",
      "max_depth = 5 : n_estimators = 9 : Accuracy лучшей модели: 0.7791601866251944\n",
      "max_depth = 6 : n_estimators = 9 : Accuracy лучшей модели: 0.7729393468118196\n",
      "max_depth = 7 : n_estimators = 9 : Accuracy лучшей модели: 0.776049766718507\n",
      "max_depth = 8 : n_estimators = 9 : Accuracy лучшей модели: 0.7947122861586314\n",
      "max_depth = 9 : n_estimators = 9 : Accuracy лучшей модели: 0.7744945567651633\n",
      "max_depth = 10 : n_estimators = 9 : Accuracy лучшей модели: 0.7962674961119751\n",
      "max_depth = 11 : n_estimators = 9 : Accuracy лучшей модели: 0.7962674961119751\n",
      "max_depth = 12 : n_estimators = 9 : Accuracy лучшей модели: 0.7947122861586314\n",
      "max_depth = 13 : n_estimators = 9 : Accuracy лучшей модели: 0.7916018662519441\n",
      "max_depth = 14 : n_estimators = 9 : Accuracy лучшей модели: 0.7884914463452566\n",
      "max_depth = 1 : n_estimators = 10 : Accuracy лучшей модели: 0.7216174183514774\n",
      "max_depth = 2 : n_estimators = 10 : Accuracy лучшей модели: 0.749611197511664\n",
      "max_depth = 3 : n_estimators = 10 : Accuracy лучшей модели: 0.7713841368584758\n",
      "max_depth = 4 : n_estimators = 10 : Accuracy лучшей модели: 0.7713841368584758\n",
      "max_depth = 5 : n_estimators = 10 : Accuracy лучшей модели: 0.7807153965785381\n",
      "max_depth = 6 : n_estimators = 10 : Accuracy лучшей модели: 0.776049766718507\n",
      "max_depth = 7 : n_estimators = 10 : Accuracy лучшей модели: 0.776049766718507\n",
      "max_depth = 8 : n_estimators = 10 : Accuracy лучшей модели: 0.7931570762052877\n",
      "max_depth = 9 : n_estimators = 10 : Accuracy лучшей модели: 0.7853810264385692\n",
      "max_depth = 10 : n_estimators = 10 : Accuracy лучшей модели: 0.7916018662519441\n",
      "max_depth = 11 : n_estimators = 10 : Accuracy лучшей модели: 0.7931570762052877\n",
      "max_depth = 12 : n_estimators = 10 : Accuracy лучшей модели: 0.7978227060653188\n",
      "max_depth = 13 : n_estimators = 10 : Accuracy лучшей модели: 0.7916018662519441\n",
      "max_depth = 14 : n_estimators = 10 : Accuracy лучшей модели: 0.7791601866251944\n",
      "Accuracy наилучшей модели на валидационной выборке: 0.8055987558320373\n",
      "Количество деревьев: 5\n",
      "Глубина дерева : 10\n"
     ]
    }
   ],
   "source": [
    "best_model_forest = None\n",
    "best_result_forest = 0\n",
    "best_est_forest = 0\n",
    "best_depth_forest = 0\n",
    "\n",
    "for est in range(1, 11):\n",
    "    for depth in range (1,15):\n",
    "        model_forest = RandomForestClassifier(random_state=12345, n_estimators=est, max_depth=depth) \n",
    "        model_forest.fit(features_train, target_train) \n",
    "        result_forest = model_forest.score(features_valid, target_valid) \n",
    "        if result_forest > best_result_forest:\n",
    "            best_model_forest = model_forest \n",
    "            best_result_forest = result_forest \n",
    "            best_est_forest = est\n",
    "            best_depth_forest = depth\n",
    "        print(\"max_depth =\", depth, \": \", end='')\n",
    "        print(\"n_estimators =\", est, \": \", end='')\n",
    "        print(\"Accuracy лучшей модели:\", result_forest)\n",
    "print(\"Accuracy наилучшей модели на валидационной выборке:\", best_result_forest)\n",
    "print('Количество деревьев:', best_est_forest)\n",
    "print('Глубина дерева :', best_depth_forest)\n"
   ]
  },
  {
   "cell_type": "markdown",
   "metadata": {},
   "source": [
    "Наилучшая модель на валидационной выборке при использовании случайный лес при accuracy = 0.806, глубина дерева depth = 10, кол-во деревьев 5\n"
   ]
  },
  {
   "cell_type": "markdown",
   "metadata": {},
   "source": [
    "Модель логистическая регрессия"
   ]
  },
  {
   "cell_type": "code",
   "execution_count": 20,
   "metadata": {},
   "outputs": [
    {
     "name": "stdout",
     "output_type": "stream",
     "text": [
      "Accuracy наилучшей модели на валидационной выборке: 0.7356143079315708\n"
     ]
    }
   ],
   "source": [
    "model_log = LogisticRegression(random_state=12345, solver='lbfgs', max_iter=2000) \n",
    "model_log.fit(features_train, target_train) \n",
    "best_result_log = model_log.score(features_valid, target_valid) \n",
    "\n",
    "print(\"Accuracy наилучшей модели на валидационной выборке:\", best_result_log)"
   ]
  },
  {
   "cell_type": "markdown",
   "metadata": {},
   "source": [
    "Значение Accuracy при модели логической регрессии составил 0.736"
   ]
  },
  {
   "cell_type": "markdown",
   "metadata": {},
   "source": [
    "Таким образом, из трех моделей наилучший результат accuracy при использовании модели случайный лес, который составил 0.806, на втором месте модель дерево решений с результатом 0.773 и последнее место при логистической регрессии с результатом в 0.736"
   ]
  },
  {
   "cell_type": "code",
   "execution_count": 21,
   "metadata": {
    "scrolled": true
   },
   "outputs": [
    {
     "data": {
      "text/html": [
       "<div>\n",
       "<style scoped>\n",
       "    .dataframe tbody tr th:only-of-type {\n",
       "        vertical-align: middle;\n",
       "    }\n",
       "\n",
       "    .dataframe tbody tr th {\n",
       "        vertical-align: top;\n",
       "    }\n",
       "\n",
       "    .dataframe thead th {\n",
       "        text-align: right;\n",
       "    }\n",
       "</style>\n",
       "<table border=\"1\" class=\"dataframe\">\n",
       "  <thead>\n",
       "    <tr style=\"text-align: right;\">\n",
       "      <th></th>\n",
       "      <th>model</th>\n",
       "      <th>programm</th>\n",
       "      <th>accuracy</th>\n",
       "      <th>max_depth</th>\n",
       "      <th>n_estimators</th>\n",
       "    </tr>\n",
       "  </thead>\n",
       "  <tbody>\n",
       "    <tr>\n",
       "      <th>0</th>\n",
       "      <td>дерево решений</td>\n",
       "      <td>DecisionTreeClassifier</td>\n",
       "      <td>0.77</td>\n",
       "      <td>10</td>\n",
       "      <td></td>\n",
       "    </tr>\n",
       "    <tr>\n",
       "      <th>1</th>\n",
       "      <td>случвйный лес</td>\n",
       "      <td>RandomForestClassifier</td>\n",
       "      <td>0.81</td>\n",
       "      <td>10</td>\n",
       "      <td>5</td>\n",
       "    </tr>\n",
       "    <tr>\n",
       "      <th>2</th>\n",
       "      <td>логическая регрессия</td>\n",
       "      <td>LogisticRegression</td>\n",
       "      <td>0.74</td>\n",
       "      <td></td>\n",
       "      <td></td>\n",
       "    </tr>\n",
       "  </tbody>\n",
       "</table>\n",
       "</div>"
      ],
      "text/plain": [
       "                  model                programm  accuracy max_depth  \\\n",
       "0        дерево решений  DecisionTreeClassifier      0.77        10   \n",
       "1         случвйный лес  RandomForestClassifier      0.81        10   \n",
       "2  логическая регрессия      LogisticRegression      0.74             \n",
       "\n",
       "  n_estimators  \n",
       "0               \n",
       "1            5  \n",
       "2               "
      ]
     },
     "metadata": {},
     "output_type": "display_data"
    }
   ],
   "source": [
    "all_data = {'model': ['дерево решений','случвйный лес','логическая регрессия'],\n",
    "        'programm':['DecisionTreeClassifier','RandomForestClassifier','LogisticRegression'],\n",
    "        'accuracy':[0.773,0.806,0.736],\n",
    "        'max_depth': [10,10,''],\n",
    "        'n_estimators':['',5,'']\n",
    "       }\n",
    "all_results = pd.DataFrame(all_data)\n",
    "  \n",
    "display(all_results)       "
   ]
  },
  {
   "cell_type": "markdown",
   "metadata": {},
   "source": [
    "## Проверьте модель на тестовой выборке"
   ]
  },
  {
   "cell_type": "markdown",
   "metadata": {},
   "source": [
    "Проверим модель с наилучшим показателем accuracy на тестовой выборке"
   ]
  },
  {
   "cell_type": "code",
   "execution_count": 22,
   "metadata": {},
   "outputs": [
    {
     "name": "stdout",
     "output_type": "stream",
     "text": [
      "Значение accuracy на тестовой выборке: 0.7838258164852255\n"
     ]
    }
   ],
   "source": [
    "predictions_test =best_model_forest.predict(features_test) \n",
    "best_result_model_test=accuracy_score(target_test,predictions_test)\n",
    "print(\"Значение accuracy на тестовой выборке:\", best_result_model_test)"
   ]
  },
  {
   "cell_type": "markdown",
   "metadata": {},
   "source": [
    "В соответсвии с заданием, Постройте модель с максимально большим значением accuracy ( не менее 0.75), были построены три модели: дерево решений, случайный лес и логистическая регрессия, из трех моделей наилучший результат показала модель случайного леса с показателем 0.806. две модели из трех превышают показатель 0.75. Использовав модель случайного леса на тестовой выборке, показатель accuracy составил 0.784, что также выше 0.75"
   ]
  },
  {
   "cell_type": "markdown",
   "metadata": {},
   "source": [
    "## Проверьте модели на адекватность"
   ]
  },
  {
   "cell_type": "code",
   "execution_count": 23,
   "metadata": {
    "scrolled": true
   },
   "outputs": [
    {
     "name": "stdout",
     "output_type": "stream",
     "text": [
      "Значение  accuracy  валидационной выборки: 0.6889580093312597\n",
      "Значение accuracy тестовой выборки: 0.6951788491446346\n"
     ]
    }
   ],
   "source": [
    "adequacy = DummyClassifier(strategy='most_frequent', random_state=12345)\n",
    "adequacy.fit(features_train, target_train)\n",
    "adequacy_valid = adequacy.score(features_valid, target_valid)\n",
    "adequacy_test = adequacy.score(features_test, target_test)\n",
    "\n",
    "print('Значение  accuracy  валидационной выборки:', adequacy_valid)\n",
    "print('Значение accuracy тестовой выборки:', adequacy_test)"
   ]
  },
  {
   "cell_type": "markdown",
   "metadata": {},
   "source": [
    "При проверки на адекватность значения accuracy, как на валидационной выборке, так и на тестовой ниже, чем у выбранной  модели случайного леса, значит наша модель адекватна и эффективна."
   ]
  },
  {
   "cell_type": "markdown",
   "metadata": {},
   "source": [
    "Вывод:\n"
   ]
  },
  {
   "cell_type": "markdown",
   "metadata": {},
   "source": [
    "1) изучили и предобработали предоставленные данные. В данных не содержалось дубликатов и пропусков. Для формирования модели, в рамках исключения мультипликарности,\n",
    "исключили столбец с минутами, т.к. у него была большая корреляция с количеством звонков\n",
    "2)  Данные были разбиты на три выборки: обучающую, валидационную и тестовую выборки в пропорции 3:1:1. \n",
    "3) Были построены три модели : дерево решений, случайный лес и логистическая регрессия.  наилучший показатель в 0.86 был у модели случайный лес,\n",
    "    на втором месте оказалась модель дерево решений с показателем 0.773 и на третьем месте логистическая модель с показателем 0.736. \n",
    "    Таким образом, две модели из трех показали значение выше 0.75 заложенной в задании.\n",
    "4) Налучшую модель проверили на тестовой выборке, получив показатель accuracy  0.784, что также лучше заложенного  в задании показателя 0.75\n",
    "5) Проверили модель на адекватность, получив показатели accuracy, как на валидиционной, так и на тестовой выборке, ниже выбраного значения в модели случайного леса.\n",
    "\n",
    "Таким образом, на основании ретраспективных данных компании и полученной модели,можно проанализировать поведение клиентов и предложить пользователям новый тариф: «Смарт» или «Ультра»\n",
    "\n",
    "\n"
   ]
  },
  {
   "cell_type": "code",
   "execution_count": null,
   "metadata": {},
   "outputs": [],
   "source": []
  }
 ],
 "metadata": {
  "ExecuteTimeLog": [
   {
    "duration": 1409,
    "start_time": "2023-09-07T12:26:36.505Z"
   },
   {
    "duration": 1739,
    "start_time": "2023-09-14T09:24:21.171Z"
   },
   {
    "duration": 185,
    "start_time": "2023-09-14T09:24:34.303Z"
   },
   {
    "duration": 4,
    "start_time": "2023-09-14T09:24:52.308Z"
   },
   {
    "duration": 88,
    "start_time": "2023-09-14T09:24:52.314Z"
   },
   {
    "duration": 80,
    "start_time": "2023-09-14T09:25:10.038Z"
   },
   {
    "duration": 62,
    "start_time": "2023-09-14T09:25:24.770Z"
   },
   {
    "duration": 10,
    "start_time": "2023-09-14T09:25:35.446Z"
   },
   {
    "duration": 64,
    "start_time": "2023-09-14T09:25:45.365Z"
   },
   {
    "duration": 77,
    "start_time": "2023-09-14T09:26:22.534Z"
   },
   {
    "duration": 13,
    "start_time": "2023-09-14T09:26:27.620Z"
   },
   {
    "duration": 68,
    "start_time": "2023-09-14T09:26:47.084Z"
   },
   {
    "duration": 31,
    "start_time": "2023-09-14T09:27:13.542Z"
   },
   {
    "duration": 50,
    "start_time": "2023-09-25T12:26:04.447Z"
   },
   {
    "duration": 1796,
    "start_time": "2023-09-25T12:26:12.748Z"
   },
   {
    "duration": 136,
    "start_time": "2023-09-25T12:26:14.546Z"
   },
   {
    "duration": 14,
    "start_time": "2023-09-25T12:27:05.153Z"
   },
   {
    "duration": 8,
    "start_time": "2023-09-25T12:27:49.671Z"
   },
   {
    "duration": 14,
    "start_time": "2023-09-25T12:32:06.424Z"
   },
   {
    "duration": 85,
    "start_time": "2023-09-25T12:32:15.419Z"
   },
   {
    "duration": 12,
    "start_time": "2023-09-25T12:32:22.561Z"
   },
   {
    "duration": 6,
    "start_time": "2023-09-25T12:47:43.666Z"
   },
   {
    "duration": 76,
    "start_time": "2023-09-25T12:48:21.801Z"
   },
   {
    "duration": 26,
    "start_time": "2023-09-25T12:48:28.774Z"
   },
   {
    "duration": 1711,
    "start_time": "2023-09-26T07:57:44.632Z"
   },
   {
    "duration": 129,
    "start_time": "2023-09-26T07:57:46.345Z"
   },
   {
    "duration": 11,
    "start_time": "2023-09-26T07:57:46.476Z"
   },
   {
    "duration": 32,
    "start_time": "2023-09-26T07:57:46.489Z"
   },
   {
    "duration": 13,
    "start_time": "2023-09-26T07:57:46.523Z"
   },
   {
    "duration": 39,
    "start_time": "2023-09-26T07:57:46.538Z"
   },
   {
    "duration": 6,
    "start_time": "2023-09-26T08:00:21.964Z"
   },
   {
    "duration": 6,
    "start_time": "2023-09-26T08:33:53.113Z"
   },
   {
    "duration": 148,
    "start_time": "2023-09-26T08:37:04.892Z"
   },
   {
    "duration": 8,
    "start_time": "2023-09-26T08:37:21.706Z"
   },
   {
    "duration": 4,
    "start_time": "2023-09-26T08:49:52.468Z"
   },
   {
    "duration": 71,
    "start_time": "2023-09-26T08:49:52.474Z"
   },
   {
    "duration": 8,
    "start_time": "2023-09-26T08:49:52.546Z"
   },
   {
    "duration": 26,
    "start_time": "2023-09-26T08:49:52.555Z"
   },
   {
    "duration": 33,
    "start_time": "2023-09-26T08:49:52.584Z"
   },
   {
    "duration": 31,
    "start_time": "2023-09-26T08:49:52.619Z"
   },
   {
    "duration": 8,
    "start_time": "2023-09-26T08:49:52.652Z"
   },
   {
    "duration": 55,
    "start_time": "2023-09-26T08:49:52.662Z"
   },
   {
    "duration": 41,
    "start_time": "2023-09-26T08:49:52.719Z"
   },
   {
    "duration": 106,
    "start_time": "2023-09-26T08:58:46.568Z"
   },
   {
    "duration": 4,
    "start_time": "2023-09-26T08:58:51.897Z"
   },
   {
    "duration": 4,
    "start_time": "2023-09-26T09:00:57.820Z"
   },
   {
    "duration": 5,
    "start_time": "2023-09-26T09:01:15.796Z"
   },
   {
    "duration": 11,
    "start_time": "2023-09-26T09:28:32.932Z"
   },
   {
    "duration": 5,
    "start_time": "2023-09-26T09:32:31.744Z"
   },
   {
    "duration": 5,
    "start_time": "2023-09-26T11:15:49.011Z"
   },
   {
    "duration": 8,
    "start_time": "2023-09-26T11:18:47.872Z"
   },
   {
    "duration": 5,
    "start_time": "2023-09-26T11:19:03.848Z"
   },
   {
    "duration": 4,
    "start_time": "2023-09-26T11:19:04.497Z"
   },
   {
    "duration": 6,
    "start_time": "2023-09-26T11:19:55.793Z"
   },
   {
    "duration": 13,
    "start_time": "2023-09-26T11:25:55.702Z"
   },
   {
    "duration": 7,
    "start_time": "2023-09-26T11:26:04.022Z"
   },
   {
    "duration": 7,
    "start_time": "2023-09-26T11:26:34.110Z"
   },
   {
    "duration": 1587,
    "start_time": "2023-09-27T07:33:58.540Z"
   },
   {
    "duration": 127,
    "start_time": "2023-09-27T07:34:00.129Z"
   },
   {
    "duration": 11,
    "start_time": "2023-09-27T07:34:00.257Z"
   },
   {
    "duration": 67,
    "start_time": "2023-09-27T07:34:00.269Z"
   },
   {
    "duration": 55,
    "start_time": "2023-09-27T07:34:00.338Z"
   },
   {
    "duration": 65,
    "start_time": "2023-09-27T07:34:00.396Z"
   },
   {
    "duration": 39,
    "start_time": "2023-09-27T07:34:00.463Z"
   },
   {
    "duration": 61,
    "start_time": "2023-09-27T07:34:00.504Z"
   },
   {
    "duration": 44,
    "start_time": "2023-09-27T07:34:00.567Z"
   },
   {
    "duration": 48,
    "start_time": "2023-09-27T07:34:00.613Z"
   },
   {
    "duration": 69,
    "start_time": "2023-09-27T07:34:00.663Z"
   },
   {
    "duration": 110,
    "start_time": "2023-09-27T07:34:00.733Z"
   },
   {
    "duration": 62,
    "start_time": "2023-09-27T07:34:00.845Z"
   },
   {
    "duration": 32,
    "start_time": "2023-09-27T07:34:00.910Z"
   },
   {
    "duration": 45,
    "start_time": "2023-09-27T07:34:00.944Z"
   },
   {
    "duration": 4,
    "start_time": "2023-09-27T08:09:45.038Z"
   },
   {
    "duration": 107,
    "start_time": "2023-09-27T08:09:45.044Z"
   },
   {
    "duration": 12,
    "start_time": "2023-09-27T08:09:45.153Z"
   },
   {
    "duration": 37,
    "start_time": "2023-09-27T08:09:45.167Z"
   },
   {
    "duration": 44,
    "start_time": "2023-09-27T08:09:45.207Z"
   },
   {
    "duration": 52,
    "start_time": "2023-09-27T08:09:45.252Z"
   },
   {
    "duration": 22,
    "start_time": "2023-09-27T08:09:45.305Z"
   },
   {
    "duration": 52,
    "start_time": "2023-09-27T08:09:45.328Z"
   },
   {
    "duration": 42,
    "start_time": "2023-09-27T08:09:45.382Z"
   },
   {
    "duration": 27,
    "start_time": "2023-09-27T08:09:45.425Z"
   },
   {
    "duration": 50,
    "start_time": "2023-09-27T08:09:45.453Z"
   },
   {
    "duration": 43,
    "start_time": "2023-09-27T08:09:45.504Z"
   },
   {
    "duration": 30,
    "start_time": "2023-09-27T08:09:45.548Z"
   },
   {
    "duration": 20,
    "start_time": "2023-09-27T08:09:45.580Z"
   },
   {
    "duration": 41,
    "start_time": "2023-09-27T08:09:45.602Z"
   },
   {
    "duration": 11,
    "start_time": "2023-09-27T08:14:50.330Z"
   },
   {
    "duration": 11,
    "start_time": "2023-09-27T08:19:57.034Z"
   },
   {
    "duration": 126,
    "start_time": "2023-09-27T08:23:47.674Z"
   },
   {
    "duration": 52,
    "start_time": "2023-09-27T08:24:30.970Z"
   },
   {
    "duration": 49,
    "start_time": "2023-09-27T08:27:37.956Z"
   },
   {
    "duration": 55,
    "start_time": "2023-09-27T08:28:12.202Z"
   },
   {
    "duration": 96,
    "start_time": "2023-09-27T08:28:17.237Z"
   },
   {
    "duration": 1721,
    "start_time": "2023-09-27T11:41:15.090Z"
   },
   {
    "duration": 122,
    "start_time": "2023-09-27T11:41:16.813Z"
   },
   {
    "duration": 11,
    "start_time": "2023-09-27T11:41:16.937Z"
   },
   {
    "duration": 57,
    "start_time": "2023-09-27T11:41:16.950Z"
   },
   {
    "duration": 36,
    "start_time": "2023-09-27T11:41:17.009Z"
   },
   {
    "duration": 54,
    "start_time": "2023-09-27T11:41:17.047Z"
   },
   {
    "duration": 19,
    "start_time": "2023-09-27T11:41:17.103Z"
   },
   {
    "duration": 118,
    "start_time": "2023-09-27T11:41:17.123Z"
   },
   {
    "duration": 62,
    "start_time": "2023-09-27T11:41:17.243Z"
   },
   {
    "duration": 51,
    "start_time": "2023-09-27T11:41:17.307Z"
   },
   {
    "duration": 45,
    "start_time": "2023-09-27T11:41:17.359Z"
   },
   {
    "duration": 31,
    "start_time": "2023-09-27T11:41:17.406Z"
   },
   {
    "duration": 53,
    "start_time": "2023-09-27T11:41:17.439Z"
   },
   {
    "duration": 49,
    "start_time": "2023-09-27T11:41:17.494Z"
   },
   {
    "duration": 22,
    "start_time": "2023-09-27T11:41:17.545Z"
   },
   {
    "duration": 141,
    "start_time": "2023-09-27T11:41:17.569Z"
   },
   {
    "duration": 12,
    "start_time": "2023-09-27T11:49:10.751Z"
   },
   {
    "duration": 9,
    "start_time": "2023-09-27T11:51:45.247Z"
   },
   {
    "duration": 11,
    "start_time": "2023-09-27T11:54:19.172Z"
   },
   {
    "duration": 11,
    "start_time": "2023-09-27T11:54:43.533Z"
   },
   {
    "duration": 51,
    "start_time": "2023-09-27T12:53:24.189Z"
   },
   {
    "duration": 49,
    "start_time": "2023-09-27T12:55:38.299Z"
   },
   {
    "duration": 97,
    "start_time": "2023-09-27T12:55:45.392Z"
   },
   {
    "duration": 94,
    "start_time": "2023-09-27T12:56:26.274Z"
   },
   {
    "duration": 62,
    "start_time": "2023-09-27T12:56:48.988Z"
   },
   {
    "duration": 54,
    "start_time": "2023-09-27T13:02:59.602Z"
   },
   {
    "duration": 97,
    "start_time": "2023-09-27T13:03:08.867Z"
   },
   {
    "duration": 96,
    "start_time": "2023-09-27T13:03:37.448Z"
   },
   {
    "duration": 156,
    "start_time": "2023-09-27T13:03:51.936Z"
   },
   {
    "duration": 110,
    "start_time": "2023-09-27T13:05:30.614Z"
   },
   {
    "duration": 1768,
    "start_time": "2023-09-28T12:33:48.674Z"
   },
   {
    "duration": 132,
    "start_time": "2023-09-28T12:33:50.444Z"
   },
   {
    "duration": 12,
    "start_time": "2023-09-28T12:33:50.578Z"
   },
   {
    "duration": 257,
    "start_time": "2023-09-28T12:33:50.592Z"
   },
   {
    "duration": 141,
    "start_time": "2023-09-28T12:33:50.851Z"
   },
   {
    "duration": 85,
    "start_time": "2023-09-28T12:33:50.994Z"
   },
   {
    "duration": 78,
    "start_time": "2023-09-28T12:33:51.081Z"
   },
   {
    "duration": 53,
    "start_time": "2023-09-28T12:33:51.160Z"
   },
   {
    "duration": 40,
    "start_time": "2023-09-28T12:33:51.215Z"
   },
   {
    "duration": 98,
    "start_time": "2023-09-28T12:33:51.257Z"
   },
   {
    "duration": 82,
    "start_time": "2023-09-28T12:33:51.357Z"
   },
   {
    "duration": 109,
    "start_time": "2023-09-28T12:33:51.442Z"
   },
   {
    "duration": 27,
    "start_time": "2023-09-28T12:33:51.554Z"
   },
   {
    "duration": 79,
    "start_time": "2023-09-28T12:33:51.585Z"
   },
   {
    "duration": 58,
    "start_time": "2023-09-28T12:33:51.666Z"
   },
   {
    "duration": 27,
    "start_time": "2023-09-28T12:33:51.730Z"
   },
   {
    "duration": 38,
    "start_time": "2023-09-28T12:33:51.759Z"
   },
   {
    "duration": 106,
    "start_time": "2023-09-28T12:33:51.798Z"
   },
   {
    "duration": 122,
    "start_time": "2023-09-28T12:44:10.354Z"
   },
   {
    "duration": 84,
    "start_time": "2023-09-28T12:44:33.413Z"
   },
   {
    "duration": 122,
    "start_time": "2023-09-28T12:45:27.555Z"
   },
   {
    "duration": 85,
    "start_time": "2023-09-28T12:45:38.678Z"
   },
   {
    "duration": 126,
    "start_time": "2023-09-28T12:49:38.851Z"
   },
   {
    "duration": 103,
    "start_time": "2023-09-28T12:50:16.052Z"
   },
   {
    "duration": 12,
    "start_time": "2023-09-28T12:50:59.706Z"
   },
   {
    "duration": 16,
    "start_time": "2023-09-28T12:52:11.593Z"
   },
   {
    "duration": 2108,
    "start_time": "2023-09-28T12:52:19.218Z"
   },
   {
    "duration": 2134,
    "start_time": "2023-09-28T12:53:29.642Z"
   },
   {
    "duration": 2210,
    "start_time": "2023-09-28T13:16:54.992Z"
   },
   {
    "duration": 4,
    "start_time": "2023-09-28T13:21:22.048Z"
   },
   {
    "duration": 41,
    "start_time": "2023-09-28T13:21:22.054Z"
   },
   {
    "duration": 8,
    "start_time": "2023-09-28T13:21:22.097Z"
   },
   {
    "duration": 12,
    "start_time": "2023-09-28T13:21:22.106Z"
   },
   {
    "duration": 18,
    "start_time": "2023-09-28T13:21:22.120Z"
   },
   {
    "duration": 22,
    "start_time": "2023-09-28T13:21:22.140Z"
   },
   {
    "duration": 8,
    "start_time": "2023-09-28T13:21:22.164Z"
   },
   {
    "duration": 8,
    "start_time": "2023-09-28T13:21:22.174Z"
   },
   {
    "duration": 15,
    "start_time": "2023-09-28T13:21:22.183Z"
   },
   {
    "duration": 24,
    "start_time": "2023-09-28T13:21:22.200Z"
   },
   {
    "duration": 9,
    "start_time": "2023-09-28T13:21:22.226Z"
   },
   {
    "duration": 4,
    "start_time": "2023-09-28T13:21:22.237Z"
   },
   {
    "duration": 10,
    "start_time": "2023-09-28T13:21:22.243Z"
   },
   {
    "duration": 5,
    "start_time": "2023-09-28T13:21:22.257Z"
   },
   {
    "duration": 8,
    "start_time": "2023-09-28T13:21:22.264Z"
   },
   {
    "duration": 52,
    "start_time": "2023-09-28T13:21:22.276Z"
   },
   {
    "duration": 16,
    "start_time": "2023-09-28T13:21:22.330Z"
   },
   {
    "duration": 136,
    "start_time": "2023-09-28T13:21:22.348Z"
   },
   {
    "duration": 2138,
    "start_time": "2023-09-28T13:21:22.486Z"
   },
   {
    "duration": 2345,
    "start_time": "2023-09-28T13:22:16.524Z"
   },
   {
    "duration": 2334,
    "start_time": "2023-09-28T13:23:15.579Z"
   },
   {
    "duration": 2448,
    "start_time": "2023-09-28T13:26:08.250Z"
   },
   {
    "duration": 90,
    "start_time": "2023-09-28T13:42:30.453Z"
   },
   {
    "duration": 4350,
    "start_time": "2023-09-28T13:47:22.618Z"
   },
   {
    "duration": 7686,
    "start_time": "2023-09-28T13:48:57.507Z"
   },
   {
    "duration": 2624,
    "start_time": "2023-09-28T13:49:06.285Z"
   },
   {
    "duration": 39,
    "start_time": "2023-09-28T13:49:08.912Z"
   },
   {
    "duration": 30,
    "start_time": "2023-09-28T13:49:08.952Z"
   },
   {
    "duration": 43,
    "start_time": "2023-09-28T13:49:08.984Z"
   },
   {
    "duration": 40,
    "start_time": "2023-09-28T13:49:09.029Z"
   },
   {
    "duration": 38,
    "start_time": "2023-09-28T13:49:09.071Z"
   },
   {
    "duration": 18,
    "start_time": "2023-09-28T13:49:09.111Z"
   },
   {
    "duration": 12,
    "start_time": "2023-09-28T13:49:09.131Z"
   },
   {
    "duration": 26,
    "start_time": "2023-09-28T13:49:09.144Z"
   },
   {
    "duration": 13,
    "start_time": "2023-09-28T13:49:09.172Z"
   },
   {
    "duration": 37,
    "start_time": "2023-09-28T13:49:09.186Z"
   },
   {
    "duration": 21,
    "start_time": "2023-09-28T13:49:09.225Z"
   },
   {
    "duration": 27,
    "start_time": "2023-09-28T13:49:09.247Z"
   },
   {
    "duration": 18,
    "start_time": "2023-09-28T13:49:09.276Z"
   },
   {
    "duration": 11,
    "start_time": "2023-09-28T13:49:09.296Z"
   },
   {
    "duration": 48,
    "start_time": "2023-09-28T13:49:09.309Z"
   },
   {
    "duration": 34,
    "start_time": "2023-09-28T13:49:09.359Z"
   },
   {
    "duration": 94,
    "start_time": "2023-09-28T13:49:09.395Z"
   },
   {
    "duration": 2379,
    "start_time": "2023-09-28T13:49:09.491Z"
   },
   {
    "duration": 4267,
    "start_time": "2023-09-28T13:49:11.872Z"
   },
   {
    "duration": 2312,
    "start_time": "2023-09-28T13:52:05.651Z"
   },
   {
    "duration": 17,
    "start_time": "2023-09-28T13:52:52.068Z"
   },
   {
    "duration": 2263,
    "start_time": "2023-09-28T13:53:04.433Z"
   },
   {
    "duration": 2279,
    "start_time": "2023-09-28T13:53:10.859Z"
   },
   {
    "duration": 142,
    "start_time": "2023-09-28T13:55:13.395Z"
   },
   {
    "duration": 314,
    "start_time": "2023-09-28T13:57:28.722Z"
   },
   {
    "duration": 22,
    "start_time": "2023-09-28T13:57:37.201Z"
   },
   {
    "duration": 108,
    "start_time": "2023-09-28T13:58:25.243Z"
   },
   {
    "duration": 84,
    "start_time": "2023-09-28T13:58:50.313Z"
   },
   {
    "duration": 198,
    "start_time": "2023-09-28T13:58:56.609Z"
   },
   {
    "duration": 83,
    "start_time": "2023-09-28T13:59:07.184Z"
   },
   {
    "duration": 27,
    "start_time": "2023-09-28T14:03:12.494Z"
   },
   {
    "duration": 14,
    "start_time": "2023-09-28T14:22:38.151Z"
   },
   {
    "duration": 9,
    "start_time": "2023-09-28T14:23:00.826Z"
   },
   {
    "duration": 8,
    "start_time": "2023-09-28T14:23:53.658Z"
   },
   {
    "duration": 9,
    "start_time": "2023-09-28T14:25:16.653Z"
   },
   {
    "duration": 7,
    "start_time": "2023-09-28T14:25:23.786Z"
   },
   {
    "duration": 45,
    "start_time": "2023-09-29T08:13:17.148Z"
   },
   {
    "duration": 11390,
    "start_time": "2023-09-29T08:13:20.578Z"
   },
   {
    "duration": 169,
    "start_time": "2023-09-29T08:13:31.970Z"
   },
   {
    "duration": 12,
    "start_time": "2023-09-29T08:13:32.140Z"
   },
   {
    "duration": 25,
    "start_time": "2023-09-29T08:13:32.153Z"
   },
   {
    "duration": 52,
    "start_time": "2023-09-29T08:13:32.180Z"
   },
   {
    "duration": 70,
    "start_time": "2023-09-29T08:13:32.233Z"
   },
   {
    "duration": 9,
    "start_time": "2023-09-29T08:13:32.306Z"
   },
   {
    "duration": 13,
    "start_time": "2023-09-29T08:13:32.317Z"
   },
   {
    "duration": 21,
    "start_time": "2023-09-29T08:13:32.332Z"
   },
   {
    "duration": 27,
    "start_time": "2023-09-29T08:13:32.355Z"
   },
   {
    "duration": 29,
    "start_time": "2023-09-29T08:13:32.384Z"
   },
   {
    "duration": 14,
    "start_time": "2023-09-29T08:13:32.415Z"
   },
   {
    "duration": 39,
    "start_time": "2023-09-29T08:13:32.430Z"
   },
   {
    "duration": 21,
    "start_time": "2023-09-29T08:13:32.471Z"
   },
   {
    "duration": 24,
    "start_time": "2023-09-29T08:13:32.494Z"
   },
   {
    "duration": 30,
    "start_time": "2023-09-29T08:13:32.520Z"
   },
   {
    "duration": 23,
    "start_time": "2023-09-29T08:13:32.552Z"
   },
   {
    "duration": 129,
    "start_time": "2023-09-29T08:13:32.577Z"
   },
   {
    "duration": 2450,
    "start_time": "2023-09-29T08:13:32.708Z"
   },
   {
    "duration": 19,
    "start_time": "2023-09-29T08:13:35.160Z"
   },
   {
    "duration": 11,
    "start_time": "2023-09-29T08:13:35.181Z"
   },
   {
    "duration": 88,
    "start_time": "2023-09-29T08:13:35.193Z"
   },
   {
    "duration": 2471,
    "start_time": "2023-09-29T08:14:17.066Z"
   },
   {
    "duration": 38,
    "start_time": "2023-09-29T08:14:19.539Z"
   },
   {
    "duration": 8,
    "start_time": "2023-09-29T08:14:19.579Z"
   },
   {
    "duration": 17,
    "start_time": "2023-09-29T08:14:19.588Z"
   },
   {
    "duration": 25,
    "start_time": "2023-09-29T08:14:19.607Z"
   },
   {
    "duration": 34,
    "start_time": "2023-09-29T08:14:19.633Z"
   },
   {
    "duration": 6,
    "start_time": "2023-09-29T08:14:19.669Z"
   },
   {
    "duration": 18,
    "start_time": "2023-09-29T08:14:19.677Z"
   },
   {
    "duration": 17,
    "start_time": "2023-09-29T08:14:19.697Z"
   },
   {
    "duration": 4,
    "start_time": "2023-09-29T08:14:19.716Z"
   },
   {
    "duration": 22,
    "start_time": "2023-09-29T08:14:19.722Z"
   },
   {
    "duration": 11,
    "start_time": "2023-09-29T08:14:19.746Z"
   },
   {
    "duration": 10,
    "start_time": "2023-09-29T08:14:19.759Z"
   },
   {
    "duration": 6,
    "start_time": "2023-09-29T08:14:19.772Z"
   },
   {
    "duration": 24,
    "start_time": "2023-09-29T08:14:19.780Z"
   },
   {
    "duration": 44,
    "start_time": "2023-09-29T08:14:19.806Z"
   },
   {
    "duration": 29,
    "start_time": "2023-09-29T08:14:19.852Z"
   },
   {
    "duration": 112,
    "start_time": "2023-09-29T08:14:19.883Z"
   },
   {
    "duration": 2606,
    "start_time": "2023-09-29T08:14:19.997Z"
   },
   {
    "duration": 21,
    "start_time": "2023-09-29T08:14:22.604Z"
   },
   {
    "duration": 24,
    "start_time": "2023-09-29T08:14:22.627Z"
   },
   {
    "duration": 7,
    "start_time": "2023-09-29T08:14:22.652Z"
   },
   {
    "duration": 7681,
    "start_time": "2023-09-29T19:23:31.351Z"
   },
   {
    "duration": 129,
    "start_time": "2023-09-29T19:23:39.034Z"
   },
   {
    "duration": 11,
    "start_time": "2023-09-29T19:23:39.164Z"
   },
   {
    "duration": 16,
    "start_time": "2023-09-29T19:23:39.176Z"
   },
   {
    "duration": 15,
    "start_time": "2023-09-29T19:23:39.193Z"
   },
   {
    "duration": 20,
    "start_time": "2023-09-29T19:23:39.209Z"
   },
   {
    "duration": 7,
    "start_time": "2023-09-29T19:23:39.231Z"
   },
   {
    "duration": 6,
    "start_time": "2023-09-29T19:23:39.250Z"
   },
   {
    "duration": 9,
    "start_time": "2023-09-29T19:23:39.258Z"
   },
   {
    "duration": 8,
    "start_time": "2023-09-29T19:23:39.270Z"
   },
   {
    "duration": 9,
    "start_time": "2023-09-29T19:23:39.280Z"
   },
   {
    "duration": 6,
    "start_time": "2023-09-29T19:23:39.291Z"
   },
   {
    "duration": 53,
    "start_time": "2023-09-29T19:23:39.299Z"
   },
   {
    "duration": 5,
    "start_time": "2023-09-29T19:23:39.354Z"
   },
   {
    "duration": 15,
    "start_time": "2023-09-29T19:23:39.361Z"
   },
   {
    "duration": 21,
    "start_time": "2023-09-29T19:23:39.377Z"
   },
   {
    "duration": 12,
    "start_time": "2023-09-29T19:23:39.399Z"
   },
   {
    "duration": 138,
    "start_time": "2023-09-29T19:23:39.413Z"
   },
   {
    "duration": 2575,
    "start_time": "2023-09-29T19:23:39.553Z"
   },
   {
    "duration": 29,
    "start_time": "2023-09-29T19:23:42.130Z"
   },
   {
    "duration": 7,
    "start_time": "2023-09-29T19:23:42.160Z"
   },
   {
    "duration": 38,
    "start_time": "2023-09-29T19:23:42.168Z"
   },
   {
    "duration": 16,
    "start_time": "2023-09-29T20:13:30.443Z"
   },
   {
    "duration": 9730,
    "start_time": "2023-10-01T10:57:31.745Z"
   },
   {
    "duration": 128,
    "start_time": "2023-10-01T10:57:41.477Z"
   },
   {
    "duration": 11,
    "start_time": "2023-10-01T10:57:41.607Z"
   },
   {
    "duration": 9,
    "start_time": "2023-10-01T10:57:41.619Z"
   },
   {
    "duration": 27,
    "start_time": "2023-10-01T10:57:41.631Z"
   },
   {
    "duration": 22,
    "start_time": "2023-10-01T10:57:41.660Z"
   },
   {
    "duration": 12,
    "start_time": "2023-10-01T10:57:41.684Z"
   },
   {
    "duration": 11,
    "start_time": "2023-10-01T10:57:41.698Z"
   },
   {
    "duration": 19,
    "start_time": "2023-10-01T10:57:41.710Z"
   },
   {
    "duration": 10,
    "start_time": "2023-10-01T10:57:41.731Z"
   },
   {
    "duration": 20,
    "start_time": "2023-10-01T10:57:41.743Z"
   },
   {
    "duration": 12,
    "start_time": "2023-10-01T10:57:41.765Z"
   },
   {
    "duration": 15,
    "start_time": "2023-10-01T10:57:41.778Z"
   },
   {
    "duration": 18,
    "start_time": "2023-10-01T10:57:41.796Z"
   },
   {
    "duration": 36,
    "start_time": "2023-10-01T10:57:41.816Z"
   },
   {
    "duration": 55,
    "start_time": "2023-10-01T10:57:41.854Z"
   },
   {
    "duration": 18,
    "start_time": "2023-10-01T10:57:41.911Z"
   },
   {
    "duration": 144,
    "start_time": "2023-10-01T10:57:41.935Z"
   },
   {
    "duration": 2828,
    "start_time": "2023-10-01T10:57:42.080Z"
   },
   {
    "duration": 39,
    "start_time": "2023-10-01T10:57:44.911Z"
   },
   {
    "duration": 7,
    "start_time": "2023-10-01T10:57:44.951Z"
   },
   {
    "duration": 20,
    "start_time": "2023-10-01T10:57:44.959Z"
   },
   {
    "duration": 112,
    "start_time": "2023-10-01T11:13:16.902Z"
   },
   {
    "duration": 114,
    "start_time": "2023-10-01T11:13:32.045Z"
   },
   {
    "duration": 135,
    "start_time": "2023-10-01T11:13:37.655Z"
   },
   {
    "duration": 11,
    "start_time": "2023-10-01T11:13:51.558Z"
   },
   {
    "duration": 12,
    "start_time": "2023-10-01T11:14:01.902Z"
   },
   {
    "duration": 153,
    "start_time": "2023-10-01T11:14:18.544Z"
   },
   {
    "duration": 11,
    "start_time": "2023-10-01T11:18:40.919Z"
   },
   {
    "duration": 6,
    "start_time": "2023-10-01T11:23:08.917Z"
   },
   {
    "duration": 6,
    "start_time": "2023-10-01T11:23:27.674Z"
   },
   {
    "duration": 105,
    "start_time": "2023-10-01T11:27:41.177Z"
   },
   {
    "duration": 8369,
    "start_time": "2023-10-02T10:08:51.875Z"
   },
   {
    "duration": 133,
    "start_time": "2023-10-02T10:09:00.247Z"
   },
   {
    "duration": 14,
    "start_time": "2023-10-02T10:09:00.383Z"
   },
   {
    "duration": 54,
    "start_time": "2023-10-02T10:09:00.400Z"
   },
   {
    "duration": 46,
    "start_time": "2023-10-02T10:09:00.456Z"
   },
   {
    "duration": 65,
    "start_time": "2023-10-02T10:09:00.503Z"
   },
   {
    "duration": 26,
    "start_time": "2023-10-02T10:09:00.570Z"
   },
   {
    "duration": 46,
    "start_time": "2023-10-02T10:09:00.598Z"
   },
   {
    "duration": 52,
    "start_time": "2023-10-02T10:09:00.646Z"
   },
   {
    "duration": 105,
    "start_time": "2023-10-02T10:09:00.701Z"
   },
   {
    "duration": 79,
    "start_time": "2023-10-02T10:09:00.808Z"
   },
   {
    "duration": 109,
    "start_time": "2023-10-02T10:09:00.888Z"
   },
   {
    "duration": 120,
    "start_time": "2023-10-02T10:09:00.999Z"
   },
   {
    "duration": 47,
    "start_time": "2023-10-02T10:09:01.120Z"
   },
   {
    "duration": 92,
    "start_time": "2023-10-02T10:09:01.168Z"
   },
   {
    "duration": 118,
    "start_time": "2023-10-02T10:09:01.262Z"
   },
   {
    "duration": 81,
    "start_time": "2023-10-02T10:09:01.382Z"
   },
   {
    "duration": 295,
    "start_time": "2023-10-02T10:09:01.465Z"
   },
   {
    "duration": 3248,
    "start_time": "2023-10-02T10:09:01.762Z"
   },
   {
    "duration": 36,
    "start_time": "2023-10-02T10:09:05.011Z"
   },
   {
    "duration": 23,
    "start_time": "2023-10-02T10:09:05.049Z"
   },
   {
    "duration": 55,
    "start_time": "2023-10-02T10:09:05.073Z"
   },
   {
    "duration": 28,
    "start_time": "2023-10-02T10:09:05.130Z"
   },
   {
    "duration": 8,
    "start_time": "2023-10-02T10:29:21.116Z"
   },
   {
    "duration": 4493,
    "start_time": "2023-10-02T10:49:16.367Z"
   },
   {
    "duration": 45,
    "start_time": "2023-10-02T10:49:20.864Z"
   },
   {
    "duration": 35,
    "start_time": "2023-10-02T10:49:20.911Z"
   },
   {
    "duration": 35,
    "start_time": "2023-10-02T10:49:20.949Z"
   },
   {
    "duration": 52,
    "start_time": "2023-10-02T10:49:20.987Z"
   },
   {
    "duration": 37,
    "start_time": "2023-10-02T10:49:21.040Z"
   },
   {
    "duration": 7,
    "start_time": "2023-10-02T10:49:21.079Z"
   },
   {
    "duration": 29,
    "start_time": "2023-10-02T10:49:21.087Z"
   },
   {
    "duration": 23,
    "start_time": "2023-10-02T10:49:21.117Z"
   },
   {
    "duration": 29,
    "start_time": "2023-10-02T10:49:21.141Z"
   },
   {
    "duration": 38,
    "start_time": "2023-10-02T10:49:21.172Z"
   },
   {
    "duration": 74,
    "start_time": "2023-10-02T10:49:21.212Z"
   },
   {
    "duration": 28,
    "start_time": "2023-10-02T10:49:21.288Z"
   },
   {
    "duration": 18,
    "start_time": "2023-10-02T10:49:21.319Z"
   },
   {
    "duration": 44,
    "start_time": "2023-10-02T10:49:21.340Z"
   },
   {
    "duration": 29,
    "start_time": "2023-10-02T10:49:21.387Z"
   },
   {
    "duration": 16,
    "start_time": "2023-10-02T10:49:21.418Z"
   },
   {
    "duration": 165,
    "start_time": "2023-10-02T10:49:21.436Z"
   },
   {
    "duration": 3202,
    "start_time": "2023-10-02T10:49:21.603Z"
   },
   {
    "duration": 40,
    "start_time": "2023-10-02T10:49:24.807Z"
   },
   {
    "duration": 19,
    "start_time": "2023-10-02T10:49:24.849Z"
   },
   {
    "duration": 11,
    "start_time": "2023-10-02T10:49:24.870Z"
   },
   {
    "duration": 25,
    "start_time": "2023-10-02T10:49:24.883Z"
   },
   {
    "duration": 8,
    "start_time": "2023-10-02T10:49:57.662Z"
   }
  ],
  "kernelspec": {
   "display_name": "Python 3 (ipykernel)",
   "language": "python",
   "name": "python3"
  },
  "language_info": {
   "codemirror_mode": {
    "name": "ipython",
    "version": 3
   },
   "file_extension": ".py",
   "mimetype": "text/x-python",
   "name": "python",
   "nbconvert_exporter": "python",
   "pygments_lexer": "ipython3",
   "version": "3.11.5"
  },
  "toc": {
   "base_numbering": 1,
   "nav_menu": {},
   "number_sections": true,
   "sideBar": true,
   "skip_h1_title": true,
   "title_cell": "Table of Contents",
   "title_sidebar": "Contents",
   "toc_cell": false,
   "toc_position": {},
   "toc_section_display": true,
   "toc_window_display": false
  }
 },
 "nbformat": 4,
 "nbformat_minor": 4
}
