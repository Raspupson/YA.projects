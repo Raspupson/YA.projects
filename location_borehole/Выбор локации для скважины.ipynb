{
 "cells": [
  {
   "cell_type": "markdown",
   "metadata": {},
   "source": [
    "# Выбор локации для скважины"
   ]
  },
  {
   "cell_type": "markdown",
   "metadata": {},
   "source": [
    "Допустим, вы работаете в добывающей компании «ГлавРосГосНефть». Нужно решить, где бурить новую скважину.\n",
    "\n",
    "Вам предоставлены пробы нефти в трёх регионах: в каждом 10 000 месторождений, где измерили качество нефти и объём её запасов. Постройте модель машинного обучения, которая поможет определить регион, где добыча принесёт наибольшую прибыль. Проанализируйте возможную прибыль и риски техникой *Bootstrap.*\n",
    "\n",
    "Шаги для выбора локации:\n",
    "\n",
    "- В избранном регионе ищут месторождения, для каждого определяют значения признаков;\n",
    "- Строят модель и оценивают объём запасов;\n",
    "- Выбирают месторождения с самым высокими оценками значений. Количество месторождений зависит от бюджета компании и стоимости разработки одной скважины;\n",
    "- Прибыль равна суммарной прибыли отобранных месторождений."
   ]
  },
  {
   "cell_type": "markdown",
   "metadata": {},
   "source": [
    "Описание данных\n",
    "\n",
    "Данные геологоразведки трёх регионов находятся в файлах: \n",
    "\n",
    "/datasets/geo_data_0.csv \n",
    "\n",
    "/datasets/geo_data_1.csv \n",
    "\n",
    "/datasets/geo_data_2.csv\n",
    "\n",
    "\n",
    "id — уникальный идентификатор скважины;\n",
    "\n",
    "f0, f1, f2 — три признака точек (неважно, что они означают, но сами признаки значимы);\n",
    "\n",
    "product — объём запасов в скважине (тыс. баррелей)."
   ]
  },
  {
   "cell_type": "markdown",
   "metadata": {},
   "source": [
    "Импортируем необходимые библиотеки для работы"
   ]
  },
  {
   "cell_type": "code",
   "execution_count": 1,
   "metadata": {
    "tags": []
   },
   "outputs": [],
   "source": [
    "import pandas as pd\n",
    "import numpy as np\n",
    "import matplotlib as mplt\n",
    "import matplotlib.pyplot as plt\n",
    "import seaborn as sns\n",
    "from scipy import stats as st\n",
    "from sklearn.tree import DecisionTreeClassifier\n",
    "from sklearn.ensemble import RandomForestClassifier\n",
    "from sklearn.linear_model import LogisticRegression\n",
    "from sklearn.model_selection import train_test_split\n",
    "from sklearn.metrics import accuracy_score\n",
    "from sklearn.metrics import mean_squared_error as mse\n",
    "from sklearn.dummy import DummyClassifier\n",
    "from sklearn.model_selection import cross_val_score\n",
    "from sklearn.preprocessing import StandardScaler\n",
    "from sklearn.linear_model import LinearRegression\n",
    "from sklearn.metrics import mean_squared_error\n",
    "from numpy.random import RandomState\n",
    "RANDOM_STATE = RandomState(0)\n",
    "\n",
    "\n",
    "\n",
    "pd.set_option('display.float_format', '{:,.2f}'.format)"
   ]
  },
  {
   "cell_type": "markdown",
   "metadata": {},
   "source": [
    "## Загрузка и подготовка данных"
   ]
  },
  {
   "cell_type": "markdown",
   "metadata": {},
   "source": [
    "Загрузим и изучим представленные данные"
   ]
  },
  {
   "cell_type": "code",
   "execution_count": 2,
   "metadata": {
    "tags": []
   },
   "outputs": [],
   "source": [
    "data_0 = pd.read_csv(r\"C:\\Users\\lebed\\Downloads\\geo_data_0.csv\")\n",
    "data_1 = pd.read_csv(r\"C:\\Users\\lebed\\Downloads\\geo_data_1.csv\")\n",
    "data_2 = pd.read_csv(r\"C:\\Users\\lebed\\Downloads\\geo_data_2.csv\")"
   ]
  },
  {
   "cell_type": "code",
   "execution_count": 3,
   "metadata": {
    "tags": []
   },
   "outputs": [
    {
     "name": "stdout",
     "output_type": "stream",
     "text": [
      "------------- Исходный датафрейм -------------\n"
     ]
    },
    {
     "data": {
      "text/html": [
       "<div>\n",
       "<style scoped>\n",
       "    .dataframe tbody tr th:only-of-type {\n",
       "        vertical-align: middle;\n",
       "    }\n",
       "\n",
       "    .dataframe tbody tr th {\n",
       "        vertical-align: top;\n",
       "    }\n",
       "\n",
       "    .dataframe thead th {\n",
       "        text-align: right;\n",
       "    }\n",
       "</style>\n",
       "<table border=\"1\" class=\"dataframe\">\n",
       "  <thead>\n",
       "    <tr style=\"text-align: right;\">\n",
       "      <th></th>\n",
       "      <th>id</th>\n",
       "      <th>f0</th>\n",
       "      <th>f1</th>\n",
       "      <th>f2</th>\n",
       "      <th>product</th>\n",
       "    </tr>\n",
       "  </thead>\n",
       "  <tbody>\n",
       "    <tr>\n",
       "      <th>0</th>\n",
       "      <td>txEyH</td>\n",
       "      <td>0.71</td>\n",
       "      <td>-0.50</td>\n",
       "      <td>1.22</td>\n",
       "      <td>105.28</td>\n",
       "    </tr>\n",
       "    <tr>\n",
       "      <th>1</th>\n",
       "      <td>2acmU</td>\n",
       "      <td>1.33</td>\n",
       "      <td>-0.34</td>\n",
       "      <td>4.37</td>\n",
       "      <td>73.04</td>\n",
       "    </tr>\n",
       "    <tr>\n",
       "      <th>2</th>\n",
       "      <td>409Wp</td>\n",
       "      <td>1.02</td>\n",
       "      <td>0.15</td>\n",
       "      <td>1.42</td>\n",
       "      <td>85.27</td>\n",
       "    </tr>\n",
       "    <tr>\n",
       "      <th>3</th>\n",
       "      <td>iJLyR</td>\n",
       "      <td>-0.03</td>\n",
       "      <td>0.14</td>\n",
       "      <td>2.98</td>\n",
       "      <td>168.62</td>\n",
       "    </tr>\n",
       "    <tr>\n",
       "      <th>4</th>\n",
       "      <td>Xdl7t</td>\n",
       "      <td>1.99</td>\n",
       "      <td>0.16</td>\n",
       "      <td>4.75</td>\n",
       "      <td>154.04</td>\n",
       "    </tr>\n",
       "  </tbody>\n",
       "</table>\n",
       "</div>"
      ],
      "text/plain": [
       "      id    f0    f1   f2  product\n",
       "0  txEyH  0.71 -0.50 1.22   105.28\n",
       "1  2acmU  1.33 -0.34 4.37    73.04\n",
       "2  409Wp  1.02  0.15 1.42    85.27\n",
       "3  iJLyR -0.03  0.14 2.98   168.62\n",
       "4  Xdl7t  1.99  0.16 4.75   154.04"
      ]
     },
     "metadata": {},
     "output_type": "display_data"
    },
    {
     "data": {
      "text/html": [
       "<div>\n",
       "<style scoped>\n",
       "    .dataframe tbody tr th:only-of-type {\n",
       "        vertical-align: middle;\n",
       "    }\n",
       "\n",
       "    .dataframe tbody tr th {\n",
       "        vertical-align: top;\n",
       "    }\n",
       "\n",
       "    .dataframe thead th {\n",
       "        text-align: right;\n",
       "    }\n",
       "</style>\n",
       "<table border=\"1\" class=\"dataframe\">\n",
       "  <thead>\n",
       "    <tr style=\"text-align: right;\">\n",
       "      <th></th>\n",
       "      <th>id</th>\n",
       "      <th>f0</th>\n",
       "      <th>f1</th>\n",
       "      <th>f2</th>\n",
       "      <th>product</th>\n",
       "    </tr>\n",
       "  </thead>\n",
       "  <tbody>\n",
       "    <tr>\n",
       "      <th>99995</th>\n",
       "      <td>DLsed</td>\n",
       "      <td>0.97</td>\n",
       "      <td>0.37</td>\n",
       "      <td>6.08</td>\n",
       "      <td>110.74</td>\n",
       "    </tr>\n",
       "    <tr>\n",
       "      <th>99996</th>\n",
       "      <td>QKivN</td>\n",
       "      <td>1.39</td>\n",
       "      <td>-0.38</td>\n",
       "      <td>1.27</td>\n",
       "      <td>122.35</td>\n",
       "    </tr>\n",
       "    <tr>\n",
       "      <th>99997</th>\n",
       "      <td>3rnvd</td>\n",
       "      <td>1.03</td>\n",
       "      <td>0.02</td>\n",
       "      <td>-1.35</td>\n",
       "      <td>64.38</td>\n",
       "    </tr>\n",
       "    <tr>\n",
       "      <th>99998</th>\n",
       "      <td>7kl59</td>\n",
       "      <td>1.00</td>\n",
       "      <td>-0.53</td>\n",
       "      <td>1.58</td>\n",
       "      <td>74.04</td>\n",
       "    </tr>\n",
       "    <tr>\n",
       "      <th>99999</th>\n",
       "      <td>1CWhH</td>\n",
       "      <td>1.76</td>\n",
       "      <td>-0.27</td>\n",
       "      <td>5.72</td>\n",
       "      <td>149.63</td>\n",
       "    </tr>\n",
       "  </tbody>\n",
       "</table>\n",
       "</div>"
      ],
      "text/plain": [
       "          id   f0    f1    f2  product\n",
       "99995  DLsed 0.97  0.37  6.08   110.74\n",
       "99996  QKivN 1.39 -0.38  1.27   122.35\n",
       "99997  3rnvd 1.03  0.02 -1.35    64.38\n",
       "99998  7kl59 1.00 -0.53  1.58    74.04\n",
       "99999  1CWhH 1.76 -0.27  5.72   149.63"
      ]
     },
     "metadata": {},
     "output_type": "display_data"
    },
    {
     "name": "stdout",
     "output_type": "stream",
     "text": [
      "\n",
      "\n",
      "------------- Общая информация о датафрейме -------------\n",
      "\n",
      "\n",
      "<class 'pandas.core.frame.DataFrame'>\n",
      "RangeIndex: 100000 entries, 0 to 99999\n",
      "Data columns (total 5 columns):\n",
      " #   Column   Non-Null Count   Dtype  \n",
      "---  ------   --------------   -----  \n",
      " 0   id       100000 non-null  object \n",
      " 1   f0       100000 non-null  float64\n",
      " 2   f1       100000 non-null  float64\n",
      " 3   f2       100000 non-null  float64\n",
      " 4   product  100000 non-null  float64\n",
      "dtypes: float64(4), object(1)\n",
      "memory usage: 3.8+ MB\n"
     ]
    },
    {
     "data": {
      "text/plain": [
       "None"
      ]
     },
     "metadata": {},
     "output_type": "display_data"
    },
    {
     "name": "stdout",
     "output_type": "stream",
     "text": [
      "------------- Количество пустых значений в датафрейме -------------\n",
      "\n",
      "\n"
     ]
    },
    {
     "data": {
      "text/plain": [
       "id         0\n",
       "f0         0\n",
       "f1         0\n",
       "f2         0\n",
       "product    0\n",
       "dtype: int64"
      ]
     },
     "metadata": {},
     "output_type": "display_data"
    },
    {
     "name": "stdout",
     "output_type": "stream",
     "text": [
      "------------- Количество явных дубликатов в датафрейме -------------\n"
     ]
    },
    {
     "data": {
      "text/plain": [
       "0"
      ]
     },
     "metadata": {},
     "output_type": "display_data"
    },
    {
     "name": "stdout",
     "output_type": "stream",
     "text": [
      "\n",
      "\n",
      "------------- Описательная статистика -------------\n"
     ]
    },
    {
     "data": {
      "text/html": [
       "<div>\n",
       "<style scoped>\n",
       "    .dataframe tbody tr th:only-of-type {\n",
       "        vertical-align: middle;\n",
       "    }\n",
       "\n",
       "    .dataframe tbody tr th {\n",
       "        vertical-align: top;\n",
       "    }\n",
       "\n",
       "    .dataframe thead th {\n",
       "        text-align: right;\n",
       "    }\n",
       "</style>\n",
       "<table border=\"1\" class=\"dataframe\">\n",
       "  <thead>\n",
       "    <tr style=\"text-align: right;\">\n",
       "      <th></th>\n",
       "      <th>f0</th>\n",
       "      <th>f1</th>\n",
       "      <th>f2</th>\n",
       "      <th>product</th>\n",
       "    </tr>\n",
       "  </thead>\n",
       "  <tbody>\n",
       "    <tr>\n",
       "      <th>count</th>\n",
       "      <td>100,000.00</td>\n",
       "      <td>100,000.00</td>\n",
       "      <td>100,000.00</td>\n",
       "      <td>100,000.00</td>\n",
       "    </tr>\n",
       "    <tr>\n",
       "      <th>mean</th>\n",
       "      <td>0.50</td>\n",
       "      <td>0.25</td>\n",
       "      <td>2.50</td>\n",
       "      <td>92.50</td>\n",
       "    </tr>\n",
       "    <tr>\n",
       "      <th>std</th>\n",
       "      <td>0.87</td>\n",
       "      <td>0.50</td>\n",
       "      <td>3.25</td>\n",
       "      <td>44.29</td>\n",
       "    </tr>\n",
       "    <tr>\n",
       "      <th>min</th>\n",
       "      <td>-1.41</td>\n",
       "      <td>-0.85</td>\n",
       "      <td>-12.09</td>\n",
       "      <td>0.00</td>\n",
       "    </tr>\n",
       "    <tr>\n",
       "      <th>25%</th>\n",
       "      <td>-0.07</td>\n",
       "      <td>-0.20</td>\n",
       "      <td>0.29</td>\n",
       "      <td>56.50</td>\n",
       "    </tr>\n",
       "    <tr>\n",
       "      <th>50%</th>\n",
       "      <td>0.50</td>\n",
       "      <td>0.25</td>\n",
       "      <td>2.52</td>\n",
       "      <td>91.85</td>\n",
       "    </tr>\n",
       "    <tr>\n",
       "      <th>75%</th>\n",
       "      <td>1.07</td>\n",
       "      <td>0.70</td>\n",
       "      <td>4.72</td>\n",
       "      <td>128.56</td>\n",
       "    </tr>\n",
       "    <tr>\n",
       "      <th>max</th>\n",
       "      <td>2.36</td>\n",
       "      <td>1.34</td>\n",
       "      <td>16.00</td>\n",
       "      <td>185.36</td>\n",
       "    </tr>\n",
       "  </tbody>\n",
       "</table>\n",
       "</div>"
      ],
      "text/plain": [
       "              f0         f1         f2    product\n",
       "count 100,000.00 100,000.00 100,000.00 100,000.00\n",
       "mean        0.50       0.25       2.50      92.50\n",
       "std         0.87       0.50       3.25      44.29\n",
       "min        -1.41      -0.85     -12.09       0.00\n",
       "25%        -0.07      -0.20       0.29      56.50\n",
       "50%         0.50       0.25       2.52      91.85\n",
       "75%         1.07       0.70       4.72     128.56\n",
       "max         2.36       1.34      16.00     185.36"
      ]
     },
     "metadata": {},
     "output_type": "display_data"
    },
    {
     "name": "stdout",
     "output_type": "stream",
     "text": [
      "\n",
      "\n",
      "------------- Размер датасета -------------\n"
     ]
    },
    {
     "data": {
      "text/plain": [
       "(100000, 5)"
      ]
     },
     "metadata": {},
     "output_type": "display_data"
    },
    {
     "name": "stdout",
     "output_type": "stream",
     "text": [
      "------------- Исходный датафрейм -------------\n"
     ]
    },
    {
     "data": {
      "text/html": [
       "<div>\n",
       "<style scoped>\n",
       "    .dataframe tbody tr th:only-of-type {\n",
       "        vertical-align: middle;\n",
       "    }\n",
       "\n",
       "    .dataframe tbody tr th {\n",
       "        vertical-align: top;\n",
       "    }\n",
       "\n",
       "    .dataframe thead th {\n",
       "        text-align: right;\n",
       "    }\n",
       "</style>\n",
       "<table border=\"1\" class=\"dataframe\">\n",
       "  <thead>\n",
       "    <tr style=\"text-align: right;\">\n",
       "      <th></th>\n",
       "      <th>id</th>\n",
       "      <th>f0</th>\n",
       "      <th>f1</th>\n",
       "      <th>f2</th>\n",
       "      <th>product</th>\n",
       "    </tr>\n",
       "  </thead>\n",
       "  <tbody>\n",
       "    <tr>\n",
       "      <th>0</th>\n",
       "      <td>kBEdx</td>\n",
       "      <td>-15.00</td>\n",
       "      <td>-8.28</td>\n",
       "      <td>-0.01</td>\n",
       "      <td>3.18</td>\n",
       "    </tr>\n",
       "    <tr>\n",
       "      <th>1</th>\n",
       "      <td>62mP7</td>\n",
       "      <td>14.27</td>\n",
       "      <td>-3.48</td>\n",
       "      <td>1.00</td>\n",
       "      <td>26.95</td>\n",
       "    </tr>\n",
       "    <tr>\n",
       "      <th>2</th>\n",
       "      <td>vyE1P</td>\n",
       "      <td>6.26</td>\n",
       "      <td>-5.95</td>\n",
       "      <td>5.00</td>\n",
       "      <td>134.77</td>\n",
       "    </tr>\n",
       "    <tr>\n",
       "      <th>3</th>\n",
       "      <td>KcrkZ</td>\n",
       "      <td>-13.08</td>\n",
       "      <td>-11.51</td>\n",
       "      <td>5.00</td>\n",
       "      <td>137.95</td>\n",
       "    </tr>\n",
       "    <tr>\n",
       "      <th>4</th>\n",
       "      <td>AHL4O</td>\n",
       "      <td>12.70</td>\n",
       "      <td>-8.15</td>\n",
       "      <td>5.00</td>\n",
       "      <td>134.77</td>\n",
       "    </tr>\n",
       "  </tbody>\n",
       "</table>\n",
       "</div>"
      ],
      "text/plain": [
       "      id     f0     f1    f2  product\n",
       "0  kBEdx -15.00  -8.28 -0.01     3.18\n",
       "1  62mP7  14.27  -3.48  1.00    26.95\n",
       "2  vyE1P   6.26  -5.95  5.00   134.77\n",
       "3  KcrkZ -13.08 -11.51  5.00   137.95\n",
       "4  AHL4O  12.70  -8.15  5.00   134.77"
      ]
     },
     "metadata": {},
     "output_type": "display_data"
    },
    {
     "data": {
      "text/html": [
       "<div>\n",
       "<style scoped>\n",
       "    .dataframe tbody tr th:only-of-type {\n",
       "        vertical-align: middle;\n",
       "    }\n",
       "\n",
       "    .dataframe tbody tr th {\n",
       "        vertical-align: top;\n",
       "    }\n",
       "\n",
       "    .dataframe thead th {\n",
       "        text-align: right;\n",
       "    }\n",
       "</style>\n",
       "<table border=\"1\" class=\"dataframe\">\n",
       "  <thead>\n",
       "    <tr style=\"text-align: right;\">\n",
       "      <th></th>\n",
       "      <th>id</th>\n",
       "      <th>f0</th>\n",
       "      <th>f1</th>\n",
       "      <th>f2</th>\n",
       "      <th>product</th>\n",
       "    </tr>\n",
       "  </thead>\n",
       "  <tbody>\n",
       "    <tr>\n",
       "      <th>99995</th>\n",
       "      <td>QywKC</td>\n",
       "      <td>9.54</td>\n",
       "      <td>-6.88</td>\n",
       "      <td>2.00</td>\n",
       "      <td>53.91</td>\n",
       "    </tr>\n",
       "    <tr>\n",
       "      <th>99996</th>\n",
       "      <td>ptvty</td>\n",
       "      <td>-10.16</td>\n",
       "      <td>-12.56</td>\n",
       "      <td>5.01</td>\n",
       "      <td>137.95</td>\n",
       "    </tr>\n",
       "    <tr>\n",
       "      <th>99997</th>\n",
       "      <td>09gWa</td>\n",
       "      <td>-7.38</td>\n",
       "      <td>-3.08</td>\n",
       "      <td>5.00</td>\n",
       "      <td>137.95</td>\n",
       "    </tr>\n",
       "    <tr>\n",
       "      <th>99998</th>\n",
       "      <td>rqwUm</td>\n",
       "      <td>0.67</td>\n",
       "      <td>-6.15</td>\n",
       "      <td>1.00</td>\n",
       "      <td>30.13</td>\n",
       "    </tr>\n",
       "    <tr>\n",
       "      <th>99999</th>\n",
       "      <td>relB0</td>\n",
       "      <td>-3.43</td>\n",
       "      <td>-7.79</td>\n",
       "      <td>-0.00</td>\n",
       "      <td>3.18</td>\n",
       "    </tr>\n",
       "  </tbody>\n",
       "</table>\n",
       "</div>"
      ],
      "text/plain": [
       "          id     f0     f1    f2  product\n",
       "99995  QywKC   9.54  -6.88  2.00    53.91\n",
       "99996  ptvty -10.16 -12.56  5.01   137.95\n",
       "99997  09gWa  -7.38  -3.08  5.00   137.95\n",
       "99998  rqwUm   0.67  -6.15  1.00    30.13\n",
       "99999  relB0  -3.43  -7.79 -0.00     3.18"
      ]
     },
     "metadata": {},
     "output_type": "display_data"
    },
    {
     "name": "stdout",
     "output_type": "stream",
     "text": [
      "\n",
      "\n",
      "------------- Общая информация о датафрейме -------------\n",
      "\n",
      "\n",
      "<class 'pandas.core.frame.DataFrame'>\n",
      "RangeIndex: 100000 entries, 0 to 99999\n",
      "Data columns (total 5 columns):\n",
      " #   Column   Non-Null Count   Dtype  \n",
      "---  ------   --------------   -----  \n",
      " 0   id       100000 non-null  object \n",
      " 1   f0       100000 non-null  float64\n",
      " 2   f1       100000 non-null  float64\n",
      " 3   f2       100000 non-null  float64\n",
      " 4   product  100000 non-null  float64\n",
      "dtypes: float64(4), object(1)\n",
      "memory usage: 3.8+ MB\n"
     ]
    },
    {
     "data": {
      "text/plain": [
       "None"
      ]
     },
     "metadata": {},
     "output_type": "display_data"
    },
    {
     "name": "stdout",
     "output_type": "stream",
     "text": [
      "------------- Количество пустых значений в датафрейме -------------\n",
      "\n",
      "\n"
     ]
    },
    {
     "data": {
      "text/plain": [
       "id         0\n",
       "f0         0\n",
       "f1         0\n",
       "f2         0\n",
       "product    0\n",
       "dtype: int64"
      ]
     },
     "metadata": {},
     "output_type": "display_data"
    },
    {
     "name": "stdout",
     "output_type": "stream",
     "text": [
      "------------- Количество явных дубликатов в датафрейме -------------\n"
     ]
    },
    {
     "data": {
      "text/plain": [
       "0"
      ]
     },
     "metadata": {},
     "output_type": "display_data"
    },
    {
     "name": "stdout",
     "output_type": "stream",
     "text": [
      "\n",
      "\n",
      "------------- Описательная статистика -------------\n"
     ]
    },
    {
     "data": {
      "text/html": [
       "<div>\n",
       "<style scoped>\n",
       "    .dataframe tbody tr th:only-of-type {\n",
       "        vertical-align: middle;\n",
       "    }\n",
       "\n",
       "    .dataframe tbody tr th {\n",
       "        vertical-align: top;\n",
       "    }\n",
       "\n",
       "    .dataframe thead th {\n",
       "        text-align: right;\n",
       "    }\n",
       "</style>\n",
       "<table border=\"1\" class=\"dataframe\">\n",
       "  <thead>\n",
       "    <tr style=\"text-align: right;\">\n",
       "      <th></th>\n",
       "      <th>f0</th>\n",
       "      <th>f1</th>\n",
       "      <th>f2</th>\n",
       "      <th>product</th>\n",
       "    </tr>\n",
       "  </thead>\n",
       "  <tbody>\n",
       "    <tr>\n",
       "      <th>count</th>\n",
       "      <td>100,000.00</td>\n",
       "      <td>100,000.00</td>\n",
       "      <td>100,000.00</td>\n",
       "      <td>100,000.00</td>\n",
       "    </tr>\n",
       "    <tr>\n",
       "      <th>mean</th>\n",
       "      <td>1.14</td>\n",
       "      <td>-4.80</td>\n",
       "      <td>2.49</td>\n",
       "      <td>68.83</td>\n",
       "    </tr>\n",
       "    <tr>\n",
       "      <th>std</th>\n",
       "      <td>8.97</td>\n",
       "      <td>5.12</td>\n",
       "      <td>1.70</td>\n",
       "      <td>45.94</td>\n",
       "    </tr>\n",
       "    <tr>\n",
       "      <th>min</th>\n",
       "      <td>-31.61</td>\n",
       "      <td>-26.36</td>\n",
       "      <td>-0.02</td>\n",
       "      <td>0.00</td>\n",
       "    </tr>\n",
       "    <tr>\n",
       "      <th>25%</th>\n",
       "      <td>-6.30</td>\n",
       "      <td>-8.27</td>\n",
       "      <td>1.00</td>\n",
       "      <td>26.95</td>\n",
       "    </tr>\n",
       "    <tr>\n",
       "      <th>50%</th>\n",
       "      <td>1.15</td>\n",
       "      <td>-4.81</td>\n",
       "      <td>2.01</td>\n",
       "      <td>57.09</td>\n",
       "    </tr>\n",
       "    <tr>\n",
       "      <th>75%</th>\n",
       "      <td>8.62</td>\n",
       "      <td>-1.33</td>\n",
       "      <td>4.00</td>\n",
       "      <td>107.81</td>\n",
       "    </tr>\n",
       "    <tr>\n",
       "      <th>max</th>\n",
       "      <td>29.42</td>\n",
       "      <td>18.73</td>\n",
       "      <td>5.02</td>\n",
       "      <td>137.95</td>\n",
       "    </tr>\n",
       "  </tbody>\n",
       "</table>\n",
       "</div>"
      ],
      "text/plain": [
       "              f0         f1         f2    product\n",
       "count 100,000.00 100,000.00 100,000.00 100,000.00\n",
       "mean        1.14      -4.80       2.49      68.83\n",
       "std         8.97       5.12       1.70      45.94\n",
       "min       -31.61     -26.36      -0.02       0.00\n",
       "25%        -6.30      -8.27       1.00      26.95\n",
       "50%         1.15      -4.81       2.01      57.09\n",
       "75%         8.62      -1.33       4.00     107.81\n",
       "max        29.42      18.73       5.02     137.95"
      ]
     },
     "metadata": {},
     "output_type": "display_data"
    },
    {
     "name": "stdout",
     "output_type": "stream",
     "text": [
      "\n",
      "\n",
      "------------- Размер датасета -------------\n"
     ]
    },
    {
     "data": {
      "text/plain": [
       "(100000, 5)"
      ]
     },
     "metadata": {},
     "output_type": "display_data"
    },
    {
     "name": "stdout",
     "output_type": "stream",
     "text": [
      "------------- Исходный датафрейм -------------\n"
     ]
    },
    {
     "data": {
      "text/html": [
       "<div>\n",
       "<style scoped>\n",
       "    .dataframe tbody tr th:only-of-type {\n",
       "        vertical-align: middle;\n",
       "    }\n",
       "\n",
       "    .dataframe tbody tr th {\n",
       "        vertical-align: top;\n",
       "    }\n",
       "\n",
       "    .dataframe thead th {\n",
       "        text-align: right;\n",
       "    }\n",
       "</style>\n",
       "<table border=\"1\" class=\"dataframe\">\n",
       "  <thead>\n",
       "    <tr style=\"text-align: right;\">\n",
       "      <th></th>\n",
       "      <th>id</th>\n",
       "      <th>f0</th>\n",
       "      <th>f1</th>\n",
       "      <th>f2</th>\n",
       "      <th>product</th>\n",
       "    </tr>\n",
       "  </thead>\n",
       "  <tbody>\n",
       "    <tr>\n",
       "      <th>0</th>\n",
       "      <td>fwXo0</td>\n",
       "      <td>-1.15</td>\n",
       "      <td>0.96</td>\n",
       "      <td>-0.83</td>\n",
       "      <td>27.76</td>\n",
       "    </tr>\n",
       "    <tr>\n",
       "      <th>1</th>\n",
       "      <td>WJtFt</td>\n",
       "      <td>0.26</td>\n",
       "      <td>0.27</td>\n",
       "      <td>-2.53</td>\n",
       "      <td>56.07</td>\n",
       "    </tr>\n",
       "    <tr>\n",
       "      <th>2</th>\n",
       "      <td>ovLUW</td>\n",
       "      <td>0.19</td>\n",
       "      <td>0.29</td>\n",
       "      <td>-5.59</td>\n",
       "      <td>62.87</td>\n",
       "    </tr>\n",
       "    <tr>\n",
       "      <th>3</th>\n",
       "      <td>q6cA6</td>\n",
       "      <td>2.24</td>\n",
       "      <td>-0.55</td>\n",
       "      <td>0.93</td>\n",
       "      <td>114.57</td>\n",
       "    </tr>\n",
       "    <tr>\n",
       "      <th>4</th>\n",
       "      <td>WPMUX</td>\n",
       "      <td>-0.52</td>\n",
       "      <td>1.72</td>\n",
       "      <td>5.90</td>\n",
       "      <td>149.60</td>\n",
       "    </tr>\n",
       "  </tbody>\n",
       "</table>\n",
       "</div>"
      ],
      "text/plain": [
       "      id    f0    f1    f2  product\n",
       "0  fwXo0 -1.15  0.96 -0.83    27.76\n",
       "1  WJtFt  0.26  0.27 -2.53    56.07\n",
       "2  ovLUW  0.19  0.29 -5.59    62.87\n",
       "3  q6cA6  2.24 -0.55  0.93   114.57\n",
       "4  WPMUX -0.52  1.72  5.90   149.60"
      ]
     },
     "metadata": {},
     "output_type": "display_data"
    },
    {
     "data": {
      "text/html": [
       "<div>\n",
       "<style scoped>\n",
       "    .dataframe tbody tr th:only-of-type {\n",
       "        vertical-align: middle;\n",
       "    }\n",
       "\n",
       "    .dataframe tbody tr th {\n",
       "        vertical-align: top;\n",
       "    }\n",
       "\n",
       "    .dataframe thead th {\n",
       "        text-align: right;\n",
       "    }\n",
       "</style>\n",
       "<table border=\"1\" class=\"dataframe\">\n",
       "  <thead>\n",
       "    <tr style=\"text-align: right;\">\n",
       "      <th></th>\n",
       "      <th>id</th>\n",
       "      <th>f0</th>\n",
       "      <th>f1</th>\n",
       "      <th>f2</th>\n",
       "      <th>product</th>\n",
       "    </tr>\n",
       "  </thead>\n",
       "  <tbody>\n",
       "    <tr>\n",
       "      <th>99995</th>\n",
       "      <td>4GxBu</td>\n",
       "      <td>-1.78</td>\n",
       "      <td>1.13</td>\n",
       "      <td>6.26</td>\n",
       "      <td>172.33</td>\n",
       "    </tr>\n",
       "    <tr>\n",
       "      <th>99996</th>\n",
       "      <td>YKFjq</td>\n",
       "      <td>-1.26</td>\n",
       "      <td>-0.89</td>\n",
       "      <td>2.52</td>\n",
       "      <td>138.75</td>\n",
       "    </tr>\n",
       "    <tr>\n",
       "      <th>99997</th>\n",
       "      <td>tKPY3</td>\n",
       "      <td>-1.20</td>\n",
       "      <td>-2.96</td>\n",
       "      <td>5.22</td>\n",
       "      <td>157.08</td>\n",
       "    </tr>\n",
       "    <tr>\n",
       "      <th>99998</th>\n",
       "      <td>nmxp2</td>\n",
       "      <td>-2.42</td>\n",
       "      <td>2.42</td>\n",
       "      <td>-5.55</td>\n",
       "      <td>51.80</td>\n",
       "    </tr>\n",
       "    <tr>\n",
       "      <th>99999</th>\n",
       "      <td>V9kWn</td>\n",
       "      <td>-2.55</td>\n",
       "      <td>-2.03</td>\n",
       "      <td>6.09</td>\n",
       "      <td>102.78</td>\n",
       "    </tr>\n",
       "  </tbody>\n",
       "</table>\n",
       "</div>"
      ],
      "text/plain": [
       "          id    f0    f1    f2  product\n",
       "99995  4GxBu -1.78  1.13  6.26   172.33\n",
       "99996  YKFjq -1.26 -0.89  2.52   138.75\n",
       "99997  tKPY3 -1.20 -2.96  5.22   157.08\n",
       "99998  nmxp2 -2.42  2.42 -5.55    51.80\n",
       "99999  V9kWn -2.55 -2.03  6.09   102.78"
      ]
     },
     "metadata": {},
     "output_type": "display_data"
    },
    {
     "name": "stdout",
     "output_type": "stream",
     "text": [
      "\n",
      "\n",
      "------------- Общая информация о датафрейме -------------\n",
      "\n",
      "\n",
      "<class 'pandas.core.frame.DataFrame'>\n",
      "RangeIndex: 100000 entries, 0 to 99999\n",
      "Data columns (total 5 columns):\n",
      " #   Column   Non-Null Count   Dtype  \n",
      "---  ------   --------------   -----  \n",
      " 0   id       100000 non-null  object \n",
      " 1   f0       100000 non-null  float64\n",
      " 2   f1       100000 non-null  float64\n",
      " 3   f2       100000 non-null  float64\n",
      " 4   product  100000 non-null  float64\n",
      "dtypes: float64(4), object(1)\n",
      "memory usage: 3.8+ MB\n"
     ]
    },
    {
     "data": {
      "text/plain": [
       "None"
      ]
     },
     "metadata": {},
     "output_type": "display_data"
    },
    {
     "name": "stdout",
     "output_type": "stream",
     "text": [
      "------------- Количество пустых значений в датафрейме -------------\n",
      "\n",
      "\n"
     ]
    },
    {
     "data": {
      "text/plain": [
       "id         0\n",
       "f0         0\n",
       "f1         0\n",
       "f2         0\n",
       "product    0\n",
       "dtype: int64"
      ]
     },
     "metadata": {},
     "output_type": "display_data"
    },
    {
     "name": "stdout",
     "output_type": "stream",
     "text": [
      "------------- Количество явных дубликатов в датафрейме -------------\n"
     ]
    },
    {
     "data": {
      "text/plain": [
       "0"
      ]
     },
     "metadata": {},
     "output_type": "display_data"
    },
    {
     "name": "stdout",
     "output_type": "stream",
     "text": [
      "\n",
      "\n",
      "------------- Описательная статистика -------------\n"
     ]
    },
    {
     "data": {
      "text/html": [
       "<div>\n",
       "<style scoped>\n",
       "    .dataframe tbody tr th:only-of-type {\n",
       "        vertical-align: middle;\n",
       "    }\n",
       "\n",
       "    .dataframe tbody tr th {\n",
       "        vertical-align: top;\n",
       "    }\n",
       "\n",
       "    .dataframe thead th {\n",
       "        text-align: right;\n",
       "    }\n",
       "</style>\n",
       "<table border=\"1\" class=\"dataframe\">\n",
       "  <thead>\n",
       "    <tr style=\"text-align: right;\">\n",
       "      <th></th>\n",
       "      <th>f0</th>\n",
       "      <th>f1</th>\n",
       "      <th>f2</th>\n",
       "      <th>product</th>\n",
       "    </tr>\n",
       "  </thead>\n",
       "  <tbody>\n",
       "    <tr>\n",
       "      <th>count</th>\n",
       "      <td>100,000.00</td>\n",
       "      <td>100,000.00</td>\n",
       "      <td>100,000.00</td>\n",
       "      <td>100,000.00</td>\n",
       "    </tr>\n",
       "    <tr>\n",
       "      <th>mean</th>\n",
       "      <td>0.00</td>\n",
       "      <td>-0.00</td>\n",
       "      <td>2.50</td>\n",
       "      <td>95.00</td>\n",
       "    </tr>\n",
       "    <tr>\n",
       "      <th>std</th>\n",
       "      <td>1.73</td>\n",
       "      <td>1.73</td>\n",
       "      <td>3.47</td>\n",
       "      <td>44.75</td>\n",
       "    </tr>\n",
       "    <tr>\n",
       "      <th>min</th>\n",
       "      <td>-8.76</td>\n",
       "      <td>-7.08</td>\n",
       "      <td>-11.97</td>\n",
       "      <td>0.00</td>\n",
       "    </tr>\n",
       "    <tr>\n",
       "      <th>25%</th>\n",
       "      <td>-1.16</td>\n",
       "      <td>-1.17</td>\n",
       "      <td>0.13</td>\n",
       "      <td>59.45</td>\n",
       "    </tr>\n",
       "    <tr>\n",
       "      <th>50%</th>\n",
       "      <td>0.01</td>\n",
       "      <td>-0.01</td>\n",
       "      <td>2.48</td>\n",
       "      <td>94.93</td>\n",
       "    </tr>\n",
       "    <tr>\n",
       "      <th>75%</th>\n",
       "      <td>1.16</td>\n",
       "      <td>1.16</td>\n",
       "      <td>4.86</td>\n",
       "      <td>130.60</td>\n",
       "    </tr>\n",
       "    <tr>\n",
       "      <th>max</th>\n",
       "      <td>7.24</td>\n",
       "      <td>7.84</td>\n",
       "      <td>16.74</td>\n",
       "      <td>190.03</td>\n",
       "    </tr>\n",
       "  </tbody>\n",
       "</table>\n",
       "</div>"
      ],
      "text/plain": [
       "              f0         f1         f2    product\n",
       "count 100,000.00 100,000.00 100,000.00 100,000.00\n",
       "mean        0.00      -0.00       2.50      95.00\n",
       "std         1.73       1.73       3.47      44.75\n",
       "min        -8.76      -7.08     -11.97       0.00\n",
       "25%        -1.16      -1.17       0.13      59.45\n",
       "50%         0.01      -0.01       2.48      94.93\n",
       "75%         1.16       1.16       4.86     130.60\n",
       "max         7.24       7.84      16.74     190.03"
      ]
     },
     "metadata": {},
     "output_type": "display_data"
    },
    {
     "name": "stdout",
     "output_type": "stream",
     "text": [
      "\n",
      "\n",
      "------------- Размер датасета -------------\n"
     ]
    },
    {
     "data": {
      "text/plain": [
       "(100000, 5)"
      ]
     },
     "metadata": {},
     "output_type": "display_data"
    }
   ],
   "source": [
    "def my_func(x):\n",
    "    print('------------- Исходный датафрейм -------------')\n",
    "    display(x.head())\n",
    "    display(x.tail())\n",
    "    print('')\n",
    "    print('')\n",
    "    print('------------- Общая информация о датафрейме -------------')\n",
    "    print('')\n",
    "    print('')\n",
    "    display(x.info())\n",
    "    print('------------- Количество пустых значений в датафрейме -------------')\n",
    "    print('')\n",
    "    print('')\n",
    "    display(x.isna().sum())\n",
    "    print('------------- Количество явных дубликатов в датафрейме -------------')\n",
    "    display(x.duplicated().sum())\n",
    "    print('')\n",
    "    print('')\n",
    "    print('------------- Описательная статистика -------------')\n",
    "    display(x.describe())\n",
    "    print('')\n",
    "    print('')\n",
    "    print('------------- Размер датасета -------------')\n",
    "    display(x.shape)\n",
    "    \n",
    "\n",
    "\n",
    "my_func(data_0)\n",
    "my_func(data_1)\n",
    "my_func(data_2)"
   ]
  },
  {
   "cell_type": "markdown",
   "metadata": {},
   "source": [
    "Из полученных данных видно, что в каждом датасете 100 000 строк, 5 столбцов с одинаковыми названиями, явных дубликатов ни в одном из сете не обнаружено, данные представлены в правильном формате. Явных анамольных значений при первом рассмотрении не выявлено."
   ]
  },
  {
   "cell_type": "code",
   "execution_count": 4,
   "metadata": {
    "scrolled": true
   },
   "outputs": [
    {
     "name": "stdout",
     "output_type": "stream",
     "text": [
      "99990\n",
      "99996\n",
      "99996\n"
     ]
    }
   ],
   "source": [
    "print(data_0.id.nunique())\n",
    "print(data_1.id.nunique())\n",
    "print(data_2.id.nunique())"
   ]
  },
  {
   "cell_type": "code",
   "execution_count": 5,
   "metadata": {},
   "outputs": [],
   "source": [
    "duplicates_0 = data_0[data_0['id'].duplicated()].id.tolist()\n",
    "duplicates_1 = data_1[data_1['id'].duplicated()].id.tolist()\n",
    "duplicates_2 = data_2[data_2['id'].duplicated()].id.tolist()"
   ]
  },
  {
   "cell_type": "code",
   "execution_count": 6,
   "metadata": {
    "scrolled": true
   },
   "outputs": [
    {
     "data": {
      "text/html": [
       "<div>\n",
       "<style scoped>\n",
       "    .dataframe tbody tr th:only-of-type {\n",
       "        vertical-align: middle;\n",
       "    }\n",
       "\n",
       "    .dataframe tbody tr th {\n",
       "        vertical-align: top;\n",
       "    }\n",
       "\n",
       "    .dataframe thead th {\n",
       "        text-align: right;\n",
       "    }\n",
       "</style>\n",
       "<table border=\"1\" class=\"dataframe\">\n",
       "  <thead>\n",
       "    <tr style=\"text-align: right;\">\n",
       "      <th></th>\n",
       "      <th>id</th>\n",
       "      <th>f0</th>\n",
       "      <th>f1</th>\n",
       "      <th>f2</th>\n",
       "      <th>product</th>\n",
       "    </tr>\n",
       "  </thead>\n",
       "  <tbody>\n",
       "    <tr>\n",
       "      <th>66136</th>\n",
       "      <td>74z30</td>\n",
       "      <td>1.08</td>\n",
       "      <td>-0.31</td>\n",
       "      <td>6.99</td>\n",
       "      <td>127.64</td>\n",
       "    </tr>\n",
       "    <tr>\n",
       "      <th>64022</th>\n",
       "      <td>74z30</td>\n",
       "      <td>0.74</td>\n",
       "      <td>0.46</td>\n",
       "      <td>5.15</td>\n",
       "      <td>140.77</td>\n",
       "    </tr>\n",
       "    <tr>\n",
       "      <th>51970</th>\n",
       "      <td>A5aEY</td>\n",
       "      <td>-0.18</td>\n",
       "      <td>0.94</td>\n",
       "      <td>-2.09</td>\n",
       "      <td>33.02</td>\n",
       "    </tr>\n",
       "    <tr>\n",
       "      <th>3389</th>\n",
       "      <td>A5aEY</td>\n",
       "      <td>-0.04</td>\n",
       "      <td>0.16</td>\n",
       "      <td>0.21</td>\n",
       "      <td>89.25</td>\n",
       "    </tr>\n",
       "    <tr>\n",
       "      <th>69163</th>\n",
       "      <td>AGS9W</td>\n",
       "      <td>-0.93</td>\n",
       "      <td>0.12</td>\n",
       "      <td>-3.66</td>\n",
       "      <td>19.23</td>\n",
       "    </tr>\n",
       "    <tr>\n",
       "      <th>42529</th>\n",
       "      <td>AGS9W</td>\n",
       "      <td>1.45</td>\n",
       "      <td>-0.48</td>\n",
       "      <td>0.68</td>\n",
       "      <td>126.37</td>\n",
       "    </tr>\n",
       "    <tr>\n",
       "      <th>931</th>\n",
       "      <td>HZww2</td>\n",
       "      <td>0.76</td>\n",
       "      <td>0.37</td>\n",
       "      <td>1.86</td>\n",
       "      <td>30.68</td>\n",
       "    </tr>\n",
       "    <tr>\n",
       "      <th>7530</th>\n",
       "      <td>HZww2</td>\n",
       "      <td>1.06</td>\n",
       "      <td>-0.37</td>\n",
       "      <td>10.43</td>\n",
       "      <td>158.83</td>\n",
       "    </tr>\n",
       "    <tr>\n",
       "      <th>63593</th>\n",
       "      <td>QcMuo</td>\n",
       "      <td>0.64</td>\n",
       "      <td>-0.47</td>\n",
       "      <td>0.86</td>\n",
       "      <td>64.58</td>\n",
       "    </tr>\n",
       "    <tr>\n",
       "      <th>1949</th>\n",
       "      <td>QcMuo</td>\n",
       "      <td>0.51</td>\n",
       "      <td>-0.32</td>\n",
       "      <td>-2.22</td>\n",
       "      <td>75.50</td>\n",
       "    </tr>\n",
       "    <tr>\n",
       "      <th>75715</th>\n",
       "      <td>Tdehs</td>\n",
       "      <td>0.11</td>\n",
       "      <td>0.43</td>\n",
       "      <td>3.22</td>\n",
       "      <td>60.96</td>\n",
       "    </tr>\n",
       "    <tr>\n",
       "      <th>21426</th>\n",
       "      <td>Tdehs</td>\n",
       "      <td>0.83</td>\n",
       "      <td>0.30</td>\n",
       "      <td>-0.05</td>\n",
       "      <td>96.04</td>\n",
       "    </tr>\n",
       "    <tr>\n",
       "      <th>92341</th>\n",
       "      <td>TtcGQ</td>\n",
       "      <td>0.11</td>\n",
       "      <td>1.02</td>\n",
       "      <td>0.91</td>\n",
       "      <td>101.32</td>\n",
       "    </tr>\n",
       "    <tr>\n",
       "      <th>60140</th>\n",
       "      <td>TtcGQ</td>\n",
       "      <td>0.57</td>\n",
       "      <td>-0.10</td>\n",
       "      <td>6.44</td>\n",
       "      <td>85.35</td>\n",
       "    </tr>\n",
       "    <tr>\n",
       "      <th>89582</th>\n",
       "      <td>bsk9y</td>\n",
       "      <td>0.40</td>\n",
       "      <td>-0.40</td>\n",
       "      <td>10.12</td>\n",
       "      <td>163.43</td>\n",
       "    </tr>\n",
       "    <tr>\n",
       "      <th>97785</th>\n",
       "      <td>bsk9y</td>\n",
       "      <td>0.38</td>\n",
       "      <td>0.01</td>\n",
       "      <td>0.16</td>\n",
       "      <td>160.64</td>\n",
       "    </tr>\n",
       "    <tr>\n",
       "      <th>41724</th>\n",
       "      <td>bxg6G</td>\n",
       "      <td>-0.82</td>\n",
       "      <td>0.55</td>\n",
       "      <td>3.63</td>\n",
       "      <td>93.01</td>\n",
       "    </tr>\n",
       "    <tr>\n",
       "      <th>1364</th>\n",
       "      <td>bxg6G</td>\n",
       "      <td>0.41</td>\n",
       "      <td>0.86</td>\n",
       "      <td>-3.65</td>\n",
       "      <td>73.60</td>\n",
       "    </tr>\n",
       "    <tr>\n",
       "      <th>16633</th>\n",
       "      <td>fiKDv</td>\n",
       "      <td>0.16</td>\n",
       "      <td>1.03</td>\n",
       "      <td>5.59</td>\n",
       "      <td>95.82</td>\n",
       "    </tr>\n",
       "    <tr>\n",
       "      <th>90815</th>\n",
       "      <td>fiKDv</td>\n",
       "      <td>0.05</td>\n",
       "      <td>0.84</td>\n",
       "      <td>6.39</td>\n",
       "      <td>137.35</td>\n",
       "    </tr>\n",
       "  </tbody>\n",
       "</table>\n",
       "</div>"
      ],
      "text/plain": [
       "          id    f0    f1    f2  product\n",
       "66136  74z30  1.08 -0.31  6.99   127.64\n",
       "64022  74z30  0.74  0.46  5.15   140.77\n",
       "51970  A5aEY -0.18  0.94 -2.09    33.02\n",
       "3389   A5aEY -0.04  0.16  0.21    89.25\n",
       "69163  AGS9W -0.93  0.12 -3.66    19.23\n",
       "42529  AGS9W  1.45 -0.48  0.68   126.37\n",
       "931    HZww2  0.76  0.37  1.86    30.68\n",
       "7530   HZww2  1.06 -0.37 10.43   158.83\n",
       "63593  QcMuo  0.64 -0.47  0.86    64.58\n",
       "1949   QcMuo  0.51 -0.32 -2.22    75.50\n",
       "75715  Tdehs  0.11  0.43  3.22    60.96\n",
       "21426  Tdehs  0.83  0.30 -0.05    96.04\n",
       "92341  TtcGQ  0.11  1.02  0.91   101.32\n",
       "60140  TtcGQ  0.57 -0.10  6.44    85.35\n",
       "89582  bsk9y  0.40 -0.40 10.12   163.43\n",
       "97785  bsk9y  0.38  0.01  0.16   160.64\n",
       "41724  bxg6G -0.82  0.55  3.63    93.01\n",
       "1364   bxg6G  0.41  0.86 -3.65    73.60\n",
       "16633  fiKDv  0.16  1.03  5.59    95.82\n",
       "90815  fiKDv  0.05  0.84  6.39   137.35"
      ]
     },
     "metadata": {},
     "output_type": "display_data"
    },
    {
     "data": {
      "text/html": [
       "<div>\n",
       "<style scoped>\n",
       "    .dataframe tbody tr th:only-of-type {\n",
       "        vertical-align: middle;\n",
       "    }\n",
       "\n",
       "    .dataframe tbody tr th {\n",
       "        vertical-align: top;\n",
       "    }\n",
       "\n",
       "    .dataframe thead th {\n",
       "        text-align: right;\n",
       "    }\n",
       "</style>\n",
       "<table border=\"1\" class=\"dataframe\">\n",
       "  <thead>\n",
       "    <tr style=\"text-align: right;\">\n",
       "      <th></th>\n",
       "      <th>id</th>\n",
       "      <th>f0</th>\n",
       "      <th>f1</th>\n",
       "      <th>f2</th>\n",
       "      <th>product</th>\n",
       "    </tr>\n",
       "  </thead>\n",
       "  <tbody>\n",
       "    <tr>\n",
       "      <th>5849</th>\n",
       "      <td>5ltQ6</td>\n",
       "      <td>-3.44</td>\n",
       "      <td>-12.30</td>\n",
       "      <td>2.00</td>\n",
       "      <td>57.09</td>\n",
       "    </tr>\n",
       "    <tr>\n",
       "      <th>84461</th>\n",
       "      <td>5ltQ6</td>\n",
       "      <td>18.21</td>\n",
       "      <td>2.19</td>\n",
       "      <td>3.99</td>\n",
       "      <td>107.81</td>\n",
       "    </tr>\n",
       "    <tr>\n",
       "      <th>1305</th>\n",
       "      <td>LHZR0</td>\n",
       "      <td>11.17</td>\n",
       "      <td>-1.95</td>\n",
       "      <td>3.00</td>\n",
       "      <td>80.86</td>\n",
       "    </tr>\n",
       "    <tr>\n",
       "      <th>41906</th>\n",
       "      <td>LHZR0</td>\n",
       "      <td>-8.99</td>\n",
       "      <td>-4.29</td>\n",
       "      <td>2.01</td>\n",
       "      <td>57.09</td>\n",
       "    </tr>\n",
       "    <tr>\n",
       "      <th>2721</th>\n",
       "      <td>bfPNe</td>\n",
       "      <td>-9.49</td>\n",
       "      <td>-5.46</td>\n",
       "      <td>4.01</td>\n",
       "      <td>110.99</td>\n",
       "    </tr>\n",
       "    <tr>\n",
       "      <th>82178</th>\n",
       "      <td>bfPNe</td>\n",
       "      <td>-6.20</td>\n",
       "      <td>-4.82</td>\n",
       "      <td>3.00</td>\n",
       "      <td>84.04</td>\n",
       "    </tr>\n",
       "    <tr>\n",
       "      <th>47591</th>\n",
       "      <td>wt4Uk</td>\n",
       "      <td>-9.09</td>\n",
       "      <td>-8.11</td>\n",
       "      <td>-0.00</td>\n",
       "      <td>3.18</td>\n",
       "    </tr>\n",
       "    <tr>\n",
       "      <th>82873</th>\n",
       "      <td>wt4Uk</td>\n",
       "      <td>10.26</td>\n",
       "      <td>-9.38</td>\n",
       "      <td>4.99</td>\n",
       "      <td>134.77</td>\n",
       "    </tr>\n",
       "  </tbody>\n",
       "</table>\n",
       "</div>"
      ],
      "text/plain": [
       "          id    f0     f1    f2  product\n",
       "5849   5ltQ6 -3.44 -12.30  2.00    57.09\n",
       "84461  5ltQ6 18.21   2.19  3.99   107.81\n",
       "1305   LHZR0 11.17  -1.95  3.00    80.86\n",
       "41906  LHZR0 -8.99  -4.29  2.01    57.09\n",
       "2721   bfPNe -9.49  -5.46  4.01   110.99\n",
       "82178  bfPNe -6.20  -4.82  3.00    84.04\n",
       "47591  wt4Uk -9.09  -8.11 -0.00     3.18\n",
       "82873  wt4Uk 10.26  -9.38  4.99   134.77"
      ]
     },
     "metadata": {},
     "output_type": "display_data"
    },
    {
     "data": {
      "text/html": [
       "<div>\n",
       "<style scoped>\n",
       "    .dataframe tbody tr th:only-of-type {\n",
       "        vertical-align: middle;\n",
       "    }\n",
       "\n",
       "    .dataframe tbody tr th {\n",
       "        vertical-align: top;\n",
       "    }\n",
       "\n",
       "    .dataframe thead th {\n",
       "        text-align: right;\n",
       "    }\n",
       "</style>\n",
       "<table border=\"1\" class=\"dataframe\">\n",
       "  <thead>\n",
       "    <tr style=\"text-align: right;\">\n",
       "      <th></th>\n",
       "      <th>id</th>\n",
       "      <th>f0</th>\n",
       "      <th>f1</th>\n",
       "      <th>f2</th>\n",
       "      <th>product</th>\n",
       "    </tr>\n",
       "  </thead>\n",
       "  <tbody>\n",
       "    <tr>\n",
       "      <th>45404</th>\n",
       "      <td>KUPhW</td>\n",
       "      <td>0.23</td>\n",
       "      <td>-1.70</td>\n",
       "      <td>4.99</td>\n",
       "      <td>11.72</td>\n",
       "    </tr>\n",
       "    <tr>\n",
       "      <th>55967</th>\n",
       "      <td>KUPhW</td>\n",
       "      <td>1.21</td>\n",
       "      <td>3.18</td>\n",
       "      <td>5.54</td>\n",
       "      <td>132.83</td>\n",
       "    </tr>\n",
       "    <tr>\n",
       "      <th>11449</th>\n",
       "      <td>VF7Jo</td>\n",
       "      <td>2.12</td>\n",
       "      <td>-0.86</td>\n",
       "      <td>5.75</td>\n",
       "      <td>181.72</td>\n",
       "    </tr>\n",
       "    <tr>\n",
       "      <th>49564</th>\n",
       "      <td>VF7Jo</td>\n",
       "      <td>-0.88</td>\n",
       "      <td>0.56</td>\n",
       "      <td>0.72</td>\n",
       "      <td>136.23</td>\n",
       "    </tr>\n",
       "    <tr>\n",
       "      <th>44378</th>\n",
       "      <td>Vcm5J</td>\n",
       "      <td>-1.23</td>\n",
       "      <td>-2.44</td>\n",
       "      <td>1.22</td>\n",
       "      <td>137.97</td>\n",
       "    </tr>\n",
       "    <tr>\n",
       "      <th>95090</th>\n",
       "      <td>Vcm5J</td>\n",
       "      <td>2.59</td>\n",
       "      <td>1.99</td>\n",
       "      <td>2.48</td>\n",
       "      <td>92.33</td>\n",
       "    </tr>\n",
       "    <tr>\n",
       "      <th>28039</th>\n",
       "      <td>xCHr8</td>\n",
       "      <td>1.63</td>\n",
       "      <td>0.37</td>\n",
       "      <td>-2.38</td>\n",
       "      <td>6.12</td>\n",
       "    </tr>\n",
       "    <tr>\n",
       "      <th>43233</th>\n",
       "      <td>xCHr8</td>\n",
       "      <td>-0.85</td>\n",
       "      <td>2.10</td>\n",
       "      <td>5.60</td>\n",
       "      <td>184.39</td>\n",
       "    </tr>\n",
       "  </tbody>\n",
       "</table>\n",
       "</div>"
      ],
      "text/plain": [
       "          id    f0    f1    f2  product\n",
       "45404  KUPhW  0.23 -1.70  4.99    11.72\n",
       "55967  KUPhW  1.21  3.18  5.54   132.83\n",
       "11449  VF7Jo  2.12 -0.86  5.75   181.72\n",
       "49564  VF7Jo -0.88  0.56  0.72   136.23\n",
       "44378  Vcm5J -1.23 -2.44  1.22   137.97\n",
       "95090  Vcm5J  2.59  1.99  2.48    92.33\n",
       "28039  xCHr8  1.63  0.37 -2.38     6.12\n",
       "43233  xCHr8 -0.85  2.10  5.60   184.39"
      ]
     },
     "metadata": {},
     "output_type": "display_data"
    }
   ],
   "source": [
    "display(data_0[data_0['id'].isin(duplicates_0)].sort_values(by = 'id'))\n",
    "display(data_1[data_1['id'].isin(duplicates_1)].sort_values(by = 'id'))\n",
    "display(data_2[data_2['id'].isin(duplicates_2)].sort_values(by = 'id'))"
   ]
  },
  {
   "cell_type": "markdown",
   "metadata": {},
   "source": [
    "Найдены дубликаты в трех сетах, причем по некоторым параметрам, разница в столбце product существенная, удалим дубликаты из каждого"
   ]
  },
  {
   "cell_type": "code",
   "execution_count": 7,
   "metadata": {},
   "outputs": [],
   "source": [
    "data_0 = data_0.drop([66136,64022,51970,3389,69163,42529,931,7530,63593,1949,75715,21426,92341,60140,89582,97785,41724,1364,16633,90815])"
   ]
  },
  {
   "cell_type": "code",
   "execution_count": 8,
   "metadata": {},
   "outputs": [
    {
     "data": {
      "text/plain": [
       "(99980, 5)"
      ]
     },
     "execution_count": 8,
     "metadata": {},
     "output_type": "execute_result"
    }
   ],
   "source": [
    "data_0.shape"
   ]
  },
  {
   "cell_type": "code",
   "execution_count": 9,
   "metadata": {
    "scrolled": true
   },
   "outputs": [
    {
     "data": {
      "text/plain": [
       "(99992, 5)"
      ]
     },
     "metadata": {},
     "output_type": "display_data"
    },
    {
     "data": {
      "text/plain": [
       "(99992, 5)"
      ]
     },
     "metadata": {},
     "output_type": "display_data"
    }
   ],
   "source": [
    "\n",
    "data_1 = data_1.drop([5849,84461,1305,41906,2721,82178,47591,82873])\n",
    "data_2 = data_2.drop([45404,55967,11449,49564,44378,95090,28039,43233])\n",
    "\n",
    "display(data_1.shape)\n",
    "display(data_2.shape)"
   ]
  },
  {
   "cell_type": "markdown",
   "metadata": {},
   "source": [
    "Удалили данные в data_0 20 строк, data_1 и data_2 по 8 строк"
   ]
  },
  {
   "cell_type": "markdown",
   "metadata": {},
   "source": [
    "Также, удалим столбец id он будет лишним для обучения модели"
   ]
  },
  {
   "cell_type": "code",
   "execution_count": 10,
   "metadata": {
    "scrolled": true
   },
   "outputs": [
    {
     "data": {
      "text/plain": [
       "(99980, 4)"
      ]
     },
     "metadata": {},
     "output_type": "display_data"
    },
    {
     "data": {
      "text/plain": [
       "(99992, 4)"
      ]
     },
     "metadata": {},
     "output_type": "display_data"
    },
    {
     "data": {
      "text/plain": [
       "(99992, 4)"
      ]
     },
     "metadata": {},
     "output_type": "display_data"
    }
   ],
   "source": [
    "data_0 = data_0.drop(['id'], axis=1)\n",
    "data_1 = data_1.drop(['id'], axis=1)\n",
    "data_2 = data_2.drop(['id'], axis=1)\n",
    "display(data_0.shape)\n",
    "display(data_1.shape)\n",
    "display(data_2.shape)"
   ]
  },
  {
   "cell_type": "code",
   "execution_count": 11,
   "metadata": {
    "scrolled": true
   },
   "outputs": [
    {
     "data": {
      "text/html": [
       "<div>\n",
       "<style scoped>\n",
       "    .dataframe tbody tr th:only-of-type {\n",
       "        vertical-align: middle;\n",
       "    }\n",
       "\n",
       "    .dataframe tbody tr th {\n",
       "        vertical-align: top;\n",
       "    }\n",
       "\n",
       "    .dataframe thead th {\n",
       "        text-align: right;\n",
       "    }\n",
       "</style>\n",
       "<table border=\"1\" class=\"dataframe\">\n",
       "  <thead>\n",
       "    <tr style=\"text-align: right;\">\n",
       "      <th></th>\n",
       "      <th>f0</th>\n",
       "      <th>f1</th>\n",
       "      <th>f2</th>\n",
       "      <th>product</th>\n",
       "    </tr>\n",
       "  </thead>\n",
       "  <tbody>\n",
       "    <tr>\n",
       "      <th>count</th>\n",
       "      <td>99,980.00</td>\n",
       "      <td>99,980.00</td>\n",
       "      <td>99,980.00</td>\n",
       "      <td>99,980.00</td>\n",
       "    </tr>\n",
       "    <tr>\n",
       "      <th>mean</th>\n",
       "      <td>0.50</td>\n",
       "      <td>0.25</td>\n",
       "      <td>2.50</td>\n",
       "      <td>92.50</td>\n",
       "    </tr>\n",
       "    <tr>\n",
       "      <th>std</th>\n",
       "      <td>0.87</td>\n",
       "      <td>0.50</td>\n",
       "      <td>3.25</td>\n",
       "      <td>44.29</td>\n",
       "    </tr>\n",
       "    <tr>\n",
       "      <th>min</th>\n",
       "      <td>-1.41</td>\n",
       "      <td>-0.85</td>\n",
       "      <td>-12.09</td>\n",
       "      <td>0.00</td>\n",
       "    </tr>\n",
       "    <tr>\n",
       "      <th>25%</th>\n",
       "      <td>-0.07</td>\n",
       "      <td>-0.20</td>\n",
       "      <td>0.29</td>\n",
       "      <td>56.50</td>\n",
       "    </tr>\n",
       "    <tr>\n",
       "      <th>50%</th>\n",
       "      <td>0.50</td>\n",
       "      <td>0.25</td>\n",
       "      <td>2.52</td>\n",
       "      <td>91.85</td>\n",
       "    </tr>\n",
       "    <tr>\n",
       "      <th>75%</th>\n",
       "      <td>1.07</td>\n",
       "      <td>0.70</td>\n",
       "      <td>4.71</td>\n",
       "      <td>128.56</td>\n",
       "    </tr>\n",
       "    <tr>\n",
       "      <th>max</th>\n",
       "      <td>2.36</td>\n",
       "      <td>1.34</td>\n",
       "      <td>16.00</td>\n",
       "      <td>185.36</td>\n",
       "    </tr>\n",
       "  </tbody>\n",
       "</table>\n",
       "</div>"
      ],
      "text/plain": [
       "             f0        f1        f2   product\n",
       "count 99,980.00 99,980.00 99,980.00 99,980.00\n",
       "mean       0.50      0.25      2.50     92.50\n",
       "std        0.87      0.50      3.25     44.29\n",
       "min       -1.41     -0.85    -12.09      0.00\n",
       "25%       -0.07     -0.20      0.29     56.50\n",
       "50%        0.50      0.25      2.52     91.85\n",
       "75%        1.07      0.70      4.71    128.56\n",
       "max        2.36      1.34     16.00    185.36"
      ]
     },
     "metadata": {},
     "output_type": "display_data"
    },
    {
     "data": {
      "text/html": [
       "<div>\n",
       "<style scoped>\n",
       "    .dataframe tbody tr th:only-of-type {\n",
       "        vertical-align: middle;\n",
       "    }\n",
       "\n",
       "    .dataframe tbody tr th {\n",
       "        vertical-align: top;\n",
       "    }\n",
       "\n",
       "    .dataframe thead th {\n",
       "        text-align: right;\n",
       "    }\n",
       "</style>\n",
       "<table border=\"1\" class=\"dataframe\">\n",
       "  <thead>\n",
       "    <tr style=\"text-align: right;\">\n",
       "      <th></th>\n",
       "      <th>f0</th>\n",
       "      <th>f1</th>\n",
       "      <th>f2</th>\n",
       "      <th>product</th>\n",
       "    </tr>\n",
       "  </thead>\n",
       "  <tbody>\n",
       "    <tr>\n",
       "      <th>count</th>\n",
       "      <td>99,992.00</td>\n",
       "      <td>99,992.00</td>\n",
       "      <td>99,992.00</td>\n",
       "      <td>99,992.00</td>\n",
       "    </tr>\n",
       "    <tr>\n",
       "      <th>mean</th>\n",
       "      <td>1.14</td>\n",
       "      <td>-4.80</td>\n",
       "      <td>2.49</td>\n",
       "      <td>68.82</td>\n",
       "    </tr>\n",
       "    <tr>\n",
       "      <th>std</th>\n",
       "      <td>8.97</td>\n",
       "      <td>5.12</td>\n",
       "      <td>1.70</td>\n",
       "      <td>45.94</td>\n",
       "    </tr>\n",
       "    <tr>\n",
       "      <th>min</th>\n",
       "      <td>-31.61</td>\n",
       "      <td>-26.36</td>\n",
       "      <td>-0.02</td>\n",
       "      <td>0.00</td>\n",
       "    </tr>\n",
       "    <tr>\n",
       "      <th>25%</th>\n",
       "      <td>-6.30</td>\n",
       "      <td>-8.27</td>\n",
       "      <td>1.00</td>\n",
       "      <td>26.95</td>\n",
       "    </tr>\n",
       "    <tr>\n",
       "      <th>50%</th>\n",
       "      <td>1.15</td>\n",
       "      <td>-4.81</td>\n",
       "      <td>2.01</td>\n",
       "      <td>57.09</td>\n",
       "    </tr>\n",
       "    <tr>\n",
       "      <th>75%</th>\n",
       "      <td>8.62</td>\n",
       "      <td>-1.33</td>\n",
       "      <td>4.00</td>\n",
       "      <td>107.81</td>\n",
       "    </tr>\n",
       "    <tr>\n",
       "      <th>max</th>\n",
       "      <td>29.42</td>\n",
       "      <td>18.73</td>\n",
       "      <td>5.02</td>\n",
       "      <td>137.95</td>\n",
       "    </tr>\n",
       "  </tbody>\n",
       "</table>\n",
       "</div>"
      ],
      "text/plain": [
       "             f0        f1        f2   product\n",
       "count 99,992.00 99,992.00 99,992.00 99,992.00\n",
       "mean       1.14     -4.80      2.49     68.82\n",
       "std        8.97      5.12      1.70     45.94\n",
       "min      -31.61    -26.36     -0.02      0.00\n",
       "25%       -6.30     -8.27      1.00     26.95\n",
       "50%        1.15     -4.81      2.01     57.09\n",
       "75%        8.62     -1.33      4.00    107.81\n",
       "max       29.42     18.73      5.02    137.95"
      ]
     },
     "metadata": {},
     "output_type": "display_data"
    },
    {
     "data": {
      "text/html": [
       "<div>\n",
       "<style scoped>\n",
       "    .dataframe tbody tr th:only-of-type {\n",
       "        vertical-align: middle;\n",
       "    }\n",
       "\n",
       "    .dataframe tbody tr th {\n",
       "        vertical-align: top;\n",
       "    }\n",
       "\n",
       "    .dataframe thead th {\n",
       "        text-align: right;\n",
       "    }\n",
       "</style>\n",
       "<table border=\"1\" class=\"dataframe\">\n",
       "  <thead>\n",
       "    <tr style=\"text-align: right;\">\n",
       "      <th></th>\n",
       "      <th>f0</th>\n",
       "      <th>f1</th>\n",
       "      <th>f2</th>\n",
       "      <th>product</th>\n",
       "    </tr>\n",
       "  </thead>\n",
       "  <tbody>\n",
       "    <tr>\n",
       "      <th>count</th>\n",
       "      <td>99,992.00</td>\n",
       "      <td>99,992.00</td>\n",
       "      <td>99,992.00</td>\n",
       "      <td>99,992.00</td>\n",
       "    </tr>\n",
       "    <tr>\n",
       "      <th>mean</th>\n",
       "      <td>0.00</td>\n",
       "      <td>-0.00</td>\n",
       "      <td>2.50</td>\n",
       "      <td>95.00</td>\n",
       "    </tr>\n",
       "    <tr>\n",
       "      <th>std</th>\n",
       "      <td>1.73</td>\n",
       "      <td>1.73</td>\n",
       "      <td>3.47</td>\n",
       "      <td>44.75</td>\n",
       "    </tr>\n",
       "    <tr>\n",
       "      <th>min</th>\n",
       "      <td>-8.76</td>\n",
       "      <td>-7.08</td>\n",
       "      <td>-11.97</td>\n",
       "      <td>0.00</td>\n",
       "    </tr>\n",
       "    <tr>\n",
       "      <th>25%</th>\n",
       "      <td>-1.16</td>\n",
       "      <td>-1.17</td>\n",
       "      <td>0.13</td>\n",
       "      <td>59.45</td>\n",
       "    </tr>\n",
       "    <tr>\n",
       "      <th>50%</th>\n",
       "      <td>0.01</td>\n",
       "      <td>-0.01</td>\n",
       "      <td>2.48</td>\n",
       "      <td>94.93</td>\n",
       "    </tr>\n",
       "    <tr>\n",
       "      <th>75%</th>\n",
       "      <td>1.16</td>\n",
       "      <td>1.16</td>\n",
       "      <td>4.86</td>\n",
       "      <td>130.59</td>\n",
       "    </tr>\n",
       "    <tr>\n",
       "      <th>max</th>\n",
       "      <td>7.24</td>\n",
       "      <td>7.84</td>\n",
       "      <td>16.74</td>\n",
       "      <td>190.03</td>\n",
       "    </tr>\n",
       "  </tbody>\n",
       "</table>\n",
       "</div>"
      ],
      "text/plain": [
       "             f0        f1        f2   product\n",
       "count 99,992.00 99,992.00 99,992.00 99,992.00\n",
       "mean       0.00     -0.00      2.50     95.00\n",
       "std        1.73      1.73      3.47     44.75\n",
       "min       -8.76     -7.08    -11.97      0.00\n",
       "25%       -1.16     -1.17      0.13     59.45\n",
       "50%        0.01     -0.01      2.48     94.93\n",
       "75%        1.16      1.16      4.86    130.59\n",
       "max        7.24      7.84     16.74    190.03"
      ]
     },
     "metadata": {},
     "output_type": "display_data"
    }
   ],
   "source": [
    "display(data_0.describe())\n",
    "display(data_1.describe())\n",
    "display(data_2.describe())"
   ]
  },
  {
   "cell_type": "markdown",
   "metadata": {},
   "source": [
    "Удалилив дубликаты, видим, что это практически не повлияло на общие цифры. Из данных видно, что отсутсвует взаимосвязть среднего показателя f0 - f2 от кол-ва продукта(барралей) по трем регионам, во втором регионе наблюдается по признаку f0 и f1 аномальные минимальные и максимальные значения, впревом и третьем регионе относительное высокое колебание находится в признаке f2. Учитывая, что в каждом регионе присутвуют нулевые значения показателя product, нужно посчитать их кол-во"
   ]
  },
  {
   "cell_type": "code",
   "execution_count": 12,
   "metadata": {},
   "outputs": [
    {
     "data": {
      "text/plain": [
       "1"
      ]
     },
     "metadata": {},
     "output_type": "display_data"
    },
    {
     "data": {
      "text/plain": [
       "8235"
      ]
     },
     "metadata": {},
     "output_type": "display_data"
    },
    {
     "data": {
      "text/plain": [
       "1"
      ]
     },
     "metadata": {},
     "output_type": "display_data"
    }
   ],
   "source": [
    "display(len(data_0[data_0['product']== 0]))\n",
    "display(len(data_1[data_1['product']== 0]))\n",
    "display(len(data_2[data_2['product']== 0]))"
   ]
  },
  {
   "cell_type": "code",
   "execution_count": 13,
   "metadata": {},
   "outputs": [
    {
     "data": {
      "text/html": [
       "<div>\n",
       "<style scoped>\n",
       "    .dataframe tbody tr th:only-of-type {\n",
       "        vertical-align: middle;\n",
       "    }\n",
       "\n",
       "    .dataframe tbody tr th {\n",
       "        vertical-align: top;\n",
       "    }\n",
       "\n",
       "    .dataframe thead th {\n",
       "        text-align: right;\n",
       "    }\n",
       "</style>\n",
       "<table border=\"1\" class=\"dataframe\">\n",
       "  <thead>\n",
       "    <tr style=\"text-align: right;\">\n",
       "      <th></th>\n",
       "      <th>f0</th>\n",
       "      <th>f1</th>\n",
       "      <th>f2</th>\n",
       "      <th>product</th>\n",
       "    </tr>\n",
       "  </thead>\n",
       "  <tbody>\n",
       "    <tr>\n",
       "      <th>11</th>\n",
       "      <td>16.32</td>\n",
       "      <td>-0.56</td>\n",
       "      <td>-0.00</td>\n",
       "      <td>0.00</td>\n",
       "    </tr>\n",
       "    <tr>\n",
       "      <th>13</th>\n",
       "      <td>6.70</td>\n",
       "      <td>-0.75</td>\n",
       "      <td>-0.01</td>\n",
       "      <td>0.00</td>\n",
       "    </tr>\n",
       "    <tr>\n",
       "      <th>62</th>\n",
       "      <td>21.42</td>\n",
       "      <td>-5.13</td>\n",
       "      <td>-0.00</td>\n",
       "      <td>0.00</td>\n",
       "    </tr>\n",
       "    <tr>\n",
       "      <th>63</th>\n",
       "      <td>6.82</td>\n",
       "      <td>3.10</td>\n",
       "      <td>-0.00</td>\n",
       "      <td>0.00</td>\n",
       "    </tr>\n",
       "    <tr>\n",
       "      <th>77</th>\n",
       "      <td>6.75</td>\n",
       "      <td>-11.89</td>\n",
       "      <td>-0.00</td>\n",
       "      <td>0.00</td>\n",
       "    </tr>\n",
       "    <tr>\n",
       "      <th>...</th>\n",
       "      <td>...</td>\n",
       "      <td>...</td>\n",
       "      <td>...</td>\n",
       "      <td>...</td>\n",
       "    </tr>\n",
       "    <tr>\n",
       "      <th>99936</th>\n",
       "      <td>5.09</td>\n",
       "      <td>-3.98</td>\n",
       "      <td>0.01</td>\n",
       "      <td>0.00</td>\n",
       "    </tr>\n",
       "    <tr>\n",
       "      <th>99948</th>\n",
       "      <td>8.28</td>\n",
       "      <td>-9.18</td>\n",
       "      <td>0.00</td>\n",
       "      <td>0.00</td>\n",
       "    </tr>\n",
       "    <tr>\n",
       "      <th>99956</th>\n",
       "      <td>13.34</td>\n",
       "      <td>-1.29</td>\n",
       "      <td>0.01</td>\n",
       "      <td>0.00</td>\n",
       "    </tr>\n",
       "    <tr>\n",
       "      <th>99961</th>\n",
       "      <td>13.85</td>\n",
       "      <td>-11.53</td>\n",
       "      <td>-0.01</td>\n",
       "      <td>0.00</td>\n",
       "    </tr>\n",
       "    <tr>\n",
       "      <th>99973</th>\n",
       "      <td>12.70</td>\n",
       "      <td>-4.38</td>\n",
       "      <td>-0.00</td>\n",
       "      <td>0.00</td>\n",
       "    </tr>\n",
       "  </tbody>\n",
       "</table>\n",
       "<p>8235 rows × 4 columns</p>\n",
       "</div>"
      ],
      "text/plain": [
       "         f0     f1    f2  product\n",
       "11    16.32  -0.56 -0.00     0.00\n",
       "13     6.70  -0.75 -0.01     0.00\n",
       "62    21.42  -5.13 -0.00     0.00\n",
       "63     6.82   3.10 -0.00     0.00\n",
       "77     6.75 -11.89 -0.00     0.00\n",
       "...     ...    ...   ...      ...\n",
       "99936  5.09  -3.98  0.01     0.00\n",
       "99948  8.28  -9.18  0.00     0.00\n",
       "99956 13.34  -1.29  0.01     0.00\n",
       "99961 13.85 -11.53 -0.01     0.00\n",
       "99973 12.70  -4.38 -0.00     0.00\n",
       "\n",
       "[8235 rows x 4 columns]"
      ]
     },
     "execution_count": 13,
     "metadata": {},
     "output_type": "execute_result"
    }
   ],
   "source": [
    "data_1[data_1['product'] == 0]"
   ]
  },
  {
   "cell_type": "markdown",
   "metadata": {},
   "source": [
    "Получается, в 1 и 3 регионе по одному нулевому значению, а вот во втором регионе порядка 8 % (8200 с нулевым результом), что является большим значением,т.е. в реальном проекте нужно было бы сделать запрос с уточнением, а так будем считать данные синтетическими, а эти скважины неудачными. Удалять их не буду\n",
    "\n",
    "Изучили данные, сеты готовы к обучению и проверки модели"
   ]
  },
  {
   "cell_type": "markdown",
   "metadata": {},
   "source": [
    "## Обучение и проверка модели"
   ]
  },
  {
   "cell_type": "markdown",
   "metadata": {},
   "source": [
    "Построим отдельные модели для каждого региона"
   ]
  },
  {
   "cell_type": "markdown",
   "metadata": {},
   "source": [
    "Модель для первого региона"
   ]
  },
  {
   "cell_type": "markdown",
   "metadata": {},
   "source": [
    "разделим данные на обучающую и валидационную выборки в соотношении"
   ]
  },
  {
   "cell_type": "code",
   "execution_count": 14,
   "metadata": {},
   "outputs": [],
   "source": [
    "target_0 = data_0['product']\n",
    "features_0 = data_0.drop(['product'], axis=1)"
   ]
  },
  {
   "cell_type": "code",
   "execution_count": 15,
   "metadata": {},
   "outputs": [],
   "source": [
    "features_0_train, features_0_valid, target_0_train, target_0_valid = train_test_split(features_0,target_0, test_size=0.25,\n",
    "                                                                              random_state=RANDOM_STATE)"
   ]
  },
  {
   "cell_type": "code",
   "execution_count": 16,
   "metadata": {
    "scrolled": true
   },
   "outputs": [
    {
     "data": {
      "text/plain": [
       "((74985, 3), (24995, 3))"
      ]
     },
     "execution_count": 16,
     "metadata": {},
     "output_type": "execute_result"
    }
   ],
   "source": [
    "features_0_train.shape, features_0_valid.shape"
   ]
  },
  {
   "cell_type": "markdown",
   "metadata": {},
   "source": [
    "масштабируем данные"
   ]
  },
  {
   "cell_type": "code",
   "execution_count": 17,
   "metadata": {},
   "outputs": [],
   "source": [
    "scaler = StandardScaler()\n",
    "scaler.fit(features_0_train)\n",
    "features_0_train_log = scaler.transform(features_0_train)\n",
    "features_0_valid_log = scaler.transform(features_0_valid)"
   ]
  },
  {
   "cell_type": "code",
   "execution_count": 18,
   "metadata": {},
   "outputs": [
    {
     "data": {
      "text/plain": [
       "array([[ 1.34293395, -1.18475144, -0.82531087],\n",
       "       [-0.28281145, -0.69664891, -1.50396313],\n",
       "       [ 1.62246497, -0.11580161,  0.05182142],\n",
       "       ...,\n",
       "       [ 0.94632018, -1.353858  ,  0.19862366],\n",
       "       [ 1.64769516,  0.25181381, -0.69400681],\n",
       "       [-0.03913908, -0.99815247, -1.05910403]])"
      ]
     },
     "metadata": {},
     "output_type": "display_data"
    },
    {
     "data": {
      "text/plain": [
       "array([[-0.4013731 ,  0.53022612, -1.83865219],\n",
       "       [-0.28668011, -0.90155086, -1.43705479],\n",
       "       [ 1.40574652, -0.99213796, -1.44855272],\n",
       "       ...,\n",
       "       [-0.49434335, -0.64954289,  1.0855156 ],\n",
       "       [ 1.62519377, -0.75174084,  0.31033546],\n",
       "       [-1.0429708 ,  1.32901097, -1.09951378]])"
      ]
     },
     "metadata": {},
     "output_type": "display_data"
    }
   ],
   "source": [
    "display(features_0_train_log)\n",
    "display(features_0_valid_log)"
   ]
  },
  {
   "cell_type": "code",
   "execution_count": 19,
   "metadata": {},
   "outputs": [],
   "source": [
    "model_0 = LinearRegression()\n",
    "model_0.fit(features_0_train_log, target_0_train)\n",
    "\n",
    "predictions_0 = model_0.predict(features_0_valid_log)\n"
   ]
  },
  {
   "cell_type": "code",
   "execution_count": 20,
   "metadata": {
    "scrolled": true
   },
   "outputs": [
    {
     "name": "stdout",
     "output_type": "stream",
     "text": [
      "RMSE в первом регионе: 37.50\n"
     ]
    }
   ],
   "source": [
    "rmse_0 = (mean_squared_error(target_0_valid,predictions_0))**(0.5)\n",
    "print(\"RMSE в первом регионе: {0:.2f}\".format(rmse_0))"
   ]
  },
  {
   "cell_type": "code",
   "execution_count": 21,
   "metadata": {},
   "outputs": [
    {
     "name": "stdout",
     "output_type": "stream",
     "text": [
      "средний запас в первом регионе = 92.58\n"
     ]
    }
   ],
   "source": [
    "average_product_0 = sum(predictions_0) / len(predictions_0)\n",
    "print('средний запас в первом регионе = {0:.2f}'.format(average_product_0))"
   ]
  },
  {
   "cell_type": "markdown",
   "metadata": {},
   "source": [
    "Модель для второго региона"
   ]
  },
  {
   "cell_type": "code",
   "execution_count": 22,
   "metadata": {},
   "outputs": [],
   "source": [
    "target_1 = data_1['product']\n",
    "features_1 = data_1.drop(['product'], axis=1)"
   ]
  },
  {
   "cell_type": "code",
   "execution_count": 23,
   "metadata": {},
   "outputs": [],
   "source": [
    "features_1_train, features_1_valid, target_1_train, target_1_valid = train_test_split(features_1,target_1, test_size=0.25,\n",
    "                                                                              random_state=RANDOM_STATE)"
   ]
  },
  {
   "cell_type": "code",
   "execution_count": 24,
   "metadata": {},
   "outputs": [
    {
     "data": {
      "text/plain": [
       "((74994, 3), (24998, 3))"
      ]
     },
     "execution_count": 24,
     "metadata": {},
     "output_type": "execute_result"
    }
   ],
   "source": [
    "features_1_train.shape, features_1_valid.shape"
   ]
  },
  {
   "cell_type": "code",
   "execution_count": 25,
   "metadata": {},
   "outputs": [],
   "source": [
    "scaler = StandardScaler()\n",
    "scaler.fit(features_1_train)\n",
    "features_1_train_log = scaler.transform(features_1_train)\n",
    "features_1_valid_log = scaler.transform(features_1_valid)"
   ]
  },
  {
   "cell_type": "code",
   "execution_count": 26,
   "metadata": {},
   "outputs": [
    {
     "data": {
      "text/plain": [
       "array([[ 0.94649269,  1.11626351, -0.29485436],\n",
       "       [ 0.2234139 , -1.30934394,  0.29330896],\n",
       "       [-0.8567036 , -0.32400061,  0.88155334],\n",
       "       ...,\n",
       "       [ 0.71996125,  2.21949477,  0.8744744 ],\n",
       "       [-0.55832767, -0.17402487,  0.88154834],\n",
       "       [ 1.18347265,  0.03167597, -0.87867228]])"
      ]
     },
     "metadata": {},
     "output_type": "display_data"
    },
    {
     "data": {
      "text/plain": [
       "array([[-0.53079814, -0.35323431, -0.29555687],\n",
       "       [-0.72119892,  1.25592576, -0.29370633],\n",
       "       [ 0.57102908,  1.09164422,  1.4663005 ],\n",
       "       ...,\n",
       "       [-0.68682694, -0.27132609,  1.47082804],\n",
       "       [-1.31334743, -0.46670457, -1.47001836],\n",
       "       [ 0.94576153, -0.10980442, -0.29480847]])"
      ]
     },
     "metadata": {},
     "output_type": "display_data"
    }
   ],
   "source": [
    "display(features_1_train_log)\n",
    "display(features_1_valid_log)"
   ]
  },
  {
   "cell_type": "code",
   "execution_count": 27,
   "metadata": {},
   "outputs": [],
   "source": [
    "model_1 = LinearRegression()\n",
    "model_1.fit(features_1_train_log, target_1_train)\n",
    "\n",
    "predictions_1 = model_1.predict(features_1_valid_log)"
   ]
  },
  {
   "cell_type": "code",
   "execution_count": 28,
   "metadata": {
    "scrolled": true
   },
   "outputs": [
    {
     "name": "stdout",
     "output_type": "stream",
     "text": [
      "RMSE во втором регионе: 0.89\n"
     ]
    }
   ],
   "source": [
    "rmse_1 = (mean_squared_error(target_1_valid,predictions_1))**(0.5)\n",
    "print(\"RMSE во втором регионе: {0:.2f}\".format(rmse_1))"
   ]
  },
  {
   "cell_type": "code",
   "execution_count": 29,
   "metadata": {},
   "outputs": [
    {
     "name": "stdout",
     "output_type": "stream",
     "text": [
      "средний запас во втором регионе = 68.26\n"
     ]
    }
   ],
   "source": [
    "average_product_1 = sum(predictions_1) / len(predictions_1)\n",
    "print('средний запас во втором регионе = {0:.2f}'.format(average_product_1))"
   ]
  },
  {
   "cell_type": "markdown",
   "metadata": {},
   "source": [
    "Модель для третьего региона"
   ]
  },
  {
   "cell_type": "code",
   "execution_count": 30,
   "metadata": {},
   "outputs": [],
   "source": [
    "target_2 = data_2['product']\n",
    "features_2 = data_2.drop(['product'], axis=1)"
   ]
  },
  {
   "cell_type": "code",
   "execution_count": 31,
   "metadata": {},
   "outputs": [],
   "source": [
    "features_2_train, features_2_valid, target_2_train, target_2_valid = train_test_split(features_2,target_2, test_size=0.25,\n",
    "                                                                              random_state=RANDOM_STATE)"
   ]
  },
  {
   "cell_type": "code",
   "execution_count": 32,
   "metadata": {},
   "outputs": [
    {
     "data": {
      "text/plain": [
       "((74994, 3), (24998, 3))"
      ]
     },
     "execution_count": 32,
     "metadata": {},
     "output_type": "execute_result"
    }
   ],
   "source": [
    "features_2_train.shape, features_2_valid.shape"
   ]
  },
  {
   "cell_type": "code",
   "execution_count": 33,
   "metadata": {},
   "outputs": [],
   "source": [
    "scaler = StandardScaler()\n",
    "scaler.fit(features_2_train)\n",
    "features_2_train_log = scaler.transform(features_2_train)\n",
    "features_2_valid_log = scaler.transform(features_2_valid)"
   ]
  },
  {
   "cell_type": "code",
   "execution_count": 34,
   "metadata": {},
   "outputs": [
    {
     "data": {
      "text/plain": [
       "array([[-0.30280399, -1.53283556, -0.13436874],\n",
       "       [-1.36168451, -0.97380354,  1.00363331],\n",
       "       [-1.80373105,  1.55375937, -0.92968949],\n",
       "       ...,\n",
       "       [ 2.54242578,  1.57196785,  0.99332778],\n",
       "       [ 0.36291832,  1.69846172,  0.87899602],\n",
       "       [-0.02912389, -0.02071165, -0.73722049]])"
      ]
     },
     "metadata": {},
     "output_type": "display_data"
    },
    {
     "data": {
      "text/plain": [
       "array([[ 0.11882209,  0.60336689, -0.54946504],\n",
       "       [-0.13687352,  0.52099516, -0.69961145],\n",
       "       [ 0.37695551, -0.30070922, -1.70157466],\n",
       "       ...,\n",
       "       [ 1.62757972,  0.27207529,  0.16195985],\n",
       "       [ 0.01732222, -0.04611174,  1.80081523],\n",
       "       [-0.9300396 , -0.27701571,  1.11479081]])"
      ]
     },
     "metadata": {},
     "output_type": "display_data"
    }
   ],
   "source": [
    "display(features_2_train_log)\n",
    "display(features_2_valid_log)"
   ]
  },
  {
   "cell_type": "code",
   "execution_count": 35,
   "metadata": {},
   "outputs": [],
   "source": [
    "model_2 = LinearRegression()\n",
    "model_2.fit(features_2_train_log, target_2_train)\n",
    "\n",
    "predictions_2 = model_2.predict(features_2_valid_log)"
   ]
  },
  {
   "cell_type": "code",
   "execution_count": 36,
   "metadata": {},
   "outputs": [
    {
     "name": "stdout",
     "output_type": "stream",
     "text": [
      "RMSE в третьем регионе: 39.99\n"
     ]
    }
   ],
   "source": [
    "rmse_2 = (mean_squared_error(target_2_valid,predictions_2))**(0.5)\n",
    "print(\"RMSE в третьем регионе: {0:.2f}\".format(rmse_2))"
   ]
  },
  {
   "cell_type": "code",
   "execution_count": 37,
   "metadata": {},
   "outputs": [
    {
     "name": "stdout",
     "output_type": "stream",
     "text": [
      "средний запас во втором регионе = 95.13\n"
     ]
    }
   ],
   "source": [
    "average_product_2 = sum(predictions_2) / len(predictions_2)\n",
    "print('средний запас во втором регионе = {0:.2f}'.format(average_product_2))"
   ]
  },
  {
   "cell_type": "markdown",
   "metadata": {},
   "source": [
    "Для наглядности и простоты сравнения моделей, собирем даные по обучению моделей в таблицу"
   ]
  },
  {
   "cell_type": "code",
   "execution_count": 38,
   "metadata": {},
   "outputs": [
    {
     "data": {
      "text/html": [
       "<div>\n",
       "<style scoped>\n",
       "    .dataframe tbody tr th:only-of-type {\n",
       "        vertical-align: middle;\n",
       "    }\n",
       "\n",
       "    .dataframe tbody tr th {\n",
       "        vertical-align: top;\n",
       "    }\n",
       "\n",
       "    .dataframe thead th {\n",
       "        text-align: right;\n",
       "    }\n",
       "</style>\n",
       "<table border=\"1\" class=\"dataframe\">\n",
       "  <thead>\n",
       "    <tr style=\"text-align: right;\">\n",
       "      <th></th>\n",
       "      <th>region</th>\n",
       "      <th>rmse</th>\n",
       "      <th>avg</th>\n",
       "    </tr>\n",
       "  </thead>\n",
       "  <tbody>\n",
       "    <tr>\n",
       "      <th>0</th>\n",
       "      <td>регион 1</td>\n",
       "      <td>37.50</td>\n",
       "      <td>92.58</td>\n",
       "    </tr>\n",
       "    <tr>\n",
       "      <th>1</th>\n",
       "      <td>регион 2</td>\n",
       "      <td>0.89</td>\n",
       "      <td>68.26</td>\n",
       "    </tr>\n",
       "    <tr>\n",
       "      <th>2</th>\n",
       "      <td>регион 3</td>\n",
       "      <td>39.99</td>\n",
       "      <td>95.13</td>\n",
       "    </tr>\n",
       "  </tbody>\n",
       "</table>\n",
       "</div>"
      ],
      "text/plain": [
       "     region  rmse   avg\n",
       "0  регион 1 37.50 92.58\n",
       "1  регион 2  0.89 68.26\n",
       "2  регион 3 39.99 95.13"
      ]
     },
     "metadata": {},
     "output_type": "display_data"
    }
   ],
   "source": [
    "results = pd.DataFrame(columns=(['region', 'rmse', 'avg']))\n",
    "results.region=['регион 1', 'регион 2', 'регион 3']\n",
    "results.rmse=[rmse_0, rmse_1, rmse_2]\n",
    "results.avg=[average_product_0,average_product_1,average_product_2]\n",
    "display(results) "
   ]
  },
  {
   "cell_type": "markdown",
   "metadata": {},
   "source": [
    "<div class=\"alert alert-block alert-warning\">\n",
    "<b>Комментарий студента:</b>если я правильно понял, то поставил переменные\n",
    "</div>"
   ]
  },
  {
   "cell_type": "markdown",
   "metadata": {},
   "source": [
    "по итогу данного наблюдения:\n",
    "1) учитывая задание, использовали модель линейной регрессии, т.к. остальные не так предсказуемы\n",
    "\n",
    "2) Лучший показатель rmse, практически равный 1, во втором регионе, что возможно связано с нулевыми значениями или переобучением модели, на втором месте 1 регион и на последнем 3.\n",
    "\n",
    "3) Лучший показатель по средним запасам в третьем регионе,второе место- регион 1 и на последнем месте 2 регион\n"
   ]
  },
  {
   "cell_type": "markdown",
   "metadata": {},
   "source": [
    "## Подготовка к расчёту прибыли"
   ]
  },
  {
   "cell_type": "markdown",
   "metadata": {},
   "source": [
    "При разведке региона исследуют 500 точек, из которых с помощью машинного обучения выбирают 200 лучших для разработки.\n",
    "\n",
    "Бюджет на разработку скважин в регионе — 10 млрд рублей.\n",
    "\n",
    "При нынешних ценах один баррель сырья приносит 450 рублей дохода. Доход с каждой единицы продукта составляет 450 тыс. рублей, поскольку объём указан в тысячах баррелей.\n",
    "\n",
    "После оценки рисков нужно оставить лишь те регионы, в которых вероятность убытков меньше 2.5%. Среди них выбирают регион с наибольшей средней прибылью."
   ]
  },
  {
   "cell_type": "code",
   "execution_count": 39,
   "metadata": {},
   "outputs": [],
   "source": [
    "objects_for_study = 500\n",
    "the_best_objects =200\n",
    "budget_per_region = 10**10\n",
    "revenue_per_barrel = 450*1000\n",
    "probability_of_loss = 0.025"
   ]
  },
  {
   "cell_type": "code",
   "execution_count": 40,
   "metadata": {},
   "outputs": [
    {
     "name": "stdout",
     "output_type": "stream",
     "text": [
      "Точка безубыточности объема запаса скважины на 200 объектов:  111.11111111111111 \n"
     ]
    }
   ],
   "source": [
    "breakeven_rate = (budget_per_region/ revenue_per_barrel)/(the_best_objects)\n",
    "print(f'Точка безубыточности объема запаса скважины на 200 объектов:  {breakeven_rate} ')"
   ]
  },
  {
   "cell_type": "code",
   "execution_count": 41,
   "metadata": {},
   "outputs": [
    {
     "name": "stdout",
     "output_type": "stream",
     "text": [
      "Точка безубыточности объема запаса региона:  22222.222222222223 \n"
     ]
    }
   ],
   "source": [
    "breakeven_rate_region = (budget_per_region/ revenue_per_barrel)\n",
    "print(f'Точка безубыточности объема запаса региона:  {breakeven_rate_region} ')"
   ]
  },
  {
   "cell_type": "markdown",
   "metadata": {},
   "source": [
    "Получается, что точка безубыточности на скважину составляет 111, точка безубыточности по региону 22 222. Учитывая, средние показатели полученые в модели, второй региона выглядит менее интересно для инвестиций, 1 и 3 регион в среднем ниже, но из данных видно, что порядка 25 % находятся в зоне безубыточности"
   ]
  },
  {
   "cell_type": "markdown",
   "metadata": {},
   "source": [
    "## Расчёт прибыли и рисков "
   ]
  },
  {
   "cell_type": "code",
   "execution_count": 42,
   "metadata": {},
   "outputs": [],
   "source": [
    "def revenue(target_true, target_pred):\n",
    "    best_pred_max200 = pd.Series(target_pred).sort_values(ascending=False)[:the_best_objects]\n",
    "    best_true_max200 = (target_true.reset_index(drop = True)[best_pred_max200.index])\n",
    "    best_sum =  best_true_max200.sum()\n",
    "    return round((best_sum * revenue_per_barrel) - budget_per_region, 2)"
   ]
  },
  {
   "cell_type": "code",
   "execution_count": 43,
   "metadata": {
    "scrolled": true
   },
   "outputs": [
    {
     "name": "stdout",
     "output_type": "stream",
     "text": [
      "Прибыль 200 скважин в регионе 1: 3265148771.92\n",
      "Прибыль 200 скважин в регионе 2: 2415086696.68\n",
      "Прибыль 200 скважин в регионе 3: 2451128929.38\n"
     ]
    }
   ],
   "source": [
    "print('Прибыль 200 скважин в регионе 1:', revenue(target_0_valid, predictions_0))\n",
    "print('Прибыль 200 скважин в регионе 2:', revenue(target_1_valid, predictions_1))\n",
    "print('Прибыль 200 скважин в регионе 3:', revenue(target_2_valid, predictions_2))"
   ]
  },
  {
   "cell_type": "code",
   "execution_count": 44,
   "metadata": {},
   "outputs": [],
   "source": [
    "def bootstrap(target_true, target_pred):\n",
    "    samples = []\n",
    "    for i in range(1000):\n",
    "        target_sample = pd.Series(target_pred).sample(n = objects_for_study, replace=True, random_state = RANDOM_STATE)\n",
    "        samples.append(revenue(target_true,target_sample))\n",
    "    samples = pd.Series(samples)\n",
    "    lower = samples.quantile(0.025)\n",
    "    upper = samples.quantile(0.975)\n",
    "    print('Средняя прибыль 200 скважин:', samples.mean())\n",
    "    print('Риск убытков:', samples.apply(lambda x: x < 0).sum()/len(samples)*100,\"%\")\n",
    "    print(\"5% доверительный итервал для региона  :\",round(lower,2), round(upper,2))\n",
    "\n"
   ]
  },
  {
   "cell_type": "code",
   "execution_count": 45,
   "metadata": {
    "scrolled": true
   },
   "outputs": [
    {
     "name": "stdout",
     "output_type": "stream",
     "text": [
      "Средняя прибыль 200 скважин: 448711699.35847\n",
      "Риск убытков: 4.7 %\n",
      "5% доверительный итервал для региона  : -55785826.13 972593754.26\n",
      "None\n"
     ]
    }
   ],
   "source": [
    "print(bootstrap(target_0_valid,predictions_0))\n",
    "\n"
   ]
  },
  {
   "cell_type": "code",
   "execution_count": 46,
   "metadata": {
    "scrolled": true
   },
   "outputs": [
    {
     "name": "stdout",
     "output_type": "stream",
     "text": [
      "Средняя прибыль 200 скважин: 385851350.08052003\n",
      "Риск убытков: 2.3 %\n",
      "5% доверительный итервал для региона  : 13042655.14 792330369.71\n",
      "None\n"
     ]
    }
   ],
   "source": [
    "print(bootstrap(target_1_valid, predictions_1))"
   ]
  },
  {
   "cell_type": "code",
   "execution_count": 47,
   "metadata": {},
   "outputs": [
    {
     "name": "stdout",
     "output_type": "stream",
     "text": [
      "Средняя прибыль 200 скважин: 406243019.08451\n",
      "Риск убытков: 6.4 %\n",
      "5% доверительный итервал для региона  : -115274352.33 903934171.16\n",
      "None\n"
     ]
    }
   ],
   "source": [
    "print(bootstrap(target_2_valid, predictions_2))"
   ]
  },
  {
   "cell_type": "markdown",
   "metadata": {},
   "source": [
    "Вывод:\n",
    "\n",
    "     Согласно заданию, нужно выбрать регион  с риском убытков менее 2,5 %. у нас получается только один регион соответствует данному критерию и это регион номер 2. стоит отметить, что доверительнй интервалу данного региона находится в положительной зоне и разброс по нему является наименьшим. при этом средняя прибыль по 200 точкам в данном регионе является наименьшей среди рассматриваемых 3 регионов. на первом месте по прибыли и с риском убытков на второй позиции, но выше заданных критереев, находится регион 1."
   ]
  },
  {
   "cell_type": "markdown",
   "metadata": {},
   "source": [
    "Поставьте 'x' в выполненных пунктах. Далее нажмите Shift+Enter."
   ]
  },
  {
   "cell_type": "markdown",
   "metadata": {},
   "source": [
    "- [x]  Jupyter Notebook открыт\n",
    "- [x]  Весь код выполняется без ошибок\n",
    "- [x]  Ячейки с кодом расположены в порядке исполнения\n",
    "- [x]  Выполнен шаг 1: данные подготовлены\n",
    "- [x]  Выполнен шаг 2: модели обучены и проверены\n",
    "    - [x]  Данные корректно разбиты на обучающую и валидационную выборки\n",
    "    - [x]  Модели обучены, предсказания сделаны\n",
    "    - [x]  Предсказания и правильные ответы на валидационной выборке сохранены\n",
    "    - [x]  На экране напечатаны результаты\n",
    "    - [x]  Сделаны выводы\n",
    "- [ ]  Выполнен шаг 3: проведена подготовка к расчёту прибыли\n",
    "    - [x]  Для всех ключевых значений созданы константы Python\n",
    "    - [x]  Посчитано минимальное среднее количество продукта в месторождениях региона, достаточное для разработки\n",
    "    - [x]  По предыдущему пункту сделаны выводы\n",
    "    - [x]  Написана функция расчёта прибыли\n",
    "- [x]  Выполнен шаг 4: посчитаны риски и прибыль\n",
    "    - [x]  Проведена процедура *Bootstrap*\n",
    "    - [x]  Все параметры бутстрепа соответствуют условию\n",
    "    - [x]  Найдены все нужные величины\n",
    "    - [x]  Предложен регион для разработки месторождения\n",
    "    - [x]  Выбор региона обоснован"
   ]
  },
  {
   "cell_type": "code",
   "execution_count": null,
   "metadata": {},
   "outputs": [],
   "source": []
  }
 ],
 "metadata": {
  "ExecuteTimeLog": [
   {
    "duration": 1742,
    "start_time": "2023-10-24T12:33:18.603Z"
   },
   {
    "duration": 5,
    "start_time": "2023-10-24T12:34:22.677Z"
   },
   {
    "duration": 1024,
    "start_time": "2023-10-24T12:35:41.020Z"
   },
   {
    "duration": 889,
    "start_time": "2023-10-24T12:38:31.482Z"
   },
   {
    "duration": 885,
    "start_time": "2023-10-24T12:39:03.386Z"
   },
   {
    "duration": 1704,
    "start_time": "2023-10-25T12:59:59.973Z"
   },
   {
    "duration": 2205,
    "start_time": "2023-10-25T13:00:01.679Z"
   },
   {
    "duration": 827,
    "start_time": "2023-10-25T13:00:03.886Z"
   },
   {
    "duration": 58,
    "start_time": "2023-10-25T13:02:50.092Z"
   },
   {
    "duration": 54,
    "start_time": "2023-10-25T13:13:31.568Z"
   },
   {
    "duration": 56,
    "start_time": "2023-10-25T13:16:34.780Z"
   },
   {
    "duration": 34,
    "start_time": "2023-10-25T13:17:22.473Z"
   },
   {
    "duration": 35,
    "start_time": "2023-10-25T13:18:27.887Z"
   },
   {
    "duration": 4,
    "start_time": "2023-10-25T13:29:06.198Z"
   },
   {
    "duration": 422,
    "start_time": "2023-10-25T13:29:06.204Z"
   },
   {
    "duration": 721,
    "start_time": "2023-10-25T13:29:06.628Z"
   },
   {
    "duration": 60,
    "start_time": "2023-10-25T13:29:07.351Z"
   },
   {
    "duration": 63,
    "start_time": "2023-10-25T13:29:07.413Z"
   },
   {
    "duration": 36,
    "start_time": "2023-10-25T13:29:07.477Z"
   },
   {
    "duration": 45,
    "start_time": "2023-10-25T13:29:07.515Z"
   },
   {
    "duration": 20,
    "start_time": "2023-10-25T13:30:20.116Z"
   },
   {
    "duration": 14,
    "start_time": "2023-10-25T13:31:04.499Z"
   },
   {
    "duration": 15,
    "start_time": "2023-10-25T13:34:47.989Z"
   },
   {
    "duration": 11,
    "start_time": "2023-10-25T13:35:11.975Z"
   },
   {
    "duration": 15,
    "start_time": "2023-10-25T13:38:08.176Z"
   },
   {
    "duration": 13,
    "start_time": "2023-10-25T13:41:26.379Z"
   },
   {
    "duration": 11,
    "start_time": "2023-10-25T13:43:47.671Z"
   },
   {
    "duration": 10,
    "start_time": "2023-10-25T13:45:18.696Z"
   },
   {
    "duration": 1596,
    "start_time": "2023-10-25T17:53:12.593Z"
   },
   {
    "duration": 1028,
    "start_time": "2023-10-25T17:53:14.191Z"
   },
   {
    "duration": 841,
    "start_time": "2023-10-25T17:53:15.221Z"
   },
   {
    "duration": 81,
    "start_time": "2023-10-25T17:53:16.065Z"
   },
   {
    "duration": 47,
    "start_time": "2023-10-25T17:53:16.149Z"
   },
   {
    "duration": 58,
    "start_time": "2023-10-25T17:53:16.197Z"
   },
   {
    "duration": 122,
    "start_time": "2023-10-25T17:53:16.257Z"
   },
   {
    "duration": 33,
    "start_time": "2023-10-25T17:53:59.445Z"
   },
   {
    "duration": 21,
    "start_time": "2023-10-25T17:56:13.980Z"
   },
   {
    "duration": 15,
    "start_time": "2023-10-25T17:56:59.170Z"
   },
   {
    "duration": 36,
    "start_time": "2023-10-25T17:57:18.537Z"
   },
   {
    "duration": 14,
    "start_time": "2023-10-25T17:57:33.516Z"
   },
   {
    "duration": 4,
    "start_time": "2023-10-25T17:57:42.400Z"
   },
   {
    "duration": 454,
    "start_time": "2023-10-25T17:57:42.406Z"
   },
   {
    "duration": 884,
    "start_time": "2023-10-25T17:57:42.862Z"
   },
   {
    "duration": 102,
    "start_time": "2023-10-25T17:57:43.748Z"
   },
   {
    "duration": 54,
    "start_time": "2023-10-25T17:57:43.853Z"
   },
   {
    "duration": 65,
    "start_time": "2023-10-25T17:57:43.909Z"
   },
   {
    "duration": 17,
    "start_time": "2023-10-25T17:57:43.976Z"
   },
   {
    "duration": 22,
    "start_time": "2023-10-25T18:00:01.821Z"
   },
   {
    "duration": 16,
    "start_time": "2023-10-25T18:01:45.193Z"
   },
   {
    "duration": 28,
    "start_time": "2023-10-25T18:02:03.763Z"
   },
   {
    "duration": 49,
    "start_time": "2023-10-25T18:02:18.343Z"
   },
   {
    "duration": 4,
    "start_time": "2023-10-25T18:02:35.210Z"
   },
   {
    "duration": 519,
    "start_time": "2023-10-25T18:02:35.216Z"
   },
   {
    "duration": 927,
    "start_time": "2023-10-25T18:02:35.738Z"
   },
   {
    "duration": 95,
    "start_time": "2023-10-25T18:02:36.667Z"
   },
   {
    "duration": 49,
    "start_time": "2023-10-25T18:02:36.775Z"
   },
   {
    "duration": 55,
    "start_time": "2023-10-25T18:02:36.825Z"
   },
   {
    "duration": 10,
    "start_time": "2023-10-25T18:02:36.882Z"
   },
   {
    "duration": 36,
    "start_time": "2023-10-25T18:02:36.894Z"
   },
   {
    "duration": 4,
    "start_time": "2023-10-25T18:03:07.127Z"
   },
   {
    "duration": 4,
    "start_time": "2023-10-25T18:33:21.292Z"
   },
   {
    "duration": 425,
    "start_time": "2023-10-25T18:33:21.298Z"
   },
   {
    "duration": 858,
    "start_time": "2023-10-25T18:33:21.725Z"
   },
   {
    "duration": 77,
    "start_time": "2023-10-25T18:33:22.585Z"
   },
   {
    "duration": 43,
    "start_time": "2023-10-25T18:33:22.665Z"
   },
   {
    "duration": 59,
    "start_time": "2023-10-25T18:33:22.710Z"
   },
   {
    "duration": 8,
    "start_time": "2023-10-25T18:33:22.771Z"
   },
   {
    "duration": 4,
    "start_time": "2023-10-25T18:33:22.780Z"
   },
   {
    "duration": 16,
    "start_time": "2023-10-25T18:33:22.786Z"
   },
   {
    "duration": 40,
    "start_time": "2023-10-25T18:41:54.425Z"
   },
   {
    "duration": 17,
    "start_time": "2023-10-25T18:42:26.894Z"
   },
   {
    "duration": 4,
    "start_time": "2023-10-25T18:42:35.606Z"
   },
   {
    "duration": 432,
    "start_time": "2023-10-25T18:42:35.612Z"
   },
   {
    "duration": 835,
    "start_time": "2023-10-25T18:42:36.046Z"
   },
   {
    "duration": 86,
    "start_time": "2023-10-25T18:42:36.883Z"
   },
   {
    "duration": 44,
    "start_time": "2023-10-25T18:42:36.972Z"
   },
   {
    "duration": 81,
    "start_time": "2023-10-25T18:42:37.019Z"
   },
   {
    "duration": 16,
    "start_time": "2023-10-25T18:42:37.102Z"
   },
   {
    "duration": 13,
    "start_time": "2023-10-25T18:42:37.120Z"
   },
   {
    "duration": 41,
    "start_time": "2023-10-25T18:42:37.135Z"
   },
   {
    "duration": 22,
    "start_time": "2023-10-25T18:42:37.178Z"
   },
   {
    "duration": 1807,
    "start_time": "2023-10-26T10:57:13.555Z"
   },
   {
    "duration": 858,
    "start_time": "2023-10-26T10:57:15.365Z"
   },
   {
    "duration": 797,
    "start_time": "2023-10-26T10:57:16.225Z"
   },
   {
    "duration": 75,
    "start_time": "2023-10-26T10:57:17.025Z"
   },
   {
    "duration": 70,
    "start_time": "2023-10-26T10:57:17.103Z"
   },
   {
    "duration": 42,
    "start_time": "2023-10-26T10:57:17.175Z"
   },
   {
    "duration": 28,
    "start_time": "2023-10-26T10:57:17.219Z"
   },
   {
    "duration": 16,
    "start_time": "2023-10-26T10:57:17.249Z"
   },
   {
    "duration": 24,
    "start_time": "2023-10-26T10:57:17.266Z"
   },
   {
    "duration": 21,
    "start_time": "2023-10-26T10:57:17.291Z"
   },
   {
    "duration": 122,
    "start_time": "2023-10-26T11:06:01.402Z"
   },
   {
    "duration": 98,
    "start_time": "2023-10-26T11:06:32.298Z"
   },
   {
    "duration": 100,
    "start_time": "2023-10-26T11:08:13.188Z"
   },
   {
    "duration": 4,
    "start_time": "2023-10-26T11:09:56.754Z"
   },
   {
    "duration": 11,
    "start_time": "2023-10-26T11:10:07.740Z"
   },
   {
    "duration": 11,
    "start_time": "2023-10-26T11:10:21.997Z"
   },
   {
    "duration": 12,
    "start_time": "2023-10-26T11:10:40.333Z"
   },
   {
    "duration": 4,
    "start_time": "2023-10-26T11:11:12.819Z"
   },
   {
    "duration": 10,
    "start_time": "2023-10-26T11:11:24.757Z"
   },
   {
    "duration": 5,
    "start_time": "2023-10-26T11:11:35.412Z"
   },
   {
    "duration": 12,
    "start_time": "2023-10-26T11:25:05.199Z"
   },
   {
    "duration": 11,
    "start_time": "2023-10-26T11:25:27.070Z"
   },
   {
    "duration": 1848,
    "start_time": "2023-10-26T11:26:04.145Z"
   },
   {
    "duration": 5,
    "start_time": "2023-10-26T11:28:44.576Z"
   },
   {
    "duration": 25,
    "start_time": "2023-10-26T11:29:00.888Z"
   },
   {
    "duration": 11,
    "start_time": "2023-10-26T11:29:46.535Z"
   },
   {
    "duration": 12,
    "start_time": "2023-10-26T11:31:30.780Z"
   },
   {
    "duration": 11,
    "start_time": "2023-10-26T13:03:57.129Z"
   },
   {
    "duration": 5,
    "start_time": "2023-10-26T13:04:01.804Z"
   },
   {
    "duration": 15,
    "start_time": "2023-10-26T13:04:02.375Z"
   },
   {
    "duration": 9,
    "start_time": "2023-10-26T13:04:05.508Z"
   },
   {
    "duration": 4,
    "start_time": "2023-10-26T13:04:14.134Z"
   },
   {
    "duration": 16,
    "start_time": "2023-10-26T13:05:54.378Z"
   },
   {
    "duration": 21,
    "start_time": "2023-10-26T13:11:14.319Z"
   },
   {
    "duration": 15,
    "start_time": "2023-10-26T13:12:00.878Z"
   },
   {
    "duration": 7,
    "start_time": "2023-10-26T13:13:24.389Z"
   },
   {
    "duration": 11,
    "start_time": "2023-10-26T13:18:49.180Z"
   },
   {
    "duration": 9,
    "start_time": "2023-10-26T13:19:21.386Z"
   },
   {
    "duration": 531,
    "start_time": "2023-10-26T13:19:21.396Z"
   },
   {
    "duration": 941,
    "start_time": "2023-10-26T13:19:21.929Z"
   },
   {
    "duration": 71,
    "start_time": "2023-10-26T13:19:22.874Z"
   },
   {
    "duration": 59,
    "start_time": "2023-10-26T13:19:22.947Z"
   },
   {
    "duration": 59,
    "start_time": "2023-10-26T13:19:23.008Z"
   },
   {
    "duration": 10,
    "start_time": "2023-10-26T13:19:23.068Z"
   },
   {
    "duration": 53,
    "start_time": "2023-10-26T13:19:23.084Z"
   },
   {
    "duration": 50,
    "start_time": "2023-10-26T13:19:23.138Z"
   },
   {
    "duration": 17,
    "start_time": "2023-10-26T13:19:23.190Z"
   },
   {
    "duration": 117,
    "start_time": "2023-10-26T13:19:23.208Z"
   },
   {
    "duration": 10,
    "start_time": "2023-10-26T13:19:23.327Z"
   },
   {
    "duration": 34,
    "start_time": "2023-10-26T13:19:23.347Z"
   },
   {
    "duration": 9,
    "start_time": "2023-10-26T13:19:23.386Z"
   },
   {
    "duration": 27,
    "start_time": "2023-10-26T13:19:23.397Z"
   },
   {
    "duration": 10,
    "start_time": "2023-10-26T13:19:23.426Z"
   },
   {
    "duration": 39,
    "start_time": "2023-10-26T13:19:23.438Z"
   },
   {
    "duration": 61,
    "start_time": "2023-10-26T13:19:23.478Z"
   },
   {
    "duration": 46,
    "start_time": "2023-10-26T13:19:23.541Z"
   },
   {
    "duration": 83,
    "start_time": "2023-10-26T13:25:30.370Z"
   },
   {
    "duration": 5,
    "start_time": "2023-10-26T13:25:55.673Z"
   },
   {
    "duration": 493,
    "start_time": "2023-10-26T13:25:55.680Z"
   },
   {
    "duration": 892,
    "start_time": "2023-10-26T13:25:56.174Z"
   },
   {
    "duration": 68,
    "start_time": "2023-10-26T13:25:57.067Z"
   },
   {
    "duration": 58,
    "start_time": "2023-10-26T13:25:57.138Z"
   },
   {
    "duration": 74,
    "start_time": "2023-10-26T13:25:57.198Z"
   },
   {
    "duration": 10,
    "start_time": "2023-10-26T13:25:57.275Z"
   },
   {
    "duration": 6,
    "start_time": "2023-10-26T13:25:57.287Z"
   },
   {
    "duration": 30,
    "start_time": "2023-10-26T13:25:57.295Z"
   },
   {
    "duration": 29,
    "start_time": "2023-10-26T13:25:57.326Z"
   },
   {
    "duration": 140,
    "start_time": "2023-10-26T13:25:57.356Z"
   },
   {
    "duration": 10,
    "start_time": "2023-10-26T13:25:57.497Z"
   },
   {
    "duration": 23,
    "start_time": "2023-10-26T13:25:57.509Z"
   },
   {
    "duration": 27,
    "start_time": "2023-10-26T13:25:57.535Z"
   },
   {
    "duration": 39,
    "start_time": "2023-10-26T13:25:57.563Z"
   },
   {
    "duration": 6,
    "start_time": "2023-10-26T13:25:57.603Z"
   },
   {
    "duration": 13,
    "start_time": "2023-10-26T13:25:57.610Z"
   },
   {
    "duration": 7,
    "start_time": "2023-10-26T13:25:57.625Z"
   },
   {
    "duration": 142,
    "start_time": "2023-10-26T13:25:57.634Z"
   },
   {
    "duration": 13,
    "start_time": "2023-10-26T13:27:49.820Z"
   },
   {
    "duration": 14,
    "start_time": "2023-10-26T13:27:55.924Z"
   },
   {
    "duration": 112,
    "start_time": "2023-10-26T13:31:00.746Z"
   },
   {
    "duration": 136,
    "start_time": "2023-10-26T13:31:30.551Z"
   },
   {
    "duration": 49,
    "start_time": "2023-10-26T13:31:42.316Z"
   },
   {
    "duration": 152,
    "start_time": "2023-10-26T13:33:04.873Z"
   },
   {
    "duration": 122,
    "start_time": "2023-10-26T13:34:31.170Z"
   },
   {
    "duration": 5,
    "start_time": "2023-10-26T13:34:38.322Z"
   },
   {
    "duration": 484,
    "start_time": "2023-10-26T13:34:38.329Z"
   },
   {
    "duration": 868,
    "start_time": "2023-10-26T13:34:38.815Z"
   },
   {
    "duration": 95,
    "start_time": "2023-10-26T13:34:39.685Z"
   },
   {
    "duration": 50,
    "start_time": "2023-10-26T13:34:39.782Z"
   },
   {
    "duration": 75,
    "start_time": "2023-10-26T13:34:39.834Z"
   },
   {
    "duration": 9,
    "start_time": "2023-10-26T13:34:39.911Z"
   },
   {
    "duration": 34,
    "start_time": "2023-10-26T13:34:39.921Z"
   },
   {
    "duration": 41,
    "start_time": "2023-10-26T13:34:39.957Z"
   },
   {
    "duration": 29,
    "start_time": "2023-10-26T13:34:40.000Z"
   },
   {
    "duration": 135,
    "start_time": "2023-10-26T13:34:40.031Z"
   },
   {
    "duration": 14,
    "start_time": "2023-10-26T13:34:40.168Z"
   },
   {
    "duration": 221,
    "start_time": "2023-10-26T13:34:40.184Z"
   },
   {
    "duration": 5,
    "start_time": "2023-10-26T13:34:40.408Z"
   },
   {
    "duration": 32,
    "start_time": "2023-10-26T13:34:40.414Z"
   },
   {
    "duration": 7,
    "start_time": "2023-10-26T13:34:40.450Z"
   },
   {
    "duration": 29,
    "start_time": "2023-10-26T13:34:40.459Z"
   },
   {
    "duration": 7,
    "start_time": "2023-10-26T13:34:40.489Z"
   },
   {
    "duration": 104,
    "start_time": "2023-10-26T13:34:40.498Z"
   },
   {
    "duration": 10,
    "start_time": "2023-10-26T13:36:10.272Z"
   },
   {
    "duration": 12,
    "start_time": "2023-10-26T13:36:21.224Z"
   },
   {
    "duration": 8,
    "start_time": "2023-10-26T13:36:22.466Z"
   },
   {
    "duration": 10,
    "start_time": "2023-10-26T13:36:23.217Z"
   },
   {
    "duration": 11,
    "start_time": "2023-10-26T13:36:39.803Z"
   },
   {
    "duration": 30,
    "start_time": "2023-10-26T13:38:01.252Z"
   },
   {
    "duration": 113,
    "start_time": "2023-10-26T13:39:50.944Z"
   },
   {
    "duration": 34,
    "start_time": "2023-10-26T13:43:55.542Z"
   },
   {
    "duration": 16,
    "start_time": "2023-10-26T13:44:20.063Z"
   },
   {
    "duration": 5,
    "start_time": "2023-10-26T13:59:34.313Z"
   },
   {
    "duration": 481,
    "start_time": "2023-10-26T13:59:34.320Z"
   },
   {
    "duration": 979,
    "start_time": "2023-10-26T13:59:34.803Z"
   },
   {
    "duration": 94,
    "start_time": "2023-10-26T13:59:35.784Z"
   },
   {
    "duration": 53,
    "start_time": "2023-10-26T13:59:35.881Z"
   },
   {
    "duration": 55,
    "start_time": "2023-10-26T13:59:35.935Z"
   },
   {
    "duration": 9,
    "start_time": "2023-10-26T13:59:35.992Z"
   },
   {
    "duration": 26,
    "start_time": "2023-10-26T13:59:36.003Z"
   },
   {
    "duration": 30,
    "start_time": "2023-10-26T13:59:36.030Z"
   },
   {
    "duration": 22,
    "start_time": "2023-10-26T13:59:36.062Z"
   },
   {
    "duration": 140,
    "start_time": "2023-10-26T13:59:36.087Z"
   },
   {
    "duration": 30,
    "start_time": "2023-10-26T13:59:36.229Z"
   },
   {
    "duration": 15,
    "start_time": "2023-10-26T13:59:36.263Z"
   },
   {
    "duration": 4,
    "start_time": "2023-10-26T13:59:36.281Z"
   },
   {
    "duration": 18,
    "start_time": "2023-10-26T13:59:36.286Z"
   },
   {
    "duration": 3,
    "start_time": "2023-10-26T13:59:36.306Z"
   },
   {
    "duration": 47,
    "start_time": "2023-10-26T13:59:36.311Z"
   },
   {
    "duration": 0,
    "start_time": "2023-10-26T13:59:36.360Z"
   },
   {
    "duration": 0,
    "start_time": "2023-10-26T13:59:36.361Z"
   },
   {
    "duration": 0,
    "start_time": "2023-10-26T13:59:36.362Z"
   },
   {
    "duration": 13,
    "start_time": "2023-10-26T14:00:42.902Z"
   },
   {
    "duration": 4,
    "start_time": "2023-10-26T14:00:43.594Z"
   },
   {
    "duration": 6,
    "start_time": "2023-10-26T14:00:54.104Z"
   },
   {
    "duration": 516,
    "start_time": "2023-10-26T14:00:54.112Z"
   },
   {
    "duration": 946,
    "start_time": "2023-10-26T14:00:54.630Z"
   },
   {
    "duration": 88,
    "start_time": "2023-10-26T14:00:55.578Z"
   },
   {
    "duration": 48,
    "start_time": "2023-10-26T14:00:55.669Z"
   },
   {
    "duration": 64,
    "start_time": "2023-10-26T14:00:55.719Z"
   },
   {
    "duration": 10,
    "start_time": "2023-10-26T14:00:55.785Z"
   },
   {
    "duration": 9,
    "start_time": "2023-10-26T14:00:55.796Z"
   },
   {
    "duration": 28,
    "start_time": "2023-10-26T14:00:55.806Z"
   },
   {
    "duration": 40,
    "start_time": "2023-10-26T14:00:55.836Z"
   },
   {
    "duration": 124,
    "start_time": "2023-10-26T14:00:55.878Z"
   },
   {
    "duration": 11,
    "start_time": "2023-10-26T14:00:56.004Z"
   },
   {
    "duration": 63,
    "start_time": "2023-10-26T14:00:56.017Z"
   },
   {
    "duration": 6,
    "start_time": "2023-10-26T14:00:56.083Z"
   },
   {
    "duration": 22,
    "start_time": "2023-10-26T14:00:56.091Z"
   },
   {
    "duration": 5,
    "start_time": "2023-10-26T14:00:56.115Z"
   },
   {
    "duration": 22,
    "start_time": "2023-10-26T14:00:56.121Z"
   },
   {
    "duration": 11,
    "start_time": "2023-10-26T14:00:56.144Z"
   },
   {
    "duration": 22,
    "start_time": "2023-10-26T14:00:56.157Z"
   },
   {
    "duration": 112,
    "start_time": "2023-10-26T14:00:56.246Z"
   },
   {
    "duration": 14,
    "start_time": "2023-10-26T14:05:15.272Z"
   },
   {
    "duration": 6,
    "start_time": "2023-10-26T14:05:26.001Z"
   },
   {
    "duration": 505,
    "start_time": "2023-10-26T14:05:26.009Z"
   },
   {
    "duration": 859,
    "start_time": "2023-10-26T14:05:26.515Z"
   },
   {
    "duration": 88,
    "start_time": "2023-10-26T14:05:27.377Z"
   },
   {
    "duration": 44,
    "start_time": "2023-10-26T14:05:27.470Z"
   },
   {
    "duration": 56,
    "start_time": "2023-10-26T14:05:27.516Z"
   },
   {
    "duration": 9,
    "start_time": "2023-10-26T14:05:27.574Z"
   },
   {
    "duration": 12,
    "start_time": "2023-10-26T14:05:27.585Z"
   },
   {
    "duration": 31,
    "start_time": "2023-10-26T14:05:27.599Z"
   },
   {
    "duration": 41,
    "start_time": "2023-10-26T14:05:27.633Z"
   },
   {
    "duration": 105,
    "start_time": "2023-10-26T14:05:27.677Z"
   },
   {
    "duration": 10,
    "start_time": "2023-10-26T14:05:27.784Z"
   },
   {
    "duration": 31,
    "start_time": "2023-10-26T14:05:27.795Z"
   },
   {
    "duration": 44,
    "start_time": "2023-10-26T14:05:27.828Z"
   },
   {
    "duration": 31,
    "start_time": "2023-10-26T14:05:27.874Z"
   },
   {
    "duration": 0,
    "start_time": "2023-10-26T14:05:27.907Z"
   },
   {
    "duration": 0,
    "start_time": "2023-10-26T14:05:27.908Z"
   },
   {
    "duration": 0,
    "start_time": "2023-10-26T14:05:27.909Z"
   },
   {
    "duration": 0,
    "start_time": "2023-10-26T14:05:27.910Z"
   },
   {
    "duration": 0,
    "start_time": "2023-10-26T14:05:27.912Z"
   },
   {
    "duration": 11,
    "start_time": "2023-10-26T14:05:43.511Z"
   },
   {
    "duration": 6,
    "start_time": "2023-10-26T14:05:46.557Z"
   },
   {
    "duration": 14,
    "start_time": "2023-10-26T14:05:49.871Z"
   },
   {
    "duration": 7,
    "start_time": "2023-10-26T14:05:51.079Z"
   },
   {
    "duration": 16,
    "start_time": "2023-10-26T14:05:54.109Z"
   },
   {
    "duration": 13,
    "start_time": "2023-10-26T14:06:03.607Z"
   },
   {
    "duration": 6,
    "start_time": "2023-10-26T14:08:05.462Z"
   },
   {
    "duration": 454,
    "start_time": "2023-10-26T14:08:05.470Z"
   },
   {
    "duration": 853,
    "start_time": "2023-10-26T14:08:05.927Z"
   },
   {
    "duration": 97,
    "start_time": "2023-10-26T14:08:06.782Z"
   },
   {
    "duration": 45,
    "start_time": "2023-10-26T14:08:06.882Z"
   },
   {
    "duration": 79,
    "start_time": "2023-10-26T14:08:06.929Z"
   },
   {
    "duration": 40,
    "start_time": "2023-10-26T14:08:07.009Z"
   },
   {
    "duration": 57,
    "start_time": "2023-10-26T14:08:07.062Z"
   },
   {
    "duration": 68,
    "start_time": "2023-10-26T14:08:07.121Z"
   },
   {
    "duration": 54,
    "start_time": "2023-10-26T14:08:07.191Z"
   },
   {
    "duration": 143,
    "start_time": "2023-10-26T14:08:07.246Z"
   },
   {
    "duration": 9,
    "start_time": "2023-10-26T14:08:07.392Z"
   },
   {
    "duration": 41,
    "start_time": "2023-10-26T14:08:07.403Z"
   },
   {
    "duration": 25,
    "start_time": "2023-10-26T14:08:07.447Z"
   },
   {
    "duration": 61,
    "start_time": "2023-10-26T14:08:07.474Z"
   },
   {
    "duration": 26,
    "start_time": "2023-10-26T14:08:07.536Z"
   },
   {
    "duration": 41,
    "start_time": "2023-10-26T14:08:07.563Z"
   },
   {
    "duration": 25,
    "start_time": "2023-10-26T14:08:07.606Z"
   },
   {
    "duration": 50,
    "start_time": "2023-10-26T14:08:07.633Z"
   },
   {
    "duration": 174,
    "start_time": "2023-10-26T14:08:07.687Z"
   },
   {
    "duration": 5,
    "start_time": "2023-10-26T14:10:11.278Z"
   },
   {
    "duration": 440,
    "start_time": "2023-10-26T14:10:11.285Z"
   },
   {
    "duration": 839,
    "start_time": "2023-10-26T14:10:11.727Z"
   },
   {
    "duration": 88,
    "start_time": "2023-10-26T14:10:12.568Z"
   },
   {
    "duration": 53,
    "start_time": "2023-10-26T14:10:12.661Z"
   },
   {
    "duration": 61,
    "start_time": "2023-10-26T14:10:12.716Z"
   },
   {
    "duration": 9,
    "start_time": "2023-10-26T14:10:12.779Z"
   },
   {
    "duration": 21,
    "start_time": "2023-10-26T14:10:12.790Z"
   },
   {
    "duration": 22,
    "start_time": "2023-10-26T14:10:12.813Z"
   },
   {
    "duration": 26,
    "start_time": "2023-10-26T14:10:12.850Z"
   },
   {
    "duration": 115,
    "start_time": "2023-10-26T14:10:12.878Z"
   },
   {
    "duration": 10,
    "start_time": "2023-10-26T14:10:12.995Z"
   },
   {
    "duration": 11,
    "start_time": "2023-10-26T14:10:13.006Z"
   },
   {
    "duration": 4,
    "start_time": "2023-10-26T14:10:13.060Z"
   },
   {
    "duration": 13,
    "start_time": "2023-10-26T14:10:13.066Z"
   },
   {
    "duration": 3,
    "start_time": "2023-10-26T14:10:13.081Z"
   },
   {
    "duration": 14,
    "start_time": "2023-10-26T14:10:13.086Z"
   },
   {
    "duration": 6,
    "start_time": "2023-10-26T14:10:13.101Z"
   },
   {
    "duration": 45,
    "start_time": "2023-10-26T14:10:13.109Z"
   },
   {
    "duration": 101,
    "start_time": "2023-10-26T14:10:13.159Z"
   },
   {
    "duration": 4,
    "start_time": "2023-10-26T14:18:09.915Z"
   },
   {
    "duration": 11,
    "start_time": "2023-10-26T14:18:10.475Z"
   },
   {
    "duration": 4,
    "start_time": "2023-10-26T14:18:11.261Z"
   },
   {
    "duration": 4,
    "start_time": "2023-10-26T14:19:00.597Z"
   },
   {
    "duration": 5,
    "start_time": "2023-10-26T14:19:26.130Z"
   },
   {
    "duration": 5,
    "start_time": "2023-10-26T14:22:01.900Z"
   },
   {
    "duration": 12,
    "start_time": "2023-10-26T14:22:10.889Z"
   },
   {
    "duration": 7,
    "start_time": "2023-10-26T14:22:11.538Z"
   },
   {
    "duration": 12,
    "start_time": "2023-10-26T14:22:15.177Z"
   },
   {
    "duration": 13,
    "start_time": "2023-10-26T14:22:18.913Z"
   },
   {
    "duration": 14,
    "start_time": "2023-10-26T14:24:11.747Z"
   },
   {
    "duration": 7,
    "start_time": "2023-10-26T14:24:12.417Z"
   },
   {
    "duration": 10,
    "start_time": "2023-10-26T14:24:13.290Z"
   },
   {
    "duration": 13,
    "start_time": "2023-10-26T14:24:14.259Z"
   },
   {
    "duration": 17,
    "start_time": "2023-10-26T14:25:01.256Z"
   },
   {
    "duration": 12,
    "start_time": "2023-10-26T14:28:27.178Z"
   },
   {
    "duration": 7,
    "start_time": "2023-10-26T14:28:30.092Z"
   },
   {
    "duration": 11,
    "start_time": "2023-10-26T14:28:40.637Z"
   },
   {
    "duration": 3,
    "start_time": "2023-10-26T14:28:43.780Z"
   },
   {
    "duration": 4,
    "start_time": "2023-10-26T14:29:22.671Z"
   },
   {
    "duration": 6,
    "start_time": "2023-10-26T14:32:46.935Z"
   },
   {
    "duration": 5,
    "start_time": "2023-10-26T14:32:58.461Z"
   },
   {
    "duration": 6,
    "start_time": "2023-10-26T14:33:28.173Z"
   },
   {
    "duration": 1581,
    "start_time": "2023-10-27T01:26:36.144Z"
   },
   {
    "duration": 1009,
    "start_time": "2023-10-27T01:26:37.728Z"
   },
   {
    "duration": 869,
    "start_time": "2023-10-27T01:26:38.739Z"
   },
   {
    "duration": 60,
    "start_time": "2023-10-27T01:26:39.610Z"
   },
   {
    "duration": 65,
    "start_time": "2023-10-27T01:26:39.672Z"
   },
   {
    "duration": 39,
    "start_time": "2023-10-27T01:26:39.738Z"
   },
   {
    "duration": 30,
    "start_time": "2023-10-27T01:26:39.778Z"
   },
   {
    "duration": 4,
    "start_time": "2023-10-27T01:26:39.810Z"
   },
   {
    "duration": 25,
    "start_time": "2023-10-27T01:26:39.815Z"
   },
   {
    "duration": 17,
    "start_time": "2023-10-27T01:26:39.842Z"
   },
   {
    "duration": 124,
    "start_time": "2023-10-27T01:26:39.860Z"
   },
   {
    "duration": 21,
    "start_time": "2023-10-27T01:26:39.986Z"
   },
   {
    "duration": 11,
    "start_time": "2023-10-27T01:26:40.009Z"
   },
   {
    "duration": 13,
    "start_time": "2023-10-27T01:26:40.023Z"
   },
   {
    "duration": 38,
    "start_time": "2023-10-27T01:26:40.038Z"
   },
   {
    "duration": 71,
    "start_time": "2023-10-27T01:26:40.077Z"
   },
   {
    "duration": 139,
    "start_time": "2023-10-27T01:26:40.150Z"
   },
   {
    "duration": 0,
    "start_time": "2023-10-27T01:26:40.291Z"
   },
   {
    "duration": 0,
    "start_time": "2023-10-27T01:26:40.293Z"
   },
   {
    "duration": 0,
    "start_time": "2023-10-27T01:26:40.301Z"
   },
   {
    "duration": 0,
    "start_time": "2023-10-27T01:26:40.302Z"
   },
   {
    "duration": 4,
    "start_time": "2023-10-27T01:27:28.466Z"
   },
   {
    "duration": 467,
    "start_time": "2023-10-27T01:27:28.473Z"
   },
   {
    "duration": 818,
    "start_time": "2023-10-27T01:27:28.942Z"
   },
   {
    "duration": 76,
    "start_time": "2023-10-27T01:27:29.761Z"
   },
   {
    "duration": 43,
    "start_time": "2023-10-27T01:27:29.840Z"
   },
   {
    "duration": 43,
    "start_time": "2023-10-27T01:27:29.901Z"
   },
   {
    "duration": 10,
    "start_time": "2023-10-27T01:27:29.946Z"
   },
   {
    "duration": 6,
    "start_time": "2023-10-27T01:27:29.957Z"
   },
   {
    "duration": 52,
    "start_time": "2023-10-27T01:27:29.964Z"
   },
   {
    "duration": 45,
    "start_time": "2023-10-27T01:27:30.018Z"
   },
   {
    "duration": 175,
    "start_time": "2023-10-27T01:27:30.067Z"
   },
   {
    "duration": 9,
    "start_time": "2023-10-27T01:27:30.244Z"
   },
   {
    "duration": 60,
    "start_time": "2023-10-27T01:27:30.254Z"
   },
   {
    "duration": 55,
    "start_time": "2023-10-27T01:27:30.316Z"
   },
   {
    "duration": 56,
    "start_time": "2023-10-27T01:27:30.373Z"
   },
   {
    "duration": 65,
    "start_time": "2023-10-27T01:27:30.431Z"
   },
   {
    "duration": 53,
    "start_time": "2023-10-27T01:27:30.497Z"
   },
   {
    "duration": 221,
    "start_time": "2023-10-27T01:27:30.552Z"
   },
   {
    "duration": 466,
    "start_time": "2023-10-27T01:27:30.775Z"
   },
   {
    "duration": 207,
    "start_time": "2023-10-27T01:27:31.249Z"
   },
   {
    "duration": 111,
    "start_time": "2023-10-27T01:27:31.457Z"
   },
   {
    "duration": 11,
    "start_time": "2023-10-27T01:31:39.253Z"
   },
   {
    "duration": 6,
    "start_time": "2023-10-27T01:31:44.265Z"
   },
   {
    "duration": 10,
    "start_time": "2023-10-27T01:31:45.506Z"
   },
   {
    "duration": 4,
    "start_time": "2023-10-27T01:31:46.389Z"
   },
   {
    "duration": 10,
    "start_time": "2023-10-27T01:31:47.801Z"
   },
   {
    "duration": 5,
    "start_time": "2023-10-27T01:31:48.385Z"
   },
   {
    "duration": 14,
    "start_time": "2023-10-27T01:31:51.765Z"
   },
   {
    "duration": 4,
    "start_time": "2023-10-27T01:31:52.440Z"
   },
   {
    "duration": 5,
    "start_time": "2023-10-27T01:31:53.116Z"
   },
   {
    "duration": 4,
    "start_time": "2023-10-27T01:32:40.406Z"
   },
   {
    "duration": 11,
    "start_time": "2023-10-27T01:33:14.474Z"
   },
   {
    "duration": 4,
    "start_time": "2023-10-27T01:33:40.560Z"
   },
   {
    "duration": 9,
    "start_time": "2023-10-27T01:34:16.128Z"
   },
   {
    "duration": 12,
    "start_time": "2023-10-27T01:34:47.230Z"
   },
   {
    "duration": 15,
    "start_time": "2023-10-27T01:35:28.607Z"
   },
   {
    "duration": 5,
    "start_time": "2023-10-27T01:35:48.674Z"
   },
   {
    "duration": 6,
    "start_time": "2023-10-27T01:35:49.252Z"
   },
   {
    "duration": 4,
    "start_time": "2023-10-27T01:35:50.466Z"
   },
   {
    "duration": 12,
    "start_time": "2023-10-27T01:35:50.826Z"
   },
   {
    "duration": 4,
    "start_time": "2023-10-27T01:35:51.232Z"
   },
   {
    "duration": 11,
    "start_time": "2023-10-27T01:35:51.831Z"
   },
   {
    "duration": 10,
    "start_time": "2023-10-27T01:35:52.707Z"
   },
   {
    "duration": 4,
    "start_time": "2023-10-27T01:36:16.686Z"
   },
   {
    "duration": 5,
    "start_time": "2023-10-27T01:36:33.634Z"
   },
   {
    "duration": 7,
    "start_time": "2023-10-27T01:37:05.765Z"
   },
   {
    "duration": 9,
    "start_time": "2023-10-27T01:37:08.553Z"
   },
   {
    "duration": 5,
    "start_time": "2023-10-27T01:37:33.671Z"
   },
   {
    "duration": 4,
    "start_time": "2023-10-27T01:37:51.354Z"
   },
   {
    "duration": 5,
    "start_time": "2023-10-27T01:37:56.926Z"
   },
   {
    "duration": 5,
    "start_time": "2023-10-27T01:38:50.671Z"
   },
   {
    "duration": 4,
    "start_time": "2023-10-27T01:43:09.514Z"
   },
   {
    "duration": 10,
    "start_time": "2023-10-27T01:43:37.491Z"
   },
   {
    "duration": 4,
    "start_time": "2023-10-27T01:43:54.224Z"
   },
   {
    "duration": 12,
    "start_time": "2023-10-27T01:44:19.133Z"
   },
   {
    "duration": 6,
    "start_time": "2023-10-27T01:44:35.596Z"
   },
   {
    "duration": 17,
    "start_time": "2023-10-27T01:45:09.448Z"
   },
   {
    "duration": 5,
    "start_time": "2023-10-27T01:45:52.924Z"
   },
   {
    "duration": 5,
    "start_time": "2023-10-27T01:46:19.002Z"
   },
   {
    "duration": 10,
    "start_time": "2023-10-27T01:54:32.744Z"
   },
   {
    "duration": 2056,
    "start_time": "2023-10-27T09:23:27.325Z"
   },
   {
    "duration": 1653,
    "start_time": "2023-10-27T09:23:29.384Z"
   },
   {
    "duration": 753,
    "start_time": "2023-10-27T09:23:31.039Z"
   },
   {
    "duration": 71,
    "start_time": "2023-10-27T09:23:31.794Z"
   },
   {
    "duration": 60,
    "start_time": "2023-10-27T09:23:31.867Z"
   },
   {
    "duration": 132,
    "start_time": "2023-10-27T09:23:31.928Z"
   },
   {
    "duration": 16,
    "start_time": "2023-10-27T09:23:32.062Z"
   },
   {
    "duration": 28,
    "start_time": "2023-10-27T09:23:32.080Z"
   },
   {
    "duration": 40,
    "start_time": "2023-10-27T09:23:32.110Z"
   },
   {
    "duration": 20,
    "start_time": "2023-10-27T09:23:32.152Z"
   },
   {
    "duration": 124,
    "start_time": "2023-10-27T09:23:32.173Z"
   },
   {
    "duration": 10,
    "start_time": "2023-10-27T09:23:32.299Z"
   },
   {
    "duration": 37,
    "start_time": "2023-10-27T09:23:32.310Z"
   },
   {
    "duration": 26,
    "start_time": "2023-10-27T09:23:32.348Z"
   },
   {
    "duration": 38,
    "start_time": "2023-10-27T09:23:32.376Z"
   },
   {
    "duration": 13,
    "start_time": "2023-10-27T09:23:32.415Z"
   },
   {
    "duration": 25,
    "start_time": "2023-10-27T09:23:32.430Z"
   },
   {
    "duration": 17,
    "start_time": "2023-10-27T09:23:32.457Z"
   },
   {
    "duration": 28,
    "start_time": "2023-10-27T09:23:32.476Z"
   },
   {
    "duration": 244,
    "start_time": "2023-10-27T09:23:32.506Z"
   },
   {
    "duration": 0,
    "start_time": "2023-10-27T09:23:32.751Z"
   },
   {
    "duration": 0,
    "start_time": "2023-10-27T09:23:32.752Z"
   },
   {
    "duration": 0,
    "start_time": "2023-10-27T09:23:32.754Z"
   },
   {
    "duration": 0,
    "start_time": "2023-10-27T09:23:32.755Z"
   },
   {
    "duration": 0,
    "start_time": "2023-10-27T09:23:32.756Z"
   },
   {
    "duration": 0,
    "start_time": "2023-10-27T09:23:32.757Z"
   },
   {
    "duration": 0,
    "start_time": "2023-10-27T09:23:32.758Z"
   },
   {
    "duration": 0,
    "start_time": "2023-10-27T09:23:32.760Z"
   },
   {
    "duration": 0,
    "start_time": "2023-10-27T09:23:32.761Z"
   },
   {
    "duration": 0,
    "start_time": "2023-10-27T09:23:32.762Z"
   },
   {
    "duration": 0,
    "start_time": "2023-10-27T09:23:32.763Z"
   },
   {
    "duration": 0,
    "start_time": "2023-10-27T09:23:32.764Z"
   },
   {
    "duration": 0,
    "start_time": "2023-10-27T09:23:32.765Z"
   },
   {
    "duration": 0,
    "start_time": "2023-10-27T09:23:32.766Z"
   },
   {
    "duration": 0,
    "start_time": "2023-10-27T09:23:32.767Z"
   },
   {
    "duration": 0,
    "start_time": "2023-10-27T09:23:32.768Z"
   },
   {
    "duration": 0,
    "start_time": "2023-10-27T09:23:32.769Z"
   },
   {
    "duration": 0,
    "start_time": "2023-10-27T09:23:32.771Z"
   },
   {
    "duration": 11,
    "start_time": "2023-10-27T09:38:58.517Z"
   },
   {
    "duration": 2,
    "start_time": "2023-10-27T09:39:11.323Z"
   },
   {
    "duration": 3,
    "start_time": "2023-10-27T09:42:26.450Z"
   },
   {
    "duration": 3,
    "start_time": "2023-10-27T09:43:09.965Z"
   },
   {
    "duration": 8,
    "start_time": "2023-10-27T09:46:03.659Z"
   },
   {
    "duration": 5,
    "start_time": "2023-10-27T09:46:33.560Z"
   },
   {
    "duration": 420,
    "start_time": "2023-10-27T09:46:33.567Z"
   },
   {
    "duration": 766,
    "start_time": "2023-10-27T09:46:33.989Z"
   },
   {
    "duration": 56,
    "start_time": "2023-10-27T09:46:34.757Z"
   },
   {
    "duration": 57,
    "start_time": "2023-10-27T09:46:34.816Z"
   },
   {
    "duration": 34,
    "start_time": "2023-10-27T09:46:34.875Z"
   },
   {
    "duration": 7,
    "start_time": "2023-10-27T09:46:34.911Z"
   },
   {
    "duration": 26,
    "start_time": "2023-10-27T09:46:34.920Z"
   },
   {
    "duration": 33,
    "start_time": "2023-10-27T09:46:34.947Z"
   },
   {
    "duration": 16,
    "start_time": "2023-10-27T09:46:34.982Z"
   },
   {
    "duration": 119,
    "start_time": "2023-10-27T09:46:34.999Z"
   },
   {
    "duration": 25,
    "start_time": "2023-10-27T09:46:35.120Z"
   },
   {
    "duration": 42,
    "start_time": "2023-10-27T09:46:35.147Z"
   },
   {
    "duration": 10,
    "start_time": "2023-10-27T09:46:35.192Z"
   },
   {
    "duration": 17,
    "start_time": "2023-10-27T09:46:35.203Z"
   },
   {
    "duration": 4,
    "start_time": "2023-10-27T09:46:35.222Z"
   },
   {
    "duration": 30,
    "start_time": "2023-10-27T09:46:35.228Z"
   },
   {
    "duration": 21,
    "start_time": "2023-10-27T09:46:35.259Z"
   },
   {
    "duration": 41,
    "start_time": "2023-10-27T09:46:35.281Z"
   },
   {
    "duration": 122,
    "start_time": "2023-10-27T09:46:35.324Z"
   },
   {
    "duration": 0,
    "start_time": "2023-10-27T09:46:35.448Z"
   },
   {
    "duration": 0,
    "start_time": "2023-10-27T09:46:35.449Z"
   },
   {
    "duration": 0,
    "start_time": "2023-10-27T09:46:35.450Z"
   },
   {
    "duration": 0,
    "start_time": "2023-10-27T09:46:35.452Z"
   },
   {
    "duration": 0,
    "start_time": "2023-10-27T09:46:35.453Z"
   },
   {
    "duration": 0,
    "start_time": "2023-10-27T09:46:35.455Z"
   },
   {
    "duration": 0,
    "start_time": "2023-10-27T09:46:35.456Z"
   },
   {
    "duration": 0,
    "start_time": "2023-10-27T09:46:35.458Z"
   },
   {
    "duration": 0,
    "start_time": "2023-10-27T09:46:35.459Z"
   },
   {
    "duration": 0,
    "start_time": "2023-10-27T09:46:35.460Z"
   },
   {
    "duration": 0,
    "start_time": "2023-10-27T09:46:35.461Z"
   },
   {
    "duration": 0,
    "start_time": "2023-10-27T09:46:35.462Z"
   },
   {
    "duration": 0,
    "start_time": "2023-10-27T09:46:35.464Z"
   },
   {
    "duration": 0,
    "start_time": "2023-10-27T09:46:35.465Z"
   },
   {
    "duration": 0,
    "start_time": "2023-10-27T09:46:35.465Z"
   },
   {
    "duration": 0,
    "start_time": "2023-10-27T09:46:35.467Z"
   },
   {
    "duration": 0,
    "start_time": "2023-10-27T09:46:35.468Z"
   },
   {
    "duration": 1,
    "start_time": "2023-10-27T09:46:35.468Z"
   },
   {
    "duration": 0,
    "start_time": "2023-10-27T09:46:35.469Z"
   },
   {
    "duration": 0,
    "start_time": "2023-10-27T09:46:35.471Z"
   },
   {
    "duration": 0,
    "start_time": "2023-10-27T09:46:35.472Z"
   },
   {
    "duration": 10,
    "start_time": "2023-10-27T09:48:31.563Z"
   },
   {
    "duration": 5,
    "start_time": "2023-10-27T09:48:51.177Z"
   },
   {
    "duration": 12,
    "start_time": "2023-10-27T09:48:52.130Z"
   },
   {
    "duration": 4,
    "start_time": "2023-10-27T09:48:59.923Z"
   },
   {
    "duration": 428,
    "start_time": "2023-10-27T09:48:59.929Z"
   },
   {
    "duration": 723,
    "start_time": "2023-10-27T09:49:00.359Z"
   },
   {
    "duration": 68,
    "start_time": "2023-10-27T09:49:01.083Z"
   },
   {
    "duration": 49,
    "start_time": "2023-10-27T09:49:01.154Z"
   },
   {
    "duration": 78,
    "start_time": "2023-10-27T09:49:01.205Z"
   },
   {
    "duration": 25,
    "start_time": "2023-10-27T09:49:01.285Z"
   },
   {
    "duration": 41,
    "start_time": "2023-10-27T09:49:01.312Z"
   },
   {
    "duration": 77,
    "start_time": "2023-10-27T09:49:01.355Z"
   },
   {
    "duration": 67,
    "start_time": "2023-10-27T09:49:01.434Z"
   },
   {
    "duration": 172,
    "start_time": "2023-10-27T09:49:01.503Z"
   },
   {
    "duration": 9,
    "start_time": "2023-10-27T09:49:01.676Z"
   },
   {
    "duration": 61,
    "start_time": "2023-10-27T09:49:01.686Z"
   },
   {
    "duration": 33,
    "start_time": "2023-10-27T09:49:01.750Z"
   },
   {
    "duration": 53,
    "start_time": "2023-10-27T09:49:01.785Z"
   },
   {
    "duration": 61,
    "start_time": "2023-10-27T09:49:01.840Z"
   },
   {
    "duration": 70,
    "start_time": "2023-10-27T09:49:01.903Z"
   },
   {
    "duration": 96,
    "start_time": "2023-10-27T09:49:01.975Z"
   },
   {
    "duration": 73,
    "start_time": "2023-10-27T09:49:02.072Z"
   },
   {
    "duration": 98,
    "start_time": "2023-10-27T09:49:02.147Z"
   },
   {
    "duration": 56,
    "start_time": "2023-10-27T09:49:02.248Z"
   },
   {
    "duration": 0,
    "start_time": "2023-10-27T09:49:02.306Z"
   },
   {
    "duration": 0,
    "start_time": "2023-10-27T09:49:02.307Z"
   },
   {
    "duration": 0,
    "start_time": "2023-10-27T09:49:02.309Z"
   },
   {
    "duration": 0,
    "start_time": "2023-10-27T09:49:02.310Z"
   },
   {
    "duration": 0,
    "start_time": "2023-10-27T09:49:02.311Z"
   },
   {
    "duration": 0,
    "start_time": "2023-10-27T09:49:02.312Z"
   },
   {
    "duration": 0,
    "start_time": "2023-10-27T09:49:02.313Z"
   },
   {
    "duration": 0,
    "start_time": "2023-10-27T09:49:02.314Z"
   },
   {
    "duration": 0,
    "start_time": "2023-10-27T09:49:02.345Z"
   },
   {
    "duration": 0,
    "start_time": "2023-10-27T09:49:02.346Z"
   },
   {
    "duration": 0,
    "start_time": "2023-10-27T09:49:02.347Z"
   },
   {
    "duration": 0,
    "start_time": "2023-10-27T09:49:02.349Z"
   },
   {
    "duration": 0,
    "start_time": "2023-10-27T09:49:02.350Z"
   },
   {
    "duration": 0,
    "start_time": "2023-10-27T09:49:02.351Z"
   },
   {
    "duration": 0,
    "start_time": "2023-10-27T09:49:02.355Z"
   },
   {
    "duration": 0,
    "start_time": "2023-10-27T09:49:02.356Z"
   },
   {
    "duration": 0,
    "start_time": "2023-10-27T09:49:02.357Z"
   },
   {
    "duration": 0,
    "start_time": "2023-10-27T09:49:02.358Z"
   },
   {
    "duration": 0,
    "start_time": "2023-10-27T09:49:02.359Z"
   },
   {
    "duration": 0,
    "start_time": "2023-10-27T09:49:02.360Z"
   },
   {
    "duration": 749,
    "start_time": "2023-10-27T09:49:24.186Z"
   },
   {
    "duration": 5,
    "start_time": "2023-10-27T09:49:28.715Z"
   },
   {
    "duration": 5,
    "start_time": "2023-10-27T09:49:33.145Z"
   },
   {
    "duration": 434,
    "start_time": "2023-10-27T09:49:33.152Z"
   },
   {
    "duration": 795,
    "start_time": "2023-10-27T09:49:33.589Z"
   },
   {
    "duration": 74,
    "start_time": "2023-10-27T09:49:34.386Z"
   },
   {
    "duration": 42,
    "start_time": "2023-10-27T09:49:34.463Z"
   },
   {
    "duration": 48,
    "start_time": "2023-10-27T09:49:34.507Z"
   },
   {
    "duration": 8,
    "start_time": "2023-10-27T09:49:34.557Z"
   },
   {
    "duration": 10,
    "start_time": "2023-10-27T09:49:34.566Z"
   },
   {
    "duration": 18,
    "start_time": "2023-10-27T09:49:34.577Z"
   },
   {
    "duration": 17,
    "start_time": "2023-10-27T09:49:34.596Z"
   },
   {
    "duration": 119,
    "start_time": "2023-10-27T09:49:34.615Z"
   },
   {
    "duration": 17,
    "start_time": "2023-10-27T09:49:34.735Z"
   },
   {
    "duration": 10,
    "start_time": "2023-10-27T09:49:34.753Z"
   },
   {
    "duration": 4,
    "start_time": "2023-10-27T09:49:34.766Z"
   },
   {
    "duration": 23,
    "start_time": "2023-10-27T09:49:34.771Z"
   },
   {
    "duration": 6,
    "start_time": "2023-10-27T09:49:34.797Z"
   },
   {
    "duration": 39,
    "start_time": "2023-10-27T09:49:34.805Z"
   },
   {
    "duration": 7,
    "start_time": "2023-10-27T09:49:34.846Z"
   },
   {
    "duration": 18,
    "start_time": "2023-10-27T09:49:34.855Z"
   },
   {
    "duration": 89,
    "start_time": "2023-10-27T09:49:34.959Z"
   },
   {
    "duration": 9,
    "start_time": "2023-10-27T09:49:35.050Z"
   },
   {
    "duration": 13,
    "start_time": "2023-10-27T09:49:35.061Z"
   },
   {
    "duration": 15,
    "start_time": "2023-10-27T09:49:35.076Z"
   },
   {
    "duration": 5,
    "start_time": "2023-10-27T09:49:35.093Z"
   },
   {
    "duration": 44,
    "start_time": "2023-10-27T09:49:35.100Z"
   },
   {
    "duration": 6,
    "start_time": "2023-10-27T09:49:35.147Z"
   },
   {
    "duration": 14,
    "start_time": "2023-10-27T09:49:35.154Z"
   },
   {
    "duration": 81,
    "start_time": "2023-10-27T09:49:35.171Z"
   },
   {
    "duration": 92,
    "start_time": "2023-10-27T09:49:35.254Z"
   },
   {
    "duration": 7,
    "start_time": "2023-10-27T09:49:35.348Z"
   },
   {
    "duration": 14,
    "start_time": "2023-10-27T09:49:35.356Z"
   },
   {
    "duration": 4,
    "start_time": "2023-10-27T09:49:35.371Z"
   },
   {
    "duration": 13,
    "start_time": "2023-10-27T09:49:35.377Z"
   },
   {
    "duration": 5,
    "start_time": "2023-10-27T09:49:35.392Z"
   },
   {
    "duration": 46,
    "start_time": "2023-10-27T09:49:35.399Z"
   },
   {
    "duration": 5,
    "start_time": "2023-10-27T09:49:35.447Z"
   },
   {
    "duration": 94,
    "start_time": "2023-10-27T09:49:35.454Z"
   },
   {
    "duration": 15,
    "start_time": "2023-10-27T09:49:35.550Z"
   },
   {
    "duration": 3,
    "start_time": "2023-10-27T09:49:35.567Z"
   },
   {
    "duration": 7,
    "start_time": "2023-10-27T09:49:35.572Z"
   },
   {
    "duration": 18,
    "start_time": "2023-10-27T09:49:35.584Z"
   },
   {
    "duration": 15,
    "start_time": "2023-10-27T09:50:17.394Z"
   },
   {
    "duration": 9,
    "start_time": "2023-10-27T09:50:29.857Z"
   },
   {
    "duration": 11,
    "start_time": "2023-10-27T09:50:33.529Z"
   },
   {
    "duration": 6433,
    "start_time": "2023-10-27T09:51:53.295Z"
   },
   {
    "duration": 12,
    "start_time": "2023-10-27T09:52:51.800Z"
   },
   {
    "duration": 4,
    "start_time": "2023-10-27T09:52:54.946Z"
   },
   {
    "duration": 6,
    "start_time": "2023-10-27T09:53:13.184Z"
   },
   {
    "duration": 5,
    "start_time": "2023-10-27T10:57:00.813Z"
   },
   {
    "duration": 5,
    "start_time": "2023-10-27T10:59:46.155Z"
   },
   {
    "duration": 3,
    "start_time": "2023-10-27T11:02:13.175Z"
   },
   {
    "duration": 6,
    "start_time": "2023-10-27T11:11:13.471Z"
   },
   {
    "duration": 24,
    "start_time": "2023-10-27T11:15:16.491Z"
   },
   {
    "duration": 12,
    "start_time": "2023-10-27T11:22:47.235Z"
   },
   {
    "duration": 5,
    "start_time": "2023-10-27T11:23:13.983Z"
   },
   {
    "duration": 13,
    "start_time": "2023-10-27T11:23:18.793Z"
   },
   {
    "duration": 5,
    "start_time": "2023-10-27T11:29:00.120Z"
   },
   {
    "duration": 5,
    "start_time": "2023-10-27T11:34:08.399Z"
   },
   {
    "duration": 11,
    "start_time": "2023-10-27T11:38:51.380Z"
   },
   {
    "duration": 10,
    "start_time": "2023-10-27T11:40:42.740Z"
   },
   {
    "duration": 12,
    "start_time": "2023-10-27T11:44:37.238Z"
   },
   {
    "duration": 15,
    "start_time": "2023-10-27T11:47:13.302Z"
   },
   {
    "duration": 6,
    "start_time": "2023-10-27T12:03:37.496Z"
   },
   {
    "duration": 19,
    "start_time": "2023-10-27T12:05:03.632Z"
   },
   {
    "duration": 5,
    "start_time": "2023-10-27T12:05:32.168Z"
   },
   {
    "duration": 14,
    "start_time": "2023-10-27T12:05:35.181Z"
   },
   {
    "duration": 7,
    "start_time": "2023-10-27T12:05:41.063Z"
   },
   {
    "duration": 8,
    "start_time": "2023-10-27T12:17:49.134Z"
   },
   {
    "duration": 28,
    "start_time": "2023-10-27T12:17:49.797Z"
   },
   {
    "duration": 4,
    "start_time": "2023-10-27T12:18:19.989Z"
   },
   {
    "duration": 16,
    "start_time": "2023-10-27T12:18:21.500Z"
   },
   {
    "duration": 5,
    "start_time": "2023-10-27T12:19:00.140Z"
   },
   {
    "duration": 14,
    "start_time": "2023-10-27T12:19:43.915Z"
   },
   {
    "duration": 5,
    "start_time": "2023-10-27T12:20:09.396Z"
   },
   {
    "duration": 4,
    "start_time": "2023-10-27T12:20:30.838Z"
   },
   {
    "duration": 3336,
    "start_time": "2023-10-27T12:20:32.765Z"
   },
   {
    "duration": 4,
    "start_time": "2023-10-27T12:21:24.341Z"
   },
   {
    "duration": 3628,
    "start_time": "2023-10-27T12:21:25.194Z"
   },
   {
    "duration": 5,
    "start_time": "2023-10-27T12:25:19.339Z"
   },
   {
    "duration": 3317,
    "start_time": "2023-10-27T12:25:21.066Z"
   },
   {
    "duration": 4,
    "start_time": "2023-10-27T12:25:32.500Z"
   },
   {
    "duration": 3435,
    "start_time": "2023-10-27T12:25:34.914Z"
   },
   {
    "duration": 20,
    "start_time": "2023-10-27T12:30:06.626Z"
   },
   {
    "duration": 240,
    "start_time": "2023-10-27T12:31:26.721Z"
   },
   {
    "duration": 286,
    "start_time": "2023-10-27T12:31:33.931Z"
   },
   {
    "duration": 18,
    "start_time": "2023-10-27T12:31:47.529Z"
   },
   {
    "duration": 18,
    "start_time": "2023-10-27T12:32:50.523Z"
   },
   {
    "duration": 4,
    "start_time": "2023-10-27T12:34:02.450Z"
   },
   {
    "duration": 10,
    "start_time": "2023-10-27T12:34:32.610Z"
   },
   {
    "duration": 1182,
    "start_time": "2023-10-27T12:34:45.762Z"
   },
   {
    "duration": 4,
    "start_time": "2023-10-27T12:41:13.831Z"
   },
   {
    "duration": 1146,
    "start_time": "2023-10-27T12:41:15.054Z"
   },
   {
    "duration": 4,
    "start_time": "2023-10-27T12:43:44.189Z"
   },
   {
    "duration": 36,
    "start_time": "2023-10-27T12:43:44.195Z"
   },
   {
    "duration": 5,
    "start_time": "2023-10-27T12:43:47.014Z"
   },
   {
    "duration": 11,
    "start_time": "2023-10-27T12:45:32.431Z"
   },
   {
    "duration": 4,
    "start_time": "2023-10-27T12:45:36.428Z"
   },
   {
    "duration": 14,
    "start_time": "2023-10-27T12:45:37.063Z"
   },
   {
    "duration": 5,
    "start_time": "2023-10-27T12:48:53.996Z"
   },
   {
    "duration": 1124,
    "start_time": "2023-10-27T12:48:54.725Z"
   },
   {
    "duration": 3,
    "start_time": "2023-10-27T12:52:02.741Z"
   },
   {
    "duration": 14,
    "start_time": "2023-10-27T12:52:03.211Z"
   },
   {
    "duration": 5,
    "start_time": "2023-10-27T12:52:04.580Z"
   },
   {
    "duration": 1124,
    "start_time": "2023-10-27T12:52:05.491Z"
   },
   {
    "duration": 2386,
    "start_time": "2023-10-27T22:46:40.958Z"
   },
   {
    "duration": 1912,
    "start_time": "2023-10-27T22:46:43.346Z"
   },
   {
    "duration": 757,
    "start_time": "2023-10-27T22:46:45.259Z"
   },
   {
    "duration": 78,
    "start_time": "2023-10-27T22:46:46.018Z"
   },
   {
    "duration": 53,
    "start_time": "2023-10-27T22:46:46.098Z"
   },
   {
    "duration": 34,
    "start_time": "2023-10-27T22:46:46.153Z"
   },
   {
    "duration": 8,
    "start_time": "2023-10-27T22:46:46.189Z"
   },
   {
    "duration": 3,
    "start_time": "2023-10-27T22:46:46.199Z"
   },
   {
    "duration": 42,
    "start_time": "2023-10-27T22:46:46.204Z"
   },
   {
    "duration": 17,
    "start_time": "2023-10-27T22:46:46.249Z"
   },
   {
    "duration": 116,
    "start_time": "2023-10-27T22:46:46.267Z"
   },
   {
    "duration": 10,
    "start_time": "2023-10-27T22:46:46.385Z"
   },
   {
    "duration": 9,
    "start_time": "2023-10-27T22:46:46.396Z"
   },
   {
    "duration": 4,
    "start_time": "2023-10-27T22:46:46.407Z"
   },
   {
    "duration": 33,
    "start_time": "2023-10-27T22:46:46.412Z"
   },
   {
    "duration": 7,
    "start_time": "2023-10-27T22:46:46.446Z"
   },
   {
    "duration": 27,
    "start_time": "2023-10-27T22:46:46.455Z"
   },
   {
    "duration": 5,
    "start_time": "2023-10-27T22:46:46.483Z"
   },
   {
    "duration": 14,
    "start_time": "2023-10-27T22:46:46.489Z"
   },
   {
    "duration": 152,
    "start_time": "2023-10-27T22:46:46.505Z"
   },
   {
    "duration": 23,
    "start_time": "2023-10-27T22:46:46.659Z"
   },
   {
    "duration": 8,
    "start_time": "2023-10-27T22:46:46.684Z"
   },
   {
    "duration": 29,
    "start_time": "2023-10-27T22:46:46.693Z"
   },
   {
    "duration": 4,
    "start_time": "2023-10-27T22:46:46.723Z"
   },
   {
    "duration": 19,
    "start_time": "2023-10-27T22:46:46.729Z"
   },
   {
    "duration": 5,
    "start_time": "2023-10-27T22:46:46.749Z"
   },
   {
    "duration": 13,
    "start_time": "2023-10-27T22:46:46.756Z"
   },
   {
    "duration": 80,
    "start_time": "2023-10-27T22:46:46.774Z"
   },
   {
    "duration": 7,
    "start_time": "2023-10-27T22:46:46.946Z"
   },
   {
    "duration": 7,
    "start_time": "2023-10-27T22:46:46.954Z"
   },
   {
    "duration": 17,
    "start_time": "2023-10-27T22:46:46.962Z"
   },
   {
    "duration": 6,
    "start_time": "2023-10-27T22:46:46.981Z"
   },
   {
    "duration": 20,
    "start_time": "2023-10-27T22:46:46.989Z"
   },
   {
    "duration": 6,
    "start_time": "2023-10-27T22:46:47.011Z"
   },
   {
    "duration": 33,
    "start_time": "2023-10-27T22:46:47.019Z"
   },
   {
    "duration": 11,
    "start_time": "2023-10-27T22:46:47.054Z"
   },
   {
    "duration": 101,
    "start_time": "2023-10-27T22:46:47.146Z"
   },
   {
    "duration": 24,
    "start_time": "2023-10-27T22:46:47.249Z"
   },
   {
    "duration": 27,
    "start_time": "2023-10-27T22:46:47.274Z"
   },
   {
    "duration": 23,
    "start_time": "2023-10-27T22:46:47.303Z"
   },
   {
    "duration": 30,
    "start_time": "2023-10-27T22:46:47.328Z"
   },
   {
    "duration": 29,
    "start_time": "2023-10-27T22:46:47.359Z"
   },
   {
    "duration": 34,
    "start_time": "2023-10-27T22:46:47.390Z"
   },
   {
    "duration": 12,
    "start_time": "2023-10-27T22:46:47.425Z"
   },
   {
    "duration": 128,
    "start_time": "2023-10-27T22:46:47.438Z"
   },
   {
    "duration": 181,
    "start_time": "2023-10-27T22:47:14.328Z"
   },
   {
    "duration": 1222,
    "start_time": "2023-10-27T23:00:33.122Z"
   },
   {
    "duration": 3,
    "start_time": "2023-10-27T23:00:59.346Z"
   },
   {
    "duration": 5,
    "start_time": "2023-10-27T23:01:28.302Z"
   },
   {
    "duration": 886,
    "start_time": "2023-10-27T23:01:33.115Z"
   },
   {
    "duration": 5,
    "start_time": "2023-10-27T23:01:54.499Z"
   },
   {
    "duration": 4,
    "start_time": "2023-10-27T23:01:55.519Z"
   },
   {
    "duration": 871,
    "start_time": "2023-10-27T23:01:55.710Z"
   },
   {
    "duration": 3,
    "start_time": "2023-10-27T23:02:14.808Z"
   },
   {
    "duration": 1193,
    "start_time": "2023-10-27T23:02:17.798Z"
   },
   {
    "duration": 3,
    "start_time": "2023-10-27T23:02:22.447Z"
   },
   {
    "duration": 5,
    "start_time": "2023-10-27T23:02:25.617Z"
   },
   {
    "duration": 11,
    "start_time": "2023-10-27T23:02:27.204Z"
   },
   {
    "duration": 1757,
    "start_time": "2023-10-29T07:28:44.819Z"
   },
   {
    "duration": 799,
    "start_time": "2023-10-29T07:28:46.578Z"
   },
   {
    "duration": 765,
    "start_time": "2023-10-29T07:28:47.379Z"
   },
   {
    "duration": 79,
    "start_time": "2023-10-29T07:28:48.146Z"
   },
   {
    "duration": 48,
    "start_time": "2023-10-29T07:28:48.228Z"
   },
   {
    "duration": 52,
    "start_time": "2023-10-29T07:28:48.278Z"
   },
   {
    "duration": 9,
    "start_time": "2023-10-29T07:28:48.331Z"
   },
   {
    "duration": 7,
    "start_time": "2023-10-29T07:28:48.342Z"
   },
   {
    "duration": 26,
    "start_time": "2023-10-29T07:28:48.351Z"
   },
   {
    "duration": 36,
    "start_time": "2023-10-29T07:28:48.378Z"
   },
   {
    "duration": 109,
    "start_time": "2023-10-29T07:28:48.416Z"
   },
   {
    "duration": 9,
    "start_time": "2023-10-29T07:28:48.526Z"
   },
   {
    "duration": 25,
    "start_time": "2023-10-29T07:28:48.537Z"
   },
   {
    "duration": 13,
    "start_time": "2023-10-29T07:28:48.565Z"
   },
   {
    "duration": 11,
    "start_time": "2023-10-29T07:28:48.580Z"
   },
   {
    "duration": 3,
    "start_time": "2023-10-29T07:28:48.593Z"
   },
   {
    "duration": 19,
    "start_time": "2023-10-29T07:28:48.607Z"
   },
   {
    "duration": 15,
    "start_time": "2023-10-29T07:28:48.629Z"
   },
   {
    "duration": 13,
    "start_time": "2023-10-29T07:28:48.646Z"
   },
   {
    "duration": 48,
    "start_time": "2023-10-29T07:28:48.661Z"
   },
   {
    "duration": 98,
    "start_time": "2023-10-29T07:28:48.711Z"
   },
   {
    "duration": 11,
    "start_time": "2023-10-29T07:28:48.810Z"
   },
   {
    "duration": 20,
    "start_time": "2023-10-29T07:28:48.823Z"
   },
   {
    "duration": 8,
    "start_time": "2023-10-29T07:28:48.845Z"
   },
   {
    "duration": 22,
    "start_time": "2023-10-29T07:28:48.855Z"
   },
   {
    "duration": 15,
    "start_time": "2023-10-29T07:28:48.879Z"
   },
   {
    "duration": 34,
    "start_time": "2023-10-29T07:28:48.896Z"
   },
   {
    "duration": 77,
    "start_time": "2023-10-29T07:28:48.934Z"
   },
   {
    "duration": 98,
    "start_time": "2023-10-29T07:28:49.013Z"
   },
   {
    "duration": 18,
    "start_time": "2023-10-29T07:28:49.112Z"
   },
   {
    "duration": 31,
    "start_time": "2023-10-29T07:28:49.132Z"
   },
   {
    "duration": 5,
    "start_time": "2023-10-29T07:28:49.165Z"
   },
   {
    "duration": 24,
    "start_time": "2023-10-29T07:28:49.171Z"
   },
   {
    "duration": 16,
    "start_time": "2023-10-29T07:28:49.197Z"
   },
   {
    "duration": 40,
    "start_time": "2023-10-29T07:28:49.214Z"
   },
   {
    "duration": 66,
    "start_time": "2023-10-29T07:28:49.255Z"
   },
   {
    "duration": 11,
    "start_time": "2023-10-29T07:28:49.408Z"
   },
   {
    "duration": 22,
    "start_time": "2023-10-29T07:28:49.422Z"
   },
   {
    "duration": 17,
    "start_time": "2023-10-29T07:28:49.446Z"
   },
   {
    "duration": 27,
    "start_time": "2023-10-29T07:28:49.465Z"
   },
   {
    "duration": 27,
    "start_time": "2023-10-29T07:28:49.496Z"
   },
   {
    "duration": 58,
    "start_time": "2023-10-29T07:28:49.524Z"
   },
   {
    "duration": 35,
    "start_time": "2023-10-29T07:28:49.584Z"
   },
   {
    "duration": 13,
    "start_time": "2023-10-29T07:28:49.621Z"
   },
   {
    "duration": 163,
    "start_time": "2023-10-29T07:28:49.635Z"
   },
   {
    "duration": 17,
    "start_time": "2023-10-29T07:30:55.922Z"
   },
   {
    "duration": 11,
    "start_time": "2023-10-29T07:31:02.652Z"
   },
   {
    "duration": 11,
    "start_time": "2023-10-29T07:32:11.982Z"
   },
   {
    "duration": 94,
    "start_time": "2023-10-29T07:37:22.390Z"
   },
   {
    "duration": 14,
    "start_time": "2023-10-29T07:41:08.679Z"
   },
   {
    "duration": 1431,
    "start_time": "2023-10-29T07:42:05.161Z"
   },
   {
    "duration": 395,
    "start_time": "2023-10-29T07:42:06.594Z"
   },
   {
    "duration": 142,
    "start_time": "2023-10-29T07:42:06.991Z"
   },
   {
    "duration": 1,
    "start_time": "2023-10-29T07:42:07.135Z"
   },
   {
    "duration": 0,
    "start_time": "2023-10-29T07:42:07.137Z"
   },
   {
    "duration": 0,
    "start_time": "2023-10-29T07:42:07.138Z"
   },
   {
    "duration": 0,
    "start_time": "2023-10-29T07:42:07.139Z"
   },
   {
    "duration": 1,
    "start_time": "2023-10-29T07:42:07.140Z"
   },
   {
    "duration": 0,
    "start_time": "2023-10-29T07:42:07.141Z"
   },
   {
    "duration": 0,
    "start_time": "2023-10-29T07:42:07.143Z"
   },
   {
    "duration": 0,
    "start_time": "2023-10-29T07:42:07.144Z"
   },
   {
    "duration": 0,
    "start_time": "2023-10-29T07:42:07.145Z"
   },
   {
    "duration": 0,
    "start_time": "2023-10-29T07:42:07.146Z"
   },
   {
    "duration": 0,
    "start_time": "2023-10-29T07:42:07.147Z"
   },
   {
    "duration": 0,
    "start_time": "2023-10-29T07:42:07.148Z"
   },
   {
    "duration": 0,
    "start_time": "2023-10-29T07:42:07.149Z"
   },
   {
    "duration": 0,
    "start_time": "2023-10-29T07:42:07.150Z"
   },
   {
    "duration": 0,
    "start_time": "2023-10-29T07:42:07.151Z"
   },
   {
    "duration": 0,
    "start_time": "2023-10-29T07:42:07.152Z"
   },
   {
    "duration": 0,
    "start_time": "2023-10-29T07:42:07.153Z"
   },
   {
    "duration": 0,
    "start_time": "2023-10-29T07:42:07.154Z"
   },
   {
    "duration": 0,
    "start_time": "2023-10-29T07:42:07.155Z"
   },
   {
    "duration": 0,
    "start_time": "2023-10-29T07:42:07.157Z"
   },
   {
    "duration": 0,
    "start_time": "2023-10-29T07:42:07.158Z"
   },
   {
    "duration": 0,
    "start_time": "2023-10-29T07:42:07.159Z"
   },
   {
    "duration": 0,
    "start_time": "2023-10-29T07:42:07.160Z"
   },
   {
    "duration": 0,
    "start_time": "2023-10-29T07:42:07.161Z"
   },
   {
    "duration": 0,
    "start_time": "2023-10-29T07:42:07.162Z"
   },
   {
    "duration": 0,
    "start_time": "2023-10-29T07:42:07.164Z"
   },
   {
    "duration": 0,
    "start_time": "2023-10-29T07:42:07.165Z"
   },
   {
    "duration": 0,
    "start_time": "2023-10-29T07:42:07.166Z"
   },
   {
    "duration": 0,
    "start_time": "2023-10-29T07:42:07.167Z"
   },
   {
    "duration": 0,
    "start_time": "2023-10-29T07:42:07.169Z"
   },
   {
    "duration": 1,
    "start_time": "2023-10-29T07:42:07.169Z"
   },
   {
    "duration": 0,
    "start_time": "2023-10-29T07:42:07.208Z"
   },
   {
    "duration": 0,
    "start_time": "2023-10-29T07:42:07.209Z"
   },
   {
    "duration": 0,
    "start_time": "2023-10-29T07:42:07.211Z"
   },
   {
    "duration": 0,
    "start_time": "2023-10-29T07:42:07.212Z"
   },
   {
    "duration": 0,
    "start_time": "2023-10-29T07:42:07.213Z"
   },
   {
    "duration": 0,
    "start_time": "2023-10-29T07:42:07.214Z"
   },
   {
    "duration": 0,
    "start_time": "2023-10-29T07:42:07.215Z"
   },
   {
    "duration": 0,
    "start_time": "2023-10-29T07:42:07.217Z"
   },
   {
    "duration": 0,
    "start_time": "2023-10-29T07:42:07.218Z"
   },
   {
    "duration": 0,
    "start_time": "2023-10-29T07:42:07.219Z"
   },
   {
    "duration": 0,
    "start_time": "2023-10-29T07:42:07.220Z"
   },
   {
    "duration": 0,
    "start_time": "2023-10-29T07:42:07.221Z"
   },
   {
    "duration": 0,
    "start_time": "2023-10-29T07:42:07.222Z"
   },
   {
    "duration": 1403,
    "start_time": "2023-10-29T07:42:42.931Z"
   },
   {
    "duration": 405,
    "start_time": "2023-10-29T07:42:44.335Z"
   },
   {
    "duration": 693,
    "start_time": "2023-10-29T07:42:44.741Z"
   },
   {
    "duration": 53,
    "start_time": "2023-10-29T07:42:45.436Z"
   },
   {
    "duration": 39,
    "start_time": "2023-10-29T07:42:45.507Z"
   },
   {
    "duration": 56,
    "start_time": "2023-10-29T07:42:45.547Z"
   },
   {
    "duration": 4,
    "start_time": "2023-10-29T07:42:45.604Z"
   },
   {
    "duration": 54,
    "start_time": "2023-10-29T07:42:45.611Z"
   },
   {
    "duration": 141,
    "start_time": "2023-10-29T07:42:45.667Z"
   },
   {
    "duration": 0,
    "start_time": "2023-10-29T07:42:45.810Z"
   },
   {
    "duration": 0,
    "start_time": "2023-10-29T07:42:45.811Z"
   },
   {
    "duration": 0,
    "start_time": "2023-10-29T07:42:45.812Z"
   },
   {
    "duration": 0,
    "start_time": "2023-10-29T07:42:45.813Z"
   },
   {
    "duration": 0,
    "start_time": "2023-10-29T07:42:45.814Z"
   },
   {
    "duration": 0,
    "start_time": "2023-10-29T07:42:45.815Z"
   },
   {
    "duration": 0,
    "start_time": "2023-10-29T07:42:45.816Z"
   },
   {
    "duration": 0,
    "start_time": "2023-10-29T07:42:45.817Z"
   },
   {
    "duration": 0,
    "start_time": "2023-10-29T07:42:45.818Z"
   },
   {
    "duration": 0,
    "start_time": "2023-10-29T07:42:45.819Z"
   },
   {
    "duration": 0,
    "start_time": "2023-10-29T07:42:45.820Z"
   },
   {
    "duration": 0,
    "start_time": "2023-10-29T07:42:45.821Z"
   },
   {
    "duration": 0,
    "start_time": "2023-10-29T07:42:45.822Z"
   },
   {
    "duration": 0,
    "start_time": "2023-10-29T07:42:45.823Z"
   },
   {
    "duration": 0,
    "start_time": "2023-10-29T07:42:45.824Z"
   },
   {
    "duration": 0,
    "start_time": "2023-10-29T07:42:45.825Z"
   },
   {
    "duration": 0,
    "start_time": "2023-10-29T07:42:45.826Z"
   },
   {
    "duration": 0,
    "start_time": "2023-10-29T07:42:45.827Z"
   },
   {
    "duration": 0,
    "start_time": "2023-10-29T07:42:45.828Z"
   },
   {
    "duration": 0,
    "start_time": "2023-10-29T07:42:45.829Z"
   },
   {
    "duration": 0,
    "start_time": "2023-10-29T07:42:45.830Z"
   },
   {
    "duration": 0,
    "start_time": "2023-10-29T07:42:45.831Z"
   },
   {
    "duration": 0,
    "start_time": "2023-10-29T07:42:45.832Z"
   },
   {
    "duration": 0,
    "start_time": "2023-10-29T07:42:45.833Z"
   },
   {
    "duration": 0,
    "start_time": "2023-10-29T07:42:45.834Z"
   },
   {
    "duration": 0,
    "start_time": "2023-10-29T07:42:45.835Z"
   },
   {
    "duration": 0,
    "start_time": "2023-10-29T07:42:45.836Z"
   },
   {
    "duration": 0,
    "start_time": "2023-10-29T07:42:45.836Z"
   },
   {
    "duration": 0,
    "start_time": "2023-10-29T07:42:45.837Z"
   },
   {
    "duration": 0,
    "start_time": "2023-10-29T07:42:45.839Z"
   },
   {
    "duration": 0,
    "start_time": "2023-10-29T07:42:45.840Z"
   },
   {
    "duration": 0,
    "start_time": "2023-10-29T07:42:45.841Z"
   },
   {
    "duration": 0,
    "start_time": "2023-10-29T07:42:45.842Z"
   },
   {
    "duration": 0,
    "start_time": "2023-10-29T07:42:45.843Z"
   },
   {
    "duration": 0,
    "start_time": "2023-10-29T07:42:45.844Z"
   },
   {
    "duration": 0,
    "start_time": "2023-10-29T07:42:45.845Z"
   },
   {
    "duration": 0,
    "start_time": "2023-10-29T07:42:45.845Z"
   },
   {
    "duration": 8,
    "start_time": "2023-10-29T07:43:16.250Z"
   },
   {
    "duration": 9,
    "start_time": "2023-10-29T07:43:36.711Z"
   },
   {
    "duration": 3,
    "start_time": "2023-10-29T07:43:41.026Z"
   },
   {
    "duration": 9,
    "start_time": "2023-10-29T07:43:48.471Z"
   },
   {
    "duration": 9,
    "start_time": "2023-10-29T07:44:53.366Z"
   },
   {
    "duration": 9,
    "start_time": "2023-10-29T07:45:07.882Z"
   },
   {
    "duration": 8,
    "start_time": "2023-10-29T07:45:34.476Z"
   },
   {
    "duration": 1403,
    "start_time": "2023-10-29T07:46:23.720Z"
   },
   {
    "duration": 443,
    "start_time": "2023-10-29T07:46:25.126Z"
   },
   {
    "duration": 816,
    "start_time": "2023-10-29T07:46:25.571Z"
   },
   {
    "duration": 80,
    "start_time": "2023-10-29T07:46:26.389Z"
   },
   {
    "duration": 70,
    "start_time": "2023-10-29T07:46:26.471Z"
   },
   {
    "duration": 38,
    "start_time": "2023-10-29T07:46:26.542Z"
   },
   {
    "duration": 39,
    "start_time": "2023-10-29T07:46:26.582Z"
   },
   {
    "duration": 114,
    "start_time": "2023-10-29T07:46:26.622Z"
   },
   {
    "duration": 0,
    "start_time": "2023-10-29T07:46:26.738Z"
   },
   {
    "duration": 0,
    "start_time": "2023-10-29T07:46:26.740Z"
   },
   {
    "duration": 0,
    "start_time": "2023-10-29T07:46:26.741Z"
   },
   {
    "duration": 0,
    "start_time": "2023-10-29T07:46:26.742Z"
   },
   {
    "duration": 0,
    "start_time": "2023-10-29T07:46:26.743Z"
   },
   {
    "duration": 0,
    "start_time": "2023-10-29T07:46:26.744Z"
   },
   {
    "duration": 0,
    "start_time": "2023-10-29T07:46:26.745Z"
   },
   {
    "duration": 0,
    "start_time": "2023-10-29T07:46:26.746Z"
   },
   {
    "duration": 0,
    "start_time": "2023-10-29T07:46:26.747Z"
   },
   {
    "duration": 0,
    "start_time": "2023-10-29T07:46:26.748Z"
   },
   {
    "duration": 0,
    "start_time": "2023-10-29T07:46:26.749Z"
   },
   {
    "duration": 0,
    "start_time": "2023-10-29T07:46:26.750Z"
   },
   {
    "duration": 0,
    "start_time": "2023-10-29T07:46:26.751Z"
   },
   {
    "duration": 0,
    "start_time": "2023-10-29T07:46:26.752Z"
   },
   {
    "duration": 0,
    "start_time": "2023-10-29T07:46:26.753Z"
   },
   {
    "duration": 0,
    "start_time": "2023-10-29T07:46:26.754Z"
   },
   {
    "duration": 0,
    "start_time": "2023-10-29T07:46:26.755Z"
   },
   {
    "duration": 0,
    "start_time": "2023-10-29T07:46:26.756Z"
   },
   {
    "duration": 0,
    "start_time": "2023-10-29T07:46:26.758Z"
   },
   {
    "duration": 0,
    "start_time": "2023-10-29T07:46:26.759Z"
   },
   {
    "duration": 0,
    "start_time": "2023-10-29T07:46:26.760Z"
   },
   {
    "duration": 0,
    "start_time": "2023-10-29T07:46:26.762Z"
   },
   {
    "duration": 0,
    "start_time": "2023-10-29T07:46:26.763Z"
   },
   {
    "duration": 0,
    "start_time": "2023-10-29T07:46:26.764Z"
   },
   {
    "duration": 0,
    "start_time": "2023-10-29T07:46:26.764Z"
   },
   {
    "duration": 0,
    "start_time": "2023-10-29T07:46:26.811Z"
   },
   {
    "duration": 0,
    "start_time": "2023-10-29T07:46:26.812Z"
   },
   {
    "duration": 0,
    "start_time": "2023-10-29T07:46:26.813Z"
   },
   {
    "duration": 0,
    "start_time": "2023-10-29T07:46:26.814Z"
   },
   {
    "duration": 1,
    "start_time": "2023-10-29T07:46:26.814Z"
   },
   {
    "duration": 0,
    "start_time": "2023-10-29T07:46:26.815Z"
   },
   {
    "duration": 0,
    "start_time": "2023-10-29T07:46:26.816Z"
   },
   {
    "duration": 0,
    "start_time": "2023-10-29T07:46:26.817Z"
   },
   {
    "duration": 0,
    "start_time": "2023-10-29T07:46:26.818Z"
   },
   {
    "duration": 0,
    "start_time": "2023-10-29T07:46:26.819Z"
   },
   {
    "duration": 0,
    "start_time": "2023-10-29T07:46:26.820Z"
   },
   {
    "duration": 0,
    "start_time": "2023-10-29T07:46:26.822Z"
   },
   {
    "duration": 10,
    "start_time": "2023-10-29T07:47:11.988Z"
   },
   {
    "duration": 9,
    "start_time": "2023-10-29T07:47:20.666Z"
   },
   {
    "duration": 11,
    "start_time": "2023-10-29T07:47:27.519Z"
   },
   {
    "duration": 4,
    "start_time": "2023-10-29T07:48:10.867Z"
   },
   {
    "duration": 421,
    "start_time": "2023-10-29T07:48:10.872Z"
   },
   {
    "duration": 774,
    "start_time": "2023-10-29T07:48:11.295Z"
   },
   {
    "duration": 92,
    "start_time": "2023-10-29T07:48:12.072Z"
   },
   {
    "duration": 59,
    "start_time": "2023-10-29T07:48:12.165Z"
   },
   {
    "duration": 37,
    "start_time": "2023-10-29T07:48:12.226Z"
   },
   {
    "duration": 20,
    "start_time": "2023-10-29T07:48:12.264Z"
   },
   {
    "duration": 37,
    "start_time": "2023-10-29T07:48:12.286Z"
   },
   {
    "duration": 17,
    "start_time": "2023-10-29T07:48:12.326Z"
   },
   {
    "duration": 17,
    "start_time": "2023-10-29T07:48:12.345Z"
   },
   {
    "duration": 103,
    "start_time": "2023-10-29T07:48:12.363Z"
   },
   {
    "duration": 11,
    "start_time": "2023-10-29T07:48:12.468Z"
   },
   {
    "duration": 40,
    "start_time": "2023-10-29T07:48:12.481Z"
   },
   {
    "duration": 3,
    "start_time": "2023-10-29T07:48:12.523Z"
   },
   {
    "duration": 25,
    "start_time": "2023-10-29T07:48:12.527Z"
   },
   {
    "duration": 4,
    "start_time": "2023-10-29T07:48:12.554Z"
   },
   {
    "duration": 13,
    "start_time": "2023-10-29T07:48:12.559Z"
   },
   {
    "duration": 6,
    "start_time": "2023-10-29T07:48:12.573Z"
   },
   {
    "duration": 48,
    "start_time": "2023-10-29T07:48:12.580Z"
   },
   {
    "duration": 94,
    "start_time": "2023-10-29T07:48:12.630Z"
   },
   {
    "duration": 6,
    "start_time": "2023-10-29T07:48:12.730Z"
   },
   {
    "duration": 15,
    "start_time": "2023-10-29T07:48:12.737Z"
   },
   {
    "duration": 16,
    "start_time": "2023-10-29T07:48:12.753Z"
   },
   {
    "duration": 53,
    "start_time": "2023-10-29T07:48:12.772Z"
   },
   {
    "duration": 15,
    "start_time": "2023-10-29T07:48:12.828Z"
   },
   {
    "duration": 9,
    "start_time": "2023-10-29T07:48:12.844Z"
   },
   {
    "duration": 26,
    "start_time": "2023-10-29T07:48:12.854Z"
   },
   {
    "duration": 31,
    "start_time": "2023-10-29T07:48:12.883Z"
   },
   {
    "duration": 90,
    "start_time": "2023-10-29T07:48:12.916Z"
   },
   {
    "duration": 18,
    "start_time": "2023-10-29T07:48:13.014Z"
   },
   {
    "duration": 27,
    "start_time": "2023-10-29T07:48:13.034Z"
   },
   {
    "duration": 27,
    "start_time": "2023-10-29T07:48:13.063Z"
   },
   {
    "duration": 35,
    "start_time": "2023-10-29T07:48:13.092Z"
   },
   {
    "duration": 5,
    "start_time": "2023-10-29T07:48:13.129Z"
   },
   {
    "duration": 26,
    "start_time": "2023-10-29T07:48:13.136Z"
   },
   {
    "duration": 49,
    "start_time": "2023-10-29T07:48:13.163Z"
   },
   {
    "duration": 18,
    "start_time": "2023-10-29T07:48:13.213Z"
   },
   {
    "duration": 20,
    "start_time": "2023-10-29T07:48:13.309Z"
   },
   {
    "duration": 28,
    "start_time": "2023-10-29T07:48:13.331Z"
   },
   {
    "duration": 39,
    "start_time": "2023-10-29T07:48:13.360Z"
   },
   {
    "duration": 57,
    "start_time": "2023-10-29T07:48:13.401Z"
   },
   {
    "duration": 6,
    "start_time": "2023-10-29T07:48:13.459Z"
   },
   {
    "duration": 50,
    "start_time": "2023-10-29T07:48:13.467Z"
   },
   {
    "duration": 38,
    "start_time": "2023-10-29T07:48:13.519Z"
   },
   {
    "duration": 87,
    "start_time": "2023-10-29T07:48:13.558Z"
   },
   {
    "duration": 5,
    "start_time": "2023-10-29T07:55:14.594Z"
   },
   {
    "duration": 6,
    "start_time": "2023-10-29T07:55:18.158Z"
   },
   {
    "duration": 417,
    "start_time": "2023-10-29T07:55:18.165Z"
   },
   {
    "duration": 727,
    "start_time": "2023-10-29T07:55:18.584Z"
   },
   {
    "duration": 57,
    "start_time": "2023-10-29T07:55:19.313Z"
   },
   {
    "duration": 65,
    "start_time": "2023-10-29T07:55:19.372Z"
   },
   {
    "duration": 38,
    "start_time": "2023-10-29T07:55:19.439Z"
   },
   {
    "duration": 32,
    "start_time": "2023-10-29T07:55:19.478Z"
   },
   {
    "duration": 4,
    "start_time": "2023-10-29T07:55:19.511Z"
   },
   {
    "duration": 45,
    "start_time": "2023-10-29T07:55:19.517Z"
   },
   {
    "duration": 18,
    "start_time": "2023-10-29T07:55:19.564Z"
   },
   {
    "duration": 105,
    "start_time": "2023-10-29T07:55:19.585Z"
   },
   {
    "duration": 19,
    "start_time": "2023-10-29T07:55:19.691Z"
   },
   {
    "duration": 11,
    "start_time": "2023-10-29T07:55:19.711Z"
   },
   {
    "duration": 13,
    "start_time": "2023-10-29T07:55:19.724Z"
   },
   {
    "duration": 34,
    "start_time": "2023-10-29T07:55:19.738Z"
   },
   {
    "duration": 4,
    "start_time": "2023-10-29T07:55:19.774Z"
   },
   {
    "duration": 24,
    "start_time": "2023-10-29T07:55:19.779Z"
   },
   {
    "duration": 7,
    "start_time": "2023-10-29T07:55:19.805Z"
   },
   {
    "duration": 17,
    "start_time": "2023-10-29T07:55:19.813Z"
   },
   {
    "duration": 80,
    "start_time": "2023-10-29T07:55:19.832Z"
   },
   {
    "duration": 93,
    "start_time": "2023-10-29T07:55:19.915Z"
   },
   {
    "duration": 32,
    "start_time": "2023-10-29T07:55:20.010Z"
   },
   {
    "duration": 36,
    "start_time": "2023-10-29T07:55:20.044Z"
   },
   {
    "duration": 6,
    "start_time": "2023-10-29T07:55:20.082Z"
   },
   {
    "duration": 48,
    "start_time": "2023-10-29T07:55:20.089Z"
   },
   {
    "duration": 5,
    "start_time": "2023-10-29T07:55:20.139Z"
   },
   {
    "duration": 61,
    "start_time": "2023-10-29T07:55:20.146Z"
   },
   {
    "duration": 6,
    "start_time": "2023-10-29T07:55:20.210Z"
   },
   {
    "duration": 100,
    "start_time": "2023-10-29T07:55:20.221Z"
   },
   {
    "duration": 16,
    "start_time": "2023-10-29T07:55:20.323Z"
   },
   {
    "duration": 32,
    "start_time": "2023-10-29T07:55:20.341Z"
   },
   {
    "duration": 45,
    "start_time": "2023-10-29T07:55:20.375Z"
   },
   {
    "duration": 35,
    "start_time": "2023-10-29T07:55:20.422Z"
   },
   {
    "duration": 18,
    "start_time": "2023-10-29T07:55:20.458Z"
   },
   {
    "duration": 39,
    "start_time": "2023-10-29T07:55:20.477Z"
   },
   {
    "duration": 96,
    "start_time": "2023-10-29T07:55:20.518Z"
   },
   {
    "duration": 105,
    "start_time": "2023-10-29T07:55:20.617Z"
   },
   {
    "duration": 73,
    "start_time": "2023-10-29T07:55:20.724Z"
   },
   {
    "duration": 28,
    "start_time": "2023-10-29T07:55:20.799Z"
   },
   {
    "duration": 25,
    "start_time": "2023-10-29T07:55:20.829Z"
   },
   {
    "duration": 38,
    "start_time": "2023-10-29T07:55:20.856Z"
   },
   {
    "duration": 54,
    "start_time": "2023-10-29T07:55:20.896Z"
   },
   {
    "duration": 79,
    "start_time": "2023-10-29T07:55:20.952Z"
   },
   {
    "duration": 6,
    "start_time": "2023-10-29T07:55:21.034Z"
   },
   {
    "duration": 40,
    "start_time": "2023-10-29T07:55:21.042Z"
   },
   {
    "duration": 10,
    "start_time": "2023-10-29T07:56:03.739Z"
   },
   {
    "duration": 4,
    "start_time": "2023-10-29T07:56:07.666Z"
   },
   {
    "duration": 16,
    "start_time": "2023-10-29T07:56:24.012Z"
   },
   {
    "duration": 6,
    "start_time": "2023-10-29T07:58:08.233Z"
   },
   {
    "duration": 416,
    "start_time": "2023-10-29T07:58:08.240Z"
   },
   {
    "duration": 717,
    "start_time": "2023-10-29T07:58:08.658Z"
   },
   {
    "duration": 76,
    "start_time": "2023-10-29T07:58:09.377Z"
   },
   {
    "duration": 56,
    "start_time": "2023-10-29T07:58:09.455Z"
   },
   {
    "duration": 39,
    "start_time": "2023-10-29T07:58:09.513Z"
   },
   {
    "duration": 9,
    "start_time": "2023-10-29T07:58:09.553Z"
   },
   {
    "duration": 3,
    "start_time": "2023-10-29T07:58:09.564Z"
   },
   {
    "duration": 38,
    "start_time": "2023-10-29T07:58:09.569Z"
   },
   {
    "duration": 15,
    "start_time": "2023-10-29T07:58:09.609Z"
   },
   {
    "duration": 103,
    "start_time": "2023-10-29T07:58:09.626Z"
   },
   {
    "duration": 9,
    "start_time": "2023-10-29T07:58:09.731Z"
   },
   {
    "duration": 12,
    "start_time": "2023-10-29T07:58:09.741Z"
   },
   {
    "duration": 4,
    "start_time": "2023-10-29T07:58:09.754Z"
   },
   {
    "duration": 13,
    "start_time": "2023-10-29T07:58:09.759Z"
   },
   {
    "duration": 34,
    "start_time": "2023-10-29T07:58:09.774Z"
   },
   {
    "duration": 11,
    "start_time": "2023-10-29T07:58:09.809Z"
   },
   {
    "duration": 5,
    "start_time": "2023-10-29T07:58:09.821Z"
   },
   {
    "duration": 13,
    "start_time": "2023-10-29T07:58:09.828Z"
   },
   {
    "duration": 67,
    "start_time": "2023-10-29T07:58:09.843Z"
   },
   {
    "duration": 97,
    "start_time": "2023-10-29T07:58:09.912Z"
   },
   {
    "duration": 27,
    "start_time": "2023-10-29T07:58:10.010Z"
   },
   {
    "duration": 25,
    "start_time": "2023-10-29T07:58:10.039Z"
   },
   {
    "duration": 4,
    "start_time": "2023-10-29T07:58:10.066Z"
   },
   {
    "duration": 43,
    "start_time": "2023-10-29T07:58:10.072Z"
   },
   {
    "duration": 8,
    "start_time": "2023-10-29T07:58:10.117Z"
   },
   {
    "duration": 11,
    "start_time": "2023-10-29T07:58:10.126Z"
   },
   {
    "duration": 72,
    "start_time": "2023-10-29T07:58:10.139Z"
   },
   {
    "duration": 93,
    "start_time": "2023-10-29T07:58:10.217Z"
   },
   {
    "duration": 7,
    "start_time": "2023-10-29T07:58:10.312Z"
   },
   {
    "duration": 14,
    "start_time": "2023-10-29T07:58:10.321Z"
   },
   {
    "duration": 3,
    "start_time": "2023-10-29T07:58:10.337Z"
   },
   {
    "duration": 11,
    "start_time": "2023-10-29T07:58:10.341Z"
   },
   {
    "duration": 5,
    "start_time": "2023-10-29T07:58:10.354Z"
   },
   {
    "duration": 48,
    "start_time": "2023-10-29T07:58:10.360Z"
   },
   {
    "duration": 6,
    "start_time": "2023-10-29T07:58:10.411Z"
   },
   {
    "duration": 6,
    "start_time": "2023-10-29T07:58:10.507Z"
   },
   {
    "duration": 12,
    "start_time": "2023-10-29T07:58:10.514Z"
   },
   {
    "duration": 6,
    "start_time": "2023-10-29T07:58:10.527Z"
   },
   {
    "duration": 5,
    "start_time": "2023-10-29T07:58:10.535Z"
   },
   {
    "duration": 9,
    "start_time": "2023-10-29T07:58:10.542Z"
   },
   {
    "duration": 4,
    "start_time": "2023-10-29T07:58:10.553Z"
   },
   {
    "duration": 23,
    "start_time": "2023-10-29T07:58:10.558Z"
   },
   {
    "duration": 5,
    "start_time": "2023-10-29T07:58:10.582Z"
   },
   {
    "duration": 905,
    "start_time": "2023-10-29T07:58:10.588Z"
   },
   {
    "duration": 1773,
    "start_time": "2023-10-29T08:00:33.060Z"
   },
   {
    "duration": 2715,
    "start_time": "2023-10-29T08:00:59.196Z"
   },
   {
    "duration": 2634,
    "start_time": "2023-10-29T08:01:57.634Z"
   },
   {
    "duration": 6,
    "start_time": "2023-10-29T08:03:11.934Z"
   },
   {
    "duration": 2808,
    "start_time": "2023-10-29T08:03:53.737Z"
   },
   {
    "duration": 6,
    "start_time": "2023-10-29T08:05:50.665Z"
   },
   {
    "duration": 2735,
    "start_time": "2023-10-29T08:05:56.248Z"
   },
   {
    "duration": 90,
    "start_time": "2023-10-29T08:07:13.349Z"
   },
   {
    "duration": 91,
    "start_time": "2023-10-29T08:07:20.145Z"
   },
   {
    "duration": 75,
    "start_time": "2023-10-29T08:07:45.706Z"
   },
   {
    "duration": 111,
    "start_time": "2023-10-29T08:08:01.055Z"
   },
   {
    "duration": 78,
    "start_time": "2023-10-29T08:08:25.512Z"
   },
   {
    "duration": 79,
    "start_time": "2023-10-29T08:08:32.596Z"
   },
   {
    "duration": 91,
    "start_time": "2023-10-29T08:08:35.005Z"
   },
   {
    "duration": 919,
    "start_time": "2023-10-29T08:09:09.972Z"
   },
   {
    "duration": 227,
    "start_time": "2023-10-29T08:10:01.653Z"
   },
   {
    "duration": 1497,
    "start_time": "2023-10-29T08:10:13.632Z"
   },
   {
    "duration": 428,
    "start_time": "2023-10-29T08:10:15.131Z"
   },
   {
    "duration": 898,
    "start_time": "2023-10-29T08:10:15.561Z"
   },
   {
    "duration": 78,
    "start_time": "2023-10-29T08:10:16.462Z"
   },
   {
    "duration": 68,
    "start_time": "2023-10-29T08:10:16.541Z"
   },
   {
    "duration": 38,
    "start_time": "2023-10-29T08:10:16.610Z"
   },
   {
    "duration": 9,
    "start_time": "2023-10-29T08:10:16.650Z"
   },
   {
    "duration": 25,
    "start_time": "2023-10-29T08:10:16.661Z"
   },
   {
    "duration": 31,
    "start_time": "2023-10-29T08:10:16.687Z"
   },
   {
    "duration": 15,
    "start_time": "2023-10-29T08:10:16.721Z"
   },
   {
    "duration": 121,
    "start_time": "2023-10-29T08:10:16.738Z"
   },
   {
    "duration": 11,
    "start_time": "2023-10-29T08:10:16.861Z"
   },
   {
    "duration": 34,
    "start_time": "2023-10-29T08:10:16.874Z"
   },
   {
    "duration": 5,
    "start_time": "2023-10-29T08:10:16.910Z"
   },
   {
    "duration": 25,
    "start_time": "2023-10-29T08:10:16.916Z"
   },
   {
    "duration": 11,
    "start_time": "2023-10-29T08:10:16.943Z"
   },
   {
    "duration": 33,
    "start_time": "2023-10-29T08:10:16.956Z"
   },
   {
    "duration": 15,
    "start_time": "2023-10-29T08:10:16.990Z"
   },
   {
    "duration": 41,
    "start_time": "2023-10-29T08:10:17.007Z"
   },
   {
    "duration": 59,
    "start_time": "2023-10-29T08:10:17.050Z"
   },
   {
    "duration": 101,
    "start_time": "2023-10-29T08:10:17.112Z"
   },
   {
    "duration": 6,
    "start_time": "2023-10-29T08:10:17.215Z"
   },
   {
    "duration": 19,
    "start_time": "2023-10-29T08:10:17.223Z"
   },
   {
    "duration": 5,
    "start_time": "2023-10-29T08:10:17.245Z"
   },
   {
    "duration": 32,
    "start_time": "2023-10-29T08:10:17.252Z"
   },
   {
    "duration": 45,
    "start_time": "2023-10-29T08:10:17.286Z"
   },
   {
    "duration": 24,
    "start_time": "2023-10-29T08:10:17.333Z"
   },
   {
    "duration": 9,
    "start_time": "2023-10-29T08:10:17.408Z"
   },
   {
    "duration": 86,
    "start_time": "2023-10-29T08:10:17.424Z"
   },
   {
    "duration": 20,
    "start_time": "2023-10-29T08:10:17.512Z"
   },
   {
    "duration": 15,
    "start_time": "2023-10-29T08:10:17.534Z"
   },
   {
    "duration": 4,
    "start_time": "2023-10-29T08:10:17.550Z"
   },
   {
    "duration": 17,
    "start_time": "2023-10-29T08:10:17.555Z"
   },
   {
    "duration": 15,
    "start_time": "2023-10-29T08:10:17.573Z"
   },
   {
    "duration": 121,
    "start_time": "2023-10-29T08:10:17.590Z"
   },
   {
    "duration": 95,
    "start_time": "2023-10-29T08:10:17.713Z"
   },
   {
    "duration": 8,
    "start_time": "2023-10-29T08:10:17.810Z"
   },
   {
    "duration": 16,
    "start_time": "2023-10-29T08:10:17.820Z"
   },
   {
    "duration": 5,
    "start_time": "2023-10-29T08:10:17.838Z"
   },
   {
    "duration": 22,
    "start_time": "2023-10-29T08:10:17.846Z"
   },
   {
    "duration": 7,
    "start_time": "2023-10-29T08:10:17.870Z"
   },
   {
    "duration": 5,
    "start_time": "2023-10-29T08:10:17.878Z"
   },
   {
    "duration": 33,
    "start_time": "2023-10-29T08:10:17.885Z"
   },
   {
    "duration": 5,
    "start_time": "2023-10-29T08:10:17.920Z"
   },
   {
    "duration": 261,
    "start_time": "2023-10-29T08:10:17.926Z"
   },
   {
    "duration": 0,
    "start_time": "2023-10-29T08:10:18.188Z"
   },
   {
    "duration": 1050,
    "start_time": "2023-10-29T08:10:35.576Z"
   },
   {
    "duration": 914,
    "start_time": "2023-10-29T08:10:52.771Z"
   },
   {
    "duration": 4,
    "start_time": "2023-10-29T08:11:02.633Z"
   },
   {
    "duration": 241,
    "start_time": "2023-10-29T08:11:19.929Z"
   },
   {
    "duration": 93,
    "start_time": "2023-10-29T08:11:24.861Z"
   },
   {
    "duration": 296,
    "start_time": "2023-10-29T08:11:31.882Z"
   },
   {
    "duration": 138,
    "start_time": "2023-10-29T08:12:06.575Z"
   },
   {
    "duration": 9,
    "start_time": "2023-10-29T08:12:21.034Z"
   },
   {
    "duration": 908,
    "start_time": "2023-10-29T08:13:07.596Z"
   },
   {
    "duration": 110,
    "start_time": "2023-10-29T08:13:21.514Z"
   },
   {
    "duration": 925,
    "start_time": "2023-10-29T08:13:28.880Z"
   },
   {
    "duration": 1506,
    "start_time": "2023-10-29T08:20:59.575Z"
   },
   {
    "duration": 427,
    "start_time": "2023-10-29T08:21:01.083Z"
   },
   {
    "duration": 883,
    "start_time": "2023-10-29T08:21:01.511Z"
   },
   {
    "duration": 74,
    "start_time": "2023-10-29T08:21:02.396Z"
   },
   {
    "duration": 84,
    "start_time": "2023-10-29T08:21:02.472Z"
   },
   {
    "duration": 54,
    "start_time": "2023-10-29T08:21:02.558Z"
   },
   {
    "duration": 8,
    "start_time": "2023-10-29T08:21:02.614Z"
   },
   {
    "duration": 11,
    "start_time": "2023-10-29T08:21:02.624Z"
   },
   {
    "duration": 43,
    "start_time": "2023-10-29T08:21:02.637Z"
   },
   {
    "duration": 27,
    "start_time": "2023-10-29T08:21:02.684Z"
   },
   {
    "duration": 123,
    "start_time": "2023-10-29T08:21:02.712Z"
   },
   {
    "duration": 12,
    "start_time": "2023-10-29T08:21:02.837Z"
   },
   {
    "duration": 25,
    "start_time": "2023-10-29T08:21:02.851Z"
   },
   {
    "duration": 19,
    "start_time": "2023-10-29T08:21:02.877Z"
   },
   {
    "duration": 31,
    "start_time": "2023-10-29T08:21:02.898Z"
   },
   {
    "duration": 6,
    "start_time": "2023-10-29T08:21:02.931Z"
   },
   {
    "duration": 28,
    "start_time": "2023-10-29T08:21:02.939Z"
   },
   {
    "duration": 15,
    "start_time": "2023-10-29T08:21:02.969Z"
   },
   {
    "duration": 38,
    "start_time": "2023-10-29T08:21:02.986Z"
   },
   {
    "duration": 85,
    "start_time": "2023-10-29T08:21:03.027Z"
   },
   {
    "duration": 94,
    "start_time": "2023-10-29T08:21:03.114Z"
   },
   {
    "duration": 18,
    "start_time": "2023-10-29T08:21:03.210Z"
   },
   {
    "duration": 30,
    "start_time": "2023-10-29T08:21:03.231Z"
   },
   {
    "duration": 6,
    "start_time": "2023-10-29T08:21:03.263Z"
   },
   {
    "duration": 16,
    "start_time": "2023-10-29T08:21:03.272Z"
   },
   {
    "duration": 6,
    "start_time": "2023-10-29T08:21:03.290Z"
   },
   {
    "duration": 110,
    "start_time": "2023-10-29T08:21:03.298Z"
   },
   {
    "duration": 8,
    "start_time": "2023-10-29T08:21:03.413Z"
   },
   {
    "duration": 86,
    "start_time": "2023-10-29T08:21:03.423Z"
   },
   {
    "duration": 14,
    "start_time": "2023-10-29T08:21:03.511Z"
   },
   {
    "duration": 34,
    "start_time": "2023-10-29T08:21:03.527Z"
   },
   {
    "duration": 23,
    "start_time": "2023-10-29T08:21:03.563Z"
   },
   {
    "duration": 42,
    "start_time": "2023-10-29T08:21:03.588Z"
   },
   {
    "duration": 16,
    "start_time": "2023-10-29T08:21:03.632Z"
   },
   {
    "duration": 157,
    "start_time": "2023-10-29T08:21:03.650Z"
   },
   {
    "duration": 5,
    "start_time": "2023-10-29T08:21:03.809Z"
   },
   {
    "duration": 24,
    "start_time": "2023-10-29T08:21:03.816Z"
   },
   {
    "duration": 16,
    "start_time": "2023-10-29T08:21:03.842Z"
   },
   {
    "duration": 37,
    "start_time": "2023-10-29T08:21:03.860Z"
   },
   {
    "duration": 21,
    "start_time": "2023-10-29T08:21:03.899Z"
   },
   {
    "duration": 9,
    "start_time": "2023-10-29T08:21:03.922Z"
   },
   {
    "duration": 23,
    "start_time": "2023-10-29T08:21:03.933Z"
   },
   {
    "duration": 26,
    "start_time": "2023-10-29T08:21:03.958Z"
   },
   {
    "duration": 5,
    "start_time": "2023-10-29T08:21:03.986Z"
   },
   {
    "duration": 955,
    "start_time": "2023-10-29T08:21:03.993Z"
   },
   {
    "duration": 956,
    "start_time": "2023-10-29T08:21:04.949Z"
   },
   {
    "duration": 1021,
    "start_time": "2023-10-29T08:21:05.908Z"
   },
   {
    "duration": 1632,
    "start_time": "2023-10-29T08:21:25.183Z"
   },
   {
    "duration": 421,
    "start_time": "2023-10-29T08:21:26.817Z"
   },
   {
    "duration": 831,
    "start_time": "2023-10-29T08:21:27.240Z"
   },
   {
    "duration": 85,
    "start_time": "2023-10-29T08:21:28.074Z"
   },
   {
    "duration": 68,
    "start_time": "2023-10-29T08:21:28.162Z"
   },
   {
    "duration": 91,
    "start_time": "2023-10-29T08:21:28.232Z"
   },
   {
    "duration": 20,
    "start_time": "2023-10-29T08:21:28.325Z"
   },
   {
    "duration": 50,
    "start_time": "2023-10-29T08:21:28.348Z"
   },
   {
    "duration": 65,
    "start_time": "2023-10-29T08:21:28.400Z"
   },
   {
    "duration": 73,
    "start_time": "2023-10-29T08:21:28.467Z"
   },
   {
    "duration": 166,
    "start_time": "2023-10-29T08:21:28.542Z"
   },
   {
    "duration": 12,
    "start_time": "2023-10-29T08:21:28.710Z"
   },
   {
    "duration": 38,
    "start_time": "2023-10-29T08:21:28.724Z"
   },
   {
    "duration": 25,
    "start_time": "2023-10-29T08:21:28.763Z"
   },
   {
    "duration": 46,
    "start_time": "2023-10-29T08:21:28.790Z"
   },
   {
    "duration": 25,
    "start_time": "2023-10-29T08:21:28.839Z"
   },
   {
    "duration": 47,
    "start_time": "2023-10-29T08:21:28.866Z"
   },
   {
    "duration": 35,
    "start_time": "2023-10-29T08:21:28.915Z"
   },
   {
    "duration": 55,
    "start_time": "2023-10-29T08:21:28.953Z"
   },
   {
    "duration": 100,
    "start_time": "2023-10-29T08:21:29.011Z"
   },
   {
    "duration": 95,
    "start_time": "2023-10-29T08:21:29.113Z"
   },
   {
    "duration": 42,
    "start_time": "2023-10-29T08:21:29.210Z"
   },
   {
    "duration": 64,
    "start_time": "2023-10-29T08:21:29.254Z"
   },
   {
    "duration": 45,
    "start_time": "2023-10-29T08:21:29.320Z"
   },
   {
    "duration": 54,
    "start_time": "2023-10-29T08:21:29.367Z"
   },
   {
    "duration": 81,
    "start_time": "2023-10-29T08:21:29.423Z"
   },
   {
    "duration": 48,
    "start_time": "2023-10-29T08:21:29.505Z"
   },
   {
    "duration": 100,
    "start_time": "2023-10-29T08:21:29.610Z"
   },
   {
    "duration": 58,
    "start_time": "2023-10-29T08:21:29.711Z"
   },
   {
    "duration": 40,
    "start_time": "2023-10-29T08:21:29.771Z"
   },
   {
    "duration": 57,
    "start_time": "2023-10-29T08:21:29.813Z"
   },
   {
    "duration": 34,
    "start_time": "2023-10-29T08:21:29.871Z"
   },
   {
    "duration": 46,
    "start_time": "2023-10-29T08:21:29.906Z"
   },
   {
    "duration": 34,
    "start_time": "2023-10-29T08:21:29.953Z"
   },
   {
    "duration": 108,
    "start_time": "2023-10-29T08:21:29.988Z"
   },
   {
    "duration": 114,
    "start_time": "2023-10-29T08:21:30.100Z"
   },
   {
    "duration": 54,
    "start_time": "2023-10-29T08:21:30.216Z"
   },
   {
    "duration": 41,
    "start_time": "2023-10-29T08:21:30.272Z"
   },
   {
    "duration": 41,
    "start_time": "2023-10-29T08:21:30.315Z"
   },
   {
    "duration": 65,
    "start_time": "2023-10-29T08:21:30.359Z"
   },
   {
    "duration": 41,
    "start_time": "2023-10-29T08:21:30.426Z"
   },
   {
    "duration": 77,
    "start_time": "2023-10-29T08:21:30.470Z"
   },
   {
    "duration": 102,
    "start_time": "2023-10-29T08:21:30.548Z"
   },
   {
    "duration": 127,
    "start_time": "2023-10-29T08:21:30.652Z"
   },
   {
    "duration": 1023,
    "start_time": "2023-10-29T08:21:30.781Z"
   },
   {
    "duration": 927,
    "start_time": "2023-10-29T08:21:31.807Z"
   },
   {
    "duration": 960,
    "start_time": "2023-10-29T08:21:32.736Z"
   },
   {
    "duration": 41,
    "start_time": "2023-10-29T23:01:47.776Z"
   },
   {
    "duration": 2275,
    "start_time": "2023-10-29T23:01:50.329Z"
   },
   {
    "duration": 690,
    "start_time": "2023-10-29T23:01:52.606Z"
   },
   {
    "duration": 21,
    "start_time": "2023-10-29T23:02:09.704Z"
   },
   {
    "duration": 64,
    "start_time": "2023-10-29T23:02:23.258Z"
   },
   {
    "duration": 7,
    "start_time": "2023-10-29T23:02:26.823Z"
   },
   {
    "duration": 3,
    "start_time": "2023-10-29T23:02:40.175Z"
   },
   {
    "duration": 329,
    "start_time": "2023-10-29T23:02:53.213Z"
   },
   {
    "duration": 20,
    "start_time": "2023-10-29T23:02:59.726Z"
   },
   {
    "duration": 12,
    "start_time": "2023-10-29T23:03:00.685Z"
   }
  ],
  "kernelspec": {
   "display_name": "Python 3 (ipykernel)",
   "language": "python",
   "name": "python3"
  },
  "language_info": {
   "codemirror_mode": {
    "name": "ipython",
    "version": 3
   },
   "file_extension": ".py",
   "mimetype": "text/x-python",
   "name": "python",
   "nbconvert_exporter": "python",
   "pygments_lexer": "ipython3",
   "version": "3.11.5"
  },
  "toc": {
   "base_numbering": 1,
   "nav_menu": {},
   "number_sections": true,
   "sideBar": true,
   "skip_h1_title": true,
   "title_cell": "Table of Contents",
   "title_sidebar": "Contents",
   "toc_cell": false,
   "toc_position": {},
   "toc_section_display": true,
   "toc_window_display": false
  }
 },
 "nbformat": 4,
 "nbformat_minor": 4
}
